{
 "cells": [
  {
   "cell_type": "code",
   "execution_count": 1,
   "metadata": {
    "slideshow": {
     "slide_type": "skip"
    }
   },
   "outputs": [
    {
     "data": {
      "text/html": [
       "<style>\n",
       "\n",
       "body {\n",
       " counter-reset: h2counter;\n",
       "}\n",
       "h1 {\n",
       " counter-reset: h2counter;\n",
       "}\n",
       "h2:before {\n",
       " content: counter(h2counter) \".\\0000a0\\0000a0\";\n",
       " counter-increment: h2counter;\n",
       " counter-reset: h3counter;\n",
       "}\n",
       "\n",
       "\n",
       "</style>\n"
      ],
      "text/plain": [
       "<IPython.core.display.HTML object>"
      ]
     },
     "execution_count": 1,
     "metadata": {},
     "output_type": "execute_result"
    }
   ],
   "source": [
    "from IPython.core.display import HTML\n",
    "def css_styling():\n",
    "    styles = open(\"./styles/custom.css\", \"r\").read()\n",
    "    return HTML(styles)\n",
    "css_styling()"
   ]
  },
  {
   "cell_type": "markdown",
   "metadata": {
    "slideshow": {
     "slide_type": "slide"
    }
   },
   "source": [
    "### BEFORE YOU DO ANYTHING...\n",
    "In the terminal:\n",
    "1. Navigate to __inside__ your ILAS_Python repository.\n",
    "2. __COMMIT__ any un-commited work on your personal computer.\n",
    "3. __PULL__ any changes *you* have made using another computer.\n",
    "4. __PULL__ textbook updates (including homework answers).\n",
    "\n",
    "Then:\n",
    "1. __Open Jupyter notebook:__   Start >> Programs (すべてのプログラム) >> Programming >> Anaconda3 >> JupyterNotebook\n",
    "1. __Navigate to the ILAS_Python folder__. \n",
    "1. __Open today's seminar__  by clicking on 9_Input_and_Output."
   ]
  },
  {
   "cell_type": "markdown",
   "metadata": {
    "slideshow": {
     "slide_type": "slide"
    }
   },
   "source": [
    "# Inputs and Outputs\n",
    "\n",
    "# Lesson Goal\n",
    "\n",
    "To use a program to:\n",
    " - read information from external sources.\n",
    " - write information generated in the program to external files."
   ]
  },
  {
   "cell_type": "markdown",
   "metadata": {
    "slideshow": {
     "slide_type": "slide"
    }
   },
   "source": [
    "# Objectives\n",
    "\n",
    " - Writing, saving and running standalone python files (outside of Jupyter notebook)\n",
    " - Ineracting dynamically with a program user (e.g. using keyboard and prompts)\n",
    " - Reading data __from__ and writing data __to__ external:<br>Python files<br>other files types (.csv, .txt etc)\n",
    " "
   ]
  },
  {
   "cell_type": "markdown",
   "metadata": {
    "slideshow": {
     "slide_type": "slide"
    }
   },
   "source": [
    "# Why we are studying this\n",
    "\n",
    "#### Fundamentals of Programming\n",
    "\n",
    "Until now, we have run Python code within the Jupyter Notebook environment.\n",
    "\n",
    "The purpose of this was to focus on the functionality of the code itself, without worrying about the mechanics of how the program works within the computer system.\n",
    "\n",
    "\n",
    "\n",
    "\n"
   ]
  },
  {
   "cell_type": "markdown",
   "metadata": {
    "slideshow": {
     "slide_type": "subslide"
    }
   },
   "source": [
    "We will still use Jupyter notebook for:\n",
    "- in-class exercises.\n",
    "- the exam.\n",
    "\n",
    "\n",
    "However, from now on we will be writing standalone Python programs using the skills that you have learnt so far..."
   ]
  },
  {
   "cell_type": "markdown",
   "metadata": {
    "slideshow": {
     "slide_type": "subslide"
    }
   },
   "source": [
    "#### Applications of Programming\n",
    "\n",
    "The remaining seminars will focus on applying what you have learnt to data, such as you might find as part of an assignment for another subject, or a personal project. \n",
    "\n",
    " - __Inputs and Outputs:__ Interfacing with external data sources/deposits.\n",
    " - __In-class assessment:__ Consolidating skills in a project.\n",
    " - __Error handling and exceptions:__ Diagnosing erros and how to fix them.\n",
    " - __Testing:__ Writing tests to make sure your code is workign correctly.\n"
   ]
  },
  {
   "cell_type": "markdown",
   "metadata": {
    "collapsed": true,
    "slideshow": {
     "slide_type": "slide"
    }
   },
   "source": [
    "# Lesson Structure\n",
    "\n",
    "- Writing Python files (outside of Jupyter notebook)\n",
    " - Creating a repository from scratch\n",
    " - Storing and importing functions\n",
    "- User input\n",
    "- Importing data (e.g. from .csv file)\n",
    "- Data analysis using `pandas` \n",
    " - Manipulating data frames\n",
    " - Time series data\n",
    " - Resampling\n",
    "- Text files\n",
    "- Binary files and 'pickling' your data\n",
    "\n"
   ]
  },
  {
   "cell_type": "markdown",
   "metadata": {
    "slideshow": {
     "slide_type": "skip"
    }
   },
   "source": [
    "We will be using `numpy` and `matplotlib`"
   ]
  },
  {
   "cell_type": "code",
   "execution_count": 2,
   "metadata": {
    "collapsed": true,
    "slideshow": {
     "slide_type": "skip"
    }
   },
   "outputs": [],
   "source": [
    "import numpy as np\n",
    "import matplotlib.pyplot as plt\n",
    "%matplotlib inline"
   ]
  },
  {
   "cell_type": "markdown",
   "metadata": {
    "slideshow": {
     "slide_type": "slide"
    }
   },
   "source": [
    "## Python files: Writing Python outside of Jupyter Notebook.\n",
    "\n",
    "A python file is a file containig python code that ends with the file extension .py\n",
    "\n",
    "There are several ways to create and run a Python file..."
   ]
  },
  {
   "cell_type": "markdown",
   "metadata": {
    "slideshow": {
     "slide_type": "subslide"
    }
   },
   "source": [
    "### Writing code in the terminal.\n",
    "\n",
    "The simplest way to write and run Python code is to write it directly to the terminal.\n",
    "\n",
    "Open a terminal.\n",
    "\n",
    "Type:\n",
    ">`python3`\n",
    "\n",
    "Press enter\n",
    "\n",
    "\n"
   ]
  },
  {
   "cell_type": "markdown",
   "metadata": {
    "slideshow": {
     "slide_type": "subslide"
    }
   },
   "source": [
    "The terminal should now look something like this: \n",
    "\n",
    "<img src=\"img/python_shell.png\" alt=\"Drawing\" style=\"width: 500px;\"/>\n",
    "\n",
    "Notice the command prompt now begins with `>>>`\n",
    "\n",
    "You can now run Python code directly in the terminal.\n",
    "\n",
    "You can run the code by pressing enter.\n"
   ]
  },
  {
   "cell_type": "markdown",
   "metadata": {
    "slideshow": {
     "slide_type": "subslide"
    }
   },
   "source": [
    "__Try it yourself__\n",
    "\n",
    "Type a line of code in the terminal e.g.\n",
    ">`print('hello world')`\n",
    "\n",
    "Press enter to run it."
   ]
  },
  {
   "cell_type": "markdown",
   "metadata": {
    "slideshow": {
     "slide_type": "subslide"
    }
   },
   "source": [
    "To run multiple lines of code, seperate the lines with a ; semi-colon e.g.\n",
    ">`print('hello world'); print(4))`"
   ]
  },
  {
   "cell_type": "markdown",
   "metadata": {
    "slideshow": {
     "slide_type": "subslide"
    }
   },
   "source": [
    "To exit the Python shell type:\n",
    ">`quit()`\n",
    "\n",
    "or\n",
    "\n",
    ">`exit()`"
   ]
  },
  {
   "cell_type": "markdown",
   "metadata": {
    "slideshow": {
     "slide_type": "subslide"
    }
   },
   "source": [
    "It is useful to:\n",
    "- save Python code:\n",
    " - to make edits and re-run code\n",
    " - to save code for use at a later date (e.g. subsequent seminar or review)\n",
    "- arrange code on multiple lines (readability)"
   ]
  },
  {
   "cell_type": "markdown",
   "metadata": {
    "slideshow": {
     "slide_type": "slide"
    }
   },
   "source": [
    "### Writing code in an IDE (Integrated Development Environment)\n",
    "\n",
    "Exit the Python shell if you haven't already.\n",
    "\n"
   ]
  },
  {
   "cell_type": "markdown",
   "metadata": {
    "slideshow": {
     "slide_type": "subslide"
    }
   },
   "source": [
    "We are going to open a very simple program caled spyder.\n",
    "\n",
    "In the terminal type:\n",
    "> spyder\n",
    "\n",
    "and press enter.\n",
    "\n",
    "#### OR\n",
    "\n",
    "Use the start menu to go to where you usally open Jupyter notebook from and, instead open Spyder e.g.:\n",
    "\n",
    "Start >> Programs (すべてのプログラム) >> Programming >> Anaconda3 >> Spyder"
   ]
  },
  {
   "cell_type": "markdown",
   "metadata": {
    "collapsed": true,
    "slideshow": {
     "slide_type": "subslide"
    }
   },
   "source": [
    "Spyder is an IDE (Integrated Development Environment).\n",
    "\n",
    "An IDE is software with the basic tools to write and test code:\n",
    "    \n",
    "- code editor\n",
    "- an interpreter\n",
    "- a debugger\n"
   ]
  },
  {
   "cell_type": "markdown",
   "metadata": {
    "slideshow": {
     "slide_type": "subslide"
    }
   },
   "source": [
    "If you have a preferred IDE or text editor that you already use to write code (e.g. sublime, eclipse, pycharm, notebook++) feel free to use that instead of Spyder."
   ]
  },
  {
   "cell_type": "markdown",
   "metadata": {
    "slideshow": {
     "slide_type": "slide"
    }
   },
   "source": [
    "### Writing and running code in the Spyder IDE \n",
    "You can write code by tying in the box on the left (editor).\n",
    "\n",
    "You can run the code you have typed by clicking the green triangle in the menu bar at the top of the window.\n",
    "\n",
    "<img src=\"img/run_spyder.png\" alt=\"Drawing\" style=\"width: 300px;\"/>\n",
    "\n",
    "The output should appear in the box on the bottom right (console)\n",
    "\n",
    "The box in the top, right can be used to diplay the file system or stored variables (much ilke in MATLAB)."
   ]
  },
  {
   "cell_type": "markdown",
   "metadata": {
    "slideshow": {
     "slide_type": "subslide"
    }
   },
   "source": [
    "__Try it yourself__\n",
    "\n",
    "Type a line of code in the editor e.g.\n",
    ">`print('hello world')`\n",
    "\n",
    "Press the green triangle to run it.\n",
    "\n",
    "Type a line of code in the editor that stores a variable e.g.\n",
    ">a = 1\n",
    "\n",
    "Click on the *variable explorer* tab to view it in the top right window."
   ]
  },
  {
   "cell_type": "markdown",
   "metadata": {
    "slideshow": {
     "slide_type": "subslide"
    }
   },
   "source": [
    "### Saving your program using Spyder.\n",
    "\n",
    "Click:\n",
    "\n",
    "File >> Save as \n",
    "\n",
    "\n",
    "\n",
    "\n",
    "\n"
   ]
  },
  {
   "cell_type": "markdown",
   "metadata": {
    "slideshow": {
     "slide_type": "subslide"
    }
   },
   "source": [
    "Choose a location, create a new folder. (You wil save your Python programs in this folder. Give it a  suitable name.)\n",
    "<br>DO NOT save the file in the same folder as the ILAS python textbook. \n",
    "\n",
    "Within the folder, create a sub-folder to store today's exercises. Call it __Input_and_Output_Exercises__.\n",
    "\n",
    "Within __Input_and_Output_Exercises__ save the file as File_A.py (The file extension .py is automatically chosen.)\n",
    "\n",
    "\n"
   ]
  },
  {
   "cell_type": "markdown",
   "metadata": {
    "slideshow": {
     "slide_type": "subslide"
    }
   },
   "source": [
    "### Running your program without using Spyder.\n",
    "Spyder and other IDEs provide a convenient way to write, run and save code.\n",
    "\n",
    "However, once you have saved your program you can run it without the need for another program. \n",
    "\n",
    "In the terminal, use `cd` to navigate to within the folder where you just saved your file.\n",
    "\n",
    "Type:\n",
    "\n",
    ">`python3 file_A.py`\n",
    "\n",
    "replacing `filename` with the name that you gave your file.\n",
    "\n",
    "Notice that the output is the same as when running the file in the IDE."
   ]
  },
  {
   "cell_type": "markdown",
   "metadata": {
    "slideshow": {
     "slide_type": "subslide"
    }
   },
   "source": [
    "### Creating Python files without using Spyder.\n",
    "In fact, you don't even need an IDE to create a Python file. \n",
    "\n",
    "You can write Python code in a normal text editor (Notepad (Windows), Wordpad (Windows), TextEdit (Mac), Text Editor (Ubuntu Linux).\n",
    "\n",
    "Provided you add the file extension .py when saving the file, you can run the file exactly the same way as we just did from the command line."
   ]
  },
  {
   "cell_type": "markdown",
   "metadata": {
    "slideshow": {
     "slide_type": "subslide"
    }
   },
   "source": [
    "__Try it yourself__\n",
    "<br>Open a text editor. \n",
    "<br>Write some simple Python code that __prints an output__ so that you can see it is working.\n",
    "<br>Save it inside of the folder containing File_A.py\n",
    "<br>Give the new file the name File_B.py\n",
    "<br>Run the file from the command line. "
   ]
  },
  {
   "cell_type": "markdown",
   "metadata": {
    "collapsed": true,
    "slideshow": {
     "slide_type": "subslide"
    }
   },
   "source": [
    "The last example we will look at is converting the notebooks you have been working in drectly to Python files.\n",
    "### Converting a Jupyter notebook to a Python file.\n",
    "You can convert the code you have written in a notebook directly to a Python file.\n",
    "\n",
    "At the toolbar at the top of the notebook click:\n",
    "<br>File >> Download as >> Python (.py)\n",
    "\n",
    "<img src=\"img/save_as_python.png\" alt=\"Drawing\" style=\"width: 300px;\"/>\n",
    "\n"
   ]
  },
  {
   "cell_type": "markdown",
   "metadata": {
    "slideshow": {
     "slide_type": "subslide"
    }
   },
   "source": [
    "Depending on your operating system you may then be given options to:\n",
    "- save the file \n",
    "- open the file (and the application to open the file with e.g. web or text editor).\n",
    "\n",
    "Choose to open the file in a text editor if possible - you just need to be able to see it.\n",
    "\n"
   ]
  },
  {
   "cell_type": "markdown",
   "metadata": {
    "slideshow": {
     "slide_type": "subslide"
    }
   },
   "source": [
    "Notice the Python code appears as it does in the notebook.\n",
    "\n",
    "The text in the non-code cells appears, preceded by a #, as comments."
   ]
  },
  {
   "cell_type": "markdown",
   "metadata": {
    "collapsed": true,
    "slideshow": {
     "slide_type": "slide"
    }
   },
   "source": [
    "## Creating a Git repository for your own project.\n",
    "\n",
    "When working outside of the organised cells of Jupyter notebook, it can be easier to break and destroy parts of your program.\n",
    "\n",
    "Version control using Git is a useful way to incrementally save your changes and revert back to a previous version if everything goes wrong. \n",
    "\n",
    "You will create a Git repository, seperate from the ILAS_python repository."
   ]
  },
  {
   "cell_type": "markdown",
   "metadata": {
    "slideshow": {
     "slide_type": "subslide"
    }
   },
   "source": [
    "The following section is taken from the notebook 1_Introduction_to_version_control.ipynb in the ILAS_Python repository. \n",
    "\n"
   ]
  },
  {
   "cell_type": "markdown",
   "metadata": {
    "slideshow": {
     "slide_type": "subslide"
    }
   },
   "source": [
    "### Setting up a new Git repository\n",
    "\n",
    "So far you have set up each new repository to contain a clone of another repository. \n",
    "\n",
    "The clone includes a `.git` folder, which is already set up to track the contents of the repository and contains the history of these files."
   ]
  },
  {
   "cell_type": "markdown",
   "metadata": {
    "slideshow": {
     "slide_type": "subslide"
    }
   },
   "source": [
    "The files to track need to be contained within a folder. \n",
    "\n",
    "Either create a folder and navigate into it using the command line (use `cd`), \n",
    "<br>or navigate into an existing folder that you want to track the contents of. \n",
    "\n",
    "In ther terminal type:\n",
    "\n",
    "> `git init`\n",
    "\n",
    "This command initialises (`init`) the directory as a Git repository."
   ]
  },
  {
   "cell_type": "markdown",
   "metadata": {
    "slideshow": {
     "slide_type": "subslide"
    }
   },
   "source": [
    "You can now use the steps you are already familar with to commit chnages to the files within the folder. \n",
    "\n",
    ">`git add -A`\n",
    "\n",
    ">`git commit -m \"A short message explaining your changes\"`"
   ]
  },
  {
   "cell_type": "markdown",
   "metadata": {
    "slideshow": {
     "slide_type": "subslide"
    }
   },
   "source": [
    "The steps to create a remote (online) repository are the same as those you are already familiar with.\n",
    "\n",
    "Step by step instructions are given in the full version of __Setting up a new Git repository__ which can be found in 1_Introduction_to_version_control.ipynb \n",
    "\n",
    "Please create and push your files to a remote repository for homework. "
   ]
  },
  {
   "cell_type": "markdown",
   "metadata": {
    "slideshow": {
     "slide_type": "slide"
    }
   },
   "source": [
    "## Storing Functions.\n",
    "Python function definitions and constants can be stored in one or more separate files.\n",
    "\n",
    "This keeps things tidy and allows the functions to be used in several programs without copying the definitions into each one. \n",
    "\n"
   ]
  },
  {
   "cell_type": "markdown",
   "metadata": {
    "slideshow": {
     "slide_type": "subslide"
    }
   },
   "source": [
    "The file containig the function dfinitions is called a “module”.\n",
    "\n",
    "The module name is the file name without the “.py” extension.\n",
    "\n",
    "For example, the Numpy functions are stored in a series of modules, which are saved to you computer when you install Numpy (Note: Numpy and other commonly used packages are automatically installed with Anaconda)."
   ]
  },
  {
   "cell_type": "markdown",
   "metadata": {
    "slideshow": {
     "slide_type": "subslide"
    }
   },
   "source": [
    "Technically a directory should contain a file called `__init__.py` for Python to treat the Python files within it as packages.\n",
    "\n",
    "However the examples shown here should work without the `__init__.py file`. \n",
    "\n",
    " "
   ]
  },
  {
   "cell_type": "markdown",
   "metadata": {
    "slideshow": {
     "slide_type": "subslide"
    }
   },
   "source": [
    "In the simplest case, `__init__.py` can just be an empty file\n",
    "\n",
    "It can also execute initialization code for a package. \n",
    "\n",
    "It is included to prevent directories with a common name, such as string, from unintentionally hiding valid modules that occur later (deeper) on the module search path. \n"
   ]
  },
  {
   "cell_type": "markdown",
   "metadata": {
    "slideshow": {
     "slide_type": "subslide"
    }
   },
   "source": [
    "Like other library functions, functions stored in user-defined modules are made available within a program using the Python `import` keyword followed by the module name. \n",
    "\n",
    "Example\n",
    "\n",
    ">`import numpy`\n",
    "\n",
    "It is customary to place all import statements at the beginning of the program."
   ]
  },
  {
   "cell_type": "markdown",
   "metadata": {
    "slideshow": {
     "slide_type": "subslide"
    }
   },
   "source": [
    "As we hae already studied, imported functions or constants can be called using the module name followed by the function name.\n",
    "\n",
    "Example\n",
    "\n",
    ">`numpy.pi`"
   ]
  },
  {
   "cell_type": "markdown",
   "metadata": {
    "slideshow": {
     "slide_type": "subslide"
    }
   },
   "source": [
    "So if we want to import a function from File_A.py to File_B.py what should we do?"
   ]
  },
  {
   "cell_type": "markdown",
   "metadata": {
    "slideshow": {
     "slide_type": "subslide"
    }
   },
   "source": [
    "__Try it yourself__\n",
    "\n",
    "1. In Spyder, use File >> Open to open File_B.py in the IDE.\n",
    "\n",
    "1. Copy and paste the two functions from the cell below to File_B. <br>You can delete any code that was already in File_B."
   ]
  },
  {
   "cell_type": "code",
   "execution_count": 6,
   "metadata": {
    "collapsed": true,
    "slideshow": {
     "slide_type": "subslide"
    }
   },
   "outputs": [],
   "source": [
    "def print_a_number(number=2):\n",
    "    print(number)    \n",
    "    \n",
    "def type_interrogate(data):\n",
    "    print(type(data))"
   ]
  },
  {
   "cell_type": "markdown",
   "metadata": {
    "slideshow": {
     "slide_type": "subslide"
    }
   },
   "source": [
    "3 Save the file :\n",
    "\n",
    "File >> Save"
   ]
  },
  {
   "cell_type": "markdown",
   "metadata": {
    "slideshow": {
     "slide_type": "subslide"
    }
   },
   "source": [
    "4 In File_A:\n",
    "- import File_B.py\n",
    "- call the two functions\n",
    "\n",
    "What happens if `print_a_number` is called without an argument?\n",
    "\n",
    "What happpens if `type_interrogate` is called without an argument? "
   ]
  },
  {
   "cell_type": "markdown",
   "metadata": {
    "slideshow": {
     "slide_type": "slide"
    }
   },
   "source": [
    "### The Module Search Path\n",
    "When a module is imported, the Python interpreter first searches for a built-in module with that name. \n",
    "\n",
    "If not found, it then searches for a file in a list of directories known as the Python path. \n",
    "\n",
    "For a module to be available for import, it must feature in the Python path. \n",
    "\n",
    "\n"
   ]
  },
  {
   "cell_type": "markdown",
   "metadata": {
    "slideshow": {
     "slide_type": "subslide"
    }
   },
   "source": [
    "There are quite a large number of ways to do this, depending on the location of the module reltaive to the location of the file in which you wish to import it. \n",
    "\n",
    "\n",
    "\n",
    "\n"
   ]
  },
  {
   "cell_type": "markdown",
   "metadata": {
    "slideshow": {
     "slide_type": "subslide"
    }
   },
   "source": [
    "Some of these methods are quite complicated, and can vary from operating system to operating system.\n",
    "\n"
   ]
  },
  {
   "cell_type": "markdown",
   "metadata": {
    "slideshow": {
     "slide_type": "subslide"
    }
   },
   "source": [
    "Today we will focus on the simplest, and arguably the most useful ways to import modules located within your computer's file system. "
   ]
  },
  {
   "cell_type": "markdown",
   "metadata": {
    "slideshow": {
     "slide_type": "subslide"
    }
   },
   "source": [
    "File_A and File_B are in the same folder.\n",
    "\n",
    "<img src=\"img/file_tree_labelled.png\" alt=\"Drawing\" style=\"width: 300px;\"/>\n",
    "\n",
    "\n"
   ]
  },
  {
   "cell_type": "markdown",
   "metadata": {
    "slideshow": {
     "slide_type": "subslide"
    }
   },
   "source": [
    "We therefore refer to them as 'sibling' files.\n",
    "\n",
    "The file can 'see' it's siblings.\n",
    "\n",
    "The file can also 'see' folders in the same directory."
   ]
  },
  {
   "cell_type": "markdown",
   "metadata": {
    "collapsed": true,
    "slideshow": {
     "slide_type": "subslide"
    }
   },
   "source": [
    "If we create a new folder (e.g. called new_folder) within this folder, and within new folder we create File_C.py, <br>then to import File_C to File_A or File_B, we must include:\n",
    ">`import new_folder.File_C`"
   ]
  },
  {
   "cell_type": "markdown",
   "metadata": {
    "slideshow": {
     "slide_type": "subslide"
    }
   },
   "source": [
    "In contrast, if File_C is located one level higher than File_A and File_B in the file system,<br> then the easiest way to add the location of File_C to the Python path (the places the Python interpreter looks for modules) is using the module `sys`.\n",
    "\n",
    ">`import sys`<br>\n",
    "`sys.path.append('../')`<br>\n",
    "`import File_A`\n",
    "\n",
    "This `append`s the directory one level up (`../`) to the path.\n",
    "\n",
    "We can now import files from the next directory up."
   ]
  },
  {
   "cell_type": "markdown",
   "metadata": {
    "slideshow": {
     "slide_type": "subslide"
    }
   },
   "source": [
    "The variable `sys.path` is a list of strings that determines the interpreter’s search path for modules."
   ]
  },
  {
   "cell_type": "code",
   "execution_count": 10,
   "metadata": {
    "slideshow": {
     "slide_type": "subslide"
    }
   },
   "outputs": [
    {
     "name": "stdout",
     "output_type": "stream",
     "text": [
      "['', '/Users/patriciahartmann/anaconda3/lib/python36.zip', '/Users/patriciahartmann/anaconda3/lib/python3.6', '/Users/patriciahartmann/anaconda3/lib/python3.6/lib-dynload', '/Users/patriciahartmann/anaconda3/lib/python3.6/site-packages', '/Users/patriciahartmann/anaconda3/lib/python3.6/site-packages/aeosa', '/Users/patriciahartmann/anaconda3/lib/python3.6/site-packages/IPython/extensions', '/Users/ZouhairOuaggag/.ipython']\n",
      "\n",
      "['', '/Users/patriciahartmann/anaconda3/lib/python36.zip', '/Users/patriciahartmann/anaconda3/lib/python3.6', '/Users/patriciahartmann/anaconda3/lib/python3.6/lib-dynload', '/Users/patriciahartmann/anaconda3/lib/python3.6/site-packages', '/Users/patriciahartmann/anaconda3/lib/python3.6/site-packages/aeosa', '/Users/patriciahartmann/anaconda3/lib/python3.6/site-packages/IPython/extensions', '/Users/ZouhairOuaggag/.ipython', '../']\n",
      "\n",
      "['', '/Users/patriciahartmann/anaconda3/lib/python36.zip', '/Users/patriciahartmann/anaconda3/lib/python3.6', '/Users/patriciahartmann/anaconda3/lib/python3.6/lib-dynload', '/Users/patriciahartmann/anaconda3/lib/python3.6/site-packages', '/Users/patriciahartmann/anaconda3/lib/python3.6/site-packages/aeosa', '/Users/patriciahartmann/anaconda3/lib/python3.6/site-packages/IPython/extensions', '/Users/ZouhairOuaggag/.ipython']\n"
     ]
    }
   ],
   "source": [
    "import sys\n",
    "print(sys.path, end=\"\\n\\n\")\n",
    "\n",
    "# Notice the addition to the list when we append a directory to the path\n",
    "sys.path.append('../')\n",
    "print(sys.path, end=\"\\n\\n\")\n",
    "\n",
    "sys.path.remove('../')\n",
    "print(sys.path)"
   ]
  },
  {
   "cell_type": "markdown",
   "metadata": {
    "slideshow": {
     "slide_type": "subslide"
    }
   },
   "source": [
    "How do you think we import File_D to File_A?\n",
    "\n",
    "<img src=\"img/file_tree_labelled.png\" alt=\"Drawing\" style=\"width: 300px;\"/>"
   ]
  },
  {
   "cell_type": "markdown",
   "metadata": {
    "slideshow": {
     "slide_type": "subslide"
    }
   },
   "source": [
    "### Adding modules to the path using Spyder.\n",
    "\n",
    "Spyder allows users to associate a directory with a *project*. \n",
    "\n",
    "This has two main advantages:\n",
    "1. Projects remember the list of open files in Editor. \n",
    "1. The project’s path is added to the list of paths in which Python looks for modules. Any module can be imported directly to another Python file, regardless of file hierarchy within the project. <br>Equivalent functionality can be found in other IDEs.\n",
    "\n",
    "Projects are completely optional i.e. you can work without creating projects."
   ]
  },
  {
   "cell_type": "markdown",
   "metadata": {
    "slideshow": {
     "slide_type": "subslide"
    }
   },
   "source": [
    "In the spyder toolbar click:\n",
    "\n",
    "Projects >> New project\n",
    "\n",
    "<img src=\"img/new_project.png\" alt=\"Drawing\" style=\"width: 300px;\"/>\n",
    "\n",
    "__New directory__\n",
    "<br>A folder with the *Project name* given will be created in the *Location* specified.\n",
    "\n",
    "__Existing drectory__ \n",
    "<br>An existing folder can be associated with a project. "
   ]
  },
  {
   "cell_type": "markdown",
   "metadata": {
    "slideshow": {
     "slide_type": "subslide"
    }
   },
   "source": [
    "To add new files to the folder:\n",
    "1. Right click on the project name in the *Project explorer* window on the left of the screen.\n",
    "1. Click New >> File..."
   ]
  },
  {
   "cell_type": "markdown",
   "metadata": {
    "slideshow": {
     "slide_type": "subslide"
    }
   },
   "source": [
    "### Adding modules to the 'site-packages'.\n",
    "\n",
    "`site-packages` is the name of the directory of manually insalled python packages. \n",
    "\n",
    "You can find the location of `site-packages` by running:\n",
    ">`print(sys.path)`\n",
    "\n",
    "Installed packages such as `numpy` are found here.\n",
    "\n",
    "\n",
    "\n"
   ]
  },
  {
   "cell_type": "markdown",
   "metadata": {
    "slideshow": {
     "slide_type": "subslide"
    }
   },
   "source": [
    "If you add a module to thuis directory, it will be universally accessible within the home directory of your computer system.\n",
    "\n",
    "i.e. You can call it from anywhere by using `import` just as for nupy or any other installed package. "
   ]
  },
  {
   "cell_type": "markdown",
   "metadata": {
    "slideshow": {
     "slide_type": "subslide"
    }
   },
   "source": [
    "__Try it yourself__\n",
    "\n",
    "1. Find the location of `site-packages` in your computer system.\n",
    "\n",
    "1. Within `site-packages` create a folder called `my_package`.\n",
    "\n",
    "1. Within `my_package` create a file called `my_module.py`.\n",
    "\n",
    "1. In `my_module.py` put a simple print statement e.g.\n",
    ">`print(2)`\n",
    "\n",
    "1. Save the file\n",
    "\n",
    "1. In the terminal type:\n",
    ">`python3` \n",
    "\n",
    "1. To execute the print statement type:\n",
    ">`import my_package.my_module`\n",
    "\n",
    "1. You can delete the folder `my_package`. It is no longer needed.\n"
   ]
  },
  {
   "cell_type": "markdown",
   "metadata": {
    "slideshow": {
     "slide_type": "subslide"
    }
   },
   "source": [
    "### Scope of imported functions.\n",
    "Internally, each Python module and program has its own “symbol table” which contains the names of all functions.\n",
    "\n",
    "When you import a module with an import statement, only the module’s name gets added to the program’s symbol table – that module’s symbol table does not get added.\n",
    "\n",
    "This is to avoid possible conflicts due to functions with the same name appearing in multiple imported modules. \n",
    "\n",
    "This is why you must prefix the function name with the module name. \n",
    "\n"
   ]
  },
  {
   "cell_type": "markdown",
   "metadata": {
    "slideshow": {
     "slide_type": "subslide"
    }
   },
   "source": [
    "You can import individual function names using `from ... import` e.g.\n",
    ">`from numpy import pi`\n",
    "\n",
    "You can import all function names into the program’s own symbol table using the character  * e.g. \n",
    ">`from File_A import *`"
   ]
  },
  {
   "cell_type": "markdown",
   "metadata": {
    "slideshow": {
     "slide_type": "subslide"
    }
   },
   "source": [
    "It is generally condsidered best practise to call functions with the module name prefix. \n",
    "\n",
    "It is inadvisable to use * where you do not know the full content of a module e.g. a library such as Numpy.\n",
    "\n",
    "It may be appropraite to use * with a small, *specific*, user-defined module. "
   ]
  },
  {
   "cell_type": "markdown",
   "metadata": {
    "collapsed": true,
    "slideshow": {
     "slide_type": "slide"
    }
   },
   "source": [
    "## User Input\n",
    "Just as value can be assigned to a variable in a Python program, a dynamically user-specified value can also be assigned to a variable.\n",
    "\n",
    "User input can be requested by including the built-in `input()` function.  \n",
    "\n",
    "`input` function argument: A string \n",
    "\n",
    "The string is dislpayed to prompt the user for input.\n",
    "<br>The program then waits for input before proceeding.  \n",
    "\n"
   ]
  },
  {
   "cell_type": "code",
   "execution_count": 3,
   "metadata": {
    "slideshow": {
     "slide_type": "subslide"
    }
   },
   "outputs": [
    {
     "name": "stdout",
     "output_type": "stream",
     "text": [
      "Please enter your name Zouhair\n"
     ]
    },
    {
     "data": {
      "text/plain": [
       "'Zouhair'"
      ]
     },
     "execution_count": 3,
     "metadata": {},
     "output_type": "execute_result"
    }
   ],
   "source": [
    "input(\"Please enter your name \")"
   ]
  },
  {
   "cell_type": "markdown",
   "metadata": {
    "slideshow": {
     "slide_type": "subslide"
    }
   },
   "source": [
    "User input is read as a text string, even when it’s numeric.\n",
    "\n",
    "Input can be assigned to a variable: "
   ]
  },
  {
   "cell_type": "code",
   "execution_count": 4,
   "metadata": {
    "slideshow": {
     "slide_type": "subslide"
    }
   },
   "outputs": [
    {
     "name": "stdout",
     "output_type": "stream",
     "text": [
      "Please enter your name Zouhair\n",
      "Current user is Zouhair\n"
     ]
    }
   ],
   "source": [
    "user = input(\"Please enter your name \")\n",
    "\n",
    "print(f'Current user is {user}')"
   ]
  },
  {
   "cell_type": "markdown",
   "metadata": {
    "slideshow": {
     "slide_type": "subslide"
    }
   },
   "source": [
    "The `input` function takes a *single* input.\n",
    "\n",
    "The built-in function `split()` can then be used to seperate the input __seperated by spaces__ into individual values."
   ]
  },
  {
   "cell_type": "code",
   "execution_count": 5,
   "metadata": {
    "slideshow": {
     "slide_type": "subslide"
    }
   },
   "outputs": [
    {
     "name": "stdout",
     "output_type": "stream",
     "text": [
      "Enter your name and home country, seperated by a space Zouhair Switzerland\n",
      "['Zouhair', 'Switzerland']\n",
      "Zouhair is from Switzerland\n"
     ]
    }
   ],
   "source": [
    "inputs = input(\"Enter your name and home country, seperated by a space \")\n",
    "\n",
    "data = inputs.split()\n",
    "\n",
    "print(data)\n",
    "\n",
    "print(f\"{data[0]} is from {data[1]}\")"
   ]
  },
  {
   "cell_type": "markdown",
   "metadata": {
    "slideshow": {
     "slide_type": "subslide"
    }
   },
   "source": [
    "Alternatively, multiple user inputs may be formatted as a list."
   ]
  },
  {
   "cell_type": "code",
   "execution_count": 6,
   "metadata": {
    "slideshow": {
     "slide_type": "subslide"
    }
   },
   "outputs": [
    {
     "name": "stdout",
     "output_type": "stream",
     "text": [
      "Enter your name: Zouhair\n",
      "Enter your country:Switzerland\n",
      "['Zouhair', 'Switzerland']\n",
      "Zouhair is from Switzerland\n"
     ]
    }
   ],
   "source": [
    "data = [ input( \"Enter your name: \" ) , \n",
    "         input( \"Enter your country:\" ) ]\n",
    "\n",
    "print(data)\n",
    "\n",
    "print(f\"{data[0]} is from {data[1]}\")"
   ]
  },
  {
   "cell_type": "markdown",
   "metadata": {
    "slideshow": {
     "slide_type": "subslide"
    }
   },
   "source": [
    "The input can also be cast, for example for use in numeric calculations"
   ]
  },
  {
   "cell_type": "code",
   "execution_count": 7,
   "metadata": {
    "slideshow": {
     "slide_type": "subslide"
    }
   },
   "outputs": [
    {
     "name": "stdout",
     "output_type": "stream",
     "text": [
      "Enter a series of numbers seperated by spaces 1 2 3\n",
      "['1', '2', '3']\n",
      "[1, 2, 3]\n"
     ]
    }
   ],
   "source": [
    "inputs = input(\"Enter a series of numbers seperated by spaces \")\n",
    "\n",
    "data = inputs.split()\n",
    "\n",
    "# Using list comprehension\n",
    "nums = [int(d) for d in data]\n",
    "print(data)\n",
    "print(nums)"
   ]
  },
  {
   "cell_type": "code",
   "execution_count": 8,
   "metadata": {
    "slideshow": {
     "slide_type": "subslide"
    }
   },
   "outputs": [
    {
     "name": "stdout",
     "output_type": "stream",
     "text": [
      "[1, 2, 3]\n"
     ]
    }
   ],
   "source": [
    "# Using indexing to replace each item in the list with a numeric value\n",
    "for i in range(len(data)):\n",
    "    data[i] = int(data[i])\n",
    "    \n",
    "    \n",
    "print(data)"
   ]
  },
  {
   "cell_type": "markdown",
   "metadata": {
    "slideshow": {
     "slide_type": "slide"
    }
   },
   "source": [
    "## Importing Data (e.g. from csv. files)\n",
    "\n",
    "Real data is often stored in CSV files.\n",
    "\n",
    "Csv files are simply comma separated values (although the values can be separated or *delimited* by other things than commas).\n",
    "\n",
    "\n",
    "\n"
   ]
  },
  {
   "cell_type": "markdown",
   "metadata": {
    "slideshow": {
     "slide_type": "subslide"
    }
   },
   "source": [
    "You don’t need any special software to open this format. \n",
    "\n",
    "This is why this format is so popular. \n",
    "\n",
    "However, this is the type of file is typically viewed in a program like Excel.\n",
    "<br>In this case, the commas determines the seperationof values into individual cells. \n"
   ]
  },
  {
   "cell_type": "markdown",
   "metadata": {
    "slideshow": {
     "slide_type": "subslide"
    }
   },
   "source": [
    "Numeric can be loaded from a data file using the function; `numpy.loadtxt`.\n",
    "\n",
    "The file to be loaded must be in the same directory as your python program.\n",
    "\n",
    "Otherwise you must specify the the full path to the data file. \n",
    "\n",
    "The filename (or path plus filename) needs to be between \"\" quotation marks. "
   ]
  },
  {
   "cell_type": "markdown",
   "metadata": {
    "slideshow": {
     "slide_type": "subslide"
    }
   },
   "source": [
    "Simple .txt or .data. or .csv files can be loaded using `loadtxt`.\n",
    "\n",
    "For example the file data.dat in the folder sample_data contains:\n",
    ">0.000 1.053 2.105 3.158 4.211<br>\n",
    "74.452 48.348 68.733 59.796 54.123\n",
    "\n",
    "The default delimiter is a space.\n",
    "<br>The default data type to output is an array of floating point values. "
   ]
  },
  {
   "cell_type": "code",
   "execution_count": 9,
   "metadata": {
    "slideshow": {
     "slide_type": "subslide"
    }
   },
   "outputs": [
    {
     "name": "stdout",
     "output_type": "stream",
     "text": [
      "[[  1.053   2.105   3.158   4.211   6.065]\n",
      " [ 48.348  68.733  59.796  54.123  74.452]]\n"
     ]
    }
   ],
   "source": [
    "A = np.loadtxt('sample_data/sample_data.dat')\n",
    "print(A)"
   ]
  },
  {
   "cell_type": "code",
   "execution_count": 10,
   "metadata": {},
   "outputs": [
    {
     "data": {
      "text/plain": [
       "[<matplotlib.lines.Line2D at 0x110b801d0>]"
      ]
     },
     "execution_count": 10,
     "metadata": {},
     "output_type": "execute_result"
    },
    {
     "data": {
      "image/png": "[encoded data removed]",
      "text/plain": [
       "<matplotlib.figure.Figure at 0x1086a9080>"
      ]
     },
     "metadata": {},
     "output_type": "display_data"
    }
   ],
   "source": [
    "plt.plot(A[0], A[1])"
   ]
  },
  {
   "cell_type": "markdown",
   "metadata": {
    "slideshow": {
     "slide_type": "subslide"
    }
   },
   "source": [
    "The delimiter and data type can be specified.\n",
    "\n",
    "For example, the data in sample_student_data.txt:\n",
    "- is seperated by tabs (`/t`) \n",
    "- cannot all be converted to float data (in some columns)\n",
    "\n",
    "```Python\n",
    "Subject\tSex\tDOB\tHeight\tWeight\tBP\n",
    "(ID)\tM/F\tdd/mm/yy\tm\tkg\tmmHg\n",
    "JW-1\tM\t19/12/1995\t1.82\t92.4\t119/76\n",
    "JW-2\tM\t11/01/1996\t1.77\t80.9\t114/73\n",
    "JW-3\tF\t02/10/1995\t1.68\t69.7\t124/79\n",
    "JW-6\tM\t06/07/1995\t1.72\t75.5\t110/60\n",
    "JW-7\tF\t28/03/1996\t1.66\t72.4\t-\n",
    "JW-9\tF\t11/12/1995\t1.78\t82.1\t115/75\n",
    "JW-10\tF\t07/04/1996\t1.6\t45\t-/-\n",
    "JW-11\tM\t22/08/1995\t1.72\t77.2\t97/63\n",
    "JW-12\tM\t23/05/1996\t1.83\t88.9\t105/70\n",
    "JW-14\tF\t12/01/1996\t1.56\t56.3\t108/72\n",
    "JW-15\tF\t01/06/1996\t1.64\t65\t99/67\n",
    "JW-16\tM\t10/09/1995\t1.63\t73\t131/84\n",
    "JW-17\tM\t17/02/1996\t1.67\t89.8\t101/76\n",
    "JW-18\tM\t31/07/1996\t1.66\t75.1\t-/-\n",
    "JW-19\tF\t30/10/1995\t1.59\t67.3\t103/69\n",
    "JW-22\tF\t09/03/1996\t1.7\t45\t119/80\n",
    "JW-23\tM\t15/05/1995\t1.97\t89.2\t124/82\n",
    "JW-24\tF\t01/12/1995\t1.66\t63.8\t100/78\n",
    "JW-25\tF\t25/10/1995\t1.63\t64.4\t-/-\n",
    "JW-26\tM\t17/04/1996\t1.69\t55\t121/82\n",
    "```"
   ]
  },
  {
   "cell_type": "code",
   "execution_count": 11,
   "metadata": {
    "slideshow": {
     "slide_type": "subslide"
    }
   },
   "outputs": [
    {
     "data": {
      "text/plain": [
       "array([['Student', 'Sex', 'DOB', 'Height', 'Weight', 'BP'],\n",
       "       ['(ID)', 'M/F', 'dd/mm/yy', 'm', 'kg', 'mmHg'],\n",
       "       ['JW-1', 'M', '19/12/1995', '1.82', '92.4', '119/76'],\n",
       "       ['JW-2', 'M', '11/01/1996', '1.77', '80.9', '114/73'],\n",
       "       ['JW-3', 'F', '02/10/1995', '1.68', '69.7', '124/79'],\n",
       "       ['JW-4', 'M', '11/01/1996', '1.77', '80.9', '114/73'],\n",
       "       ['JW-5', 'F', '02/10/1995', '1.68', '69.7', '124/79'],\n",
       "       ['JW-6', 'M', '06/07/1995', '1.72', '75.5', '110/60'],\n",
       "       ['JW-7', 'F', '28/03/1996', '1.66', '72.4', '-'],\n",
       "       ['JW-9', 'F', '11/12/1995', '1.78', '82.1', '115/75'],\n",
       "       ['JW-10', 'F', '07/04/1996', '1.6', '45', '-/-'],\n",
       "       ['JW-11', 'M', '22/08/1995', '1.72', '77.2', '97/63'],\n",
       "       ['JW-12', 'M', '23/05/1996', '1.83', '88.9', '105/70'],\n",
       "       ['JW-14', 'F', '12/01/1996', '1.56', '56.3', '108/72'],\n",
       "       ['JW-15', 'F', '01/06/1996', '1.64', '65', '99/67'],\n",
       "       ['JW-16', 'M', '10/09/1995', '1.63', '73', '131/84'],\n",
       "       ['JW-17', 'M', '17/02/1996', '1.67', '89.8', '101/76'],\n",
       "       ['JW-18', 'M', '31/07/1996', '1.66', '75.1', '-/-'],\n",
       "       ['JW-19', 'F', '30/10/1995', '1.59', '67.3', '103/69'],\n",
       "       ['JW-22', 'F', '09/03/1996', '1.7', '45', '119/80'],\n",
       "       ['JW-23', 'M', '15/05/1995', '1.97', '89.2', '124/82'],\n",
       "       ['JW-24', 'F', '01/12/1995', '1.66', '63.8', '100/78'],\n",
       "       ['JW-25', 'F', '25/10/1995', '1.63', '64.4', '-/-'],\n",
       "       ['JW-26', 'M', '17/04/1996', '1.69', '55', '121/82']],\n",
       "      dtype='<U10')"
      ]
     },
     "execution_count": 11,
     "metadata": {},
     "output_type": "execute_result"
    }
   ],
   "source": [
    "np.loadtxt('sample_data/sample_student_data.txt', delimiter=\"\\t\", dtype=str)"
   ]
  },
  {
   "cell_type": "markdown",
   "metadata": {
    "slideshow": {
     "slide_type": "subslide"
    }
   },
   "source": [
    "Regions can be selected."
   ]
  },
  {
   "cell_type": "code",
   "execution_count": 12,
   "metadata": {},
   "outputs": [
    {
     "data": {
      "text/plain": [
       "array([[  1.78,  82.1 ],\n",
       "       [  1.6 ,  45.  ],\n",
       "       [  1.72,  77.2 ],\n",
       "       [  1.83,  88.9 ],\n",
       "       [  1.56,  56.3 ],\n",
       "       [  1.64,  65.  ],\n",
       "       [  1.63,  73.  ],\n",
       "       [  1.67,  89.8 ],\n",
       "       [  1.66,  75.1 ],\n",
       "       [  1.59,  67.3 ],\n",
       "       [  1.7 ,  45.  ],\n",
       "       [  1.97,  89.2 ],\n",
       "       [  1.66,  63.8 ],\n",
       "       [  1.63,  64.4 ],\n",
       "       [  1.69,  55.  ]])"
      ]
     },
     "execution_count": 12,
     "metadata": {},
     "output_type": "execute_result"
    }
   ],
   "source": [
    "np.loadtxt('sample_data/sample_student_data.txt', dtype=float, skiprows=9, usecols=(3,4))"
   ]
  },
  {
   "cell_type": "markdown",
   "metadata": {
    "slideshow": {
     "slide_type": "subslide"
    }
   },
   "source": [
    "`np.loadtxt` provides basic functionality. \n",
    "<br>The most powerful and advanced package for data handling and analysis is called `pandas`.\n",
    "\n"
   ]
  },
  {
   "cell_type": "markdown",
   "metadata": {
    "slideshow": {
     "slide_type": "subslide"
    }
   },
   "source": [
    "## Data analysis with Pandas\n",
    "This seminar will give an introduction to some widely used functions of the `pandas` package. \n",
    "\n",
    "More information can be found in the documentation at http://pandas.pydata.org/.\n"
   ]
  },
  {
   "cell_type": "markdown",
   "metadata": {
    "slideshow": {
     "slide_type": "subslide"
    }
   },
   "source": [
    "`pandas` loads data into a `DataFrame`. \n",
    "\n",
    "A `DataFrame` is like an array, with additional features for data analysis... "
   ]
  },
  {
   "cell_type": "markdown",
   "metadata": {},
   "source": [
    "Any array-like data can be stored as a DataFrame.\n",
    "\n",
    "The data is assigned:\n",
    " - an `index` to labelthe rows.\n",
    " - `headers` to label the columns\n",
    " \n"
   ]
  },
  {
   "cell_type": "markdown",
   "metadata": {},
   "source": [
    "An example is shown below:\n",
    "<br>(This code is also shown as a standalone python (.py) file called `create_panda.py`, in the folder `9_Input_and_Output_example_sols` within the ILAS_python repository."
   ]
  },
  {
   "cell_type": "code",
   "execution_count": 14,
   "metadata": {},
   "outputs": [
    {
     "name": "stdout",
     "output_type": "stream",
     "text": [
      "[[0 5 1 1]\n",
      " [1 1 7 5]\n",
      " [2 9 0 9]\n",
      " [3 4 7 9]]\n",
      "   score1  score2  score3\n",
      "1       1       7       5\n",
      "2       9       0       9\n",
      "3       4       7       9\n"
     ]
    }
   ],
   "source": [
    "import pandas as pd\n",
    "\n",
    "# generate random data\n",
    "data = np.random.randint(0, 10, (4, 4))\n",
    "\n",
    "# first column is number 1-4\n",
    "data[:,0]=np.arange(4)\n",
    "\n",
    "headers = [\"score1\", \"score2\", \"score3\"]\n",
    "\n",
    "print(data)\n",
    "\n",
    "data_frame = pd.DataFrame(data=data[1:,1:],    # values\n",
    "             index=data[1:,0],    # 1st column as index\n",
    "             columns = headers,   # strings in the list called haeders as the column names\n",
    "             #columns=data[0,1:], # 1st row as the column names\n",
    "             )  \n",
    "\n",
    "print(data_frame)\n"
   ]
  },
  {
   "cell_type": "markdown",
   "metadata": {
    "slideshow": {
     "slide_type": "subslide"
    }
   },
   "source": [
    "An advantages of Pandas vs just using NumPy is that Pandas allows you to have columns with different data types.  \n",
    "\n",
    "DataFrames also accomodate `NaN` (not a number) values. "
   ]
  },
  {
   "cell_type": "markdown",
   "metadata": {
    "slideshow": {
     "slide_type": "subslide"
    }
   },
   "source": [
    "The following example uses Pandas `read_csv` function to examine the same student data, but this time saved as a .csv file"
   ]
  },
  {
   "cell_type": "code",
   "execution_count": 15,
   "metadata": {
    "collapsed": true
   },
   "outputs": [],
   "source": [
    "from pandas import read_csv"
   ]
  },
  {
   "cell_type": "markdown",
   "metadata": {
    "slideshow": {
     "slide_type": "subslide"
    }
   },
   "source": [
    "The read_csv function has many options. \n",
    "<br>Two are shown as examples.\n",
    " - `skiprows`: rows to omit\n",
    " - `index_col`: the names in column 0 can be used as an index to select a row."
   ]
  },
  {
   "cell_type": "code",
   "execution_count": 24,
   "metadata": {},
   "outputs": [],
   "source": [
    "students = read_csv('sample_data/sample_student_data.csv', \n",
    "                skiprows=[1],\n",
    "                index_col=0)"
   ]
  },
  {
   "cell_type": "code",
   "execution_count": 25,
   "metadata": {},
   "outputs": [
    {
     "name": "stdout",
     "output_type": "stream",
     "text": [
      "        Sex         DOB  Height  Weight      BP\n",
      "Student                                        \n",
      "JW-1      M  19/12/1995    1.82    92.4  119/76\n",
      "JW-2      M  11/01/1996    1.77    80.9  114/73\n",
      "JW-3      F  02/10/1995    1.68    69.7  124/79\n",
      "JW-4      M  11/01/1996    1.77    80.9  114/73\n",
      "JW-5      F  02/10/1995    1.68    69.7  124/79\n",
      "JW-6      M  06/07/1995    1.72    75.5  110/60\n",
      "JW-7      F  28/03/1996    1.66    72.4       -\n",
      "JW-9      F  11/12/1995    1.78    82.1  115/75\n",
      "JW-10     F  07/04/1996    1.60    45.0     -/-\n",
      "JW-11     M  22/08/1995    1.72    77.2   97/63\n",
      "JW-12     M  23/05/1996    1.83    88.9  105/70\n",
      "JW-14     F  12/01/1996    1.56    56.3  108/72\n",
      "JW-15     F  01/06/1996    1.64    65.0   99/67\n",
      "JW-16     M  10/09/1995    1.63    73.0  131/84\n",
      "JW-17     M  17/02/1996    1.67    89.8  101/76\n",
      "JW-18     M  31/07/1996    1.66    75.1     -/-\n",
      "JW-19     F  30/10/1995    1.59    67.3  103/69\n",
      "JW-22     F  09/03/1996    1.70    45.0  119/80\n",
      "JW-23     M  15/05/1995    1.97    89.2  124/82\n",
      "JW-24     F  01/12/1995    1.66    63.8  100/78\n",
      "JW-25     F  25/10/1995    1.63    64.4     -/-\n",
      "JW-26     M  17/04/1996    1.69    55.0  121/82\n"
     ]
    }
   ],
   "source": [
    "print(students)"
   ]
  },
  {
   "cell_type": "markdown",
   "metadata": {
    "slideshow": {
     "slide_type": "slide"
    }
   },
   "source": [
    "### Choosing keywords and indices.\n",
    "The rows and columns of a DataFrame may have names.\n",
    "\n",
    "To show the column names use the `keys` function: "
   ]
  },
  {
   "cell_type": "code",
   "execution_count": 26,
   "metadata": {
    "slideshow": {
     "slide_type": "-"
    }
   },
   "outputs": [
    {
     "name": "stdout",
     "output_type": "stream",
     "text": [
      "Index(['Sex', 'DOB', 'Height', 'Weight', 'BP'], dtype='object')\n"
     ]
    }
   ],
   "source": [
    "print(students.keys())"
   ]
  },
  {
   "cell_type": "markdown",
   "metadata": {
    "slideshow": {
     "slide_type": "subslide"
    }
   },
   "source": [
    "#### Choosing the index\n",
    "Any other column, may be used as the index of a DataFrame.\n",
    "\n",
    "Specify the index using the `index_col` keyword.  "
   ]
  },
  {
   "cell_type": "code",
   "execution_count": 27,
   "metadata": {},
   "outputs": [
    {
     "name": "stdout",
     "output_type": "stream",
     "text": [
      "Index(['Student', 'Sex', 'Height', 'Weight', 'BP'], dtype='object')\n"
     ]
    }
   ],
   "source": [
    "# DOB as index\n",
    "students = read_csv('sample_data/sample_student_data.csv', \n",
    "                skiprows=[1],   \n",
    "                index_col=2)\n",
    "\n",
    "print(students.keys())"
   ]
  },
  {
   "cell_type": "code",
   "execution_count": 28,
   "metadata": {},
   "outputs": [
    {
     "name": "stdout",
     "output_type": "stream",
     "text": [
      "Index(['Sex', 'DOB', 'Height', 'Weight', 'BP'], dtype='object')\n"
     ]
    }
   ],
   "source": [
    "# Student (JW- code) as index\n",
    "students = read_csv('sample_data/sample_student_data.csv', \n",
    "                skiprows=[1],   \n",
    "                index_col=0)\n",
    "\n",
    "print(students.keys())"
   ]
  },
  {
   "cell_type": "markdown",
   "metadata": {
    "slideshow": {
     "slide_type": "subslide"
    }
   },
   "source": [
    "### Viewing data\n",
    "\n",
    "The data can be displayed in an easily readable format using `dislay`:"
   ]
  },
  {
   "cell_type": "code",
   "execution_count": 29,
   "metadata": {},
   "outputs": [
    {
     "data": {
      "text/html": [
       "<div>\n",
       "<style>\n",
       "    .dataframe thead tr:only-child th {\n",
       "        text-align: right;\n",
       "    }\n",
       "\n",
       "    .dataframe thead th {\n",
       "        text-align: left;\n",
       "    }\n",
       "\n",
       "    .dataframe tbody tr th {\n",
       "        vertical-align: top;\n",
       "    }\n",
       "</style>\n",
       "<table border=\"1\" class=\"dataframe\">\n",
       "  <thead>\n",
       "    <tr style=\"text-align: right;\">\n",
       "      <th></th>\n",
       "      <th>Sex</th>\n",
       "      <th>DOB</th>\n",
       "      <th>Height</th>\n",
       "      <th>Weight</th>\n",
       "      <th>BP</th>\n",
       "    </tr>\n",
       "    <tr>\n",
       "      <th>Student</th>\n",
       "      <th></th>\n",
       "      <th></th>\n",
       "      <th></th>\n",
       "      <th></th>\n",
       "      <th></th>\n",
       "    </tr>\n",
       "  </thead>\n",
       "  <tbody>\n",
       "    <tr>\n",
       "      <th>JW-1</th>\n",
       "      <td>M</td>\n",
       "      <td>19/12/1995</td>\n",
       "      <td>1.82</td>\n",
       "      <td>92.4</td>\n",
       "      <td>119/76</td>\n",
       "    </tr>\n",
       "    <tr>\n",
       "      <th>JW-2</th>\n",
       "      <td>M</td>\n",
       "      <td>11/01/1996</td>\n",
       "      <td>1.77</td>\n",
       "      <td>80.9</td>\n",
       "      <td>114/73</td>\n",
       "    </tr>\n",
       "    <tr>\n",
       "      <th>JW-3</th>\n",
       "      <td>F</td>\n",
       "      <td>02/10/1995</td>\n",
       "      <td>1.68</td>\n",
       "      <td>69.7</td>\n",
       "      <td>124/79</td>\n",
       "    </tr>\n",
       "    <tr>\n",
       "      <th>JW-4</th>\n",
       "      <td>M</td>\n",
       "      <td>11/01/1996</td>\n",
       "      <td>1.77</td>\n",
       "      <td>80.9</td>\n",
       "      <td>114/73</td>\n",
       "    </tr>\n",
       "    <tr>\n",
       "      <th>JW-5</th>\n",
       "      <td>F</td>\n",
       "      <td>02/10/1995</td>\n",
       "      <td>1.68</td>\n",
       "      <td>69.7</td>\n",
       "      <td>124/79</td>\n",
       "    </tr>\n",
       "    <tr>\n",
       "      <th>JW-6</th>\n",
       "      <td>M</td>\n",
       "      <td>06/07/1995</td>\n",
       "      <td>1.72</td>\n",
       "      <td>75.5</td>\n",
       "      <td>110/60</td>\n",
       "    </tr>\n",
       "    <tr>\n",
       "      <th>JW-7</th>\n",
       "      <td>F</td>\n",
       "      <td>28/03/1996</td>\n",
       "      <td>1.66</td>\n",
       "      <td>72.4</td>\n",
       "      <td>-</td>\n",
       "    </tr>\n",
       "    <tr>\n",
       "      <th>JW-9</th>\n",
       "      <td>F</td>\n",
       "      <td>11/12/1995</td>\n",
       "      <td>1.78</td>\n",
       "      <td>82.1</td>\n",
       "      <td>115/75</td>\n",
       "    </tr>\n",
       "    <tr>\n",
       "      <th>JW-10</th>\n",
       "      <td>F</td>\n",
       "      <td>07/04/1996</td>\n",
       "      <td>1.60</td>\n",
       "      <td>45.0</td>\n",
       "      <td>-/-</td>\n",
       "    </tr>\n",
       "    <tr>\n",
       "      <th>JW-11</th>\n",
       "      <td>M</td>\n",
       "      <td>22/08/1995</td>\n",
       "      <td>1.72</td>\n",
       "      <td>77.2</td>\n",
       "      <td>97/63</td>\n",
       "    </tr>\n",
       "    <tr>\n",
       "      <th>JW-12</th>\n",
       "      <td>M</td>\n",
       "      <td>23/05/1996</td>\n",
       "      <td>1.83</td>\n",
       "      <td>88.9</td>\n",
       "      <td>105/70</td>\n",
       "    </tr>\n",
       "    <tr>\n",
       "      <th>JW-14</th>\n",
       "      <td>F</td>\n",
       "      <td>12/01/1996</td>\n",
       "      <td>1.56</td>\n",
       "      <td>56.3</td>\n",
       "      <td>108/72</td>\n",
       "    </tr>\n",
       "    <tr>\n",
       "      <th>JW-15</th>\n",
       "      <td>F</td>\n",
       "      <td>01/06/1996</td>\n",
       "      <td>1.64</td>\n",
       "      <td>65.0</td>\n",
       "      <td>99/67</td>\n",
       "    </tr>\n",
       "    <tr>\n",
       "      <th>JW-16</th>\n",
       "      <td>M</td>\n",
       "      <td>10/09/1995</td>\n",
       "      <td>1.63</td>\n",
       "      <td>73.0</td>\n",
       "      <td>131/84</td>\n",
       "    </tr>\n",
       "    <tr>\n",
       "      <th>JW-17</th>\n",
       "      <td>M</td>\n",
       "      <td>17/02/1996</td>\n",
       "      <td>1.67</td>\n",
       "      <td>89.8</td>\n",
       "      <td>101/76</td>\n",
       "    </tr>\n",
       "    <tr>\n",
       "      <th>JW-18</th>\n",
       "      <td>M</td>\n",
       "      <td>31/07/1996</td>\n",
       "      <td>1.66</td>\n",
       "      <td>75.1</td>\n",
       "      <td>-/-</td>\n",
       "    </tr>\n",
       "    <tr>\n",
       "      <th>JW-19</th>\n",
       "      <td>F</td>\n",
       "      <td>30/10/1995</td>\n",
       "      <td>1.59</td>\n",
       "      <td>67.3</td>\n",
       "      <td>103/69</td>\n",
       "    </tr>\n",
       "    <tr>\n",
       "      <th>JW-22</th>\n",
       "      <td>F</td>\n",
       "      <td>09/03/1996</td>\n",
       "      <td>1.70</td>\n",
       "      <td>45.0</td>\n",
       "      <td>119/80</td>\n",
       "    </tr>\n",
       "    <tr>\n",
       "      <th>JW-23</th>\n",
       "      <td>M</td>\n",
       "      <td>15/05/1995</td>\n",
       "      <td>1.97</td>\n",
       "      <td>89.2</td>\n",
       "      <td>124/82</td>\n",
       "    </tr>\n",
       "    <tr>\n",
       "      <th>JW-24</th>\n",
       "      <td>F</td>\n",
       "      <td>01/12/1995</td>\n",
       "      <td>1.66</td>\n",
       "      <td>63.8</td>\n",
       "      <td>100/78</td>\n",
       "    </tr>\n",
       "    <tr>\n",
       "      <th>JW-25</th>\n",
       "      <td>F</td>\n",
       "      <td>25/10/1995</td>\n",
       "      <td>1.63</td>\n",
       "      <td>64.4</td>\n",
       "      <td>-/-</td>\n",
       "    </tr>\n",
       "    <tr>\n",
       "      <th>JW-26</th>\n",
       "      <td>M</td>\n",
       "      <td>17/04/1996</td>\n",
       "      <td>1.69</td>\n",
       "      <td>55.0</td>\n",
       "      <td>121/82</td>\n",
       "    </tr>\n",
       "  </tbody>\n",
       "</table>\n",
       "</div>"
      ],
      "text/plain": [
       "        Sex         DOB  Height  Weight      BP\n",
       "Student                                        \n",
       "JW-1      M  19/12/1995    1.82    92.4  119/76\n",
       "JW-2      M  11/01/1996    1.77    80.9  114/73\n",
       "JW-3      F  02/10/1995    1.68    69.7  124/79\n",
       "JW-4      M  11/01/1996    1.77    80.9  114/73\n",
       "JW-5      F  02/10/1995    1.68    69.7  124/79\n",
       "JW-6      M  06/07/1995    1.72    75.5  110/60\n",
       "JW-7      F  28/03/1996    1.66    72.4       -\n",
       "JW-9      F  11/12/1995    1.78    82.1  115/75\n",
       "JW-10     F  07/04/1996    1.60    45.0     -/-\n",
       "JW-11     M  22/08/1995    1.72    77.2   97/63\n",
       "JW-12     M  23/05/1996    1.83    88.9  105/70\n",
       "JW-14     F  12/01/1996    1.56    56.3  108/72\n",
       "JW-15     F  01/06/1996    1.64    65.0   99/67\n",
       "JW-16     M  10/09/1995    1.63    73.0  131/84\n",
       "JW-17     M  17/02/1996    1.67    89.8  101/76\n",
       "JW-18     M  31/07/1996    1.66    75.1     -/-\n",
       "JW-19     F  30/10/1995    1.59    67.3  103/69\n",
       "JW-22     F  09/03/1996    1.70    45.0  119/80\n",
       "JW-23     M  15/05/1995    1.97    89.2  124/82\n",
       "JW-24     F  01/12/1995    1.66    63.8  100/78\n",
       "JW-25     F  25/10/1995    1.63    64.4     -/-\n",
       "JW-26     M  17/04/1996    1.69    55.0  121/82"
      ]
     },
     "metadata": {},
     "output_type": "display_data"
    }
   ],
   "source": [
    "from IPython.display import display\n",
    "\n",
    "display(students)"
   ]
  },
  {
   "cell_type": "markdown",
   "metadata": {
    "slideshow": {
     "slide_type": "subslide"
    }
   },
   "source": [
    "### Assigning keywords and indices to unlabelled data.\n",
    "Sometimes your data doesn't have column or row names.\n",
    "\n",
    "`pandas` will try to create them.\n",
    "\n",
    "`sample_data/noHeader_noIndex.csv` contains the data:\n",
    "\n",
    "```Python\n",
    "65.056,  1.053,  2.105,  3.158,  4.211\n",
    "74.452, 48.348, 68.733, 59.796, 54.123\n",
    "```\n"
   ]
  },
  {
   "cell_type": "code",
   "execution_count": 30,
   "metadata": {
    "slideshow": {
     "slide_type": "subslide"
    }
   },
   "outputs": [
    {
     "data": {
      "text/html": [
       "<div>\n",
       "<style>\n",
       "    .dataframe thead tr:only-child th {\n",
       "        text-align: right;\n",
       "    }\n",
       "\n",
       "    .dataframe thead th {\n",
       "        text-align: left;\n",
       "    }\n",
       "\n",
       "    .dataframe tbody tr th {\n",
       "        vertical-align: top;\n",
       "    }\n",
       "</style>\n",
       "<table border=\"1\" class=\"dataframe\">\n",
       "  <thead>\n",
       "    <tr style=\"text-align: right;\">\n",
       "      <th></th>\n",
       "      <th>1.053</th>\n",
       "      <th>2.105</th>\n",
       "      <th>3.158</th>\n",
       "      <th>4.211</th>\n",
       "      <th>6.056</th>\n",
       "    </tr>\n",
       "  </thead>\n",
       "  <tbody>\n",
       "    <tr>\n",
       "      <th>0</th>\n",
       "      <td>48.348</td>\n",
       "      <td>68.733</td>\n",
       "      <td>59.796</td>\n",
       "      <td>54.123</td>\n",
       "      <td>74.452</td>\n",
       "    </tr>\n",
       "  </tbody>\n",
       "</table>\n",
       "</div>"
      ],
      "text/plain": [
       "    1.053   2.105   3.158   4.211   6.056\n",
       "0  48.348  68.733  59.796  54.123  74.452"
      ]
     },
     "metadata": {},
     "output_type": "display_data"
    }
   ],
   "source": [
    "unlabelled = read_csv('sample_data/noHeader_noIndex.csv')\n",
    "\n",
    "display(unlabelled)"
   ]
  },
  {
   "cell_type": "code",
   "execution_count": 31,
   "metadata": {
    "slideshow": {
     "slide_type": "subslide"
    }
   },
   "outputs": [
    {
     "name": "stdout",
     "output_type": "stream",
     "text": [
      "Index(['1.053', '2.105', '3.158', '4.211', ' 6.056'], dtype='object')\n"
     ]
    }
   ],
   "source": [
    "print(unlabelled.keys())"
   ]
  },
  {
   "cell_type": "markdown",
   "metadata": {
    "slideshow": {
     "slide_type": "subslide"
    }
   },
   "source": [
    "Therefore, if there are no headers, in the imported file, they should either be omitted..."
   ]
  },
  {
   "cell_type": "code",
   "execution_count": 32,
   "metadata": {},
   "outputs": [
    {
     "data": {
      "text/html": [
       "<div>\n",
       "<style>\n",
       "    .dataframe thead tr:only-child th {\n",
       "        text-align: right;\n",
       "    }\n",
       "\n",
       "    .dataframe thead th {\n",
       "        text-align: left;\n",
       "    }\n",
       "\n",
       "    .dataframe tbody tr th {\n",
       "        vertical-align: top;\n",
       "    }\n",
       "</style>\n",
       "<table border=\"1\" class=\"dataframe\">\n",
       "  <thead>\n",
       "    <tr style=\"text-align: right;\">\n",
       "      <th></th>\n",
       "      <th>0</th>\n",
       "      <th>1</th>\n",
       "      <th>2</th>\n",
       "      <th>3</th>\n",
       "      <th>4</th>\n",
       "    </tr>\n",
       "  </thead>\n",
       "  <tbody>\n",
       "    <tr>\n",
       "      <th>0</th>\n",
       "      <td>1.053</td>\n",
       "      <td>2.105</td>\n",
       "      <td>3.158</td>\n",
       "      <td>4.211</td>\n",
       "      <td>6.056</td>\n",
       "    </tr>\n",
       "    <tr>\n",
       "      <th>1</th>\n",
       "      <td>48.348</td>\n",
       "      <td>68.733</td>\n",
       "      <td>59.796</td>\n",
       "      <td>54.123</td>\n",
       "      <td>74.452</td>\n",
       "    </tr>\n",
       "  </tbody>\n",
       "</table>\n",
       "</div>"
      ],
      "text/plain": [
       "        0       1       2       3       4\n",
       "0   1.053   2.105   3.158   4.211   6.056\n",
       "1  48.348  68.733  59.796  54.123  74.452"
      ]
     },
     "metadata": {},
     "output_type": "display_data"
    }
   ],
   "source": [
    "unlabelled = read_csv('sample_data/noHeader_noIndex.csv', header=None)\n",
    "\n",
    "display(unlabelled)"
   ]
  },
  {
   "cell_type": "markdown",
   "metadata": {
    "slideshow": {
     "slide_type": "subslide"
    }
   },
   "source": [
    "... or assigned by the user:"
   ]
  },
  {
   "cell_type": "code",
   "execution_count": 33,
   "metadata": {},
   "outputs": [
    {
     "data": {
      "text/html": [
       "<div>\n",
       "<style>\n",
       "    .dataframe thead tr:only-child th {\n",
       "        text-align: right;\n",
       "    }\n",
       "\n",
       "    .dataframe thead th {\n",
       "        text-align: left;\n",
       "    }\n",
       "\n",
       "    .dataframe tbody tr th {\n",
       "        vertical-align: top;\n",
       "    }\n",
       "</style>\n",
       "<table border=\"1\" class=\"dataframe\">\n",
       "  <thead>\n",
       "    <tr style=\"text-align: right;\">\n",
       "      <th></th>\n",
       "      <th>X</th>\n",
       "      <th>Y</th>\n",
       "    </tr>\n",
       "  </thead>\n",
       "  <tbody>\n",
       "    <tr>\n",
       "      <th>0</th>\n",
       "      <td>1.053</td>\n",
       "      <td>48.348</td>\n",
       "    </tr>\n",
       "    <tr>\n",
       "      <th>1</th>\n",
       "      <td>2.105</td>\n",
       "      <td>68.733</td>\n",
       "    </tr>\n",
       "    <tr>\n",
       "      <th>2</th>\n",
       "      <td>3.158</td>\n",
       "      <td>59.796</td>\n",
       "    </tr>\n",
       "    <tr>\n",
       "      <th>3</th>\n",
       "      <td>4.211</td>\n",
       "      <td>54.123</td>\n",
       "    </tr>\n",
       "    <tr>\n",
       "      <th>4</th>\n",
       "      <td>6.056</td>\n",
       "      <td>74.452</td>\n",
       "    </tr>\n",
       "  </tbody>\n",
       "</table>\n",
       "</div>"
      ],
      "text/plain": [
       "       X       Y\n",
       "0  1.053  48.348\n",
       "1  2.105  68.733\n",
       "2  3.158  59.796\n",
       "3  4.211  54.123\n",
       "4  6.056  74.452"
      ]
     },
     "metadata": {},
     "output_type": "display_data"
    }
   ],
   "source": [
    "headers = [\"X\",\"Y\"]\n",
    "\n",
    "unlabelled_vert = read_csv('sample_data/noHeader_noIndex_vert.csv', names=headers)\n",
    "\n",
    "display(unlabelled_vert)"
   ]
  },
  {
   "cell_type": "markdown",
   "metadata": {
    "slideshow": {
     "slide_type": "subslide"
    }
   },
   "source": [
    "Note, this can also be used to replace the column names on import."
   ]
  },
  {
   "cell_type": "markdown",
   "metadata": {
    "slideshow": {
     "slide_type": "subslide"
    }
   },
   "source": [
    "When the DataFrame is large, you can still print it to the screen; a fraction of a the data set will be shown.\n",
    "\n"
   ]
  },
  {
   "cell_type": "code",
   "execution_count": 34,
   "metadata": {
    "collapsed": true
   },
   "outputs": [],
   "source": [
    "from pandas import read_csv\n",
    "\n",
    "large_set = read_csv('sample_data/country_codes.csv')"
   ]
  },
  {
   "cell_type": "code",
   "execution_count": 35,
   "metadata": {
    "slideshow": {
     "slide_type": "subslide"
    }
   },
   "outputs": [
    {
     "name": "stdout",
     "output_type": "stream",
     "text": [
      "                                      official_name_ar official_name_cn  \\\n",
      "0                                                  NaN              NaN   \n",
      "1                                            أفغانستان              阿富汗   \n",
      "2                                              ألبانيا            阿尔巴尼亚   \n",
      "3                                              الجزائر            阿尔及利亚   \n",
      "4                                      ساموا الأمريكية            美属萨摩亚   \n",
      "5                                               أندورا              安道尔   \n",
      "6                                               أنغولا              安哥拉   \n",
      "7                                               أنغيلا              安圭拉   \n",
      "8                                           أنتاركتيكا              南极洲   \n",
      "9                                      أنتيغوا وبربودا          安提瓜和巴布达   \n",
      "10                                           الأرجنتين              阿根廷   \n",
      "11                                             أرمينيا             亚美尼亚   \n",
      "12                                               أروبا              阿鲁巴   \n",
      "13                                            أستراليا             澳大利亚   \n",
      "14                                              النمسا              奥地利   \n",
      "15                                            أذربيجان             阿塞拜疆   \n",
      "16                                         جزر البهاما              巴哈马   \n",
      "17                                             البحرين               巴林   \n",
      "18                                            بنغلاديش             孟加拉国   \n",
      "19                                             بربادوس             巴巴多斯   \n",
      "20                                             بيلاروس             白俄罗斯   \n",
      "21                                              بلجيكا              比利时   \n",
      "22                                                بليز              伯利兹   \n",
      "23                                                 بنن               贝宁   \n",
      "24                                              برمودا              百慕大   \n",
      "25                                               بوتان               不丹   \n",
      "26                  بوليفيا (دولة - المتعددة القوميات)       玻利维亚(多民族国)   \n",
      "27                          بونير وسان يوستاتيوس وسابا    博纳尔,圣俄斯塔休斯和萨巴   \n",
      "28                                     البوسنة والهرسك       波斯尼亚和黑塞哥维那   \n",
      "29                                            بوتسوانا             博茨瓦纳   \n",
      "..                                                 ...              ...   \n",
      "220                جمهورية مقدونيا اليوغوسلافية سابقاً     前南斯拉夫的马其顿共和国   \n",
      "221                                       تيمور- ليشتي              东帝汶   \n",
      "222                                               توغو               多哥   \n",
      "223                                            توكيلاو              托克劳   \n",
      "224                                              تونغا               汤加   \n",
      "225                                   ترينيداد وتوباغو         特立尼达和多巴哥   \n",
      "226                                               تونس              突尼斯   \n",
      "227                                              تركيا              土耳其   \n",
      "228                                         تركمانستان            土库曼斯坦   \n",
      "229                                   جزر تركس وكايكوس        特克斯和凯科斯群岛   \n",
      "230                                             توفالو              图瓦卢   \n",
      "231                                             أوغندا              乌干达   \n",
      "232                                           أوكرانيا              乌克兰   \n",
      "233                           الإمارات العربية المتحدة         阿拉伯联合酋长国   \n",
      "234  المملكة المتحدة لبريطانيا العظمى وآيرلندا الشم...    大不列颠及北爱尔兰联合王国   \n",
      "235                            جمهورية تنزانيا المتحدة        坦桑尼亚联合共和国   \n",
      "236                     نائية التابعة للولايات المتحدة         美国本土外小岛屿   \n",
      "237                  جزر فرجن التابعة للولايات المتحدة          美属维尔京群岛   \n",
      "238                         الولايات المتحدة الأمريكية           美利坚合众国   \n",
      "239                                           أوروغواي              乌拉圭   \n",
      "240                                          أوزبكستان           乌兹别克斯坦   \n",
      "241                                            فانواتو             瓦努阿图   \n",
      "242                    فنزويلا (جمهورية - البوليفارية)    委内瑞拉(玻利瓦尔共和国)   \n",
      "243                                           فييت نام               越南   \n",
      "244                                  جزر واليس وفوتونا      瓦利斯群岛和富图纳群岛   \n",
      "245                                    الصحراء الغربية             西撒哈拉   \n",
      "246                                              اليمن               也门   \n",
      "247                                             زامبيا              赞比亚   \n",
      "248                                            زمبابوي             津巴布韦   \n",
      "249                                          جزر ألاند             奥兰群岛   \n",
      "\n",
      "                                      official_name_en  \\\n",
      "0                                                  NaN   \n",
      "1                                          Afghanistan   \n",
      "2                                              Albania   \n",
      "3                                              Algeria   \n",
      "4                                       American Samoa   \n",
      "5                                              Andorra   \n",
      "6                                               Angola   \n",
      "7                                             Anguilla   \n",
      "8                                           Antarctica   \n",
      "9                                  Antigua and Barbuda   \n",
      "10                                           Argentina   \n",
      "11                                             Armenia   \n",
      "12                                               Aruba   \n",
      "13                                           Australia   \n",
      "14                                             Austria   \n",
      "15                                          Azerbaijan   \n",
      "16                                             Bahamas   \n",
      "17                                             Bahrain   \n",
      "18                                          Bangladesh   \n",
      "19                                            Barbados   \n",
      "20                                             Belarus   \n",
      "21                                             Belgium   \n",
      "22                                              Belize   \n",
      "23                                               Benin   \n",
      "24                                             Bermuda   \n",
      "25                                              Bhutan   \n",
      "26                    Bolivia (Plurinational State of)   \n",
      "27                    Bonaire, Sint Eustatius and Saba   \n",
      "28                              Bosnia and Herzegovina   \n",
      "29                                            Botswana   \n",
      "..                                                 ...   \n",
      "220          The former Yugoslav Republic of Macedonia   \n",
      "221                                        Timor-Leste   \n",
      "222                                               Togo   \n",
      "223                                            Tokelau   \n",
      "224                                              Tonga   \n",
      "225                                Trinidad and Tobago   \n",
      "226                                            Tunisia   \n",
      "227                                             Turkey   \n",
      "228                                       Turkmenistan   \n",
      "229                           Turks and Caicos Islands   \n",
      "230                                             Tuvalu   \n",
      "231                                             Uganda   \n",
      "232                                            Ukraine   \n",
      "233                               United Arab Emirates   \n",
      "234  United Kingdom of Great Britain and Northern I...   \n",
      "235                        United Republic of Tanzania   \n",
      "236               United States Minor Outlying Islands   \n",
      "237                       United States Virgin Islands   \n",
      "238                           United States of America   \n",
      "239                                            Uruguay   \n",
      "240                                         Uzbekistan   \n",
      "241                                            Vanuatu   \n",
      "242                 Venezuela (Bolivarian Republic of)   \n",
      "243                                           Viet Nam   \n",
      "244                          Wallis and Futuna Islands   \n",
      "245                                     Western Sahara   \n",
      "246                                              Yemen   \n",
      "247                                             Zambia   \n",
      "248                                           Zimbabwe   \n",
      "249                                      Åland Islands   \n",
      "\n",
      "                                    official_name_es  \\\n",
      "0                                                NaN   \n",
      "1                                         Afganistán   \n",
      "2                                            Albania   \n",
      "3                                            Argelia   \n",
      "4                                    Samoa Americana   \n",
      "5                                            Andorra   \n",
      "6                                             Angola   \n",
      "7                                            Anguila   \n",
      "8                                          Antártida   \n",
      "9                                  Antigua y Barbuda   \n",
      "10                                         Argentina   \n",
      "11                                           Armenia   \n",
      "12                                             Aruba   \n",
      "13                                         Australia   \n",
      "14                                           Austria   \n",
      "15                                        Azerbaiyán   \n",
      "16                                           Bahamas   \n",
      "17                                           Bahrein   \n",
      "18                                        Bangladesh   \n",
      "19                                          Barbados   \n",
      "20                                           Belarús   \n",
      "21                                           Bélgica   \n",
      "22                                            Belice   \n",
      "23                                             Benin   \n",
      "24                                           Bermuda   \n",
      "25                                            Bhután   \n",
      "26                 Bolivia (Estado Plurinacional de)   \n",
      "27                     Bonaire, San Eustaquio y Saba   \n",
      "28                              Bosnia y Herzegovina   \n",
      "29                                          Botswana   \n",
      "..                                               ...   \n",
      "220              ex República Yugoslava de Macedonia   \n",
      "221                                      Timor-Leste   \n",
      "222                                             Togo   \n",
      "223                                          Tokelau   \n",
      "224                                            Tonga   \n",
      "225                                Trinidad y Tabago   \n",
      "226                                            Túnez   \n",
      "227                                          Turquía   \n",
      "228                                     Turkmenistán   \n",
      "229                            Islas Turcas y Caicos   \n",
      "230                                           Tuvalu   \n",
      "231                                           Uganda   \n",
      "232                                          Ucrania   \n",
      "233                           Emiratos Árabes Unidos   \n",
      "234  Reino Unido de Gran Bretaña e Irlanda del Norte   \n",
      "235                      República Unida de Tanzanía   \n",
      "236         Islas menores alejadas de Estados Unidos   \n",
      "237             Islas Vírgenes de los Estados Unidos   \n",
      "238                        Estados Unidos de América   \n",
      "239                                          Uruguay   \n",
      "240                                       Uzbekistán   \n",
      "241                                          Vanuatu   \n",
      "242             Venezuela (República Bolivariana de)   \n",
      "243                                         Viet Nam   \n",
      "244                            Islas Wallis y Futuna   \n",
      "245                                Sáhara Occidental   \n",
      "246                                            Yemen   \n",
      "247                                           Zambia   \n",
      "248                                         Zimbabwe   \n",
      "249                                      Islas Åland   \n",
      "\n",
      "                                      official_name_fr  \\\n",
      "0                                                  NaN   \n",
      "1                                          Afghanistan   \n",
      "2                                              Albanie   \n",
      "3                                              Algérie   \n",
      "4                                    Samoa américaines   \n",
      "5                                              Andorre   \n",
      "6                                               Angola   \n",
      "7                                             Anguilla   \n",
      "8                                          Antarctique   \n",
      "9                                   Antigua-et-Barbuda   \n",
      "10                                           Argentine   \n",
      "11                                             Arménie   \n",
      "12                                               Aruba   \n",
      "13                                           Australie   \n",
      "14                                            Autriche   \n",
      "15                                         Azerbaïdjan   \n",
      "16                                             Bahamas   \n",
      "17                                             Bahreïn   \n",
      "18                                          Bangladesh   \n",
      "19                                             Barbade   \n",
      "20                                             Bélarus   \n",
      "21                                            Belgique   \n",
      "22                                              Belize   \n",
      "23                                               Bénin   \n",
      "24                                            Bermudes   \n",
      "25                                             Bhoutan   \n",
      "26                     Bolivie (État plurinational de)   \n",
      "27                     Bonaire, Saint-Eustache et Saba   \n",
      "28                                  Bosnie-Herzégovine   \n",
      "29                                            Botswana   \n",
      "..                                                 ...   \n",
      "220              ex-République yougoslave de Macédoine   \n",
      "221                                        Timor-Leste   \n",
      "222                                               Togo   \n",
      "223                                           Tokélaou   \n",
      "224                                              Tonga   \n",
      "225                                  Trinité-et-Tobago   \n",
      "226                                            Tunisie   \n",
      "227                                            Turquie   \n",
      "228                                       Turkménistan   \n",
      "229                            Îles Turques-et-Caïques   \n",
      "230                                             Tuvalu   \n",
      "231                                            Ouganda   \n",
      "232                                            Ukraine   \n",
      "233                                Émirats arabes unis   \n",
      "234  Royaume-Uni de Grande-Bretagne et d'Irlande du...   \n",
      "235                        République-Unie de Tanzanie   \n",
      "236             Îles mineures éloignées des États-Unis   \n",
      "237                           Îles Vierges américaines   \n",
      "238                              États-Unis d'Amérique   \n",
      "239                                            Uruguay   \n",
      "240                                        Ouzbékistan   \n",
      "241                                            Vanuatu   \n",
      "242             Venezuela (République bolivarienne du)   \n",
      "243                                           Viet Nam   \n",
      "244                              Îles Wallis-et-Futuna   \n",
      "245                                  Sahara occidental   \n",
      "246                                              Yémen   \n",
      "247                                             Zambie   \n",
      "248                                           Zimbabwe   \n",
      "249                                       Îles d'Åland   \n",
      "\n",
      "                                      official_name_ru ISO3166-1-Alpha-2  \\\n",
      "0                                                  NaN                TW   \n",
      "1                                           Афганистан                AF   \n",
      "2                                              Албания                AL   \n",
      "3                                                Алжир                DZ   \n",
      "4                                   Американское Самоа                AS   \n",
      "5                                              Андорра                AD   \n",
      "6                                               Ангола                AO   \n",
      "7                                              Ангилья                AI   \n",
      "8                                           Антарктике                AQ   \n",
      "9                                    Антигуа и Барбуда                AG   \n",
      "10                                           Аргентина                AR   \n",
      "11                                             Армения                AM   \n",
      "12                                               Аруба                AW   \n",
      "13                                           Австралия                AU   \n",
      "14                                             Австрия                AT   \n",
      "15                                         Азербайджан                AZ   \n",
      "16                                   Багамские Острова                BS   \n",
      "17                                             Бахрейн                BH   \n",
      "18                                           Бангладеш                BD   \n",
      "19                                            Барбадос                BB   \n",
      "20                                            Беларусь                BY   \n",
      "21                                             Бельгия                BE   \n",
      "22                                               Белиз                BZ   \n",
      "23                                               Бенин                BJ   \n",
      "24                                  Бермудские острова                BM   \n",
      "25                                               Бутан                BT   \n",
      "26             Боливия (Многонациональное Государство)                BO   \n",
      "27                       Бонайре, Саба и Синт-Эстатиус                BQ   \n",
      "28                                Босния и Герцеговина                BA   \n",
      "29                                            Ботсвана                BW   \n",
      "..                                                 ...               ...   \n",
      "220            бывшая югославская Республика Македония                MK   \n",
      "221                                        Тимор-Лешти                TL   \n",
      "222                                               Того                TG   \n",
      "223                                            Токелау                TK   \n",
      "224                                              Тонга                TO   \n",
      "225                                  Тринидад и Тобаго                TT   \n",
      "226                                              Тунис                TN   \n",
      "227                                             Турция                TR   \n",
      "228                                       Туркменистан                TM   \n",
      "229                             Острова Тёркс и Кайкос                TC   \n",
      "230                                             Тувалу                TV   \n",
      "231                                             Уганда                UG   \n",
      "232                                            Украина                UA   \n",
      "233                      Объединенные Арабские Эмираты                AE   \n",
      "234  Соединенное Королевство Великобритании и Север...                GB   \n",
      "235                   Объединенная Республика Танзания                TZ   \n",
      "236           Внешние малые острова Coeдинeнныx Штaтoв                UM   \n",
      "237              Виргинские oстрова Coeдинeнныx Штaтoв                VI   \n",
      "238                          Соединенные Штаты Америки                US   \n",
      "239                                            Уругвай                UY   \n",
      "240                                         Узбекистан                UZ   \n",
      "241                                            Вануату                VU   \n",
      "242              Венесуэла (Боливарианская Республика)                VE   \n",
      "243                                            Вьетнам                VN   \n",
      "244                            Острова Уоллис и Футуна                WF   \n",
      "245                                    Западная Сахара                EH   \n",
      "246                                              Йемен                YE   \n",
      "247                                             Замбия                ZM   \n",
      "248                                           Зимбабве                ZW   \n",
      "249                                  Аландские острова                AX   \n",
      "\n",
      "    ISO3166-1-Alpha-3  ISO3166-1-numeric ISO4217-currency_alphabetic_code  \\\n",
      "0                 TWN              158.0                              NaN   \n",
      "1                 AFG                4.0                              AFN   \n",
      "2                 ALB                8.0                              ALL   \n",
      "3                 DZA               12.0                              DZD   \n",
      "4                 ASM               16.0                              USD   \n",
      "5                 AND               20.0                              EUR   \n",
      "6                 AGO               24.0                              AOA   \n",
      "7                 AIA              660.0                              XCD   \n",
      "8                 ATA               10.0                              NaN   \n",
      "9                 ATG               28.0                              XCD   \n",
      "10                ARG               32.0                              ARS   \n",
      "11                ARM               51.0                              AMD   \n",
      "12                ABW              533.0                              AWG   \n",
      "13                AUS               36.0                              AUD   \n",
      "14                AUT               40.0                              EUR   \n",
      "15                AZE               31.0                              AZN   \n",
      "16                BHS               44.0                              BSD   \n",
      "17                BHR               48.0                              BHD   \n",
      "18                BGD               50.0                              BDT   \n",
      "19                BRB               52.0                              BBD   \n",
      "20                BLR              112.0                              BYN   \n",
      "21                BEL               56.0                              EUR   \n",
      "22                BLZ               84.0                              BZD   \n",
      "23                BEN              204.0                              XOF   \n",
      "24                BMU               60.0                              BMD   \n",
      "25                BTN               64.0                          INR,BTN   \n",
      "26                BOL               68.0                              BOB   \n",
      "27                BES              535.0                              USD   \n",
      "28                BIH               70.0                              BAM   \n",
      "29                BWA               72.0                              BWP   \n",
      "..                ...                ...                              ...   \n",
      "220               MKD              807.0                              MKD   \n",
      "221               TLS              626.0                              USD   \n",
      "222               TGO              768.0                              XOF   \n",
      "223               TKL              772.0                              NZD   \n",
      "224               TON              776.0                              TOP   \n",
      "225               TTO              780.0                              TTD   \n",
      "226               TUN              788.0                              TND   \n",
      "227               TUR              792.0                              TRY   \n",
      "228               TKM              795.0                              TMT   \n",
      "229               TCA              796.0                              USD   \n",
      "230               TUV              798.0                              AUD   \n",
      "231               UGA              800.0                              UGX   \n",
      "232               UKR              804.0                              UAH   \n",
      "233               ARE              784.0                              AED   \n",
      "234               GBR              826.0                              GBP   \n",
      "235               TZA              834.0                              TZS   \n",
      "236               UMI              581.0                              USD   \n",
      "237               VIR              850.0                              USD   \n",
      "238               USA              840.0                              USD   \n",
      "239               URY              858.0                              UYU   \n",
      "240               UZB              860.0                              UZS   \n",
      "241               VUT              548.0                              VUV   \n",
      "242               VEN              862.0                              VEF   \n",
      "243               VNM              704.0                              VND   \n",
      "244               WLF              876.0                              XPF   \n",
      "245               ESH              732.0                              MAD   \n",
      "246               YEM              887.0                              YER   \n",
      "247               ZMB              894.0                              ZMW   \n",
      "248               ZWE              716.0                              ZWL   \n",
      "249               ALA              248.0                              EUR   \n",
      "\n",
      "           ...         Least Developed Countries (LDC)            MARC  \\\n",
      "0          ...                                     NaN              ch   \n",
      "1          ...                                       x              af   \n",
      "2          ...                                     NaN              aa   \n",
      "3          ...                                     NaN              ae   \n",
      "4          ...                                     NaN              as   \n",
      "5          ...                                     NaN              an   \n",
      "6          ...                                       x              ao   \n",
      "7          ...                                     NaN              am   \n",
      "8          ...                                     NaN              ay   \n",
      "9          ...                                     NaN              aq   \n",
      "10         ...                                     NaN              ag   \n",
      "11         ...                                     NaN              ai   \n",
      "12         ...                                     NaN              aw   \n",
      "13         ...                                     NaN              at   \n",
      "14         ...                                     NaN              au   \n",
      "15         ...                                     NaN              aj   \n",
      "16         ...                                     NaN              bf   \n",
      "17         ...                                     NaN              ba   \n",
      "18         ...                                       x              bg   \n",
      "19         ...                                     NaN              bb   \n",
      "20         ...                                     NaN              bw   \n",
      "21         ...                                     NaN              be   \n",
      "22         ...                                     NaN              bh   \n",
      "23         ...                                       x              dm   \n",
      "24         ...                                     NaN              bm   \n",
      "25         ...                                       x              bt   \n",
      "26         ...                                     NaN              bo   \n",
      "27         ...                                     NaN              ca   \n",
      "28         ...                                     NaN              bn   \n",
      "29         ...                                     NaN              bs   \n",
      "..         ...                                     ...             ...   \n",
      "220        ...                                     NaN              xn   \n",
      "221        ...                                       x              em   \n",
      "222        ...                                       x              tg   \n",
      "223        ...                                     NaN              tl   \n",
      "224        ...                                     NaN              to   \n",
      "225        ...                                     NaN              tr   \n",
      "226        ...                                     NaN              ti   \n",
      "227        ...                                     NaN              tu   \n",
      "228        ...                                     NaN              tk   \n",
      "229        ...                                     NaN              tc   \n",
      "230        ...                                       x              tv   \n",
      "231        ...                                       x              ug   \n",
      "232        ...                                     NaN              un   \n",
      "233        ...                                     NaN              ts   \n",
      "234        ...                                     NaN             xxk   \n",
      "235        ...                                       x              tz   \n",
      "236        ...                                     NaN  ji,xf,wk,uc,up   \n",
      "237        ...                                     NaN              vi   \n",
      "238        ...                                     NaN             xxu   \n",
      "239        ...                                     NaN              uy   \n",
      "240        ...                                     NaN              uz   \n",
      "241        ...                                       x              nn   \n",
      "242        ...                                     NaN              ve   \n",
      "243        ...                                     NaN              vm   \n",
      "244        ...                                     NaN              wf   \n",
      "245        ...                                     NaN              ss   \n",
      "246        ...                                       x              ye   \n",
      "247        ...                                       x              za   \n",
      "248        ...                                     NaN              rh   \n",
      "249        ...                                     NaN                   \n",
      "\n",
      "    Region Code Region Name  Small Island Developing States (SIDS)  \\\n",
      "0           NaN         NaN                                    NaN   \n",
      "1         142.0        Asia                                    NaN   \n",
      "2         150.0      Europe                                    NaN   \n",
      "3           2.0      Africa                                    NaN   \n",
      "4           9.0     Oceania                                      x   \n",
      "5         150.0      Europe                                    NaN   \n",
      "6           2.0      Africa                                    NaN   \n",
      "7          19.0    Americas                                      x   \n",
      "8           NaN         NaN                                    NaN   \n",
      "9          19.0    Americas                                      x   \n",
      "10         19.0    Americas                                    NaN   \n",
      "11        142.0        Asia                                    NaN   \n",
      "12         19.0    Americas                                      x   \n",
      "13          9.0     Oceania                                    NaN   \n",
      "14        150.0      Europe                                    NaN   \n",
      "15        142.0        Asia                                    NaN   \n",
      "16         19.0    Americas                                      x   \n",
      "17        142.0        Asia                                    NaN   \n",
      "18        142.0        Asia                                    NaN   \n",
      "19         19.0    Americas                                      x   \n",
      "20        150.0      Europe                                    NaN   \n",
      "21        150.0      Europe                                    NaN   \n",
      "22         19.0    Americas                                      x   \n",
      "23          2.0      Africa                                    NaN   \n",
      "24         19.0    Americas                                    NaN   \n",
      "25        142.0        Asia                                    NaN   \n",
      "26         19.0    Americas                                    NaN   \n",
      "27         19.0    Americas                                      x   \n",
      "28        150.0      Europe                                    NaN   \n",
      "29          2.0      Africa                                    NaN   \n",
      "..          ...         ...                                    ...   \n",
      "220       150.0      Europe                                    NaN   \n",
      "221       142.0        Asia                                      x   \n",
      "222         2.0      Africa                                    NaN   \n",
      "223         9.0     Oceania                                    NaN   \n",
      "224         9.0     Oceania                                      x   \n",
      "225        19.0    Americas                                      x   \n",
      "226         2.0      Africa                                    NaN   \n",
      "227       142.0        Asia                                    NaN   \n",
      "228       142.0        Asia                                    NaN   \n",
      "229        19.0    Americas                                    NaN   \n",
      "230         9.0     Oceania                                      x   \n",
      "231         2.0      Africa                                    NaN   \n",
      "232       150.0      Europe                                    NaN   \n",
      "233       142.0        Asia                                    NaN   \n",
      "234       150.0      Europe                                    NaN   \n",
      "235         2.0      Africa                                    NaN   \n",
      "236         9.0     Oceania                                    NaN   \n",
      "237        19.0    Americas                                      x   \n",
      "238        19.0    Americas                                    NaN   \n",
      "239        19.0    Americas                                    NaN   \n",
      "240       142.0        Asia                                    NaN   \n",
      "241         9.0     Oceania                                      x   \n",
      "242        19.0    Americas                                    NaN   \n",
      "243       142.0        Asia                                    NaN   \n",
      "244         9.0     Oceania                                    NaN   \n",
      "245         2.0      Africa                                    NaN   \n",
      "246       142.0        Asia                                    NaN   \n",
      "247         2.0      Africa                                    NaN   \n",
      "248         2.0      Africa                                    NaN   \n",
      "249       150.0      Europe                                    NaN   \n",
      "\n",
      "    Sub-region Code                  Sub-region Name  TLD WMO  \\\n",
      "0               NaN                              NaN  .tw       \n",
      "1              34.0                    Southern Asia  .af  AF   \n",
      "2              39.0                  Southern Europe  .al  AB   \n",
      "3              15.0                  Northern Africa  .dz  AL   \n",
      "4              61.0                        Polynesia  .as       \n",
      "5              39.0                  Southern Europe  .ad       \n",
      "6             202.0               Sub-Saharan Africa  .ao  AN   \n",
      "7             419.0  Latin America and the Caribbean  .ai       \n",
      "8               NaN                              NaN  .aq  AA   \n",
      "9             419.0  Latin America and the Caribbean  .ag  AT   \n",
      "10            419.0  Latin America and the Caribbean  .ar  AG   \n",
      "11            145.0                     Western Asia  .am  AY   \n",
      "12            419.0  Latin America and the Caribbean  .aw  NU   \n",
      "13             53.0        Australia and New Zealand  .au  AU   \n",
      "14            155.0                   Western Europe  .at  OS   \n",
      "15            145.0                     Western Asia  .az  AJ   \n",
      "16            419.0  Latin America and the Caribbean  .bs  BA   \n",
      "17            145.0                     Western Asia  .bh  BN   \n",
      "18             34.0                    Southern Asia  .bd  BW   \n",
      "19            419.0  Latin America and the Caribbean  .bb  BR   \n",
      "20            151.0                   Eastern Europe  .by  BY   \n",
      "21            155.0                   Western Europe  .be  BX   \n",
      "22            419.0  Latin America and the Caribbean  .bz  BH   \n",
      "23            202.0               Sub-Saharan Africa  .bj  BJ   \n",
      "24             21.0                 Northern America  .bm  BE   \n",
      "25             34.0                    Southern Asia  .bt       \n",
      "26            419.0  Latin America and the Caribbean  .bo  BO   \n",
      "27            419.0  Latin America and the Caribbean  .bq  NU   \n",
      "28             39.0                  Southern Europe  .ba  BG   \n",
      "29            202.0               Sub-Saharan Africa  .bw  BC   \n",
      "..              ...                              ...  ...  ..   \n",
      "220            39.0                  Southern Europe  .mk  MJ   \n",
      "221            35.0               South-eastern Asia  .tl  TM   \n",
      "222           202.0               Sub-Saharan Africa  .tg  TG   \n",
      "223            61.0                        Polynesia  .tk  TK   \n",
      "224            61.0                        Polynesia  .to  TO   \n",
      "225           419.0  Latin America and the Caribbean  .tt  TD   \n",
      "226            15.0                  Northern Africa  .tn  TS   \n",
      "227           145.0                     Western Asia  .tr  TU   \n",
      "228           143.0                     Central Asia  .tm  TR   \n",
      "229           419.0  Latin America and the Caribbean  .tc  TI   \n",
      "230            61.0                        Polynesia  .tv  TV   \n",
      "231           202.0               Sub-Saharan Africa  .ug  UG   \n",
      "232           151.0                   Eastern Europe  .ua  UR   \n",
      "233           145.0                     Western Asia  .ae  ER   \n",
      "234           154.0                  Northern Europe  .uk  UK   \n",
      "235           202.0               Sub-Saharan Africa  .tz  TN   \n",
      "236            57.0                       Micronesia  .um       \n",
      "237           419.0  Latin America and the Caribbean  .vi  VI   \n",
      "238            21.0                 Northern America  .us  US   \n",
      "239           419.0  Latin America and the Caribbean  .uy  UY   \n",
      "240           143.0                     Central Asia  .uz  UZ   \n",
      "241            54.0                        Melanesia  .vu  NV   \n",
      "242           419.0  Latin America and the Caribbean  .ve  VN   \n",
      "243            35.0               South-eastern Asia  .vn  VS   \n",
      "244            61.0                        Polynesia  .wf  FW   \n",
      "245            15.0                  Northern Africa  .eh       \n",
      "246           145.0                     Western Asia  .ye  YE   \n",
      "247           202.0               Sub-Saharan Africa  .zm  ZB   \n",
      "248           202.0               Sub-Saharan Africa  .zw  ZW   \n",
      "249           154.0                  Northern Europe  .ax       \n",
      "\n",
      "        is_independent  \n",
      "0                  Yes  \n",
      "1                  Yes  \n",
      "2                  Yes  \n",
      "3                  Yes  \n",
      "4      Territory of US  \n",
      "5                  Yes  \n",
      "6                  Yes  \n",
      "7      Territory of GB  \n",
      "8        International  \n",
      "9                  Yes  \n",
      "10                 Yes  \n",
      "11                 Yes  \n",
      "12          Part of NL  \n",
      "13                 Yes  \n",
      "14                 Yes  \n",
      "15                 Yes  \n",
      "16                 Yes  \n",
      "17                 Yes  \n",
      "18                 Yes  \n",
      "19                 Yes  \n",
      "20                 Yes  \n",
      "21                 Yes  \n",
      "22                 Yes  \n",
      "23                 Yes  \n",
      "24     Territory of GB  \n",
      "25                 Yes  \n",
      "26                 Yes  \n",
      "27          Part of NL  \n",
      "28                 Yes  \n",
      "29                 Yes  \n",
      "..                 ...  \n",
      "220                Yes  \n",
      "221                Yes  \n",
      "222                Yes  \n",
      "223    Territory of NZ  \n",
      "224                Yes  \n",
      "225                Yes  \n",
      "226                Yes  \n",
      "227                Yes  \n",
      "228                Yes  \n",
      "229    Territory of GB  \n",
      "230                Yes  \n",
      "231                Yes  \n",
      "232                Yes  \n",
      "233                Yes  \n",
      "234                Yes  \n",
      "235                Yes  \n",
      "236  Territories of US  \n",
      "237    Territory of US  \n",
      "238                Yes  \n",
      "239                Yes  \n",
      "240                Yes  \n",
      "241                Yes  \n",
      "242                Yes  \n",
      "243                Yes  \n",
      "244    Territory of FR  \n",
      "245      In contention  \n",
      "246                Yes  \n",
      "247                Yes  \n",
      "248                Yes  \n",
      "249         Part of FI  \n",
      "\n",
      "[250 rows x 56 columns]\n"
     ]
    }
   ],
   "source": [
    "print(large_set)"
   ]
  },
  {
   "cell_type": "code",
   "execution_count": 36,
   "metadata": {
    "slideshow": {
     "slide_type": "subslide"
    }
   },
   "outputs": [
    {
     "data": {
      "text/html": [
       "<div>\n",
       "<style>\n",
       "    .dataframe thead tr:only-child th {\n",
       "        text-align: right;\n",
       "    }\n",
       "\n",
       "    .dataframe thead th {\n",
       "        text-align: left;\n",
       "    }\n",
       "\n",
       "    .dataframe tbody tr th {\n",
       "        vertical-align: top;\n",
       "    }\n",
       "</style>\n",
       "<table border=\"1\" class=\"dataframe\">\n",
       "  <thead>\n",
       "    <tr style=\"text-align: right;\">\n",
       "      <th></th>\n",
       "      <th>official_name_ar</th>\n",
       "      <th>official_name_cn</th>\n",
       "      <th>official_name_en</th>\n",
       "      <th>official_name_es</th>\n",
       "      <th>official_name_fr</th>\n",
       "      <th>official_name_ru</th>\n",
       "      <th>ISO3166-1-Alpha-2</th>\n",
       "      <th>ISO3166-1-Alpha-3</th>\n",
       "      <th>ISO3166-1-numeric</th>\n",
       "      <th>ISO4217-currency_alphabetic_code</th>\n",
       "      <th>...</th>\n",
       "      <th>Least Developed Countries (LDC)</th>\n",
       "      <th>MARC</th>\n",
       "      <th>Region Code</th>\n",
       "      <th>Region Name</th>\n",
       "      <th>Small Island Developing States (SIDS)</th>\n",
       "      <th>Sub-region Code</th>\n",
       "      <th>Sub-region Name</th>\n",
       "      <th>TLD</th>\n",
       "      <th>WMO</th>\n",
       "      <th>is_independent</th>\n",
       "    </tr>\n",
       "  </thead>\n",
       "  <tbody>\n",
       "    <tr>\n",
       "      <th>0</th>\n",
       "      <td>NaN</td>\n",
       "      <td>NaN</td>\n",
       "      <td>NaN</td>\n",
       "      <td>NaN</td>\n",
       "      <td>NaN</td>\n",
       "      <td>NaN</td>\n",
       "      <td>TW</td>\n",
       "      <td>TWN</td>\n",
       "      <td>158.0</td>\n",
       "      <td>NaN</td>\n",
       "      <td>...</td>\n",
       "      <td>NaN</td>\n",
       "      <td>ch</td>\n",
       "      <td>NaN</td>\n",
       "      <td>NaN</td>\n",
       "      <td>NaN</td>\n",
       "      <td>NaN</td>\n",
       "      <td>NaN</td>\n",
       "      <td>.tw</td>\n",
       "      <td></td>\n",
       "      <td>Yes</td>\n",
       "    </tr>\n",
       "    <tr>\n",
       "      <th>1</th>\n",
       "      <td>أفغانستان</td>\n",
       "      <td>阿富汗</td>\n",
       "      <td>Afghanistan</td>\n",
       "      <td>Afganistán</td>\n",
       "      <td>Afghanistan</td>\n",
       "      <td>Афганистан</td>\n",
       "      <td>AF</td>\n",
       "      <td>AFG</td>\n",
       "      <td>4.0</td>\n",
       "      <td>AFN</td>\n",
       "      <td>...</td>\n",
       "      <td>x</td>\n",
       "      <td>af</td>\n",
       "      <td>142.0</td>\n",
       "      <td>Asia</td>\n",
       "      <td>NaN</td>\n",
       "      <td>34.0</td>\n",
       "      <td>Southern Asia</td>\n",
       "      <td>.af</td>\n",
       "      <td>AF</td>\n",
       "      <td>Yes</td>\n",
       "    </tr>\n",
       "    <tr>\n",
       "      <th>2</th>\n",
       "      <td>ألبانيا</td>\n",
       "      <td>阿尔巴尼亚</td>\n",
       "      <td>Albania</td>\n",
       "      <td>Albania</td>\n",
       "      <td>Albanie</td>\n",
       "      <td>Албания</td>\n",
       "      <td>AL</td>\n",
       "      <td>ALB</td>\n",
       "      <td>8.0</td>\n",
       "      <td>ALL</td>\n",
       "      <td>...</td>\n",
       "      <td>NaN</td>\n",
       "      <td>aa</td>\n",
       "      <td>150.0</td>\n",
       "      <td>Europe</td>\n",
       "      <td>NaN</td>\n",
       "      <td>39.0</td>\n",
       "      <td>Southern Europe</td>\n",
       "      <td>.al</td>\n",
       "      <td>AB</td>\n",
       "      <td>Yes</td>\n",
       "    </tr>\n",
       "    <tr>\n",
       "      <th>3</th>\n",
       "      <td>الجزائر</td>\n",
       "      <td>阿尔及利亚</td>\n",
       "      <td>Algeria</td>\n",
       "      <td>Argelia</td>\n",
       "      <td>Algérie</td>\n",
       "      <td>Алжир</td>\n",
       "      <td>DZ</td>\n",
       "      <td>DZA</td>\n",
       "      <td>12.0</td>\n",
       "      <td>DZD</td>\n",
       "      <td>...</td>\n",
       "      <td>NaN</td>\n",
       "      <td>ae</td>\n",
       "      <td>2.0</td>\n",
       "      <td>Africa</td>\n",
       "      <td>NaN</td>\n",
       "      <td>15.0</td>\n",
       "      <td>Northern Africa</td>\n",
       "      <td>.dz</td>\n",
       "      <td>AL</td>\n",
       "      <td>Yes</td>\n",
       "    </tr>\n",
       "    <tr>\n",
       "      <th>4</th>\n",
       "      <td>ساموا الأمريكية</td>\n",
       "      <td>美属萨摩亚</td>\n",
       "      <td>American Samoa</td>\n",
       "      <td>Samoa Americana</td>\n",
       "      <td>Samoa américaines</td>\n",
       "      <td>Американское Самоа</td>\n",
       "      <td>AS</td>\n",
       "      <td>ASM</td>\n",
       "      <td>16.0</td>\n",
       "      <td>USD</td>\n",
       "      <td>...</td>\n",
       "      <td>NaN</td>\n",
       "      <td>as</td>\n",
       "      <td>9.0</td>\n",
       "      <td>Oceania</td>\n",
       "      <td>x</td>\n",
       "      <td>61.0</td>\n",
       "      <td>Polynesia</td>\n",
       "      <td>.as</td>\n",
       "      <td></td>\n",
       "      <td>Territory of US</td>\n",
       "    </tr>\n",
       "    <tr>\n",
       "      <th>5</th>\n",
       "      <td>أندورا</td>\n",
       "      <td>安道尔</td>\n",
       "      <td>Andorra</td>\n",
       "      <td>Andorra</td>\n",
       "      <td>Andorre</td>\n",
       "      <td>Андорра</td>\n",
       "      <td>AD</td>\n",
       "      <td>AND</td>\n",
       "      <td>20.0</td>\n",
       "      <td>EUR</td>\n",
       "      <td>...</td>\n",
       "      <td>NaN</td>\n",
       "      <td>an</td>\n",
       "      <td>150.0</td>\n",
       "      <td>Europe</td>\n",
       "      <td>NaN</td>\n",
       "      <td>39.0</td>\n",
       "      <td>Southern Europe</td>\n",
       "      <td>.ad</td>\n",
       "      <td></td>\n",
       "      <td>Yes</td>\n",
       "    </tr>\n",
       "    <tr>\n",
       "      <th>6</th>\n",
       "      <td>أنغولا</td>\n",
       "      <td>安哥拉</td>\n",
       "      <td>Angola</td>\n",
       "      <td>Angola</td>\n",
       "      <td>Angola</td>\n",
       "      <td>Ангола</td>\n",
       "      <td>AO</td>\n",
       "      <td>AGO</td>\n",
       "      <td>24.0</td>\n",
       "      <td>AOA</td>\n",
       "      <td>...</td>\n",
       "      <td>x</td>\n",
       "      <td>ao</td>\n",
       "      <td>2.0</td>\n",
       "      <td>Africa</td>\n",
       "      <td>NaN</td>\n",
       "      <td>202.0</td>\n",
       "      <td>Sub-Saharan Africa</td>\n",
       "      <td>.ao</td>\n",
       "      <td>AN</td>\n",
       "      <td>Yes</td>\n",
       "    </tr>\n",
       "    <tr>\n",
       "      <th>7</th>\n",
       "      <td>أنغيلا</td>\n",
       "      <td>安圭拉</td>\n",
       "      <td>Anguilla</td>\n",
       "      <td>Anguila</td>\n",
       "      <td>Anguilla</td>\n",
       "      <td>Ангилья</td>\n",
       "      <td>AI</td>\n",
       "      <td>AIA</td>\n",
       "      <td>660.0</td>\n",
       "      <td>XCD</td>\n",
       "      <td>...</td>\n",
       "      <td>NaN</td>\n",
       "      <td>am</td>\n",
       "      <td>19.0</td>\n",
       "      <td>Americas</td>\n",
       "      <td>x</td>\n",
       "      <td>419.0</td>\n",
       "      <td>Latin America and the Caribbean</td>\n",
       "      <td>.ai</td>\n",
       "      <td></td>\n",
       "      <td>Territory of GB</td>\n",
       "    </tr>\n",
       "    <tr>\n",
       "      <th>8</th>\n",
       "      <td>أنتاركتيكا</td>\n",
       "      <td>南极洲</td>\n",
       "      <td>Antarctica</td>\n",
       "      <td>Antártida</td>\n",
       "      <td>Antarctique</td>\n",
       "      <td>Антарктике</td>\n",
       "      <td>AQ</td>\n",
       "      <td>ATA</td>\n",
       "      <td>10.0</td>\n",
       "      <td>NaN</td>\n",
       "      <td>...</td>\n",
       "      <td>NaN</td>\n",
       "      <td>ay</td>\n",
       "      <td>NaN</td>\n",
       "      <td>NaN</td>\n",
       "      <td>NaN</td>\n",
       "      <td>NaN</td>\n",
       "      <td>NaN</td>\n",
       "      <td>.aq</td>\n",
       "      <td>AA</td>\n",
       "      <td>International</td>\n",
       "    </tr>\n",
       "    <tr>\n",
       "      <th>9</th>\n",
       "      <td>أنتيغوا وبربودا</td>\n",
       "      <td>安提瓜和巴布达</td>\n",
       "      <td>Antigua and Barbuda</td>\n",
       "      <td>Antigua y Barbuda</td>\n",
       "      <td>Antigua-et-Barbuda</td>\n",
       "      <td>Антигуа и Барбуда</td>\n",
       "      <td>AG</td>\n",
       "      <td>ATG</td>\n",
       "      <td>28.0</td>\n",
       "      <td>XCD</td>\n",
       "      <td>...</td>\n",
       "      <td>NaN</td>\n",
       "      <td>aq</td>\n",
       "      <td>19.0</td>\n",
       "      <td>Americas</td>\n",
       "      <td>x</td>\n",
       "      <td>419.0</td>\n",
       "      <td>Latin America and the Caribbean</td>\n",
       "      <td>.ag</td>\n",
       "      <td>AT</td>\n",
       "      <td>Yes</td>\n",
       "    </tr>\n",
       "    <tr>\n",
       "      <th>10</th>\n",
       "      <td>الأرجنتين</td>\n",
       "      <td>阿根廷</td>\n",
       "      <td>Argentina</td>\n",
       "      <td>Argentina</td>\n",
       "      <td>Argentine</td>\n",
       "      <td>Аргентина</td>\n",
       "      <td>AR</td>\n",
       "      <td>ARG</td>\n",
       "      <td>32.0</td>\n",
       "      <td>ARS</td>\n",
       "      <td>...</td>\n",
       "      <td>NaN</td>\n",
       "      <td>ag</td>\n",
       "      <td>19.0</td>\n",
       "      <td>Americas</td>\n",
       "      <td>NaN</td>\n",
       "      <td>419.0</td>\n",
       "      <td>Latin America and the Caribbean</td>\n",
       "      <td>.ar</td>\n",
       "      <td>AG</td>\n",
       "      <td>Yes</td>\n",
       "    </tr>\n",
       "    <tr>\n",
       "      <th>11</th>\n",
       "      <td>أرمينيا</td>\n",
       "      <td>亚美尼亚</td>\n",
       "      <td>Armenia</td>\n",
       "      <td>Armenia</td>\n",
       "      <td>Arménie</td>\n",
       "      <td>Армения</td>\n",
       "      <td>AM</td>\n",
       "      <td>ARM</td>\n",
       "      <td>51.0</td>\n",
       "      <td>AMD</td>\n",
       "      <td>...</td>\n",
       "      <td>NaN</td>\n",
       "      <td>ai</td>\n",
       "      <td>142.0</td>\n",
       "      <td>Asia</td>\n",
       "      <td>NaN</td>\n",
       "      <td>145.0</td>\n",
       "      <td>Western Asia</td>\n",
       "      <td>.am</td>\n",
       "      <td>AY</td>\n",
       "      <td>Yes</td>\n",
       "    </tr>\n",
       "    <tr>\n",
       "      <th>12</th>\n",
       "      <td>أروبا</td>\n",
       "      <td>阿鲁巴</td>\n",
       "      <td>Aruba</td>\n",
       "      <td>Aruba</td>\n",
       "      <td>Aruba</td>\n",
       "      <td>Аруба</td>\n",
       "      <td>AW</td>\n",
       "      <td>ABW</td>\n",
       "      <td>533.0</td>\n",
       "      <td>AWG</td>\n",
       "      <td>...</td>\n",
       "      <td>NaN</td>\n",
       "      <td>aw</td>\n",
       "      <td>19.0</td>\n",
       "      <td>Americas</td>\n",
       "      <td>x</td>\n",
       "      <td>419.0</td>\n",
       "      <td>Latin America and the Caribbean</td>\n",
       "      <td>.aw</td>\n",
       "      <td>NU</td>\n",
       "      <td>Part of NL</td>\n",
       "    </tr>\n",
       "    <tr>\n",
       "      <th>13</th>\n",
       "      <td>أستراليا</td>\n",
       "      <td>澳大利亚</td>\n",
       "      <td>Australia</td>\n",
       "      <td>Australia</td>\n",
       "      <td>Australie</td>\n",
       "      <td>Австралия</td>\n",
       "      <td>AU</td>\n",
       "      <td>AUS</td>\n",
       "      <td>36.0</td>\n",
       "      <td>AUD</td>\n",
       "      <td>...</td>\n",
       "      <td>NaN</td>\n",
       "      <td>at</td>\n",
       "      <td>9.0</td>\n",
       "      <td>Oceania</td>\n",
       "      <td>NaN</td>\n",
       "      <td>53.0</td>\n",
       "      <td>Australia and New Zealand</td>\n",
       "      <td>.au</td>\n",
       "      <td>AU</td>\n",
       "      <td>Yes</td>\n",
       "    </tr>\n",
       "    <tr>\n",
       "      <th>14</th>\n",
       "      <td>النمسا</td>\n",
       "      <td>奥地利</td>\n",
       "      <td>Austria</td>\n",
       "      <td>Austria</td>\n",
       "      <td>Autriche</td>\n",
       "      <td>Австрия</td>\n",
       "      <td>AT</td>\n",
       "      <td>AUT</td>\n",
       "      <td>40.0</td>\n",
       "      <td>EUR</td>\n",
       "      <td>...</td>\n",
       "      <td>NaN</td>\n",
       "      <td>au</td>\n",
       "      <td>150.0</td>\n",
       "      <td>Europe</td>\n",
       "      <td>NaN</td>\n",
       "      <td>155.0</td>\n",
       "      <td>Western Europe</td>\n",
       "      <td>.at</td>\n",
       "      <td>OS</td>\n",
       "      <td>Yes</td>\n",
       "    </tr>\n",
       "    <tr>\n",
       "      <th>15</th>\n",
       "      <td>أذربيجان</td>\n",
       "      <td>阿塞拜疆</td>\n",
       "      <td>Azerbaijan</td>\n",
       "      <td>Azerbaiyán</td>\n",
       "      <td>Azerbaïdjan</td>\n",
       "      <td>Азербайджан</td>\n",
       "      <td>AZ</td>\n",
       "      <td>AZE</td>\n",
       "      <td>31.0</td>\n",
       "      <td>AZN</td>\n",
       "      <td>...</td>\n",
       "      <td>NaN</td>\n",
       "      <td>aj</td>\n",
       "      <td>142.0</td>\n",
       "      <td>Asia</td>\n",
       "      <td>NaN</td>\n",
       "      <td>145.0</td>\n",
       "      <td>Western Asia</td>\n",
       "      <td>.az</td>\n",
       "      <td>AJ</td>\n",
       "      <td>Yes</td>\n",
       "    </tr>\n",
       "    <tr>\n",
       "      <th>16</th>\n",
       "      <td>جزر البهاما</td>\n",
       "      <td>巴哈马</td>\n",
       "      <td>Bahamas</td>\n",
       "      <td>Bahamas</td>\n",
       "      <td>Bahamas</td>\n",
       "      <td>Багамские Острова</td>\n",
       "      <td>BS</td>\n",
       "      <td>BHS</td>\n",
       "      <td>44.0</td>\n",
       "      <td>BSD</td>\n",
       "      <td>...</td>\n",
       "      <td>NaN</td>\n",
       "      <td>bf</td>\n",
       "      <td>19.0</td>\n",
       "      <td>Americas</td>\n",
       "      <td>x</td>\n",
       "      <td>419.0</td>\n",
       "      <td>Latin America and the Caribbean</td>\n",
       "      <td>.bs</td>\n",
       "      <td>BA</td>\n",
       "      <td>Yes</td>\n",
       "    </tr>\n",
       "    <tr>\n",
       "      <th>17</th>\n",
       "      <td>البحرين</td>\n",
       "      <td>巴林</td>\n",
       "      <td>Bahrain</td>\n",
       "      <td>Bahrein</td>\n",
       "      <td>Bahreïn</td>\n",
       "      <td>Бахрейн</td>\n",
       "      <td>BH</td>\n",
       "      <td>BHR</td>\n",
       "      <td>48.0</td>\n",
       "      <td>BHD</td>\n",
       "      <td>...</td>\n",
       "      <td>NaN</td>\n",
       "      <td>ba</td>\n",
       "      <td>142.0</td>\n",
       "      <td>Asia</td>\n",
       "      <td>NaN</td>\n",
       "      <td>145.0</td>\n",
       "      <td>Western Asia</td>\n",
       "      <td>.bh</td>\n",
       "      <td>BN</td>\n",
       "      <td>Yes</td>\n",
       "    </tr>\n",
       "    <tr>\n",
       "      <th>18</th>\n",
       "      <td>بنغلاديش</td>\n",
       "      <td>孟加拉国</td>\n",
       "      <td>Bangladesh</td>\n",
       "      <td>Bangladesh</td>\n",
       "      <td>Bangladesh</td>\n",
       "      <td>Бангладеш</td>\n",
       "      <td>BD</td>\n",
       "      <td>BGD</td>\n",
       "      <td>50.0</td>\n",
       "      <td>BDT</td>\n",
       "      <td>...</td>\n",
       "      <td>x</td>\n",
       "      <td>bg</td>\n",
       "      <td>142.0</td>\n",
       "      <td>Asia</td>\n",
       "      <td>NaN</td>\n",
       "      <td>34.0</td>\n",
       "      <td>Southern Asia</td>\n",
       "      <td>.bd</td>\n",
       "      <td>BW</td>\n",
       "      <td>Yes</td>\n",
       "    </tr>\n",
       "    <tr>\n",
       "      <th>19</th>\n",
       "      <td>بربادوس</td>\n",
       "      <td>巴巴多斯</td>\n",
       "      <td>Barbados</td>\n",
       "      <td>Barbados</td>\n",
       "      <td>Barbade</td>\n",
       "      <td>Барбадос</td>\n",
       "      <td>BB</td>\n",
       "      <td>BRB</td>\n",
       "      <td>52.0</td>\n",
       "      <td>BBD</td>\n",
       "      <td>...</td>\n",
       "      <td>NaN</td>\n",
       "      <td>bb</td>\n",
       "      <td>19.0</td>\n",
       "      <td>Americas</td>\n",
       "      <td>x</td>\n",
       "      <td>419.0</td>\n",
       "      <td>Latin America and the Caribbean</td>\n",
       "      <td>.bb</td>\n",
       "      <td>BR</td>\n",
       "      <td>Yes</td>\n",
       "    </tr>\n",
       "    <tr>\n",
       "      <th>20</th>\n",
       "      <td>بيلاروس</td>\n",
       "      <td>白俄罗斯</td>\n",
       "      <td>Belarus</td>\n",
       "      <td>Belarús</td>\n",
       "      <td>Bélarus</td>\n",
       "      <td>Беларусь</td>\n",
       "      <td>BY</td>\n",
       "      <td>BLR</td>\n",
       "      <td>112.0</td>\n",
       "      <td>BYN</td>\n",
       "      <td>...</td>\n",
       "      <td>NaN</td>\n",
       "      <td>bw</td>\n",
       "      <td>150.0</td>\n",
       "      <td>Europe</td>\n",
       "      <td>NaN</td>\n",
       "      <td>151.0</td>\n",
       "      <td>Eastern Europe</td>\n",
       "      <td>.by</td>\n",
       "      <td>BY</td>\n",
       "      <td>Yes</td>\n",
       "    </tr>\n",
       "    <tr>\n",
       "      <th>21</th>\n",
       "      <td>بلجيكا</td>\n",
       "      <td>比利时</td>\n",
       "      <td>Belgium</td>\n",
       "      <td>Bélgica</td>\n",
       "      <td>Belgique</td>\n",
       "      <td>Бельгия</td>\n",
       "      <td>BE</td>\n",
       "      <td>BEL</td>\n",
       "      <td>56.0</td>\n",
       "      <td>EUR</td>\n",
       "      <td>...</td>\n",
       "      <td>NaN</td>\n",
       "      <td>be</td>\n",
       "      <td>150.0</td>\n",
       "      <td>Europe</td>\n",
       "      <td>NaN</td>\n",
       "      <td>155.0</td>\n",
       "      <td>Western Europe</td>\n",
       "      <td>.be</td>\n",
       "      <td>BX</td>\n",
       "      <td>Yes</td>\n",
       "    </tr>\n",
       "    <tr>\n",
       "      <th>22</th>\n",
       "      <td>بليز</td>\n",
       "      <td>伯利兹</td>\n",
       "      <td>Belize</td>\n",
       "      <td>Belice</td>\n",
       "      <td>Belize</td>\n",
       "      <td>Белиз</td>\n",
       "      <td>BZ</td>\n",
       "      <td>BLZ</td>\n",
       "      <td>84.0</td>\n",
       "      <td>BZD</td>\n",
       "      <td>...</td>\n",
       "      <td>NaN</td>\n",
       "      <td>bh</td>\n",
       "      <td>19.0</td>\n",
       "      <td>Americas</td>\n",
       "      <td>x</td>\n",
       "      <td>419.0</td>\n",
       "      <td>Latin America and the Caribbean</td>\n",
       "      <td>.bz</td>\n",
       "      <td>BH</td>\n",
       "      <td>Yes</td>\n",
       "    </tr>\n",
       "    <tr>\n",
       "      <th>23</th>\n",
       "      <td>بنن</td>\n",
       "      <td>贝宁</td>\n",
       "      <td>Benin</td>\n",
       "      <td>Benin</td>\n",
       "      <td>Bénin</td>\n",
       "      <td>Бенин</td>\n",
       "      <td>BJ</td>\n",
       "      <td>BEN</td>\n",
       "      <td>204.0</td>\n",
       "      <td>XOF</td>\n",
       "      <td>...</td>\n",
       "      <td>x</td>\n",
       "      <td>dm</td>\n",
       "      <td>2.0</td>\n",
       "      <td>Africa</td>\n",
       "      <td>NaN</td>\n",
       "      <td>202.0</td>\n",
       "      <td>Sub-Saharan Africa</td>\n",
       "      <td>.bj</td>\n",
       "      <td>BJ</td>\n",
       "      <td>Yes</td>\n",
       "    </tr>\n",
       "    <tr>\n",
       "      <th>24</th>\n",
       "      <td>برمودا</td>\n",
       "      <td>百慕大</td>\n",
       "      <td>Bermuda</td>\n",
       "      <td>Bermuda</td>\n",
       "      <td>Bermudes</td>\n",
       "      <td>Бермудские острова</td>\n",
       "      <td>BM</td>\n",
       "      <td>BMU</td>\n",
       "      <td>60.0</td>\n",
       "      <td>BMD</td>\n",
       "      <td>...</td>\n",
       "      <td>NaN</td>\n",
       "      <td>bm</td>\n",
       "      <td>19.0</td>\n",
       "      <td>Americas</td>\n",
       "      <td>NaN</td>\n",
       "      <td>21.0</td>\n",
       "      <td>Northern America</td>\n",
       "      <td>.bm</td>\n",
       "      <td>BE</td>\n",
       "      <td>Territory of GB</td>\n",
       "    </tr>\n",
       "    <tr>\n",
       "      <th>25</th>\n",
       "      <td>بوتان</td>\n",
       "      <td>不丹</td>\n",
       "      <td>Bhutan</td>\n",
       "      <td>Bhután</td>\n",
       "      <td>Bhoutan</td>\n",
       "      <td>Бутан</td>\n",
       "      <td>BT</td>\n",
       "      <td>BTN</td>\n",
       "      <td>64.0</td>\n",
       "      <td>INR,BTN</td>\n",
       "      <td>...</td>\n",
       "      <td>x</td>\n",
       "      <td>bt</td>\n",
       "      <td>142.0</td>\n",
       "      <td>Asia</td>\n",
       "      <td>NaN</td>\n",
       "      <td>34.0</td>\n",
       "      <td>Southern Asia</td>\n",
       "      <td>.bt</td>\n",
       "      <td></td>\n",
       "      <td>Yes</td>\n",
       "    </tr>\n",
       "    <tr>\n",
       "      <th>26</th>\n",
       "      <td>بوليفيا (دولة - المتعددة القوميات)</td>\n",
       "      <td>玻利维亚(多民族国)</td>\n",
       "      <td>Bolivia (Plurinational State of)</td>\n",
       "      <td>Bolivia (Estado Plurinacional de)</td>\n",
       "      <td>Bolivie (État plurinational de)</td>\n",
       "      <td>Боливия (Многонациональное Государство)</td>\n",
       "      <td>BO</td>\n",
       "      <td>BOL</td>\n",
       "      <td>68.0</td>\n",
       "      <td>BOB</td>\n",
       "      <td>...</td>\n",
       "      <td>NaN</td>\n",
       "      <td>bo</td>\n",
       "      <td>19.0</td>\n",
       "      <td>Americas</td>\n",
       "      <td>NaN</td>\n",
       "      <td>419.0</td>\n",
       "      <td>Latin America and the Caribbean</td>\n",
       "      <td>.bo</td>\n",
       "      <td>BO</td>\n",
       "      <td>Yes</td>\n",
       "    </tr>\n",
       "    <tr>\n",
       "      <th>27</th>\n",
       "      <td>بونير وسان يوستاتيوس وسابا</td>\n",
       "      <td>博纳尔,圣俄斯塔休斯和萨巴</td>\n",
       "      <td>Bonaire, Sint Eustatius and Saba</td>\n",
       "      <td>Bonaire, San Eustaquio y Saba</td>\n",
       "      <td>Bonaire, Saint-Eustache et Saba</td>\n",
       "      <td>Бонайре, Саба и Синт-Эстатиус</td>\n",
       "      <td>BQ</td>\n",
       "      <td>BES</td>\n",
       "      <td>535.0</td>\n",
       "      <td>USD</td>\n",
       "      <td>...</td>\n",
       "      <td>NaN</td>\n",
       "      <td>ca</td>\n",
       "      <td>19.0</td>\n",
       "      <td>Americas</td>\n",
       "      <td>x</td>\n",
       "      <td>419.0</td>\n",
       "      <td>Latin America and the Caribbean</td>\n",
       "      <td>.bq</td>\n",
       "      <td>NU</td>\n",
       "      <td>Part of NL</td>\n",
       "    </tr>\n",
       "    <tr>\n",
       "      <th>28</th>\n",
       "      <td>البوسنة والهرسك</td>\n",
       "      <td>波斯尼亚和黑塞哥维那</td>\n",
       "      <td>Bosnia and Herzegovina</td>\n",
       "      <td>Bosnia y Herzegovina</td>\n",
       "      <td>Bosnie-Herzégovine</td>\n",
       "      <td>Босния и Герцеговина</td>\n",
       "      <td>BA</td>\n",
       "      <td>BIH</td>\n",
       "      <td>70.0</td>\n",
       "      <td>BAM</td>\n",
       "      <td>...</td>\n",
       "      <td>NaN</td>\n",
       "      <td>bn</td>\n",
       "      <td>150.0</td>\n",
       "      <td>Europe</td>\n",
       "      <td>NaN</td>\n",
       "      <td>39.0</td>\n",
       "      <td>Southern Europe</td>\n",
       "      <td>.ba</td>\n",
       "      <td>BG</td>\n",
       "      <td>Yes</td>\n",
       "    </tr>\n",
       "    <tr>\n",
       "      <th>29</th>\n",
       "      <td>بوتسوانا</td>\n",
       "      <td>博茨瓦纳</td>\n",
       "      <td>Botswana</td>\n",
       "      <td>Botswana</td>\n",
       "      <td>Botswana</td>\n",
       "      <td>Ботсвана</td>\n",
       "      <td>BW</td>\n",
       "      <td>BWA</td>\n",
       "      <td>72.0</td>\n",
       "      <td>BWP</td>\n",
       "      <td>...</td>\n",
       "      <td>NaN</td>\n",
       "      <td>bs</td>\n",
       "      <td>2.0</td>\n",
       "      <td>Africa</td>\n",
       "      <td>NaN</td>\n",
       "      <td>202.0</td>\n",
       "      <td>Sub-Saharan Africa</td>\n",
       "      <td>.bw</td>\n",
       "      <td>BC</td>\n",
       "      <td>Yes</td>\n",
       "    </tr>\n",
       "    <tr>\n",
       "      <th>...</th>\n",
       "      <td>...</td>\n",
       "      <td>...</td>\n",
       "      <td>...</td>\n",
       "      <td>...</td>\n",
       "      <td>...</td>\n",
       "      <td>...</td>\n",
       "      <td>...</td>\n",
       "      <td>...</td>\n",
       "      <td>...</td>\n",
       "      <td>...</td>\n",
       "      <td>...</td>\n",
       "      <td>...</td>\n",
       "      <td>...</td>\n",
       "      <td>...</td>\n",
       "      <td>...</td>\n",
       "      <td>...</td>\n",
       "      <td>...</td>\n",
       "      <td>...</td>\n",
       "      <td>...</td>\n",
       "      <td>...</td>\n",
       "      <td>...</td>\n",
       "    </tr>\n",
       "    <tr>\n",
       "      <th>220</th>\n",
       "      <td>جمهورية مقدونيا اليوغوسلافية سابقاً</td>\n",
       "      <td>前南斯拉夫的马其顿共和国</td>\n",
       "      <td>The former Yugoslav Republic of Macedonia</td>\n",
       "      <td>ex República Yugoslava de Macedonia</td>\n",
       "      <td>ex-République yougoslave de Macédoine</td>\n",
       "      <td>бывшая югославская Республика Македония</td>\n",
       "      <td>MK</td>\n",
       "      <td>MKD</td>\n",
       "      <td>807.0</td>\n",
       "      <td>MKD</td>\n",
       "      <td>...</td>\n",
       "      <td>NaN</td>\n",
       "      <td>xn</td>\n",
       "      <td>150.0</td>\n",
       "      <td>Europe</td>\n",
       "      <td>NaN</td>\n",
       "      <td>39.0</td>\n",
       "      <td>Southern Europe</td>\n",
       "      <td>.mk</td>\n",
       "      <td>MJ</td>\n",
       "      <td>Yes</td>\n",
       "    </tr>\n",
       "    <tr>\n",
       "      <th>221</th>\n",
       "      <td>تيمور- ليشتي</td>\n",
       "      <td>东帝汶</td>\n",
       "      <td>Timor-Leste</td>\n",
       "      <td>Timor-Leste</td>\n",
       "      <td>Timor-Leste</td>\n",
       "      <td>Тимор-Лешти</td>\n",
       "      <td>TL</td>\n",
       "      <td>TLS</td>\n",
       "      <td>626.0</td>\n",
       "      <td>USD</td>\n",
       "      <td>...</td>\n",
       "      <td>x</td>\n",
       "      <td>em</td>\n",
       "      <td>142.0</td>\n",
       "      <td>Asia</td>\n",
       "      <td>x</td>\n",
       "      <td>35.0</td>\n",
       "      <td>South-eastern Asia</td>\n",
       "      <td>.tl</td>\n",
       "      <td>TM</td>\n",
       "      <td>Yes</td>\n",
       "    </tr>\n",
       "    <tr>\n",
       "      <th>222</th>\n",
       "      <td>توغو</td>\n",
       "      <td>多哥</td>\n",
       "      <td>Togo</td>\n",
       "      <td>Togo</td>\n",
       "      <td>Togo</td>\n",
       "      <td>Того</td>\n",
       "      <td>TG</td>\n",
       "      <td>TGO</td>\n",
       "      <td>768.0</td>\n",
       "      <td>XOF</td>\n",
       "      <td>...</td>\n",
       "      <td>x</td>\n",
       "      <td>tg</td>\n",
       "      <td>2.0</td>\n",
       "      <td>Africa</td>\n",
       "      <td>NaN</td>\n",
       "      <td>202.0</td>\n",
       "      <td>Sub-Saharan Africa</td>\n",
       "      <td>.tg</td>\n",
       "      <td>TG</td>\n",
       "      <td>Yes</td>\n",
       "    </tr>\n",
       "    <tr>\n",
       "      <th>223</th>\n",
       "      <td>توكيلاو</td>\n",
       "      <td>托克劳</td>\n",
       "      <td>Tokelau</td>\n",
       "      <td>Tokelau</td>\n",
       "      <td>Tokélaou</td>\n",
       "      <td>Токелау</td>\n",
       "      <td>TK</td>\n",
       "      <td>TKL</td>\n",
       "      <td>772.0</td>\n",
       "      <td>NZD</td>\n",
       "      <td>...</td>\n",
       "      <td>NaN</td>\n",
       "      <td>tl</td>\n",
       "      <td>9.0</td>\n",
       "      <td>Oceania</td>\n",
       "      <td>NaN</td>\n",
       "      <td>61.0</td>\n",
       "      <td>Polynesia</td>\n",
       "      <td>.tk</td>\n",
       "      <td>TK</td>\n",
       "      <td>Territory of NZ</td>\n",
       "    </tr>\n",
       "    <tr>\n",
       "      <th>224</th>\n",
       "      <td>تونغا</td>\n",
       "      <td>汤加</td>\n",
       "      <td>Tonga</td>\n",
       "      <td>Tonga</td>\n",
       "      <td>Tonga</td>\n",
       "      <td>Тонга</td>\n",
       "      <td>TO</td>\n",
       "      <td>TON</td>\n",
       "      <td>776.0</td>\n",
       "      <td>TOP</td>\n",
       "      <td>...</td>\n",
       "      <td>NaN</td>\n",
       "      <td>to</td>\n",
       "      <td>9.0</td>\n",
       "      <td>Oceania</td>\n",
       "      <td>x</td>\n",
       "      <td>61.0</td>\n",
       "      <td>Polynesia</td>\n",
       "      <td>.to</td>\n",
       "      <td>TO</td>\n",
       "      <td>Yes</td>\n",
       "    </tr>\n",
       "    <tr>\n",
       "      <th>225</th>\n",
       "      <td>ترينيداد وتوباغو</td>\n",
       "      <td>特立尼达和多巴哥</td>\n",
       "      <td>Trinidad and Tobago</td>\n",
       "      <td>Trinidad y Tabago</td>\n",
       "      <td>Trinité-et-Tobago</td>\n",
       "      <td>Тринидад и Тобаго</td>\n",
       "      <td>TT</td>\n",
       "      <td>TTO</td>\n",
       "      <td>780.0</td>\n",
       "      <td>TTD</td>\n",
       "      <td>...</td>\n",
       "      <td>NaN</td>\n",
       "      <td>tr</td>\n",
       "      <td>19.0</td>\n",
       "      <td>Americas</td>\n",
       "      <td>x</td>\n",
       "      <td>419.0</td>\n",
       "      <td>Latin America and the Caribbean</td>\n",
       "      <td>.tt</td>\n",
       "      <td>TD</td>\n",
       "      <td>Yes</td>\n",
       "    </tr>\n",
       "    <tr>\n",
       "      <th>226</th>\n",
       "      <td>تونس</td>\n",
       "      <td>突尼斯</td>\n",
       "      <td>Tunisia</td>\n",
       "      <td>Túnez</td>\n",
       "      <td>Tunisie</td>\n",
       "      <td>Тунис</td>\n",
       "      <td>TN</td>\n",
       "      <td>TUN</td>\n",
       "      <td>788.0</td>\n",
       "      <td>TND</td>\n",
       "      <td>...</td>\n",
       "      <td>NaN</td>\n",
       "      <td>ti</td>\n",
       "      <td>2.0</td>\n",
       "      <td>Africa</td>\n",
       "      <td>NaN</td>\n",
       "      <td>15.0</td>\n",
       "      <td>Northern Africa</td>\n",
       "      <td>.tn</td>\n",
       "      <td>TS</td>\n",
       "      <td>Yes</td>\n",
       "    </tr>\n",
       "    <tr>\n",
       "      <th>227</th>\n",
       "      <td>تركيا</td>\n",
       "      <td>土耳其</td>\n",
       "      <td>Turkey</td>\n",
       "      <td>Turquía</td>\n",
       "      <td>Turquie</td>\n",
       "      <td>Турция</td>\n",
       "      <td>TR</td>\n",
       "      <td>TUR</td>\n",
       "      <td>792.0</td>\n",
       "      <td>TRY</td>\n",
       "      <td>...</td>\n",
       "      <td>NaN</td>\n",
       "      <td>tu</td>\n",
       "      <td>142.0</td>\n",
       "      <td>Asia</td>\n",
       "      <td>NaN</td>\n",
       "      <td>145.0</td>\n",
       "      <td>Western Asia</td>\n",
       "      <td>.tr</td>\n",
       "      <td>TU</td>\n",
       "      <td>Yes</td>\n",
       "    </tr>\n",
       "    <tr>\n",
       "      <th>228</th>\n",
       "      <td>تركمانستان</td>\n",
       "      <td>土库曼斯坦</td>\n",
       "      <td>Turkmenistan</td>\n",
       "      <td>Turkmenistán</td>\n",
       "      <td>Turkménistan</td>\n",
       "      <td>Туркменистан</td>\n",
       "      <td>TM</td>\n",
       "      <td>TKM</td>\n",
       "      <td>795.0</td>\n",
       "      <td>TMT</td>\n",
       "      <td>...</td>\n",
       "      <td>NaN</td>\n",
       "      <td>tk</td>\n",
       "      <td>142.0</td>\n",
       "      <td>Asia</td>\n",
       "      <td>NaN</td>\n",
       "      <td>143.0</td>\n",
       "      <td>Central Asia</td>\n",
       "      <td>.tm</td>\n",
       "      <td>TR</td>\n",
       "      <td>Yes</td>\n",
       "    </tr>\n",
       "    <tr>\n",
       "      <th>229</th>\n",
       "      <td>جزر تركس وكايكوس</td>\n",
       "      <td>特克斯和凯科斯群岛</td>\n",
       "      <td>Turks and Caicos Islands</td>\n",
       "      <td>Islas Turcas y Caicos</td>\n",
       "      <td>Îles Turques-et-Caïques</td>\n",
       "      <td>Острова Тёркс и Кайкос</td>\n",
       "      <td>TC</td>\n",
       "      <td>TCA</td>\n",
       "      <td>796.0</td>\n",
       "      <td>USD</td>\n",
       "      <td>...</td>\n",
       "      <td>NaN</td>\n",
       "      <td>tc</td>\n",
       "      <td>19.0</td>\n",
       "      <td>Americas</td>\n",
       "      <td>NaN</td>\n",
       "      <td>419.0</td>\n",
       "      <td>Latin America and the Caribbean</td>\n",
       "      <td>.tc</td>\n",
       "      <td>TI</td>\n",
       "      <td>Territory of GB</td>\n",
       "    </tr>\n",
       "    <tr>\n",
       "      <th>230</th>\n",
       "      <td>توفالو</td>\n",
       "      <td>图瓦卢</td>\n",
       "      <td>Tuvalu</td>\n",
       "      <td>Tuvalu</td>\n",
       "      <td>Tuvalu</td>\n",
       "      <td>Тувалу</td>\n",
       "      <td>TV</td>\n",
       "      <td>TUV</td>\n",
       "      <td>798.0</td>\n",
       "      <td>AUD</td>\n",
       "      <td>...</td>\n",
       "      <td>x</td>\n",
       "      <td>tv</td>\n",
       "      <td>9.0</td>\n",
       "      <td>Oceania</td>\n",
       "      <td>x</td>\n",
       "      <td>61.0</td>\n",
       "      <td>Polynesia</td>\n",
       "      <td>.tv</td>\n",
       "      <td>TV</td>\n",
       "      <td>Yes</td>\n",
       "    </tr>\n",
       "    <tr>\n",
       "      <th>231</th>\n",
       "      <td>أوغندا</td>\n",
       "      <td>乌干达</td>\n",
       "      <td>Uganda</td>\n",
       "      <td>Uganda</td>\n",
       "      <td>Ouganda</td>\n",
       "      <td>Уганда</td>\n",
       "      <td>UG</td>\n",
       "      <td>UGA</td>\n",
       "      <td>800.0</td>\n",
       "      <td>UGX</td>\n",
       "      <td>...</td>\n",
       "      <td>x</td>\n",
       "      <td>ug</td>\n",
       "      <td>2.0</td>\n",
       "      <td>Africa</td>\n",
       "      <td>NaN</td>\n",
       "      <td>202.0</td>\n",
       "      <td>Sub-Saharan Africa</td>\n",
       "      <td>.ug</td>\n",
       "      <td>UG</td>\n",
       "      <td>Yes</td>\n",
       "    </tr>\n",
       "    <tr>\n",
       "      <th>232</th>\n",
       "      <td>أوكرانيا</td>\n",
       "      <td>乌克兰</td>\n",
       "      <td>Ukraine</td>\n",
       "      <td>Ucrania</td>\n",
       "      <td>Ukraine</td>\n",
       "      <td>Украина</td>\n",
       "      <td>UA</td>\n",
       "      <td>UKR</td>\n",
       "      <td>804.0</td>\n",
       "      <td>UAH</td>\n",
       "      <td>...</td>\n",
       "      <td>NaN</td>\n",
       "      <td>un</td>\n",
       "      <td>150.0</td>\n",
       "      <td>Europe</td>\n",
       "      <td>NaN</td>\n",
       "      <td>151.0</td>\n",
       "      <td>Eastern Europe</td>\n",
       "      <td>.ua</td>\n",
       "      <td>UR</td>\n",
       "      <td>Yes</td>\n",
       "    </tr>\n",
       "    <tr>\n",
       "      <th>233</th>\n",
       "      <td>الإمارات العربية المتحدة</td>\n",
       "      <td>阿拉伯联合酋长国</td>\n",
       "      <td>United Arab Emirates</td>\n",
       "      <td>Emiratos Árabes Unidos</td>\n",
       "      <td>Émirats arabes unis</td>\n",
       "      <td>Объединенные Арабские Эмираты</td>\n",
       "      <td>AE</td>\n",
       "      <td>ARE</td>\n",
       "      <td>784.0</td>\n",
       "      <td>AED</td>\n",
       "      <td>...</td>\n",
       "      <td>NaN</td>\n",
       "      <td>ts</td>\n",
       "      <td>142.0</td>\n",
       "      <td>Asia</td>\n",
       "      <td>NaN</td>\n",
       "      <td>145.0</td>\n",
       "      <td>Western Asia</td>\n",
       "      <td>.ae</td>\n",
       "      <td>ER</td>\n",
       "      <td>Yes</td>\n",
       "    </tr>\n",
       "    <tr>\n",
       "      <th>234</th>\n",
       "      <td>المملكة المتحدة لبريطانيا العظمى وآيرلندا الشم...</td>\n",
       "      <td>大不列颠及北爱尔兰联合王国</td>\n",
       "      <td>United Kingdom of Great Britain and Northern I...</td>\n",
       "      <td>Reino Unido de Gran Bretaña e Irlanda del Norte</td>\n",
       "      <td>Royaume-Uni de Grande-Bretagne et d'Irlande du...</td>\n",
       "      <td>Соединенное Королевство Великобритании и Север...</td>\n",
       "      <td>GB</td>\n",
       "      <td>GBR</td>\n",
       "      <td>826.0</td>\n",
       "      <td>GBP</td>\n",
       "      <td>...</td>\n",
       "      <td>NaN</td>\n",
       "      <td>xxk</td>\n",
       "      <td>150.0</td>\n",
       "      <td>Europe</td>\n",
       "      <td>NaN</td>\n",
       "      <td>154.0</td>\n",
       "      <td>Northern Europe</td>\n",
       "      <td>.uk</td>\n",
       "      <td>UK</td>\n",
       "      <td>Yes</td>\n",
       "    </tr>\n",
       "    <tr>\n",
       "      <th>235</th>\n",
       "      <td>جمهورية تنزانيا المتحدة</td>\n",
       "      <td>坦桑尼亚联合共和国</td>\n",
       "      <td>United Republic of Tanzania</td>\n",
       "      <td>República Unida de Tanzanía</td>\n",
       "      <td>République-Unie de Tanzanie</td>\n",
       "      <td>Объединенная Республика Танзания</td>\n",
       "      <td>TZ</td>\n",
       "      <td>TZA</td>\n",
       "      <td>834.0</td>\n",
       "      <td>TZS</td>\n",
       "      <td>...</td>\n",
       "      <td>x</td>\n",
       "      <td>tz</td>\n",
       "      <td>2.0</td>\n",
       "      <td>Africa</td>\n",
       "      <td>NaN</td>\n",
       "      <td>202.0</td>\n",
       "      <td>Sub-Saharan Africa</td>\n",
       "      <td>.tz</td>\n",
       "      <td>TN</td>\n",
       "      <td>Yes</td>\n",
       "    </tr>\n",
       "    <tr>\n",
       "      <th>236</th>\n",
       "      <td>نائية التابعة للولايات المتحدة</td>\n",
       "      <td>美国本土外小岛屿</td>\n",
       "      <td>United States Minor Outlying Islands</td>\n",
       "      <td>Islas menores alejadas de Estados Unidos</td>\n",
       "      <td>Îles mineures éloignées des États-Unis</td>\n",
       "      <td>Внешние малые острова Coeдинeнныx Штaтoв</td>\n",
       "      <td>UM</td>\n",
       "      <td>UMI</td>\n",
       "      <td>581.0</td>\n",
       "      <td>USD</td>\n",
       "      <td>...</td>\n",
       "      <td>NaN</td>\n",
       "      <td>ji,xf,wk,uc,up</td>\n",
       "      <td>9.0</td>\n",
       "      <td>Oceania</td>\n",
       "      <td>NaN</td>\n",
       "      <td>57.0</td>\n",
       "      <td>Micronesia</td>\n",
       "      <td>.um</td>\n",
       "      <td></td>\n",
       "      <td>Territories of US</td>\n",
       "    </tr>\n",
       "    <tr>\n",
       "      <th>237</th>\n",
       "      <td>جزر فرجن التابعة للولايات المتحدة</td>\n",
       "      <td>美属维尔京群岛</td>\n",
       "      <td>United States Virgin Islands</td>\n",
       "      <td>Islas Vírgenes de los Estados Unidos</td>\n",
       "      <td>Îles Vierges américaines</td>\n",
       "      <td>Виргинские oстрова Coeдинeнныx Штaтoв</td>\n",
       "      <td>VI</td>\n",
       "      <td>VIR</td>\n",
       "      <td>850.0</td>\n",
       "      <td>USD</td>\n",
       "      <td>...</td>\n",
       "      <td>NaN</td>\n",
       "      <td>vi</td>\n",
       "      <td>19.0</td>\n",
       "      <td>Americas</td>\n",
       "      <td>x</td>\n",
       "      <td>419.0</td>\n",
       "      <td>Latin America and the Caribbean</td>\n",
       "      <td>.vi</td>\n",
       "      <td>VI</td>\n",
       "      <td>Territory of US</td>\n",
       "    </tr>\n",
       "    <tr>\n",
       "      <th>238</th>\n",
       "      <td>الولايات المتحدة الأمريكية</td>\n",
       "      <td>美利坚合众国</td>\n",
       "      <td>United States of America</td>\n",
       "      <td>Estados Unidos de América</td>\n",
       "      <td>États-Unis d'Amérique</td>\n",
       "      <td>Соединенные Штаты Америки</td>\n",
       "      <td>US</td>\n",
       "      <td>USA</td>\n",
       "      <td>840.0</td>\n",
       "      <td>USD</td>\n",
       "      <td>...</td>\n",
       "      <td>NaN</td>\n",
       "      <td>xxu</td>\n",
       "      <td>19.0</td>\n",
       "      <td>Americas</td>\n",
       "      <td>NaN</td>\n",
       "      <td>21.0</td>\n",
       "      <td>Northern America</td>\n",
       "      <td>.us</td>\n",
       "      <td>US</td>\n",
       "      <td>Yes</td>\n",
       "    </tr>\n",
       "    <tr>\n",
       "      <th>239</th>\n",
       "      <td>أوروغواي</td>\n",
       "      <td>乌拉圭</td>\n",
       "      <td>Uruguay</td>\n",
       "      <td>Uruguay</td>\n",
       "      <td>Uruguay</td>\n",
       "      <td>Уругвай</td>\n",
       "      <td>UY</td>\n",
       "      <td>URY</td>\n",
       "      <td>858.0</td>\n",
       "      <td>UYU</td>\n",
       "      <td>...</td>\n",
       "      <td>NaN</td>\n",
       "      <td>uy</td>\n",
       "      <td>19.0</td>\n",
       "      <td>Americas</td>\n",
       "      <td>NaN</td>\n",
       "      <td>419.0</td>\n",
       "      <td>Latin America and the Caribbean</td>\n",
       "      <td>.uy</td>\n",
       "      <td>UY</td>\n",
       "      <td>Yes</td>\n",
       "    </tr>\n",
       "    <tr>\n",
       "      <th>240</th>\n",
       "      <td>أوزبكستان</td>\n",
       "      <td>乌兹别克斯坦</td>\n",
       "      <td>Uzbekistan</td>\n",
       "      <td>Uzbekistán</td>\n",
       "      <td>Ouzbékistan</td>\n",
       "      <td>Узбекистан</td>\n",
       "      <td>UZ</td>\n",
       "      <td>UZB</td>\n",
       "      <td>860.0</td>\n",
       "      <td>UZS</td>\n",
       "      <td>...</td>\n",
       "      <td>NaN</td>\n",
       "      <td>uz</td>\n",
       "      <td>142.0</td>\n",
       "      <td>Asia</td>\n",
       "      <td>NaN</td>\n",
       "      <td>143.0</td>\n",
       "      <td>Central Asia</td>\n",
       "      <td>.uz</td>\n",
       "      <td>UZ</td>\n",
       "      <td>Yes</td>\n",
       "    </tr>\n",
       "    <tr>\n",
       "      <th>241</th>\n",
       "      <td>فانواتو</td>\n",
       "      <td>瓦努阿图</td>\n",
       "      <td>Vanuatu</td>\n",
       "      <td>Vanuatu</td>\n",
       "      <td>Vanuatu</td>\n",
       "      <td>Вануату</td>\n",
       "      <td>VU</td>\n",
       "      <td>VUT</td>\n",
       "      <td>548.0</td>\n",
       "      <td>VUV</td>\n",
       "      <td>...</td>\n",
       "      <td>x</td>\n",
       "      <td>nn</td>\n",
       "      <td>9.0</td>\n",
       "      <td>Oceania</td>\n",
       "      <td>x</td>\n",
       "      <td>54.0</td>\n",
       "      <td>Melanesia</td>\n",
       "      <td>.vu</td>\n",
       "      <td>NV</td>\n",
       "      <td>Yes</td>\n",
       "    </tr>\n",
       "    <tr>\n",
       "      <th>242</th>\n",
       "      <td>فنزويلا (جمهورية - البوليفارية)</td>\n",
       "      <td>委内瑞拉(玻利瓦尔共和国)</td>\n",
       "      <td>Venezuela (Bolivarian Republic of)</td>\n",
       "      <td>Venezuela (República Bolivariana de)</td>\n",
       "      <td>Venezuela (République bolivarienne du)</td>\n",
       "      <td>Венесуэла (Боливарианская Республика)</td>\n",
       "      <td>VE</td>\n",
       "      <td>VEN</td>\n",
       "      <td>862.0</td>\n",
       "      <td>VEF</td>\n",
       "      <td>...</td>\n",
       "      <td>NaN</td>\n",
       "      <td>ve</td>\n",
       "      <td>19.0</td>\n",
       "      <td>Americas</td>\n",
       "      <td>NaN</td>\n",
       "      <td>419.0</td>\n",
       "      <td>Latin America and the Caribbean</td>\n",
       "      <td>.ve</td>\n",
       "      <td>VN</td>\n",
       "      <td>Yes</td>\n",
       "    </tr>\n",
       "    <tr>\n",
       "      <th>243</th>\n",
       "      <td>فييت نام</td>\n",
       "      <td>越南</td>\n",
       "      <td>Viet Nam</td>\n",
       "      <td>Viet Nam</td>\n",
       "      <td>Viet Nam</td>\n",
       "      <td>Вьетнам</td>\n",
       "      <td>VN</td>\n",
       "      <td>VNM</td>\n",
       "      <td>704.0</td>\n",
       "      <td>VND</td>\n",
       "      <td>...</td>\n",
       "      <td>NaN</td>\n",
       "      <td>vm</td>\n",
       "      <td>142.0</td>\n",
       "      <td>Asia</td>\n",
       "      <td>NaN</td>\n",
       "      <td>35.0</td>\n",
       "      <td>South-eastern Asia</td>\n",
       "      <td>.vn</td>\n",
       "      <td>VS</td>\n",
       "      <td>Yes</td>\n",
       "    </tr>\n",
       "    <tr>\n",
       "      <th>244</th>\n",
       "      <td>جزر واليس وفوتونا</td>\n",
       "      <td>瓦利斯群岛和富图纳群岛</td>\n",
       "      <td>Wallis and Futuna Islands</td>\n",
       "      <td>Islas Wallis y Futuna</td>\n",
       "      <td>Îles Wallis-et-Futuna</td>\n",
       "      <td>Острова Уоллис и Футуна</td>\n",
       "      <td>WF</td>\n",
       "      <td>WLF</td>\n",
       "      <td>876.0</td>\n",
       "      <td>XPF</td>\n",
       "      <td>...</td>\n",
       "      <td>NaN</td>\n",
       "      <td>wf</td>\n",
       "      <td>9.0</td>\n",
       "      <td>Oceania</td>\n",
       "      <td>NaN</td>\n",
       "      <td>61.0</td>\n",
       "      <td>Polynesia</td>\n",
       "      <td>.wf</td>\n",
       "      <td>FW</td>\n",
       "      <td>Territory of FR</td>\n",
       "    </tr>\n",
       "    <tr>\n",
       "      <th>245</th>\n",
       "      <td>الصحراء الغربية</td>\n",
       "      <td>西撒哈拉</td>\n",
       "      <td>Western Sahara</td>\n",
       "      <td>Sáhara Occidental</td>\n",
       "      <td>Sahara occidental</td>\n",
       "      <td>Западная Сахара</td>\n",
       "      <td>EH</td>\n",
       "      <td>ESH</td>\n",
       "      <td>732.0</td>\n",
       "      <td>MAD</td>\n",
       "      <td>...</td>\n",
       "      <td>NaN</td>\n",
       "      <td>ss</td>\n",
       "      <td>2.0</td>\n",
       "      <td>Africa</td>\n",
       "      <td>NaN</td>\n",
       "      <td>15.0</td>\n",
       "      <td>Northern Africa</td>\n",
       "      <td>.eh</td>\n",
       "      <td></td>\n",
       "      <td>In contention</td>\n",
       "    </tr>\n",
       "    <tr>\n",
       "      <th>246</th>\n",
       "      <td>اليمن</td>\n",
       "      <td>也门</td>\n",
       "      <td>Yemen</td>\n",
       "      <td>Yemen</td>\n",
       "      <td>Yémen</td>\n",
       "      <td>Йемен</td>\n",
       "      <td>YE</td>\n",
       "      <td>YEM</td>\n",
       "      <td>887.0</td>\n",
       "      <td>YER</td>\n",
       "      <td>...</td>\n",
       "      <td>x</td>\n",
       "      <td>ye</td>\n",
       "      <td>142.0</td>\n",
       "      <td>Asia</td>\n",
       "      <td>NaN</td>\n",
       "      <td>145.0</td>\n",
       "      <td>Western Asia</td>\n",
       "      <td>.ye</td>\n",
       "      <td>YE</td>\n",
       "      <td>Yes</td>\n",
       "    </tr>\n",
       "    <tr>\n",
       "      <th>247</th>\n",
       "      <td>زامبيا</td>\n",
       "      <td>赞比亚</td>\n",
       "      <td>Zambia</td>\n",
       "      <td>Zambia</td>\n",
       "      <td>Zambie</td>\n",
       "      <td>Замбия</td>\n",
       "      <td>ZM</td>\n",
       "      <td>ZMB</td>\n",
       "      <td>894.0</td>\n",
       "      <td>ZMW</td>\n",
       "      <td>...</td>\n",
       "      <td>x</td>\n",
       "      <td>za</td>\n",
       "      <td>2.0</td>\n",
       "      <td>Africa</td>\n",
       "      <td>NaN</td>\n",
       "      <td>202.0</td>\n",
       "      <td>Sub-Saharan Africa</td>\n",
       "      <td>.zm</td>\n",
       "      <td>ZB</td>\n",
       "      <td>Yes</td>\n",
       "    </tr>\n",
       "    <tr>\n",
       "      <th>248</th>\n",
       "      <td>زمبابوي</td>\n",
       "      <td>津巴布韦</td>\n",
       "      <td>Zimbabwe</td>\n",
       "      <td>Zimbabwe</td>\n",
       "      <td>Zimbabwe</td>\n",
       "      <td>Зимбабве</td>\n",
       "      <td>ZW</td>\n",
       "      <td>ZWE</td>\n",
       "      <td>716.0</td>\n",
       "      <td>ZWL</td>\n",
       "      <td>...</td>\n",
       "      <td>NaN</td>\n",
       "      <td>rh</td>\n",
       "      <td>2.0</td>\n",
       "      <td>Africa</td>\n",
       "      <td>NaN</td>\n",
       "      <td>202.0</td>\n",
       "      <td>Sub-Saharan Africa</td>\n",
       "      <td>.zw</td>\n",
       "      <td>ZW</td>\n",
       "      <td>Yes</td>\n",
       "    </tr>\n",
       "    <tr>\n",
       "      <th>249</th>\n",
       "      <td>جزر ألاند</td>\n",
       "      <td>奥兰群岛</td>\n",
       "      <td>Åland Islands</td>\n",
       "      <td>Islas Åland</td>\n",
       "      <td>Îles d'Åland</td>\n",
       "      <td>Аландские острова</td>\n",
       "      <td>AX</td>\n",
       "      <td>ALA</td>\n",
       "      <td>248.0</td>\n",
       "      <td>EUR</td>\n",
       "      <td>...</td>\n",
       "      <td>NaN</td>\n",
       "      <td></td>\n",
       "      <td>150.0</td>\n",
       "      <td>Europe</td>\n",
       "      <td>NaN</td>\n",
       "      <td>154.0</td>\n",
       "      <td>Northern Europe</td>\n",
       "      <td>.ax</td>\n",
       "      <td></td>\n",
       "      <td>Part of FI</td>\n",
       "    </tr>\n",
       "  </tbody>\n",
       "</table>\n",
       "<p>250 rows × 56 columns</p>\n",
       "</div>"
      ],
      "text/plain": [
       "                                      official_name_ar official_name_cn  \\\n",
       "0                                                  NaN              NaN   \n",
       "1                                            أفغانستان              阿富汗   \n",
       "2                                              ألبانيا            阿尔巴尼亚   \n",
       "3                                              الجزائر            阿尔及利亚   \n",
       "4                                      ساموا الأمريكية            美属萨摩亚   \n",
       "5                                               أندورا              安道尔   \n",
       "6                                               أنغولا              安哥拉   \n",
       "7                                               أنغيلا              安圭拉   \n",
       "8                                           أنتاركتيكا              南极洲   \n",
       "9                                      أنتيغوا وبربودا          安提瓜和巴布达   \n",
       "10                                           الأرجنتين              阿根廷   \n",
       "11                                             أرمينيا             亚美尼亚   \n",
       "12                                               أروبا              阿鲁巴   \n",
       "13                                            أستراليا             澳大利亚   \n",
       "14                                              النمسا              奥地利   \n",
       "15                                            أذربيجان             阿塞拜疆   \n",
       "16                                         جزر البهاما              巴哈马   \n",
       "17                                             البحرين               巴林   \n",
       "18                                            بنغلاديش             孟加拉国   \n",
       "19                                             بربادوس             巴巴多斯   \n",
       "20                                             بيلاروس             白俄罗斯   \n",
       "21                                              بلجيكا              比利时   \n",
       "22                                                بليز              伯利兹   \n",
       "23                                                 بنن               贝宁   \n",
       "24                                              برمودا              百慕大   \n",
       "25                                               بوتان               不丹   \n",
       "26                  بوليفيا (دولة - المتعددة القوميات)       玻利维亚(多民族国)   \n",
       "27                          بونير وسان يوستاتيوس وسابا    博纳尔,圣俄斯塔休斯和萨巴   \n",
       "28                                     البوسنة والهرسك       波斯尼亚和黑塞哥维那   \n",
       "29                                            بوتسوانا             博茨瓦纳   \n",
       "..                                                 ...              ...   \n",
       "220                جمهورية مقدونيا اليوغوسلافية سابقاً     前南斯拉夫的马其顿共和国   \n",
       "221                                       تيمور- ليشتي              东帝汶   \n",
       "222                                               توغو               多哥   \n",
       "223                                            توكيلاو              托克劳   \n",
       "224                                              تونغا               汤加   \n",
       "225                                   ترينيداد وتوباغو         特立尼达和多巴哥   \n",
       "226                                               تونس              突尼斯   \n",
       "227                                              تركيا              土耳其   \n",
       "228                                         تركمانستان            土库曼斯坦   \n",
       "229                                   جزر تركس وكايكوس        特克斯和凯科斯群岛   \n",
       "230                                             توفالو              图瓦卢   \n",
       "231                                             أوغندا              乌干达   \n",
       "232                                           أوكرانيا              乌克兰   \n",
       "233                           الإمارات العربية المتحدة         阿拉伯联合酋长国   \n",
       "234  المملكة المتحدة لبريطانيا العظمى وآيرلندا الشم...    大不列颠及北爱尔兰联合王国   \n",
       "235                            جمهورية تنزانيا المتحدة        坦桑尼亚联合共和国   \n",
       "236                     نائية التابعة للولايات المتحدة         美国本土外小岛屿   \n",
       "237                  جزر فرجن التابعة للولايات المتحدة          美属维尔京群岛   \n",
       "238                         الولايات المتحدة الأمريكية           美利坚合众国   \n",
       "239                                           أوروغواي              乌拉圭   \n",
       "240                                          أوزبكستان           乌兹别克斯坦   \n",
       "241                                            فانواتو             瓦努阿图   \n",
       "242                    فنزويلا (جمهورية - البوليفارية)    委内瑞拉(玻利瓦尔共和国)   \n",
       "243                                           فييت نام               越南   \n",
       "244                                  جزر واليس وفوتونا      瓦利斯群岛和富图纳群岛   \n",
       "245                                    الصحراء الغربية             西撒哈拉   \n",
       "246                                              اليمن               也门   \n",
       "247                                             زامبيا              赞比亚   \n",
       "248                                            زمبابوي             津巴布韦   \n",
       "249                                          جزر ألاند             奥兰群岛   \n",
       "\n",
       "                                      official_name_en  \\\n",
       "0                                                  NaN   \n",
       "1                                          Afghanistan   \n",
       "2                                              Albania   \n",
       "3                                              Algeria   \n",
       "4                                       American Samoa   \n",
       "5                                              Andorra   \n",
       "6                                               Angola   \n",
       "7                                             Anguilla   \n",
       "8                                           Antarctica   \n",
       "9                                  Antigua and Barbuda   \n",
       "10                                           Argentina   \n",
       "11                                             Armenia   \n",
       "12                                               Aruba   \n",
       "13                                           Australia   \n",
       "14                                             Austria   \n",
       "15                                          Azerbaijan   \n",
       "16                                             Bahamas   \n",
       "17                                             Bahrain   \n",
       "18                                          Bangladesh   \n",
       "19                                            Barbados   \n",
       "20                                             Belarus   \n",
       "21                                             Belgium   \n",
       "22                                              Belize   \n",
       "23                                               Benin   \n",
       "24                                             Bermuda   \n",
       "25                                              Bhutan   \n",
       "26                    Bolivia (Plurinational State of)   \n",
       "27                    Bonaire, Sint Eustatius and Saba   \n",
       "28                              Bosnia and Herzegovina   \n",
       "29                                            Botswana   \n",
       "..                                                 ...   \n",
       "220          The former Yugoslav Republic of Macedonia   \n",
       "221                                        Timor-Leste   \n",
       "222                                               Togo   \n",
       "223                                            Tokelau   \n",
       "224                                              Tonga   \n",
       "225                                Trinidad and Tobago   \n",
       "226                                            Tunisia   \n",
       "227                                             Turkey   \n",
       "228                                       Turkmenistan   \n",
       "229                           Turks and Caicos Islands   \n",
       "230                                             Tuvalu   \n",
       "231                                             Uganda   \n",
       "232                                            Ukraine   \n",
       "233                               United Arab Emirates   \n",
       "234  United Kingdom of Great Britain and Northern I...   \n",
       "235                        United Republic of Tanzania   \n",
       "236               United States Minor Outlying Islands   \n",
       "237                       United States Virgin Islands   \n",
       "238                           United States of America   \n",
       "239                                            Uruguay   \n",
       "240                                         Uzbekistan   \n",
       "241                                            Vanuatu   \n",
       "242                 Venezuela (Bolivarian Republic of)   \n",
       "243                                           Viet Nam   \n",
       "244                          Wallis and Futuna Islands   \n",
       "245                                     Western Sahara   \n",
       "246                                              Yemen   \n",
       "247                                             Zambia   \n",
       "248                                           Zimbabwe   \n",
       "249                                      Åland Islands   \n",
       "\n",
       "                                    official_name_es  \\\n",
       "0                                                NaN   \n",
       "1                                         Afganistán   \n",
       "2                                            Albania   \n",
       "3                                            Argelia   \n",
       "4                                    Samoa Americana   \n",
       "5                                            Andorra   \n",
       "6                                             Angola   \n",
       "7                                            Anguila   \n",
       "8                                          Antártida   \n",
       "9                                  Antigua y Barbuda   \n",
       "10                                         Argentina   \n",
       "11                                           Armenia   \n",
       "12                                             Aruba   \n",
       "13                                         Australia   \n",
       "14                                           Austria   \n",
       "15                                        Azerbaiyán   \n",
       "16                                           Bahamas   \n",
       "17                                           Bahrein   \n",
       "18                                        Bangladesh   \n",
       "19                                          Barbados   \n",
       "20                                           Belarús   \n",
       "21                                           Bélgica   \n",
       "22                                            Belice   \n",
       "23                                             Benin   \n",
       "24                                           Bermuda   \n",
       "25                                            Bhután   \n",
       "26                 Bolivia (Estado Plurinacional de)   \n",
       "27                     Bonaire, San Eustaquio y Saba   \n",
       "28                              Bosnia y Herzegovina   \n",
       "29                                          Botswana   \n",
       "..                                               ...   \n",
       "220              ex República Yugoslava de Macedonia   \n",
       "221                                      Timor-Leste   \n",
       "222                                             Togo   \n",
       "223                                          Tokelau   \n",
       "224                                            Tonga   \n",
       "225                                Trinidad y Tabago   \n",
       "226                                            Túnez   \n",
       "227                                          Turquía   \n",
       "228                                     Turkmenistán   \n",
       "229                            Islas Turcas y Caicos   \n",
       "230                                           Tuvalu   \n",
       "231                                           Uganda   \n",
       "232                                          Ucrania   \n",
       "233                           Emiratos Árabes Unidos   \n",
       "234  Reino Unido de Gran Bretaña e Irlanda del Norte   \n",
       "235                      República Unida de Tanzanía   \n",
       "236         Islas menores alejadas de Estados Unidos   \n",
       "237             Islas Vírgenes de los Estados Unidos   \n",
       "238                        Estados Unidos de América   \n",
       "239                                          Uruguay   \n",
       "240                                       Uzbekistán   \n",
       "241                                          Vanuatu   \n",
       "242             Venezuela (República Bolivariana de)   \n",
       "243                                         Viet Nam   \n",
       "244                            Islas Wallis y Futuna   \n",
       "245                                Sáhara Occidental   \n",
       "246                                            Yemen   \n",
       "247                                           Zambia   \n",
       "248                                         Zimbabwe   \n",
       "249                                      Islas Åland   \n",
       "\n",
       "                                      official_name_fr  \\\n",
       "0                                                  NaN   \n",
       "1                                          Afghanistan   \n",
       "2                                              Albanie   \n",
       "3                                              Algérie   \n",
       "4                                    Samoa américaines   \n",
       "5                                              Andorre   \n",
       "6                                               Angola   \n",
       "7                                             Anguilla   \n",
       "8                                          Antarctique   \n",
       "9                                   Antigua-et-Barbuda   \n",
       "10                                           Argentine   \n",
       "11                                             Arménie   \n",
       "12                                               Aruba   \n",
       "13                                           Australie   \n",
       "14                                            Autriche   \n",
       "15                                         Azerbaïdjan   \n",
       "16                                             Bahamas   \n",
       "17                                             Bahreïn   \n",
       "18                                          Bangladesh   \n",
       "19                                             Barbade   \n",
       "20                                             Bélarus   \n",
       "21                                            Belgique   \n",
       "22                                              Belize   \n",
       "23                                               Bénin   \n",
       "24                                            Bermudes   \n",
       "25                                             Bhoutan   \n",
       "26                     Bolivie (État plurinational de)   \n",
       "27                     Bonaire, Saint-Eustache et Saba   \n",
       "28                                  Bosnie-Herzégovine   \n",
       "29                                            Botswana   \n",
       "..                                                 ...   \n",
       "220              ex-République yougoslave de Macédoine   \n",
       "221                                        Timor-Leste   \n",
       "222                                               Togo   \n",
       "223                                           Tokélaou   \n",
       "224                                              Tonga   \n",
       "225                                  Trinité-et-Tobago   \n",
       "226                                            Tunisie   \n",
       "227                                            Turquie   \n",
       "228                                       Turkménistan   \n",
       "229                            Îles Turques-et-Caïques   \n",
       "230                                             Tuvalu   \n",
       "231                                            Ouganda   \n",
       "232                                            Ukraine   \n",
       "233                                Émirats arabes unis   \n",
       "234  Royaume-Uni de Grande-Bretagne et d'Irlande du...   \n",
       "235                        République-Unie de Tanzanie   \n",
       "236             Îles mineures éloignées des États-Unis   \n",
       "237                           Îles Vierges américaines   \n",
       "238                              États-Unis d'Amérique   \n",
       "239                                            Uruguay   \n",
       "240                                        Ouzbékistan   \n",
       "241                                            Vanuatu   \n",
       "242             Venezuela (République bolivarienne du)   \n",
       "243                                           Viet Nam   \n",
       "244                              Îles Wallis-et-Futuna   \n",
       "245                                  Sahara occidental   \n",
       "246                                              Yémen   \n",
       "247                                             Zambie   \n",
       "248                                           Zimbabwe   \n",
       "249                                       Îles d'Åland   \n",
       "\n",
       "                                      official_name_ru ISO3166-1-Alpha-2  \\\n",
       "0                                                  NaN                TW   \n",
       "1                                           Афганистан                AF   \n",
       "2                                              Албания                AL   \n",
       "3                                                Алжир                DZ   \n",
       "4                                   Американское Самоа                AS   \n",
       "5                                              Андорра                AD   \n",
       "6                                               Ангола                AO   \n",
       "7                                              Ангилья                AI   \n",
       "8                                           Антарктике                AQ   \n",
       "9                                    Антигуа и Барбуда                AG   \n",
       "10                                           Аргентина                AR   \n",
       "11                                             Армения                AM   \n",
       "12                                               Аруба                AW   \n",
       "13                                           Австралия                AU   \n",
       "14                                             Австрия                AT   \n",
       "15                                         Азербайджан                AZ   \n",
       "16                                   Багамские Острова                BS   \n",
       "17                                             Бахрейн                BH   \n",
       "18                                           Бангладеш                BD   \n",
       "19                                            Барбадос                BB   \n",
       "20                                            Беларусь                BY   \n",
       "21                                             Бельгия                BE   \n",
       "22                                               Белиз                BZ   \n",
       "23                                               Бенин                BJ   \n",
       "24                                  Бермудские острова                BM   \n",
       "25                                               Бутан                BT   \n",
       "26             Боливия (Многонациональное Государство)                BO   \n",
       "27                       Бонайре, Саба и Синт-Эстатиус                BQ   \n",
       "28                                Босния и Герцеговина                BA   \n",
       "29                                            Ботсвана                BW   \n",
       "..                                                 ...               ...   \n",
       "220            бывшая югославская Республика Македония                MK   \n",
       "221                                        Тимор-Лешти                TL   \n",
       "222                                               Того                TG   \n",
       "223                                            Токелау                TK   \n",
       "224                                              Тонга                TO   \n",
       "225                                  Тринидад и Тобаго                TT   \n",
       "226                                              Тунис                TN   \n",
       "227                                             Турция                TR   \n",
       "228                                       Туркменистан                TM   \n",
       "229                             Острова Тёркс и Кайкос                TC   \n",
       "230                                             Тувалу                TV   \n",
       "231                                             Уганда                UG   \n",
       "232                                            Украина                UA   \n",
       "233                      Объединенные Арабские Эмираты                AE   \n",
       "234  Соединенное Королевство Великобритании и Север...                GB   \n",
       "235                   Объединенная Республика Танзания                TZ   \n",
       "236           Внешние малые острова Coeдинeнныx Штaтoв                UM   \n",
       "237              Виргинские oстрова Coeдинeнныx Штaтoв                VI   \n",
       "238                          Соединенные Штаты Америки                US   \n",
       "239                                            Уругвай                UY   \n",
       "240                                         Узбекистан                UZ   \n",
       "241                                            Вануату                VU   \n",
       "242              Венесуэла (Боливарианская Республика)                VE   \n",
       "243                                            Вьетнам                VN   \n",
       "244                            Острова Уоллис и Футуна                WF   \n",
       "245                                    Западная Сахара                EH   \n",
       "246                                              Йемен                YE   \n",
       "247                                             Замбия                ZM   \n",
       "248                                           Зимбабве                ZW   \n",
       "249                                  Аландские острова                AX   \n",
       "\n",
       "    ISO3166-1-Alpha-3  ISO3166-1-numeric ISO4217-currency_alphabetic_code  \\\n",
       "0                 TWN              158.0                              NaN   \n",
       "1                 AFG                4.0                              AFN   \n",
       "2                 ALB                8.0                              ALL   \n",
       "3                 DZA               12.0                              DZD   \n",
       "4                 ASM               16.0                              USD   \n",
       "5                 AND               20.0                              EUR   \n",
       "6                 AGO               24.0                              AOA   \n",
       "7                 AIA              660.0                              XCD   \n",
       "8                 ATA               10.0                              NaN   \n",
       "9                 ATG               28.0                              XCD   \n",
       "10                ARG               32.0                              ARS   \n",
       "11                ARM               51.0                              AMD   \n",
       "12                ABW              533.0                              AWG   \n",
       "13                AUS               36.0                              AUD   \n",
       "14                AUT               40.0                              EUR   \n",
       "15                AZE               31.0                              AZN   \n",
       "16                BHS               44.0                              BSD   \n",
       "17                BHR               48.0                              BHD   \n",
       "18                BGD               50.0                              BDT   \n",
       "19                BRB               52.0                              BBD   \n",
       "20                BLR              112.0                              BYN   \n",
       "21                BEL               56.0                              EUR   \n",
       "22                BLZ               84.0                              BZD   \n",
       "23                BEN              204.0                              XOF   \n",
       "24                BMU               60.0                              BMD   \n",
       "25                BTN               64.0                          INR,BTN   \n",
       "26                BOL               68.0                              BOB   \n",
       "27                BES              535.0                              USD   \n",
       "28                BIH               70.0                              BAM   \n",
       "29                BWA               72.0                              BWP   \n",
       "..                ...                ...                              ...   \n",
       "220               MKD              807.0                              MKD   \n",
       "221               TLS              626.0                              USD   \n",
       "222               TGO              768.0                              XOF   \n",
       "223               TKL              772.0                              NZD   \n",
       "224               TON              776.0                              TOP   \n",
       "225               TTO              780.0                              TTD   \n",
       "226               TUN              788.0                              TND   \n",
       "227               TUR              792.0                              TRY   \n",
       "228               TKM              795.0                              TMT   \n",
       "229               TCA              796.0                              USD   \n",
       "230               TUV              798.0                              AUD   \n",
       "231               UGA              800.0                              UGX   \n",
       "232               UKR              804.0                              UAH   \n",
       "233               ARE              784.0                              AED   \n",
       "234               GBR              826.0                              GBP   \n",
       "235               TZA              834.0                              TZS   \n",
       "236               UMI              581.0                              USD   \n",
       "237               VIR              850.0                              USD   \n",
       "238               USA              840.0                              USD   \n",
       "239               URY              858.0                              UYU   \n",
       "240               UZB              860.0                              UZS   \n",
       "241               VUT              548.0                              VUV   \n",
       "242               VEN              862.0                              VEF   \n",
       "243               VNM              704.0                              VND   \n",
       "244               WLF              876.0                              XPF   \n",
       "245               ESH              732.0                              MAD   \n",
       "246               YEM              887.0                              YER   \n",
       "247               ZMB              894.0                              ZMW   \n",
       "248               ZWE              716.0                              ZWL   \n",
       "249               ALA              248.0                              EUR   \n",
       "\n",
       "           ...         Least Developed Countries (LDC)            MARC  \\\n",
       "0          ...                                     NaN              ch   \n",
       "1          ...                                       x              af   \n",
       "2          ...                                     NaN              aa   \n",
       "3          ...                                     NaN              ae   \n",
       "4          ...                                     NaN              as   \n",
       "5          ...                                     NaN              an   \n",
       "6          ...                                       x              ao   \n",
       "7          ...                                     NaN              am   \n",
       "8          ...                                     NaN              ay   \n",
       "9          ...                                     NaN              aq   \n",
       "10         ...                                     NaN              ag   \n",
       "11         ...                                     NaN              ai   \n",
       "12         ...                                     NaN              aw   \n",
       "13         ...                                     NaN              at   \n",
       "14         ...                                     NaN              au   \n",
       "15         ...                                     NaN              aj   \n",
       "16         ...                                     NaN              bf   \n",
       "17         ...                                     NaN              ba   \n",
       "18         ...                                       x              bg   \n",
       "19         ...                                     NaN              bb   \n",
       "20         ...                                     NaN              bw   \n",
       "21         ...                                     NaN              be   \n",
       "22         ...                                     NaN              bh   \n",
       "23         ...                                       x              dm   \n",
       "24         ...                                     NaN              bm   \n",
       "25         ...                                       x              bt   \n",
       "26         ...                                     NaN              bo   \n",
       "27         ...                                     NaN              ca   \n",
       "28         ...                                     NaN              bn   \n",
       "29         ...                                     NaN              bs   \n",
       "..         ...                                     ...             ...   \n",
       "220        ...                                     NaN              xn   \n",
       "221        ...                                       x              em   \n",
       "222        ...                                       x              tg   \n",
       "223        ...                                     NaN              tl   \n",
       "224        ...                                     NaN              to   \n",
       "225        ...                                     NaN              tr   \n",
       "226        ...                                     NaN              ti   \n",
       "227        ...                                     NaN              tu   \n",
       "228        ...                                     NaN              tk   \n",
       "229        ...                                     NaN              tc   \n",
       "230        ...                                       x              tv   \n",
       "231        ...                                       x              ug   \n",
       "232        ...                                     NaN              un   \n",
       "233        ...                                     NaN              ts   \n",
       "234        ...                                     NaN             xxk   \n",
       "235        ...                                       x              tz   \n",
       "236        ...                                     NaN  ji,xf,wk,uc,up   \n",
       "237        ...                                     NaN              vi   \n",
       "238        ...                                     NaN             xxu   \n",
       "239        ...                                     NaN              uy   \n",
       "240        ...                                     NaN              uz   \n",
       "241        ...                                       x              nn   \n",
       "242        ...                                     NaN              ve   \n",
       "243        ...                                     NaN              vm   \n",
       "244        ...                                     NaN              wf   \n",
       "245        ...                                     NaN              ss   \n",
       "246        ...                                       x              ye   \n",
       "247        ...                                       x              za   \n",
       "248        ...                                     NaN              rh   \n",
       "249        ...                                     NaN                   \n",
       "\n",
       "    Region Code Region Name  Small Island Developing States (SIDS)  \\\n",
       "0           NaN         NaN                                    NaN   \n",
       "1         142.0        Asia                                    NaN   \n",
       "2         150.0      Europe                                    NaN   \n",
       "3           2.0      Africa                                    NaN   \n",
       "4           9.0     Oceania                                      x   \n",
       "5         150.0      Europe                                    NaN   \n",
       "6           2.0      Africa                                    NaN   \n",
       "7          19.0    Americas                                      x   \n",
       "8           NaN         NaN                                    NaN   \n",
       "9          19.0    Americas                                      x   \n",
       "10         19.0    Americas                                    NaN   \n",
       "11        142.0        Asia                                    NaN   \n",
       "12         19.0    Americas                                      x   \n",
       "13          9.0     Oceania                                    NaN   \n",
       "14        150.0      Europe                                    NaN   \n",
       "15        142.0        Asia                                    NaN   \n",
       "16         19.0    Americas                                      x   \n",
       "17        142.0        Asia                                    NaN   \n",
       "18        142.0        Asia                                    NaN   \n",
       "19         19.0    Americas                                      x   \n",
       "20        150.0      Europe                                    NaN   \n",
       "21        150.0      Europe                                    NaN   \n",
       "22         19.0    Americas                                      x   \n",
       "23          2.0      Africa                                    NaN   \n",
       "24         19.0    Americas                                    NaN   \n",
       "25        142.0        Asia                                    NaN   \n",
       "26         19.0    Americas                                    NaN   \n",
       "27         19.0    Americas                                      x   \n",
       "28        150.0      Europe                                    NaN   \n",
       "29          2.0      Africa                                    NaN   \n",
       "..          ...         ...                                    ...   \n",
       "220       150.0      Europe                                    NaN   \n",
       "221       142.0        Asia                                      x   \n",
       "222         2.0      Africa                                    NaN   \n",
       "223         9.0     Oceania                                    NaN   \n",
       "224         9.0     Oceania                                      x   \n",
       "225        19.0    Americas                                      x   \n",
       "226         2.0      Africa                                    NaN   \n",
       "227       142.0        Asia                                    NaN   \n",
       "228       142.0        Asia                                    NaN   \n",
       "229        19.0    Americas                                    NaN   \n",
       "230         9.0     Oceania                                      x   \n",
       "231         2.0      Africa                                    NaN   \n",
       "232       150.0      Europe                                    NaN   \n",
       "233       142.0        Asia                                    NaN   \n",
       "234       150.0      Europe                                    NaN   \n",
       "235         2.0      Africa                                    NaN   \n",
       "236         9.0     Oceania                                    NaN   \n",
       "237        19.0    Americas                                      x   \n",
       "238        19.0    Americas                                    NaN   \n",
       "239        19.0    Americas                                    NaN   \n",
       "240       142.0        Asia                                    NaN   \n",
       "241         9.0     Oceania                                      x   \n",
       "242        19.0    Americas                                    NaN   \n",
       "243       142.0        Asia                                    NaN   \n",
       "244         9.0     Oceania                                    NaN   \n",
       "245         2.0      Africa                                    NaN   \n",
       "246       142.0        Asia                                    NaN   \n",
       "247         2.0      Africa                                    NaN   \n",
       "248         2.0      Africa                                    NaN   \n",
       "249       150.0      Europe                                    NaN   \n",
       "\n",
       "    Sub-region Code                  Sub-region Name  TLD WMO  \\\n",
       "0               NaN                              NaN  .tw       \n",
       "1              34.0                    Southern Asia  .af  AF   \n",
       "2              39.0                  Southern Europe  .al  AB   \n",
       "3              15.0                  Northern Africa  .dz  AL   \n",
       "4              61.0                        Polynesia  .as       \n",
       "5              39.0                  Southern Europe  .ad       \n",
       "6             202.0               Sub-Saharan Africa  .ao  AN   \n",
       "7             419.0  Latin America and the Caribbean  .ai       \n",
       "8               NaN                              NaN  .aq  AA   \n",
       "9             419.0  Latin America and the Caribbean  .ag  AT   \n",
       "10            419.0  Latin America and the Caribbean  .ar  AG   \n",
       "11            145.0                     Western Asia  .am  AY   \n",
       "12            419.0  Latin America and the Caribbean  .aw  NU   \n",
       "13             53.0        Australia and New Zealand  .au  AU   \n",
       "14            155.0                   Western Europe  .at  OS   \n",
       "15            145.0                     Western Asia  .az  AJ   \n",
       "16            419.0  Latin America and the Caribbean  .bs  BA   \n",
       "17            145.0                     Western Asia  .bh  BN   \n",
       "18             34.0                    Southern Asia  .bd  BW   \n",
       "19            419.0  Latin America and the Caribbean  .bb  BR   \n",
       "20            151.0                   Eastern Europe  .by  BY   \n",
       "21            155.0                   Western Europe  .be  BX   \n",
       "22            419.0  Latin America and the Caribbean  .bz  BH   \n",
       "23            202.0               Sub-Saharan Africa  .bj  BJ   \n",
       "24             21.0                 Northern America  .bm  BE   \n",
       "25             34.0                    Southern Asia  .bt       \n",
       "26            419.0  Latin America and the Caribbean  .bo  BO   \n",
       "27            419.0  Latin America and the Caribbean  .bq  NU   \n",
       "28             39.0                  Southern Europe  .ba  BG   \n",
       "29            202.0               Sub-Saharan Africa  .bw  BC   \n",
       "..              ...                              ...  ...  ..   \n",
       "220            39.0                  Southern Europe  .mk  MJ   \n",
       "221            35.0               South-eastern Asia  .tl  TM   \n",
       "222           202.0               Sub-Saharan Africa  .tg  TG   \n",
       "223            61.0                        Polynesia  .tk  TK   \n",
       "224            61.0                        Polynesia  .to  TO   \n",
       "225           419.0  Latin America and the Caribbean  .tt  TD   \n",
       "226            15.0                  Northern Africa  .tn  TS   \n",
       "227           145.0                     Western Asia  .tr  TU   \n",
       "228           143.0                     Central Asia  .tm  TR   \n",
       "229           419.0  Latin America and the Caribbean  .tc  TI   \n",
       "230            61.0                        Polynesia  .tv  TV   \n",
       "231           202.0               Sub-Saharan Africa  .ug  UG   \n",
       "232           151.0                   Eastern Europe  .ua  UR   \n",
       "233           145.0                     Western Asia  .ae  ER   \n",
       "234           154.0                  Northern Europe  .uk  UK   \n",
       "235           202.0               Sub-Saharan Africa  .tz  TN   \n",
       "236            57.0                       Micronesia  .um       \n",
       "237           419.0  Latin America and the Caribbean  .vi  VI   \n",
       "238            21.0                 Northern America  .us  US   \n",
       "239           419.0  Latin America and the Caribbean  .uy  UY   \n",
       "240           143.0                     Central Asia  .uz  UZ   \n",
       "241            54.0                        Melanesia  .vu  NV   \n",
       "242           419.0  Latin America and the Caribbean  .ve  VN   \n",
       "243            35.0               South-eastern Asia  .vn  VS   \n",
       "244            61.0                        Polynesia  .wf  FW   \n",
       "245            15.0                  Northern Africa  .eh       \n",
       "246           145.0                     Western Asia  .ye  YE   \n",
       "247           202.0               Sub-Saharan Africa  .zm  ZB   \n",
       "248           202.0               Sub-Saharan Africa  .zw  ZW   \n",
       "249           154.0                  Northern Europe  .ax       \n",
       "\n",
       "        is_independent  \n",
       "0                  Yes  \n",
       "1                  Yes  \n",
       "2                  Yes  \n",
       "3                  Yes  \n",
       "4      Territory of US  \n",
       "5                  Yes  \n",
       "6                  Yes  \n",
       "7      Territory of GB  \n",
       "8        International  \n",
       "9                  Yes  \n",
       "10                 Yes  \n",
       "11                 Yes  \n",
       "12          Part of NL  \n",
       "13                 Yes  \n",
       "14                 Yes  \n",
       "15                 Yes  \n",
       "16                 Yes  \n",
       "17                 Yes  \n",
       "18                 Yes  \n",
       "19                 Yes  \n",
       "20                 Yes  \n",
       "21                 Yes  \n",
       "22                 Yes  \n",
       "23                 Yes  \n",
       "24     Territory of GB  \n",
       "25                 Yes  \n",
       "26                 Yes  \n",
       "27          Part of NL  \n",
       "28                 Yes  \n",
       "29                 Yes  \n",
       "..                 ...  \n",
       "220                Yes  \n",
       "221                Yes  \n",
       "222                Yes  \n",
       "223    Territory of NZ  \n",
       "224                Yes  \n",
       "225                Yes  \n",
       "226                Yes  \n",
       "227                Yes  \n",
       "228                Yes  \n",
       "229    Territory of GB  \n",
       "230                Yes  \n",
       "231                Yes  \n",
       "232                Yes  \n",
       "233                Yes  \n",
       "234                Yes  \n",
       "235                Yes  \n",
       "236  Territories of US  \n",
       "237    Territory of US  \n",
       "238                Yes  \n",
       "239                Yes  \n",
       "240                Yes  \n",
       "241                Yes  \n",
       "242                Yes  \n",
       "243                Yes  \n",
       "244    Territory of FR  \n",
       "245      In contention  \n",
       "246                Yes  \n",
       "247                Yes  \n",
       "248                Yes  \n",
       "249         Part of FI  \n",
       "\n",
       "[250 rows x 56 columns]"
      ]
     },
     "metadata": {},
     "output_type": "display_data"
    }
   ],
   "source": [
    "display(large_set)"
   ]
  },
  {
   "cell_type": "markdown",
   "metadata": {
    "slideshow": {
     "slide_type": "subslide"
    }
   },
   "source": [
    "Print or diplay the first N lines (default = 5) of the DataFrame with the `.head(N)` function. "
   ]
  },
  {
   "cell_type": "code",
   "execution_count": 37,
   "metadata": {},
   "outputs": [
    {
     "name": "stdout",
     "output_type": "stream",
     "text": [
      "  official_name_ar official_name_cn official_name_en official_name_es  \\\n",
      "0              NaN              NaN              NaN              NaN   \n",
      "1        أفغانستان              阿富汗      Afghanistan       Afganistán   \n",
      "2          ألبانيا            阿尔巴尼亚          Albania          Albania   \n",
      "\n",
      "  official_name_fr official_name_ru ISO3166-1-Alpha-2 ISO3166-1-Alpha-3  \\\n",
      "0              NaN              NaN                TW               TWN   \n",
      "1      Afghanistan       Афганистан                AF               AFG   \n",
      "2          Albanie          Албания                AL               ALB   \n",
      "\n",
      "   ISO3166-1-numeric ISO4217-currency_alphabetic_code      ...        \\\n",
      "0              158.0                              NaN      ...         \n",
      "1                4.0                              AFN      ...         \n",
      "2                8.0                              ALL      ...         \n",
      "\n",
      "  Least Developed Countries (LDC) MARC Region Code Region Name  \\\n",
      "0                             NaN   ch         NaN         NaN   \n",
      "1                               x   af       142.0        Asia   \n",
      "2                             NaN   aa       150.0      Europe   \n",
      "\n",
      "   Small Island Developing States (SIDS) Sub-region Code  Sub-region Name  \\\n",
      "0                                    NaN             NaN              NaN   \n",
      "1                                    NaN            34.0    Southern Asia   \n",
      "2                                    NaN            39.0  Southern Europe   \n",
      "\n",
      "   TLD WMO is_independent  \n",
      "0  .tw                Yes  \n",
      "1  .af  AF            Yes  \n",
      "2  .al  AB            Yes  \n",
      "\n",
      "[3 rows x 56 columns]\n"
     ]
    }
   ],
   "source": [
    "print(large_set.head(3))"
   ]
  },
  {
   "cell_type": "markdown",
   "metadata": {
    "slideshow": {
     "slide_type": "slide"
    }
   },
   "source": [
    "### Basic DataFrame manipulation\n",
    "### Indexing\n",
    "A DataFrame may be indexed into like an array.\n",
    "\n",
    "#### .iloc syntax\n",
    "\n",
    "The `.iloc` (*index location*) indexing syntax is used. \n",
    "\n",
    "Column 0 is the column labeled `Sex` (as the column labeled as `Student` was stored as an index when reading the csv file)."
   ]
  },
  {
   "cell_type": "code",
   "execution_count": 38,
   "metadata": {
    "slideshow": {
     "slide_type": "subslide"
    }
   },
   "outputs": [
    {
     "name": "stdout",
     "output_type": "stream",
     "text": [
      "19/12/1995\n",
      "\n",
      "1.77\n",
      "\n",
      "69.7\n",
      "\n",
      "114/73\n",
      "\n",
      "Sex                M\n",
      "DOB       19/12/1995\n",
      "Height          1.82\n",
      "Weight          92.4\n",
      "BP            119/76\n",
      "Name: JW-1, dtype: object\n",
      "\n",
      "Student\n",
      "JW-1    92.4\n",
      "JW-2    80.9\n",
      "JW-3    69.7\n",
      "JW-4    80.9\n",
      "JW-5    69.7\n",
      "Name: Weight, dtype: float64\n",
      "\n"
     ]
    }
   ],
   "source": [
    "print(students.iloc[0, 1], end='\\n\\n')  # gives the sex of student JW-1\n",
    "print(students.iloc[1, 2], end='\\n\\n')  # gives the DOB of student JW-2\n",
    "print(students.iloc[2, 3], end='\\n\\n')  # gives the Height of student JW-3\n",
    "print(students.iloc[3, 4], end='\\n\\n')  # gives the Weight of student JW-4\n",
    "print(students.iloc[0],    end='\\n\\n')  # all data for student JW-1\n",
    "\n",
    "print(students.iloc[:, 3].head(), end='\\n\\n')  # all height data (first 5 entries)"
   ]
  },
  {
   "cell_type": "markdown",
   "metadata": {
    "slideshow": {
     "slide_type": "subslide"
    }
   },
   "source": [
    "#### .loc syntax\n",
    "Alternatively, values in a DataFrame can be indexed by keyword.\n",
    "\n",
    "The `.loc` indexing syntax is used. \n",
    "\n",
    "This is *much* more explicit. \n",
    "\n",
    "The equivalent of the code cell above, using keywords is:"
   ]
  },
  {
   "cell_type": "code",
   "execution_count": 39,
   "metadata": {
    "slideshow": {
     "slide_type": "subslide"
    }
   },
   "outputs": [
    {
     "name": "stdout",
     "output_type": "stream",
     "text": [
      "Sex                M\n",
      "DOB       19/12/1995\n",
      "Height          1.82\n",
      "Weight          92.4\n",
      "BP            119/76\n",
      "Name: JW-1, dtype: object\n",
      "\n"
     ]
    }
   ],
   "source": [
    "#print(students.loc['JW-1', 'Sex'],    end='\\n\\n')\n",
    "# print(students.loc['JW-2', 'DOB'],    end='\\n\\n')\n",
    "# print(students.loc['JW-3', 'Height'], end='\\n\\n')\n",
    "# print(students.loc['JW-4', 'Weight'], end='\\n\\n')\n",
    "print(students.loc['JW-1']            , end='\\n\\n')\n",
    "\n",
    "# print(students.loc[:,'Height'].head(), end='\\n\\n')"
   ]
  },
  {
   "cell_type": "markdown",
   "metadata": {
    "slideshow": {
     "slide_type": "subslide"
    }
   },
   "source": [
    "#### Selecting columns by keyword without the .loc syntax\n",
    "Two simpler methods of selecting columns by keyword are shown below:\n"
   ]
  },
  {
   "cell_type": "code",
   "execution_count": 40,
   "metadata": {
    "slideshow": {
     "slide_type": "subslide"
    }
   },
   "outputs": [
    {
     "name": "stdout",
     "output_type": "stream",
     "text": [
      "Student\n",
      "JW-1    1.82\n",
      "JW-2    1.77\n",
      "JW-3    1.68\n",
      "JW-4    1.77\n",
      "JW-5    1.68\n",
      "Name: Height, dtype: float64\n"
     ]
    }
   ],
   "source": [
    "print(students['Height'].head())        # 'car' column "
   ]
  },
  {
   "cell_type": "code",
   "execution_count": 41,
   "metadata": {
    "slideshow": {
     "slide_type": "subslide"
    }
   },
   "outputs": [
    {
     "name": "stdout",
     "output_type": "stream",
     "text": [
      "Student\n",
      "JW-1    19/12/1995\n",
      "JW-2    11/01/1996\n",
      "JW-3    02/10/1995\n",
      "JW-4    11/01/1996\n",
      "JW-5    02/10/1995\n",
      "Name: DOB, dtype: object\n"
     ]
    }
   ],
   "source": [
    "print(students.DOB.head())"
   ]
  },
  {
   "cell_type": "markdown",
   "metadata": {
    "slideshow": {
     "slide_type": "slide"
    }
   },
   "source": [
    "### `numpy` functions for DataFrames\n",
    "In general, most numpy fuctions can be applied to data frames in the same way as to numpy arrays. \n",
    "\n",
    "Functions can also be accessed with the *dot* syntax:\n",
    "> `dataframe.function()`\n",
    "\n",
    "where `dataframe_name` and `function` are replaced with the actual data frame and function names."
   ]
  },
  {
   "cell_type": "markdown",
   "metadata": {},
   "source": [
    "Jupyter notebook has a convenient command to show all available functions. \n",
    "\n",
    "1.Type the name of the data frame followed by a dot e.g. \n",
    "\n",
    ">`students.` \n",
    "\n",
    "1. Press \"Tab\" to see all the functions that are available (there are many). "
   ]
  },
  {
   "cell_type": "code",
   "execution_count": null,
   "metadata": {
    "collapsed": true
   },
   "outputs": [],
   "source": [
    "#students."
   ]
  },
  {
   "cell_type": "markdown",
   "metadata": {},
   "source": [
    "Examples: Functions applied to the `students` data frame."
   ]
  },
  {
   "cell_type": "code",
   "execution_count": 43,
   "metadata": {},
   "outputs": [
    {
     "name": "stdout",
     "output_type": "stream",
     "text": [
      "Maximum height amongst students 1.97\n",
      "Tallest student: JW-23\n",
      "Sex of tallest student: M\n",
      "Mean student weight: 71.75454545454545\n"
     ]
    }
   ],
   "source": [
    "print('Maximum height amongst students', students.Height.max())\n",
    "\n",
    "print('Tallest student:',                students.Height.argmax())\n",
    "\n",
    "print('Sex of tallest student:',         students.Sex[students.Height.argmax()])   \n",
    "\n",
    "print('Mean student weight:',            students.Weight.mean())"
   ]
  },
  {
   "cell_type": "code",
   "execution_count": 44,
   "metadata": {},
   "outputs": [
    {
     "name": "stdout",
     "output_type": "stream",
     "text": [
      "All female students:\n",
      "Index(['JW-3', 'JW-5', 'JW-7', 'JW-9', 'JW-10', 'JW-14', 'JW-15', 'JW-19',\n",
      "       'JW-22', 'JW-24', 'JW-25'],\n",
      "      dtype='object', name='Student')\n",
      "['JW-3', 'JW-5', 'JW-7', 'JW-9', 'JW-10', 'JW-14', 'JW-15', 'JW-19', 'JW-22', 'JW-24', 'JW-25']\n"
     ]
    }
   ],
   "source": [
    "print('All female students:')\n",
    "\n",
    "# Index of female students...\n",
    "print(students.index[students.Sex == 'F'])\n",
    "\n",
    "# ...expressed as a list.\n",
    "print((students.index[students.Sex == 'F']).tolist())"
   ]
  },
  {
   "cell_type": "markdown",
   "metadata": {},
   "source": [
    "__Try it yourself__\n",
    "In the cell below, multiply the weight of each student by 2.2 to convert weight in kg to weight in lb (pounds)."
   ]
  },
  {
   "cell_type": "code",
   "execution_count": 49,
   "metadata": {},
   "outputs": [
    {
     "data": {
      "text/plain": [
       "Student\n",
       "JW-1    203.28\n",
       "JW-2    177.98\n",
       "JW-3    153.34\n",
       "JW-4    177.98\n",
       "JW-5    153.34\n",
       "Name: Weight, dtype: float64"
      ]
     },
     "execution_count": 49,
     "metadata": {},
     "output_type": "execute_result"
    }
   ],
   "source": [
    "# Convert student wewigh in kg to weight in lb\n",
    "students.Weight.multiply(2.2).head()"
   ]
  },
  {
   "cell_type": "markdown",
   "metadata": {
    "slideshow": {
     "slide_type": "slide"
    }
   },
   "source": [
    "### Boolean DataFrame indexing\n",
    "Like numpy arrays, we can select (and change) values within a DataFrame based on a condition.\n",
    "\n",
    "__Example__\n",
    "Set all heights above 1.70 to 1.70.\n",
    "\n",
    "Use the condition `students.Height > 1.70` as the first index and `Height` as the second index."
   ]
  },
  {
   "cell_type": "code",
   "execution_count": 50,
   "metadata": {},
   "outputs": [
    {
     "name": "stdout",
     "output_type": "stream",
     "text": [
      "        Sex         DOB  Height  Weight      BP\n",
      "Student                                        \n",
      "JW-1      M  19/12/1995    1.70    92.4  119/76\n",
      "JW-2      M  11/01/1996    1.70    80.9  114/73\n",
      "JW-3      F  02/10/1995    1.68    69.7  124/79\n",
      "JW-4      M  11/01/1996    1.70    80.9  114/73\n",
      "JW-5      F  02/10/1995    1.68    69.7  124/79\n",
      "        Sex         DOB  Height  Weight      BP\n",
      "Student                                        \n",
      "JW-1      M  19/12/1995    1.70    92.4  119/76\n",
      "JW-2      M  11/01/1996    1.70    80.9  114/73\n",
      "JW-3      F  02/10/1995    1.68    69.7  124/79\n",
      "JW-4      M  11/01/1996    1.70    80.9  114/73\n",
      "JW-5      F  02/10/1995    1.68    69.7  124/79\n"
     ]
    }
   ],
   "source": [
    "print(students.head())\n",
    "\n",
    "students.loc[students.Height > 1.70, 'Height'] = 1.70\n",
    "\n",
    "print(students.head())"
   ]
  },
  {
   "cell_type": "markdown",
   "metadata": {},
   "source": [
    "__Example__\n",
    "Set the Weight of all students with Height = 1.70, to 65.0\n",
    "\n",
    "Use the condition `students.Height == 1.70` as the first index and `Weight` as the second index."
   ]
  },
  {
   "cell_type": "code",
   "execution_count": 51,
   "metadata": {},
   "outputs": [
    {
     "name": "stdout",
     "output_type": "stream",
     "text": [
      "        Sex         DOB  Height  Weight      BP\n",
      "Student                                        \n",
      "JW-1      M  19/12/1995    1.70    65.0  119/76\n",
      "JW-2      M  11/01/1996    1.70    65.0  114/73\n",
      "JW-3      F  02/10/1995    1.68    69.7  124/79\n",
      "JW-4      M  11/01/1996    1.70    65.0  114/73\n",
      "JW-5      F  02/10/1995    1.68    69.7  124/79\n"
     ]
    }
   ],
   "source": [
    "students.loc[students.Height == 1.70, 'Weight'] = 65.0\n",
    "print(students.head())"
   ]
  },
  {
   "cell_type": "markdown",
   "metadata": {},
   "source": [
    "### Iterating\n",
    "To iterate through each index (row) in the data frame, there is a method called `iterrows`.\n",
    "\n"
   ]
  },
  {
   "cell_type": "code",
   "execution_count": 54,
   "metadata": {},
   "outputs": [
    {
     "name": "stdout",
     "output_type": "stream",
     "text": [
      "JW-1 19/12/1995\n",
      "JW-2 11/01/1996\n",
      "JW-3 02/10/1995\n",
      "JW-4 11/01/1996\n",
      "JW-5 02/10/1995\n",
      "JW-6 06/07/1995\n",
      "JW-7 28/03/1996\n",
      "JW-9 11/12/1995\n",
      "JW-10 07/04/1996\n",
      "JW-11 22/08/1995\n",
      "JW-12 23/05/1996\n",
      "JW-14 12/01/1996\n",
      "JW-15 01/06/1996\n",
      "JW-16 10/09/1995\n",
      "JW-17 17/02/1996\n",
      "JW-18 31/07/1996\n",
      "JW-19 30/10/1995\n",
      "JW-22 09/03/1996\n",
      "JW-23 15/05/1995\n",
      "JW-24 01/12/1995\n",
      "JW-25 25/10/1995\n",
      "JW-26 17/04/1996\n"
     ]
    }
   ],
   "source": [
    "for index, row in students.iterrows():\n",
    "    print(index, row[\"DOB\"])"
   ]
  },
  {
   "cell_type": "markdown",
   "metadata": {
    "slideshow": {
     "slide_type": "slide"
    }
   },
   "source": [
    "### Plotting DataFrames\n",
    "You can plot the column or row of a DataFrame with `matplotlib` functions, as we have studied. "
   ]
  },
  {
   "cell_type": "code",
   "execution_count": 55,
   "metadata": {},
   "outputs": [
    {
     "data": {
      "text/plain": [
       "[<matplotlib.lines.Line2D at 0x1124ec470>]"
      ]
     },
     "execution_count": 55,
     "metadata": {},
     "output_type": "execute_result"
    },
    {
     "data": {
      "image/png": "[encoded data removed]",
      "text/plain": [
       "<matplotlib.figure.Figure at 0x105a32358>"
      ]
     },
     "metadata": {},
     "output_type": "display_data"
    }
   ],
   "source": [
    "plt.plot(students.Weight, students.Height, 'o')"
   ]
  },
  {
   "cell_type": "code",
   "execution_count": 56,
   "metadata": {},
   "outputs": [
    {
     "data": {
      "text/html": [
       "<div>\n",
       "<style>\n",
       "    .dataframe thead tr:only-child th {\n",
       "        text-align: right;\n",
       "    }\n",
       "\n",
       "    .dataframe thead th {\n",
       "        text-align: left;\n",
       "    }\n",
       "\n",
       "    .dataframe tbody tr th {\n",
       "        vertical-align: top;\n",
       "    }\n",
       "</style>\n",
       "<table border=\"1\" class=\"dataframe\">\n",
       "  <thead>\n",
       "    <tr style=\"text-align: right;\">\n",
       "      <th></th>\n",
       "      <th>0</th>\n",
       "      <th>1</th>\n",
       "      <th>2</th>\n",
       "      <th>3</th>\n",
       "      <th>4</th>\n",
       "    </tr>\n",
       "  </thead>\n",
       "  <tbody>\n",
       "    <tr>\n",
       "      <th>0</th>\n",
       "      <td>1.053</td>\n",
       "      <td>2.105</td>\n",
       "      <td>3.158</td>\n",
       "      <td>4.211</td>\n",
       "      <td>6.056</td>\n",
       "    </tr>\n",
       "    <tr>\n",
       "      <th>1</th>\n",
       "      <td>48.348</td>\n",
       "      <td>68.733</td>\n",
       "      <td>59.796</td>\n",
       "      <td>54.123</td>\n",
       "      <td>74.452</td>\n",
       "    </tr>\n",
       "  </tbody>\n",
       "</table>\n",
       "</div>"
      ],
      "text/plain": [
       "        0       1       2       3       4\n",
       "0   1.053   2.105   3.158   4.211   6.056\n",
       "1  48.348  68.733  59.796  54.123  74.452"
      ]
     },
     "metadata": {},
     "output_type": "display_data"
    }
   ],
   "source": [
    "unlabelled = read_csv('sample_data/noHeader_noIndex.csv', header=None)\n",
    "\n",
    "display(unlabelled)"
   ]
  },
  {
   "cell_type": "markdown",
   "metadata": {},
   "source": [
    "Where there are no headers or row names, `iloc` indexingcan be used as normal."
   ]
  },
  {
   "cell_type": "code",
   "execution_count": 57,
   "metadata": {},
   "outputs": [
    {
     "data": {
      "text/plain": [
       "[<matplotlib.lines.Line2D at 0x1125b8240>]"
      ]
     },
     "execution_count": 57,
     "metadata": {},
     "output_type": "execute_result"
    },
    {
     "data": {
      "image/png": "[encoded data removed]",
      "text/plain": [
       "<matplotlib.figure.Figure at 0x105a21780>"
      ]
     },
     "metadata": {},
     "output_type": "display_data"
    }
   ],
   "source": [
    "# Plot row 1 (y axis) against row 0 (x axis)\n",
    "plt.plot(unlabelled.iloc[0], unlabelled.iloc[1]) "
   ]
  },
  {
   "cell_type": "markdown",
   "metadata": {},
   "source": [
    "Where there are no headers or row names, `loc` indexingcan uses numerical inices in place of strings (i.e. same as `iloc`):"
   ]
  },
  {
   "cell_type": "code",
   "execution_count": 58,
   "metadata": {},
   "outputs": [
    {
     "name": "stdout",
     "output_type": "stream",
     "text": [
      "Int64Index([0, 1, 2, 3, 4], dtype='int64')\n"
     ]
    },
    {
     "data": {
      "text/plain": [
       "[<matplotlib.lines.Line2D at 0x11260dd68>]"
      ]
     },
     "execution_count": 58,
     "metadata": {},
     "output_type": "execute_result"
    },
    {
     "data": {
      "image/png": "[encoded data removed]",
      "text/plain": [
       "<matplotlib.figure.Figure at 0x11252f278>"
      ]
     },
     "metadata": {},
     "output_type": "display_data"
    }
   ],
   "source": [
    "print(unlabelled.keys())\n",
    "\n",
    "plt.plot(unlabelled.loc[0], unlabelled.loc[1]) "
   ]
  },
  {
   "cell_type": "markdown",
   "metadata": {},
   "source": [
    "To plot all columns against each other:"
   ]
  },
  {
   "cell_type": "code",
   "execution_count": 59,
   "metadata": {},
   "outputs": [
    {
     "data": {
      "text/html": [
       "<div>\n",
       "<style>\n",
       "    .dataframe thead tr:only-child th {\n",
       "        text-align: right;\n",
       "    }\n",
       "\n",
       "    .dataframe thead th {\n",
       "        text-align: left;\n",
       "    }\n",
       "\n",
       "    .dataframe tbody tr th {\n",
       "        vertical-align: top;\n",
       "    }\n",
       "</style>\n",
       "<table border=\"1\" class=\"dataframe\">\n",
       "  <thead>\n",
       "    <tr style=\"text-align: right;\">\n",
       "      <th></th>\n",
       "      <th>X</th>\n",
       "      <th>Y</th>\n",
       "    </tr>\n",
       "  </thead>\n",
       "  <tbody>\n",
       "    <tr>\n",
       "      <th>0</th>\n",
       "      <td>1.053</td>\n",
       "      <td>48.348</td>\n",
       "    </tr>\n",
       "    <tr>\n",
       "      <th>1</th>\n",
       "      <td>2.105</td>\n",
       "      <td>68.733</td>\n",
       "    </tr>\n",
       "    <tr>\n",
       "      <th>2</th>\n",
       "      <td>3.158</td>\n",
       "      <td>59.796</td>\n",
       "    </tr>\n",
       "    <tr>\n",
       "      <th>3</th>\n",
       "      <td>4.211</td>\n",
       "      <td>54.123</td>\n",
       "    </tr>\n",
       "    <tr>\n",
       "      <th>4</th>\n",
       "      <td>6.056</td>\n",
       "      <td>74.452</td>\n",
       "    </tr>\n",
       "  </tbody>\n",
       "</table>\n",
       "</div>"
      ],
      "text/plain": [
       "       X       Y\n",
       "0  1.053  48.348\n",
       "1  2.105  68.733\n",
       "2  3.158  59.796\n",
       "3  4.211  54.123\n",
       "4  6.056  74.452"
      ]
     },
     "metadata": {},
     "output_type": "display_data"
    },
    {
     "data": {
      "text/plain": [
       "<matplotlib.axes._subplots.AxesSubplot at 0x11252f588>"
      ]
     },
     "execution_count": 59,
     "metadata": {},
     "output_type": "execute_result"
    },
    {
     "data": {
      "image/png": "[encoded data removed]",
      "text/plain": [
       "<matplotlib.figure.Figure at 0x1125eb4a8>"
      ]
     },
     "metadata": {},
     "output_type": "display_data"
    }
   ],
   "source": [
    "#import data\n",
    "headers = [\"X\",\"Y\"]\n",
    "unlabelled_vert = read_csv('sample_data/noHeader_noIndex_vert.csv', names=headers)\n",
    "display(unlabelled_vert)\n",
    "\n",
    "#plot\n",
    "unlabelled_vert.plot()"
   ]
  },
  {
   "cell_type": "markdown",
   "metadata": {},
   "source": [
    "An example of this as a standalone file is shown in `manipulate_panda.py` the folder 9_Input_and_Output_example_sols in the ILAS_ython directory.\n",
    "\n",
    "Notice that after plotting in a standalone Python file (not in Jupyter notebook), you must put `plt.show()` after plotting in order to dilpsaythe figure e.g.:\n",
    "\n",
    ">`unlabelled_vert.plot(\"X\", \"Z\", kind=\"scatter\")`<BR>\n",
    "`plt.show()`\n"
   ]
  },
  {
   "cell_type": "markdown",
   "metadata": {},
   "source": [
    "`Pandas` also has its own plotting functions (based on `matplotlib`, using the *dot* syntax).\n",
    "\n",
    "For example, axes names and legend are added automatically. \n",
    "\n",
    "The documentation can be found here: \n",
    "https://pandas.pydata.org/pandas-docs/stable/generated/pandas.DataFrame.plot.html\n",
    "\n",
    "Below are some examples..."
   ]
  },
  {
   "cell_type": "code",
   "execution_count": 60,
   "metadata": {},
   "outputs": [
    {
     "data": {
      "text/plain": [
       "<matplotlib.axes._subplots.AxesSubplot at 0x1126ad6a0>"
      ]
     },
     "execution_count": 60,
     "metadata": {},
     "output_type": "execute_result"
    },
    {
     "data": {
      "image/png": "[encoded data removed]",
      "text/plain": [
       "<matplotlib.figure.Figure at 0x112840a20>"
      ]
     },
     "metadata": {},
     "output_type": "display_data"
    }
   ],
   "source": [
    "students.plot(kind=\"bar\")"
   ]
  },
  {
   "cell_type": "code",
   "execution_count": 61,
   "metadata": {},
   "outputs": [
    {
     "data": {
      "text/plain": [
       "<matplotlib.axes._subplots.AxesSubplot at 0x11297fba8>"
      ]
     },
     "execution_count": 61,
     "metadata": {},
     "output_type": "execute_result"
    },
    {
     "data": {
      "image/png": "[encoded data removed]",
      "text/plain": [
       "<matplotlib.figure.Figure at 0x11298e588>"
      ]
     },
     "metadata": {},
     "output_type": "display_data"
    }
   ],
   "source": [
    "students.Height.plot(\"barh\")"
   ]
  },
  {
   "cell_type": "code",
   "execution_count": 62,
   "metadata": {},
   "outputs": [
    {
     "data": {
      "text/plain": [
       "<matplotlib.axes._subplots.AxesSubplot at 0x112a29be0>"
      ]
     },
     "execution_count": 62,
     "metadata": {},
     "output_type": "execute_result"
    },
    {
     "data": {
      "image/png": "[encoded data removed]",
      "text/plain": [
       "<matplotlib.figure.Figure at 0x112a31358>"
      ]
     },
     "metadata": {},
     "output_type": "display_data"
    }
   ],
   "source": [
    "students.plot(\"Height\", \"Weight\", kind=\"scatter\")"
   ]
  },
  {
   "cell_type": "markdown",
   "metadata": {
    "collapsed": true,
    "slideshow": {
     "slide_type": "slide"
    }
   },
   "source": [
    "### Adding a column to a DataFrame\n",
    "A column may be added to a DataFrame by specifying the keyword and values of the new column in the same way as a new entry is added to a dictionary. "
   ]
  },
  {
   "cell_type": "code",
   "execution_count": 63,
   "metadata": {},
   "outputs": [
    {
     "name": "stdout",
     "output_type": "stream",
     "text": [
      "        Sex         DOB  Height  Weight      BP BloodGroup\n",
      "Student                                                   \n",
      "JW-1      M  19/12/1995    1.70    65.0  119/76          B\n",
      "JW-2      M  11/01/1996    1.70    65.0  114/73          A\n",
      "JW-3      F  02/10/1995    1.68    69.7  124/79          O\n",
      "JW-4      M  11/01/1996    1.70    65.0  114/73          B\n",
      "JW-5      F  02/10/1995    1.68    69.7  124/79          O\n"
     ]
    }
   ],
   "source": [
    "# Add a column called BloodGroup\n",
    "students[\"BloodGroup\"] = ['B', 'A', 'O', 'B', 'O',\n",
    "                          'AB', 'O', 'B', 'A', 'B',\n",
    "                          'A', 'A', 'O', 'O', 'A', 'O',\n",
    "                          'O', 'A', 'O', 'B', 'B', 'B']\n",
    "\n",
    "print(students.head())\n",
    "\n",
    "# Remove the column\n",
    "del students[\"BloodGroup\"]"
   ]
  },
  {
   "cell_type": "markdown",
   "metadata": {
    "slideshow": {
     "slide_type": "slide"
    }
   },
   "source": [
    "### Inserting a column to a DataFrame\n",
    "A column may be inserted at a specific position."
   ]
  },
  {
   "cell_type": "code",
   "execution_count": 64,
   "metadata": {},
   "outputs": [
    {
     "name": "stdout",
     "output_type": "stream",
     "text": [
      "        Sex         DOB  Height  Weight       BMI      BP\n",
      "Student                                                  \n",
      "JW-1      M  19/12/1995    1.70    65.0  0.044462  119/76\n",
      "JW-2      M  11/01/1996    1.70    65.0  0.044462  114/73\n",
      "JW-3      F  02/10/1995    1.68    69.7  0.040494  124/79\n",
      "JW-4      M  11/01/1996    1.70    65.0  0.044462  114/73\n",
      "JW-5      F  02/10/1995    1.68    69.7  0.040494  124/79\n"
     ]
    }
   ],
   "source": [
    "# Add a column called BMI, calculated from two other columns\n",
    "students.insert(loc=4, column='BMI', value=(students.Height**2 / students.Weight))\n",
    "print(students.head())\n",
    "\n",
    "# Remove the column\n",
    "del students['BMI']\n"
   ]
  },
  {
   "cell_type": "markdown",
   "metadata": {
    "slideshow": {
     "slide_type": "slide"
    }
   },
   "source": [
    "### Adding a row to a DataFrame"
   ]
  },
  {
   "cell_type": "markdown",
   "metadata": {},
   "source": [
    "The `.loc` indexing syntax can be used to add a ro to a data frame"
   ]
  },
  {
   "cell_type": "code",
   "execution_count": 66,
   "metadata": {},
   "outputs": [
    {
     "name": "stdout",
     "output_type": "stream",
     "text": [
      "        Sex         DOB  Height  Weight      BP\n",
      "Student                                        \n",
      "JW-24     F  01/12/1995    1.66    63.8  100/78\n",
      "JW-25     F  25/10/1995    1.63    64.4     -/-\n",
      "JW-26     M  17/04/1996    1.69    55.0  121/82\n",
      "JW-8      M  17/04/1996    1.69    55.0  121/82\n",
      "JW-13     M  17/04/1996    1.69    55.0  121/82\n"
     ]
    }
   ],
   "source": [
    "students.loc['JW-8'] = ['M',  '17/04/1996',    1.69,    55.0 ,  '121/82']  # adding a row\n",
    "students.loc['JW-13'] = ['M',  '17/04/1996',    1.69,    55.0 ,  '121/82']\n",
    "print(students.tail())"
   ]
  },
  {
   "cell_type": "markdown",
   "metadata": {
    "slideshow": {
     "slide_type": "subslide"
    }
   },
   "source": [
    "Single or multiple rows can be removed from a data frame. \n",
    "\n",
    "The keyword argument `inplace` applies the chnages to the original data frame Removing a row from a DataFrame. \n",
    "\n"
   ]
  },
  {
   "cell_type": "code",
   "execution_count": 67,
   "metadata": {
    "slideshow": {
     "slide_type": "-"
    }
   },
   "outputs": [
    {
     "data": {
      "text/html": [
       "<div>\n",
       "<style>\n",
       "    .dataframe thead tr:only-child th {\n",
       "        text-align: right;\n",
       "    }\n",
       "\n",
       "    .dataframe thead th {\n",
       "        text-align: left;\n",
       "    }\n",
       "\n",
       "    .dataframe tbody tr th {\n",
       "        vertical-align: top;\n",
       "    }\n",
       "</style>\n",
       "<table border=\"1\" class=\"dataframe\">\n",
       "  <thead>\n",
       "    <tr style=\"text-align: right;\">\n",
       "      <th></th>\n",
       "      <th>Sex</th>\n",
       "      <th>DOB</th>\n",
       "      <th>Height</th>\n",
       "      <th>Weight</th>\n",
       "      <th>BP</th>\n",
       "    </tr>\n",
       "    <tr>\n",
       "      <th>Student</th>\n",
       "      <th></th>\n",
       "      <th></th>\n",
       "      <th></th>\n",
       "      <th></th>\n",
       "      <th></th>\n",
       "    </tr>\n",
       "  </thead>\n",
       "  <tbody>\n",
       "    <tr>\n",
       "      <th>JW-1</th>\n",
       "      <td>M</td>\n",
       "      <td>19/12/1995</td>\n",
       "      <td>1.70</td>\n",
       "      <td>65.0</td>\n",
       "      <td>119/76</td>\n",
       "    </tr>\n",
       "    <tr>\n",
       "      <th>JW-2</th>\n",
       "      <td>M</td>\n",
       "      <td>11/01/1996</td>\n",
       "      <td>1.70</td>\n",
       "      <td>65.0</td>\n",
       "      <td>114/73</td>\n",
       "    </tr>\n",
       "    <tr>\n",
       "      <th>JW-3</th>\n",
       "      <td>F</td>\n",
       "      <td>02/10/1995</td>\n",
       "      <td>1.68</td>\n",
       "      <td>69.7</td>\n",
       "      <td>124/79</td>\n",
       "    </tr>\n",
       "    <tr>\n",
       "      <th>JW-4</th>\n",
       "      <td>M</td>\n",
       "      <td>11/01/1996</td>\n",
       "      <td>1.70</td>\n",
       "      <td>65.0</td>\n",
       "      <td>114/73</td>\n",
       "    </tr>\n",
       "    <tr>\n",
       "      <th>JW-5</th>\n",
       "      <td>F</td>\n",
       "      <td>02/10/1995</td>\n",
       "      <td>1.68</td>\n",
       "      <td>69.7</td>\n",
       "      <td>124/79</td>\n",
       "    </tr>\n",
       "    <tr>\n",
       "      <th>JW-6</th>\n",
       "      <td>M</td>\n",
       "      <td>06/07/1995</td>\n",
       "      <td>1.70</td>\n",
       "      <td>65.0</td>\n",
       "      <td>110/60</td>\n",
       "    </tr>\n",
       "    <tr>\n",
       "      <th>JW-7</th>\n",
       "      <td>F</td>\n",
       "      <td>28/03/1996</td>\n",
       "      <td>1.66</td>\n",
       "      <td>72.4</td>\n",
       "      <td>-</td>\n",
       "    </tr>\n",
       "    <tr>\n",
       "      <th>JW-9</th>\n",
       "      <td>F</td>\n",
       "      <td>11/12/1995</td>\n",
       "      <td>1.70</td>\n",
       "      <td>65.0</td>\n",
       "      <td>115/75</td>\n",
       "    </tr>\n",
       "    <tr>\n",
       "      <th>JW-10</th>\n",
       "      <td>F</td>\n",
       "      <td>07/04/1996</td>\n",
       "      <td>1.60</td>\n",
       "      <td>45.0</td>\n",
       "      <td>-/-</td>\n",
       "    </tr>\n",
       "    <tr>\n",
       "      <th>JW-11</th>\n",
       "      <td>M</td>\n",
       "      <td>22/08/1995</td>\n",
       "      <td>1.70</td>\n",
       "      <td>65.0</td>\n",
       "      <td>97/63</td>\n",
       "    </tr>\n",
       "    <tr>\n",
       "      <th>JW-12</th>\n",
       "      <td>M</td>\n",
       "      <td>23/05/1996</td>\n",
       "      <td>1.70</td>\n",
       "      <td>65.0</td>\n",
       "      <td>105/70</td>\n",
       "    </tr>\n",
       "    <tr>\n",
       "      <th>JW-14</th>\n",
       "      <td>F</td>\n",
       "      <td>12/01/1996</td>\n",
       "      <td>1.56</td>\n",
       "      <td>56.3</td>\n",
       "      <td>108/72</td>\n",
       "    </tr>\n",
       "    <tr>\n",
       "      <th>JW-15</th>\n",
       "      <td>F</td>\n",
       "      <td>01/06/1996</td>\n",
       "      <td>1.64</td>\n",
       "      <td>65.0</td>\n",
       "      <td>99/67</td>\n",
       "    </tr>\n",
       "    <tr>\n",
       "      <th>JW-16</th>\n",
       "      <td>M</td>\n",
       "      <td>10/09/1995</td>\n",
       "      <td>1.63</td>\n",
       "      <td>73.0</td>\n",
       "      <td>131/84</td>\n",
       "    </tr>\n",
       "    <tr>\n",
       "      <th>JW-17</th>\n",
       "      <td>M</td>\n",
       "      <td>17/02/1996</td>\n",
       "      <td>1.67</td>\n",
       "      <td>89.8</td>\n",
       "      <td>101/76</td>\n",
       "    </tr>\n",
       "    <tr>\n",
       "      <th>JW-18</th>\n",
       "      <td>M</td>\n",
       "      <td>31/07/1996</td>\n",
       "      <td>1.66</td>\n",
       "      <td>75.1</td>\n",
       "      <td>-/-</td>\n",
       "    </tr>\n",
       "    <tr>\n",
       "      <th>JW-19</th>\n",
       "      <td>F</td>\n",
       "      <td>30/10/1995</td>\n",
       "      <td>1.59</td>\n",
       "      <td>67.3</td>\n",
       "      <td>103/69</td>\n",
       "    </tr>\n",
       "    <tr>\n",
       "      <th>JW-22</th>\n",
       "      <td>F</td>\n",
       "      <td>09/03/1996</td>\n",
       "      <td>1.70</td>\n",
       "      <td>65.0</td>\n",
       "      <td>119/80</td>\n",
       "    </tr>\n",
       "    <tr>\n",
       "      <th>JW-23</th>\n",
       "      <td>M</td>\n",
       "      <td>15/05/1995</td>\n",
       "      <td>1.70</td>\n",
       "      <td>65.0</td>\n",
       "      <td>124/82</td>\n",
       "    </tr>\n",
       "    <tr>\n",
       "      <th>JW-25</th>\n",
       "      <td>F</td>\n",
       "      <td>25/10/1995</td>\n",
       "      <td>1.63</td>\n",
       "      <td>64.4</td>\n",
       "      <td>-/-</td>\n",
       "    </tr>\n",
       "    <tr>\n",
       "      <th>JW-26</th>\n",
       "      <td>M</td>\n",
       "      <td>17/04/1996</td>\n",
       "      <td>1.69</td>\n",
       "      <td>55.0</td>\n",
       "      <td>121/82</td>\n",
       "    </tr>\n",
       "    <tr>\n",
       "      <th>JW-8</th>\n",
       "      <td>M</td>\n",
       "      <td>17/04/1996</td>\n",
       "      <td>1.69</td>\n",
       "      <td>55.0</td>\n",
       "      <td>121/82</td>\n",
       "    </tr>\n",
       "    <tr>\n",
       "      <th>JW-13</th>\n",
       "      <td>M</td>\n",
       "      <td>17/04/1996</td>\n",
       "      <td>1.69</td>\n",
       "      <td>55.0</td>\n",
       "      <td>121/82</td>\n",
       "    </tr>\n",
       "  </tbody>\n",
       "</table>\n",
       "</div>"
      ],
      "text/plain": [
       "        Sex         DOB  Height  Weight      BP\n",
       "Student                                        \n",
       "JW-1      M  19/12/1995    1.70    65.0  119/76\n",
       "JW-2      M  11/01/1996    1.70    65.0  114/73\n",
       "JW-3      F  02/10/1995    1.68    69.7  124/79\n",
       "JW-4      M  11/01/1996    1.70    65.0  114/73\n",
       "JW-5      F  02/10/1995    1.68    69.7  124/79\n",
       "JW-6      M  06/07/1995    1.70    65.0  110/60\n",
       "JW-7      F  28/03/1996    1.66    72.4       -\n",
       "JW-9      F  11/12/1995    1.70    65.0  115/75\n",
       "JW-10     F  07/04/1996    1.60    45.0     -/-\n",
       "JW-11     M  22/08/1995    1.70    65.0   97/63\n",
       "JW-12     M  23/05/1996    1.70    65.0  105/70\n",
       "JW-14     F  12/01/1996    1.56    56.3  108/72\n",
       "JW-15     F  01/06/1996    1.64    65.0   99/67\n",
       "JW-16     M  10/09/1995    1.63    73.0  131/84\n",
       "JW-17     M  17/02/1996    1.67    89.8  101/76\n",
       "JW-18     M  31/07/1996    1.66    75.1     -/-\n",
       "JW-19     F  30/10/1995    1.59    67.3  103/69\n",
       "JW-22     F  09/03/1996    1.70    65.0  119/80\n",
       "JW-23     M  15/05/1995    1.70    65.0  124/82\n",
       "JW-25     F  25/10/1995    1.63    64.4     -/-\n",
       "JW-26     M  17/04/1996    1.69    55.0  121/82\n",
       "JW-8      M  17/04/1996    1.69    55.0  121/82\n",
       "JW-13     M  17/04/1996    1.69    55.0  121/82"
      ]
     },
     "metadata": {},
     "output_type": "display_data"
    },
    {
     "data": {
      "text/html": [
       "<div>\n",
       "<style>\n",
       "    .dataframe thead tr:only-child th {\n",
       "        text-align: right;\n",
       "    }\n",
       "\n",
       "    .dataframe thead th {\n",
       "        text-align: left;\n",
       "    }\n",
       "\n",
       "    .dataframe tbody tr th {\n",
       "        vertical-align: top;\n",
       "    }\n",
       "</style>\n",
       "<table border=\"1\" class=\"dataframe\">\n",
       "  <thead>\n",
       "    <tr style=\"text-align: right;\">\n",
       "      <th></th>\n",
       "      <th>Sex</th>\n",
       "      <th>DOB</th>\n",
       "      <th>Height</th>\n",
       "      <th>Weight</th>\n",
       "      <th>BP</th>\n",
       "    </tr>\n",
       "    <tr>\n",
       "      <th>Student</th>\n",
       "      <th></th>\n",
       "      <th></th>\n",
       "      <th></th>\n",
       "      <th></th>\n",
       "      <th></th>\n",
       "    </tr>\n",
       "  </thead>\n",
       "  <tbody>\n",
       "    <tr>\n",
       "      <th>JW-3</th>\n",
       "      <td>F</td>\n",
       "      <td>02/10/1995</td>\n",
       "      <td>1.68</td>\n",
       "      <td>69.7</td>\n",
       "      <td>124/79</td>\n",
       "    </tr>\n",
       "    <tr>\n",
       "      <th>JW-4</th>\n",
       "      <td>M</td>\n",
       "      <td>11/01/1996</td>\n",
       "      <td>1.70</td>\n",
       "      <td>65.0</td>\n",
       "      <td>114/73</td>\n",
       "    </tr>\n",
       "    <tr>\n",
       "      <th>JW-5</th>\n",
       "      <td>F</td>\n",
       "      <td>02/10/1995</td>\n",
       "      <td>1.68</td>\n",
       "      <td>69.7</td>\n",
       "      <td>124/79</td>\n",
       "    </tr>\n",
       "    <tr>\n",
       "      <th>JW-6</th>\n",
       "      <td>M</td>\n",
       "      <td>06/07/1995</td>\n",
       "      <td>1.70</td>\n",
       "      <td>65.0</td>\n",
       "      <td>110/60</td>\n",
       "    </tr>\n",
       "    <tr>\n",
       "      <th>JW-7</th>\n",
       "      <td>F</td>\n",
       "      <td>28/03/1996</td>\n",
       "      <td>1.66</td>\n",
       "      <td>72.4</td>\n",
       "      <td>-</td>\n",
       "    </tr>\n",
       "    <tr>\n",
       "      <th>JW-9</th>\n",
       "      <td>F</td>\n",
       "      <td>11/12/1995</td>\n",
       "      <td>1.70</td>\n",
       "      <td>65.0</td>\n",
       "      <td>115/75</td>\n",
       "    </tr>\n",
       "    <tr>\n",
       "      <th>JW-10</th>\n",
       "      <td>F</td>\n",
       "      <td>07/04/1996</td>\n",
       "      <td>1.60</td>\n",
       "      <td>45.0</td>\n",
       "      <td>-/-</td>\n",
       "    </tr>\n",
       "    <tr>\n",
       "      <th>JW-11</th>\n",
       "      <td>M</td>\n",
       "      <td>22/08/1995</td>\n",
       "      <td>1.70</td>\n",
       "      <td>65.0</td>\n",
       "      <td>97/63</td>\n",
       "    </tr>\n",
       "    <tr>\n",
       "      <th>JW-12</th>\n",
       "      <td>M</td>\n",
       "      <td>23/05/1996</td>\n",
       "      <td>1.70</td>\n",
       "      <td>65.0</td>\n",
       "      <td>105/70</td>\n",
       "    </tr>\n",
       "    <tr>\n",
       "      <th>JW-14</th>\n",
       "      <td>F</td>\n",
       "      <td>12/01/1996</td>\n",
       "      <td>1.56</td>\n",
       "      <td>56.3</td>\n",
       "      <td>108/72</td>\n",
       "    </tr>\n",
       "    <tr>\n",
       "      <th>JW-15</th>\n",
       "      <td>F</td>\n",
       "      <td>01/06/1996</td>\n",
       "      <td>1.64</td>\n",
       "      <td>65.0</td>\n",
       "      <td>99/67</td>\n",
       "    </tr>\n",
       "    <tr>\n",
       "      <th>JW-16</th>\n",
       "      <td>M</td>\n",
       "      <td>10/09/1995</td>\n",
       "      <td>1.63</td>\n",
       "      <td>73.0</td>\n",
       "      <td>131/84</td>\n",
       "    </tr>\n",
       "    <tr>\n",
       "      <th>JW-17</th>\n",
       "      <td>M</td>\n",
       "      <td>17/02/1996</td>\n",
       "      <td>1.67</td>\n",
       "      <td>89.8</td>\n",
       "      <td>101/76</td>\n",
       "    </tr>\n",
       "    <tr>\n",
       "      <th>JW-18</th>\n",
       "      <td>M</td>\n",
       "      <td>31/07/1996</td>\n",
       "      <td>1.66</td>\n",
       "      <td>75.1</td>\n",
       "      <td>-/-</td>\n",
       "    </tr>\n",
       "    <tr>\n",
       "      <th>JW-19</th>\n",
       "      <td>F</td>\n",
       "      <td>30/10/1995</td>\n",
       "      <td>1.59</td>\n",
       "      <td>67.3</td>\n",
       "      <td>103/69</td>\n",
       "    </tr>\n",
       "    <tr>\n",
       "      <th>JW-22</th>\n",
       "      <td>F</td>\n",
       "      <td>09/03/1996</td>\n",
       "      <td>1.70</td>\n",
       "      <td>65.0</td>\n",
       "      <td>119/80</td>\n",
       "    </tr>\n",
       "    <tr>\n",
       "      <th>JW-23</th>\n",
       "      <td>M</td>\n",
       "      <td>15/05/1995</td>\n",
       "      <td>1.70</td>\n",
       "      <td>65.0</td>\n",
       "      <td>124/82</td>\n",
       "    </tr>\n",
       "    <tr>\n",
       "      <th>JW-25</th>\n",
       "      <td>F</td>\n",
       "      <td>25/10/1995</td>\n",
       "      <td>1.63</td>\n",
       "      <td>64.4</td>\n",
       "      <td>-/-</td>\n",
       "    </tr>\n",
       "    <tr>\n",
       "      <th>JW-26</th>\n",
       "      <td>M</td>\n",
       "      <td>17/04/1996</td>\n",
       "      <td>1.69</td>\n",
       "      <td>55.0</td>\n",
       "      <td>121/82</td>\n",
       "    </tr>\n",
       "    <tr>\n",
       "      <th>JW-8</th>\n",
       "      <td>M</td>\n",
       "      <td>17/04/1996</td>\n",
       "      <td>1.69</td>\n",
       "      <td>55.0</td>\n",
       "      <td>121/82</td>\n",
       "    </tr>\n",
       "    <tr>\n",
       "      <th>JW-13</th>\n",
       "      <td>M</td>\n",
       "      <td>17/04/1996</td>\n",
       "      <td>1.69</td>\n",
       "      <td>55.0</td>\n",
       "      <td>121/82</td>\n",
       "    </tr>\n",
       "  </tbody>\n",
       "</table>\n",
       "</div>"
      ],
      "text/plain": [
       "        Sex         DOB  Height  Weight      BP\n",
       "Student                                        \n",
       "JW-3      F  02/10/1995    1.68    69.7  124/79\n",
       "JW-4      M  11/01/1996    1.70    65.0  114/73\n",
       "JW-5      F  02/10/1995    1.68    69.7  124/79\n",
       "JW-6      M  06/07/1995    1.70    65.0  110/60\n",
       "JW-7      F  28/03/1996    1.66    72.4       -\n",
       "JW-9      F  11/12/1995    1.70    65.0  115/75\n",
       "JW-10     F  07/04/1996    1.60    45.0     -/-\n",
       "JW-11     M  22/08/1995    1.70    65.0   97/63\n",
       "JW-12     M  23/05/1996    1.70    65.0  105/70\n",
       "JW-14     F  12/01/1996    1.56    56.3  108/72\n",
       "JW-15     F  01/06/1996    1.64    65.0   99/67\n",
       "JW-16     M  10/09/1995    1.63    73.0  131/84\n",
       "JW-17     M  17/02/1996    1.67    89.8  101/76\n",
       "JW-18     M  31/07/1996    1.66    75.1     -/-\n",
       "JW-19     F  30/10/1995    1.59    67.3  103/69\n",
       "JW-22     F  09/03/1996    1.70    65.0  119/80\n",
       "JW-23     M  15/05/1995    1.70    65.0  124/82\n",
       "JW-25     F  25/10/1995    1.63    64.4     -/-\n",
       "JW-26     M  17/04/1996    1.69    55.0  121/82\n",
       "JW-8      M  17/04/1996    1.69    55.0  121/82\n",
       "JW-13     M  17/04/1996    1.69    55.0  121/82"
      ]
     },
     "metadata": {},
     "output_type": "display_data"
    }
   ],
   "source": [
    "students.drop([\"JW-24\"], inplace=True)\n",
    "display(students)\n",
    "\n",
    "students.drop([\"JW-1\", \"JW-2\"], inplace=True)\n",
    "display(students)"
   ]
  },
  {
   "cell_type": "markdown",
   "metadata": {},
   "source": [
    "Note that if your indexing systen refers to a continuous series of numbers, removing entries may leave holes in the sequence.\n",
    "\n",
    "It can be convenient to re-assign the indexes once entries have been removed."
   ]
  },
  {
   "cell_type": "code",
   "execution_count": 68,
   "metadata": {
    "slideshow": {
     "slide_type": "subslide"
    }
   },
   "outputs": [
    {
     "data": {
      "text/html": [
       "<div>\n",
       "<style>\n",
       "    .dataframe thead tr:only-child th {\n",
       "        text-align: right;\n",
       "    }\n",
       "\n",
       "    .dataframe thead th {\n",
       "        text-align: left;\n",
       "    }\n",
       "\n",
       "    .dataframe tbody tr th {\n",
       "        vertical-align: top;\n",
       "    }\n",
       "</style>\n",
       "<table border=\"1\" class=\"dataframe\">\n",
       "  <thead>\n",
       "    <tr style=\"text-align: right;\">\n",
       "      <th></th>\n",
       "      <th>X</th>\n",
       "      <th>Y</th>\n",
       "    </tr>\n",
       "  </thead>\n",
       "  <tbody>\n",
       "    <tr>\n",
       "      <th>0</th>\n",
       "      <td>1.053</td>\n",
       "      <td>48.348</td>\n",
       "    </tr>\n",
       "    <tr>\n",
       "      <th>1</th>\n",
       "      <td>2.105</td>\n",
       "      <td>68.733</td>\n",
       "    </tr>\n",
       "    <tr>\n",
       "      <th>2</th>\n",
       "      <td>3.158</td>\n",
       "      <td>59.796</td>\n",
       "    </tr>\n",
       "    <tr>\n",
       "      <th>3</th>\n",
       "      <td>4.211</td>\n",
       "      <td>54.123</td>\n",
       "    </tr>\n",
       "    <tr>\n",
       "      <th>4</th>\n",
       "      <td>6.056</td>\n",
       "      <td>74.452</td>\n",
       "    </tr>\n",
       "  </tbody>\n",
       "</table>\n",
       "</div>"
      ],
      "text/plain": [
       "       X       Y\n",
       "0  1.053  48.348\n",
       "1  2.105  68.733\n",
       "2  3.158  59.796\n",
       "3  4.211  54.123\n",
       "4  6.056  74.452"
      ]
     },
     "metadata": {},
     "output_type": "display_data"
    },
    {
     "data": {
      "text/html": [
       "<div>\n",
       "<style>\n",
       "    .dataframe thead tr:only-child th {\n",
       "        text-align: right;\n",
       "    }\n",
       "\n",
       "    .dataframe thead th {\n",
       "        text-align: left;\n",
       "    }\n",
       "\n",
       "    .dataframe tbody tr th {\n",
       "        vertical-align: top;\n",
       "    }\n",
       "</style>\n",
       "<table border=\"1\" class=\"dataframe\">\n",
       "  <thead>\n",
       "    <tr style=\"text-align: right;\">\n",
       "      <th></th>\n",
       "      <th>X</th>\n",
       "      <th>Y</th>\n",
       "    </tr>\n",
       "  </thead>\n",
       "  <tbody>\n",
       "    <tr>\n",
       "      <th>0</th>\n",
       "      <td>1.053</td>\n",
       "      <td>48.348</td>\n",
       "    </tr>\n",
       "    <tr>\n",
       "      <th>2</th>\n",
       "      <td>3.158</td>\n",
       "      <td>59.796</td>\n",
       "    </tr>\n",
       "    <tr>\n",
       "      <th>4</th>\n",
       "      <td>6.056</td>\n",
       "      <td>74.452</td>\n",
       "    </tr>\n",
       "  </tbody>\n",
       "</table>\n",
       "</div>"
      ],
      "text/plain": [
       "       X       Y\n",
       "0  1.053  48.348\n",
       "2  3.158  59.796\n",
       "4  6.056  74.452"
      ]
     },
     "metadata": {},
     "output_type": "display_data"
    },
    {
     "data": {
      "text/html": [
       "<div>\n",
       "<style>\n",
       "    .dataframe thead tr:only-child th {\n",
       "        text-align: right;\n",
       "    }\n",
       "\n",
       "    .dataframe thead th {\n",
       "        text-align: left;\n",
       "    }\n",
       "\n",
       "    .dataframe tbody tr th {\n",
       "        vertical-align: top;\n",
       "    }\n",
       "</style>\n",
       "<table border=\"1\" class=\"dataframe\">\n",
       "  <thead>\n",
       "    <tr style=\"text-align: right;\">\n",
       "      <th></th>\n",
       "      <th>X</th>\n",
       "      <th>Y</th>\n",
       "    </tr>\n",
       "  </thead>\n",
       "  <tbody>\n",
       "    <tr>\n",
       "      <th>0</th>\n",
       "      <td>1.053</td>\n",
       "      <td>48.348</td>\n",
       "    </tr>\n",
       "    <tr>\n",
       "      <th>1</th>\n",
       "      <td>3.158</td>\n",
       "      <td>59.796</td>\n",
       "    </tr>\n",
       "    <tr>\n",
       "      <th>2</th>\n",
       "      <td>6.056</td>\n",
       "      <td>74.452</td>\n",
       "    </tr>\n",
       "  </tbody>\n",
       "</table>\n",
       "</div>"
      ],
      "text/plain": [
       "       X       Y\n",
       "0  1.053  48.348\n",
       "1  3.158  59.796\n",
       "2  6.056  74.452"
      ]
     },
     "metadata": {},
     "output_type": "display_data"
    }
   ],
   "source": [
    "#import data\n",
    "headers = [\"X\",\"Y\"]\n",
    "unlabelled_vert = read_csv('sample_data/noHeader_noIndex_vert.csv', names=headers)\n",
    "display(unlabelled_vert)\n",
    "\n",
    "unlabelled_vert.drop([1, 3], inplace=True)\n",
    "\n",
    "display(unlabelled_vert)\n",
    "\n",
    "# re-assign index\n",
    "unlabelled_vert = unlabelled_vert.reset_index(drop=True) \n",
    "\n",
    "display(unlabelled_vert)"
   ]
  },
  {
   "cell_type": "markdown",
   "metadata": {
    "slideshow": {
     "slide_type": "slide"
    }
   },
   "source": [
    "### Sorting DataFrames\n",
    "DataFrames may be sorted by index with the `.sort_index` function. "
   ]
  },
  {
   "cell_type": "code",
   "execution_count": 69,
   "metadata": {},
   "outputs": [
    {
     "name": "stdout",
     "output_type": "stream",
     "text": [
      "        Sex         DOB  Height  Weight      BP\n",
      "Student                                        \n",
      "JW-10     F  07/04/1996    1.60    45.0     -/-\n",
      "JW-11     M  22/08/1995    1.70    65.0   97/63\n",
      "JW-12     M  23/05/1996    1.70    65.0  105/70\n",
      "JW-13     M  17/04/1996    1.69    55.0  121/82\n",
      "JW-14     F  12/01/1996    1.56    56.3  108/72\n",
      "JW-15     F  01/06/1996    1.64    65.0   99/67\n",
      "JW-16     M  10/09/1995    1.63    73.0  131/84\n",
      "JW-17     M  17/02/1996    1.67    89.8  101/76\n",
      "JW-18     M  31/07/1996    1.66    75.1     -/-\n",
      "JW-19     F  30/10/1995    1.59    67.3  103/69\n",
      "JW-22     F  09/03/1996    1.70    65.0  119/80\n",
      "JW-23     M  15/05/1995    1.70    65.0  124/82\n",
      "JW-25     F  25/10/1995    1.63    64.4     -/-\n",
      "JW-26     M  17/04/1996    1.69    55.0  121/82\n",
      "JW-3      F  02/10/1995    1.68    69.7  124/79\n",
      "JW-4      M  11/01/1996    1.70    65.0  114/73\n",
      "JW-5      F  02/10/1995    1.68    69.7  124/79\n",
      "JW-6      M  06/07/1995    1.70    65.0  110/60\n",
      "JW-7      F  28/03/1996    1.66    72.4       -\n",
      "JW-8      M  17/04/1996    1.69    55.0  121/82\n",
      "JW-9      F  11/12/1995    1.70    65.0  115/75\n"
     ]
    }
   ],
   "source": [
    "students = students.sort_index()\n",
    "\n",
    "print(students)"
   ]
  },
  {
   "cell_type": "markdown",
   "metadata": {},
   "source": [
    "DataFrames may be sorted with the `.sort_values` function. \n",
    "\n",
    "The argument `by` determines which column the entries should be ordered by."
   ]
  },
  {
   "cell_type": "code",
   "execution_count": 70,
   "metadata": {},
   "outputs": [
    {
     "name": "stdout",
     "output_type": "stream",
     "text": [
      "Students in height order:\n"
     ]
    },
    {
     "data": {
      "text/html": [
       "<div>\n",
       "<style>\n",
       "    .dataframe thead tr:only-child th {\n",
       "        text-align: right;\n",
       "    }\n",
       "\n",
       "    .dataframe thead th {\n",
       "        text-align: left;\n",
       "    }\n",
       "\n",
       "    .dataframe tbody tr th {\n",
       "        vertical-align: top;\n",
       "    }\n",
       "</style>\n",
       "<table border=\"1\" class=\"dataframe\">\n",
       "  <thead>\n",
       "    <tr style=\"text-align: right;\">\n",
       "      <th></th>\n",
       "      <th>Sex</th>\n",
       "      <th>DOB</th>\n",
       "      <th>Height</th>\n",
       "      <th>Weight</th>\n",
       "      <th>BP</th>\n",
       "    </tr>\n",
       "    <tr>\n",
       "      <th>Student</th>\n",
       "      <th></th>\n",
       "      <th></th>\n",
       "      <th></th>\n",
       "      <th></th>\n",
       "      <th></th>\n",
       "    </tr>\n",
       "  </thead>\n",
       "  <tbody>\n",
       "    <tr>\n",
       "      <th>JW-14</th>\n",
       "      <td>F</td>\n",
       "      <td>12/01/1996</td>\n",
       "      <td>1.56</td>\n",
       "      <td>56.3</td>\n",
       "      <td>108/72</td>\n",
       "    </tr>\n",
       "    <tr>\n",
       "      <th>JW-19</th>\n",
       "      <td>F</td>\n",
       "      <td>30/10/1995</td>\n",
       "      <td>1.59</td>\n",
       "      <td>67.3</td>\n",
       "      <td>103/69</td>\n",
       "    </tr>\n",
       "    <tr>\n",
       "      <th>JW-10</th>\n",
       "      <td>F</td>\n",
       "      <td>07/04/1996</td>\n",
       "      <td>1.60</td>\n",
       "      <td>45.0</td>\n",
       "      <td>-/-</td>\n",
       "    </tr>\n",
       "    <tr>\n",
       "      <th>JW-16</th>\n",
       "      <td>M</td>\n",
       "      <td>10/09/1995</td>\n",
       "      <td>1.63</td>\n",
       "      <td>73.0</td>\n",
       "      <td>131/84</td>\n",
       "    </tr>\n",
       "    <tr>\n",
       "      <th>JW-25</th>\n",
       "      <td>F</td>\n",
       "      <td>25/10/1995</td>\n",
       "      <td>1.63</td>\n",
       "      <td>64.4</td>\n",
       "      <td>-/-</td>\n",
       "    </tr>\n",
       "    <tr>\n",
       "      <th>JW-15</th>\n",
       "      <td>F</td>\n",
       "      <td>01/06/1996</td>\n",
       "      <td>1.64</td>\n",
       "      <td>65.0</td>\n",
       "      <td>99/67</td>\n",
       "    </tr>\n",
       "    <tr>\n",
       "      <th>JW-7</th>\n",
       "      <td>F</td>\n",
       "      <td>28/03/1996</td>\n",
       "      <td>1.66</td>\n",
       "      <td>72.4</td>\n",
       "      <td>-</td>\n",
       "    </tr>\n",
       "    <tr>\n",
       "      <th>JW-18</th>\n",
       "      <td>M</td>\n",
       "      <td>31/07/1996</td>\n",
       "      <td>1.66</td>\n",
       "      <td>75.1</td>\n",
       "      <td>-/-</td>\n",
       "    </tr>\n",
       "    <tr>\n",
       "      <th>JW-17</th>\n",
       "      <td>M</td>\n",
       "      <td>17/02/1996</td>\n",
       "      <td>1.67</td>\n",
       "      <td>89.8</td>\n",
       "      <td>101/76</td>\n",
       "    </tr>\n",
       "    <tr>\n",
       "      <th>JW-5</th>\n",
       "      <td>F</td>\n",
       "      <td>02/10/1995</td>\n",
       "      <td>1.68</td>\n",
       "      <td>69.7</td>\n",
       "      <td>124/79</td>\n",
       "    </tr>\n",
       "    <tr>\n",
       "      <th>JW-3</th>\n",
       "      <td>F</td>\n",
       "      <td>02/10/1995</td>\n",
       "      <td>1.68</td>\n",
       "      <td>69.7</td>\n",
       "      <td>124/79</td>\n",
       "    </tr>\n",
       "    <tr>\n",
       "      <th>JW-13</th>\n",
       "      <td>M</td>\n",
       "      <td>17/04/1996</td>\n",
       "      <td>1.69</td>\n",
       "      <td>55.0</td>\n",
       "      <td>121/82</td>\n",
       "    </tr>\n",
       "    <tr>\n",
       "      <th>JW-8</th>\n",
       "      <td>M</td>\n",
       "      <td>17/04/1996</td>\n",
       "      <td>1.69</td>\n",
       "      <td>55.0</td>\n",
       "      <td>121/82</td>\n",
       "    </tr>\n",
       "    <tr>\n",
       "      <th>JW-26</th>\n",
       "      <td>M</td>\n",
       "      <td>17/04/1996</td>\n",
       "      <td>1.69</td>\n",
       "      <td>55.0</td>\n",
       "      <td>121/82</td>\n",
       "    </tr>\n",
       "    <tr>\n",
       "      <th>JW-6</th>\n",
       "      <td>M</td>\n",
       "      <td>06/07/1995</td>\n",
       "      <td>1.70</td>\n",
       "      <td>65.0</td>\n",
       "      <td>110/60</td>\n",
       "    </tr>\n",
       "    <tr>\n",
       "      <th>JW-22</th>\n",
       "      <td>F</td>\n",
       "      <td>09/03/1996</td>\n",
       "      <td>1.70</td>\n",
       "      <td>65.0</td>\n",
       "      <td>119/80</td>\n",
       "    </tr>\n",
       "    <tr>\n",
       "      <th>JW-23</th>\n",
       "      <td>M</td>\n",
       "      <td>15/05/1995</td>\n",
       "      <td>1.70</td>\n",
       "      <td>65.0</td>\n",
       "      <td>124/82</td>\n",
       "    </tr>\n",
       "    <tr>\n",
       "      <th>JW-12</th>\n",
       "      <td>M</td>\n",
       "      <td>23/05/1996</td>\n",
       "      <td>1.70</td>\n",
       "      <td>65.0</td>\n",
       "      <td>105/70</td>\n",
       "    </tr>\n",
       "    <tr>\n",
       "      <th>JW-11</th>\n",
       "      <td>M</td>\n",
       "      <td>22/08/1995</td>\n",
       "      <td>1.70</td>\n",
       "      <td>65.0</td>\n",
       "      <td>97/63</td>\n",
       "    </tr>\n",
       "    <tr>\n",
       "      <th>JW-4</th>\n",
       "      <td>M</td>\n",
       "      <td>11/01/1996</td>\n",
       "      <td>1.70</td>\n",
       "      <td>65.0</td>\n",
       "      <td>114/73</td>\n",
       "    </tr>\n",
       "    <tr>\n",
       "      <th>JW-9</th>\n",
       "      <td>F</td>\n",
       "      <td>11/12/1995</td>\n",
       "      <td>1.70</td>\n",
       "      <td>65.0</td>\n",
       "      <td>115/75</td>\n",
       "    </tr>\n",
       "  </tbody>\n",
       "</table>\n",
       "</div>"
      ],
      "text/plain": [
       "        Sex         DOB  Height  Weight      BP\n",
       "Student                                        \n",
       "JW-14     F  12/01/1996    1.56    56.3  108/72\n",
       "JW-19     F  30/10/1995    1.59    67.3  103/69\n",
       "JW-10     F  07/04/1996    1.60    45.0     -/-\n",
       "JW-16     M  10/09/1995    1.63    73.0  131/84\n",
       "JW-25     F  25/10/1995    1.63    64.4     -/-\n",
       "JW-15     F  01/06/1996    1.64    65.0   99/67\n",
       "JW-7      F  28/03/1996    1.66    72.4       -\n",
       "JW-18     M  31/07/1996    1.66    75.1     -/-\n",
       "JW-17     M  17/02/1996    1.67    89.8  101/76\n",
       "JW-5      F  02/10/1995    1.68    69.7  124/79\n",
       "JW-3      F  02/10/1995    1.68    69.7  124/79\n",
       "JW-13     M  17/04/1996    1.69    55.0  121/82\n",
       "JW-8      M  17/04/1996    1.69    55.0  121/82\n",
       "JW-26     M  17/04/1996    1.69    55.0  121/82\n",
       "JW-6      M  06/07/1995    1.70    65.0  110/60\n",
       "JW-22     F  09/03/1996    1.70    65.0  119/80\n",
       "JW-23     M  15/05/1995    1.70    65.0  124/82\n",
       "JW-12     M  23/05/1996    1.70    65.0  105/70\n",
       "JW-11     M  22/08/1995    1.70    65.0   97/63\n",
       "JW-4      M  11/01/1996    1.70    65.0  114/73\n",
       "JW-9      F  11/12/1995    1.70    65.0  115/75"
      ]
     },
     "metadata": {},
     "output_type": "display_data"
    }
   ],
   "source": [
    "print('Students in height order:')\n",
    "display(students.sort_values(by='Height'))"
   ]
  },
  {
   "cell_type": "markdown",
   "metadata": {},
   "source": [
    "The function has several default/keyword arguments.\n",
    "\n",
    "`inplace=True` replaces the original DataFrame with the new sorted DataFrame.\n",
    "<br>When `inplace=False` (default) a new DataFrame is returned (which you can store in a separate variable). \n",
    "\n",
    "`ascending=True` (default) sorts the values in ascending order.\n",
    "<br>`ascending=False` sorts the values in descending order."
   ]
  },
  {
   "cell_type": "code",
   "execution_count": 71,
   "metadata": {},
   "outputs": [
    {
     "name": "stdout",
     "output_type": "stream",
     "text": [
      "Students in height order:\n",
      "        Sex         DOB  Height  Weight      BP\n",
      "Student                                        \n",
      "JW-22     F  09/03/1996     1.7    65.0  119/80\n",
      "JW-11     M  22/08/1995     1.7    65.0   97/63\n",
      "JW-6      M  06/07/1995     1.7    65.0  110/60\n",
      "JW-4      M  11/01/1996     1.7    65.0  114/73\n",
      "JW-23     M  15/05/1995     1.7    65.0  124/82\n"
     ]
    }
   ],
   "source": [
    "print('Students in height order:')\n",
    "print(students.sort_values(by='Height', ascending=False).head())"
   ]
  },
  {
   "cell_type": "markdown",
   "metadata": {
    "slideshow": {
     "slide_type": "slide"
    }
   },
   "source": [
    "### Renaming columns\n",
    "Often, the columns names of imported data are not very convenient (long, including spaces, etc.). \n",
    "\n",
    "In the `students` DataFrame, the columns have convenient names.\n",
    "\n",
    "Lets pretend they don't and change them for demonstration purposes. "
   ]
  },
  {
   "cell_type": "code",
   "execution_count": 72,
   "metadata": {},
   "outputs": [
    {
     "data": {
      "text/html": [
       "<div>\n",
       "<style>\n",
       "    .dataframe thead tr:only-child th {\n",
       "        text-align: right;\n",
       "    }\n",
       "\n",
       "    .dataframe thead th {\n",
       "        text-align: left;\n",
       "    }\n",
       "\n",
       "    .dataframe tbody tr th {\n",
       "        vertical-align: top;\n",
       "    }\n",
       "</style>\n",
       "<table border=\"1\" class=\"dataframe\">\n",
       "  <thead>\n",
       "    <tr style=\"text-align: right;\">\n",
       "      <th></th>\n",
       "      <th>Sex</th>\n",
       "      <th>DOB</th>\n",
       "      <th>Height</th>\n",
       "      <th>Weight</th>\n",
       "      <th>BP</th>\n",
       "    </tr>\n",
       "    <tr>\n",
       "      <th>Student</th>\n",
       "      <th></th>\n",
       "      <th></th>\n",
       "      <th></th>\n",
       "      <th></th>\n",
       "      <th></th>\n",
       "    </tr>\n",
       "  </thead>\n",
       "  <tbody>\n",
       "    <tr>\n",
       "      <th>JW-10</th>\n",
       "      <td>F</td>\n",
       "      <td>07/04/1996</td>\n",
       "      <td>1.60</td>\n",
       "      <td>45.0</td>\n",
       "      <td>-/-</td>\n",
       "    </tr>\n",
       "    <tr>\n",
       "      <th>JW-11</th>\n",
       "      <td>M</td>\n",
       "      <td>22/08/1995</td>\n",
       "      <td>1.70</td>\n",
       "      <td>65.0</td>\n",
       "      <td>97/63</td>\n",
       "    </tr>\n",
       "    <tr>\n",
       "      <th>JW-12</th>\n",
       "      <td>M</td>\n",
       "      <td>23/05/1996</td>\n",
       "      <td>1.70</td>\n",
       "      <td>65.0</td>\n",
       "      <td>105/70</td>\n",
       "    </tr>\n",
       "    <tr>\n",
       "      <th>JW-13</th>\n",
       "      <td>M</td>\n",
       "      <td>17/04/1996</td>\n",
       "      <td>1.69</td>\n",
       "      <td>55.0</td>\n",
       "      <td>121/82</td>\n",
       "    </tr>\n",
       "    <tr>\n",
       "      <th>JW-14</th>\n",
       "      <td>F</td>\n",
       "      <td>12/01/1996</td>\n",
       "      <td>1.56</td>\n",
       "      <td>56.3</td>\n",
       "      <td>108/72</td>\n",
       "    </tr>\n",
       "  </tbody>\n",
       "</table>\n",
       "</div>"
      ],
      "text/plain": [
       "        Sex         DOB  Height  Weight      BP\n",
       "Student                                        \n",
       "JW-10     F  07/04/1996    1.60    45.0     -/-\n",
       "JW-11     M  22/08/1995    1.70    65.0   97/63\n",
       "JW-12     M  23/05/1996    1.70    65.0  105/70\n",
       "JW-13     M  17/04/1996    1.69    55.0  121/82\n",
       "JW-14     F  12/01/1996    1.56    56.3  108/72"
      ]
     },
     "metadata": {},
     "output_type": "display_data"
    },
    {
     "data": {
      "text/html": [
       "<div>\n",
       "<style>\n",
       "    .dataframe thead tr:only-child th {\n",
       "        text-align: right;\n",
       "    }\n",
       "\n",
       "    .dataframe thead th {\n",
       "        text-align: left;\n",
       "    }\n",
       "\n",
       "    .dataframe tbody tr th {\n",
       "        vertical-align: top;\n",
       "    }\n",
       "</style>\n",
       "<table border=\"1\" class=\"dataframe\">\n",
       "  <thead>\n",
       "    <tr style=\"text-align: right;\">\n",
       "      <th></th>\n",
       "      <th>Sex</th>\n",
       "      <th>DOB</th>\n",
       "      <th>HEIGHT</th>\n",
       "      <th>WEIGHT</th>\n",
       "      <th>BP</th>\n",
       "    </tr>\n",
       "    <tr>\n",
       "      <th>Student</th>\n",
       "      <th></th>\n",
       "      <th></th>\n",
       "      <th></th>\n",
       "      <th></th>\n",
       "      <th></th>\n",
       "    </tr>\n",
       "  </thead>\n",
       "  <tbody>\n",
       "    <tr>\n",
       "      <th>JW-10</th>\n",
       "      <td>F</td>\n",
       "      <td>07/04/1996</td>\n",
       "      <td>1.60</td>\n",
       "      <td>45.0</td>\n",
       "      <td>-/-</td>\n",
       "    </tr>\n",
       "    <tr>\n",
       "      <th>JW-11</th>\n",
       "      <td>M</td>\n",
       "      <td>22/08/1995</td>\n",
       "      <td>1.70</td>\n",
       "      <td>65.0</td>\n",
       "      <td>97/63</td>\n",
       "    </tr>\n",
       "    <tr>\n",
       "      <th>JW-12</th>\n",
       "      <td>M</td>\n",
       "      <td>23/05/1996</td>\n",
       "      <td>1.70</td>\n",
       "      <td>65.0</td>\n",
       "      <td>105/70</td>\n",
       "    </tr>\n",
       "    <tr>\n",
       "      <th>JW-13</th>\n",
       "      <td>M</td>\n",
       "      <td>17/04/1996</td>\n",
       "      <td>1.69</td>\n",
       "      <td>55.0</td>\n",
       "      <td>121/82</td>\n",
       "    </tr>\n",
       "    <tr>\n",
       "      <th>JW-14</th>\n",
       "      <td>F</td>\n",
       "      <td>12/01/1996</td>\n",
       "      <td>1.56</td>\n",
       "      <td>56.3</td>\n",
       "      <td>108/72</td>\n",
       "    </tr>\n",
       "  </tbody>\n",
       "</table>\n",
       "</div>"
      ],
      "text/plain": [
       "        Sex         DOB  HEIGHT  WEIGHT      BP\n",
       "Student                                        \n",
       "JW-10     F  07/04/1996    1.60    45.0     -/-\n",
       "JW-11     M  22/08/1995    1.70    65.0   97/63\n",
       "JW-12     M  23/05/1996    1.70    65.0  105/70\n",
       "JW-13     M  17/04/1996    1.69    55.0  121/82\n",
       "JW-14     F  12/01/1996    1.56    56.3  108/72"
      ]
     },
     "metadata": {},
     "output_type": "display_data"
    }
   ],
   "source": [
    "# Create a new DataFrame with new names. \n",
    "\n",
    "capitalised = students.rename(columns={'Height': 'HEIGHT', \n",
    "                                       'Weight': 'WEIGHT'}, inplace=False)\n",
    "\n",
    "display(students.head())\n",
    "display(capitalised.head())"
   ]
  },
  {
   "cell_type": "code",
   "execution_count": 73,
   "metadata": {},
   "outputs": [
    {
     "data": {
      "text/html": [
       "<div>\n",
       "<style>\n",
       "    .dataframe thead tr:only-child th {\n",
       "        text-align: right;\n",
       "    }\n",
       "\n",
       "    .dataframe thead th {\n",
       "        text-align: left;\n",
       "    }\n",
       "\n",
       "    .dataframe tbody tr th {\n",
       "        vertical-align: top;\n",
       "    }\n",
       "</style>\n",
       "<table border=\"1\" class=\"dataframe\">\n",
       "  <thead>\n",
       "    <tr style=\"text-align: right;\">\n",
       "      <th></th>\n",
       "      <th>Sex</th>\n",
       "      <th>DOB</th>\n",
       "      <th>HEIGHT</th>\n",
       "      <th>WEIGHT</th>\n",
       "      <th>BP</th>\n",
       "    </tr>\n",
       "    <tr>\n",
       "      <th>Student</th>\n",
       "      <th></th>\n",
       "      <th></th>\n",
       "      <th></th>\n",
       "      <th></th>\n",
       "      <th></th>\n",
       "    </tr>\n",
       "  </thead>\n",
       "  <tbody>\n",
       "    <tr>\n",
       "      <th>JW-10</th>\n",
       "      <td>F</td>\n",
       "      <td>07/04/1996</td>\n",
       "      <td>1.60</td>\n",
       "      <td>45.0</td>\n",
       "      <td>-/-</td>\n",
       "    </tr>\n",
       "    <tr>\n",
       "      <th>JW-11</th>\n",
       "      <td>M</td>\n",
       "      <td>22/08/1995</td>\n",
       "      <td>1.70</td>\n",
       "      <td>65.0</td>\n",
       "      <td>97/63</td>\n",
       "    </tr>\n",
       "    <tr>\n",
       "      <th>JW-12</th>\n",
       "      <td>M</td>\n",
       "      <td>23/05/1996</td>\n",
       "      <td>1.70</td>\n",
       "      <td>65.0</td>\n",
       "      <td>105/70</td>\n",
       "    </tr>\n",
       "    <tr>\n",
       "      <th>JW-13</th>\n",
       "      <td>M</td>\n",
       "      <td>17/04/1996</td>\n",
       "      <td>1.69</td>\n",
       "      <td>55.0</td>\n",
       "      <td>121/82</td>\n",
       "    </tr>\n",
       "    <tr>\n",
       "      <th>JW-14</th>\n",
       "      <td>F</td>\n",
       "      <td>12/01/1996</td>\n",
       "      <td>1.56</td>\n",
       "      <td>56.3</td>\n",
       "      <td>108/72</td>\n",
       "    </tr>\n",
       "  </tbody>\n",
       "</table>\n",
       "</div>"
      ],
      "text/plain": [
       "        Sex         DOB  HEIGHT  WEIGHT      BP\n",
       "Student                                        \n",
       "JW-10     F  07/04/1996    1.60    45.0     -/-\n",
       "JW-11     M  22/08/1995    1.70    65.0   97/63\n",
       "JW-12     M  23/05/1996    1.70    65.0  105/70\n",
       "JW-13     M  17/04/1996    1.69    55.0  121/82\n",
       "JW-14     F  12/01/1996    1.56    56.3  108/72"
      ]
     },
     "metadata": {},
     "output_type": "display_data"
    }
   ],
   "source": [
    "# Change the names of the original DataFram inplace.\n",
    "\n",
    "students.rename(columns={'Height': 'HEIGHT', \n",
    "                         'Weight': 'WEIGHT'}, inplace=True)\n",
    "\n",
    "display(students.head())"
   ]
  },
  {
   "cell_type": "markdown",
   "metadata": {
    "slideshow": {
     "slide_type": "slide"
    }
   },
   "source": [
    "### Renaming rows\n",
    "\n",
    "Use `index` in place of `columns` to rename rows."
   ]
  },
  {
   "cell_type": "code",
   "execution_count": 74,
   "metadata": {},
   "outputs": [
    {
     "data": {
      "text/html": [
       "<div>\n",
       "<style>\n",
       "    .dataframe thead tr:only-child th {\n",
       "        text-align: right;\n",
       "    }\n",
       "\n",
       "    .dataframe thead th {\n",
       "        text-align: left;\n",
       "    }\n",
       "\n",
       "    .dataframe tbody tr th {\n",
       "        vertical-align: top;\n",
       "    }\n",
       "</style>\n",
       "<table border=\"1\" class=\"dataframe\">\n",
       "  <thead>\n",
       "    <tr style=\"text-align: right;\">\n",
       "      <th></th>\n",
       "      <th>Sex</th>\n",
       "      <th>DOB</th>\n",
       "      <th>HEIGHT</th>\n",
       "      <th>WEIGHT</th>\n",
       "      <th>BP</th>\n",
       "    </tr>\n",
       "    <tr>\n",
       "      <th>Student</th>\n",
       "      <th></th>\n",
       "      <th></th>\n",
       "      <th></th>\n",
       "      <th></th>\n",
       "      <th></th>\n",
       "    </tr>\n",
       "  </thead>\n",
       "  <tbody>\n",
       "    <tr>\n",
       "      <th>10</th>\n",
       "      <td>F</td>\n",
       "      <td>07/04/1996</td>\n",
       "      <td>1.60</td>\n",
       "      <td>45.0</td>\n",
       "      <td>-/-</td>\n",
       "    </tr>\n",
       "    <tr>\n",
       "      <th>JW-11</th>\n",
       "      <td>M</td>\n",
       "      <td>22/08/1995</td>\n",
       "      <td>1.70</td>\n",
       "      <td>65.0</td>\n",
       "      <td>97/63</td>\n",
       "    </tr>\n",
       "    <tr>\n",
       "      <th>JW-12</th>\n",
       "      <td>M</td>\n",
       "      <td>23/05/1996</td>\n",
       "      <td>1.70</td>\n",
       "      <td>65.0</td>\n",
       "      <td>105/70</td>\n",
       "    </tr>\n",
       "    <tr>\n",
       "      <th>JW-13</th>\n",
       "      <td>M</td>\n",
       "      <td>17/04/1996</td>\n",
       "      <td>1.69</td>\n",
       "      <td>55.0</td>\n",
       "      <td>121/82</td>\n",
       "    </tr>\n",
       "    <tr>\n",
       "      <th>JW-14</th>\n",
       "      <td>F</td>\n",
       "      <td>12/01/1996</td>\n",
       "      <td>1.56</td>\n",
       "      <td>56.3</td>\n",
       "      <td>108/72</td>\n",
       "    </tr>\n",
       "  </tbody>\n",
       "</table>\n",
       "</div>"
      ],
      "text/plain": [
       "        Sex         DOB  HEIGHT  WEIGHT      BP\n",
       "Student                                        \n",
       "10        F  07/04/1996    1.60    45.0     -/-\n",
       "JW-11     M  22/08/1995    1.70    65.0   97/63\n",
       "JW-12     M  23/05/1996    1.70    65.0  105/70\n",
       "JW-13     M  17/04/1996    1.69    55.0  121/82\n",
       "JW-14     F  12/01/1996    1.56    56.3  108/72"
      ]
     },
     "metadata": {},
     "output_type": "display_data"
    }
   ],
   "source": [
    "nums = students.rename(index={'JW-1': '1', \n",
    "                              'JW-10': '10'}, inplace=False)\n",
    "\n",
    "display(nums.head())"
   ]
  },
  {
   "cell_type": "markdown",
   "metadata": {
    "slideshow": {
     "slide_type": "slide"
    }
   },
   "source": [
    "### Renaming row header"
   ]
  },
  {
   "cell_type": "code",
   "execution_count": null,
   "metadata": {
    "collapsed": true
   },
   "outputs": [],
   "source": [
    "students.index.names = ['STUDENTS']\n",
    "\n",
    "display(students.head())"
   ]
  },
  {
   "cell_type": "markdown",
   "metadata": {
    "slideshow": {
     "slide_type": "subslide"
    }
   },
   "source": [
    "### Time series data\n",
    "For time series data, `pandas` can be used to read csv files where one of the columns includes datetime data. \n",
    "\n",
    "Indicating the column contains datetime values prompts `pandas` to try to convert that column to *datetime objects*. \n",
    "\n",
    "Datetime objects are very convenient as specifics of the datetime object may be accessed with dot syntax (e.g. `.year` returns the year, `.month` returns the month, etc.)\n",
    "\n",
    " \n",
    "\n"
   ]
  },
  {
   "cell_type": "markdown",
   "metadata": {
    "slideshow": {
     "slide_type": "subslide"
    }
   },
   "source": [
    "In the DataFrame `students`, DOB appears in the column with index 2 <br>(regular indexing, not .iloc or .loc indexing) <br>so we use the argument `parse_dates=[2]`"
   ]
  },
  {
   "cell_type": "code",
   "execution_count": 75,
   "metadata": {
    "collapsed": true,
    "slideshow": {
     "slide_type": "subslide"
    }
   },
   "outputs": [],
   "source": [
    "students = read_csv('sample_data/sample_student_data.csv', \n",
    "                    skiprows=[1],   \n",
    "                    index_col=0,\n",
    "                    parse_dates=[2])"
   ]
  },
  {
   "cell_type": "markdown",
   "metadata": {
    "slideshow": {
     "slide_type": "subslide"
    }
   },
   "source": [
    "Time series data may also contain the time in addition to the date. \n",
    "\n",
    "This is autonmatically included in a datetime object."
   ]
  },
  {
   "cell_type": "code",
   "execution_count": 76,
   "metadata": {
    "slideshow": {
     "slide_type": "subslide"
    }
   },
   "outputs": [
    {
     "name": "stdout",
     "output_type": "stream",
     "text": [
      "1996-11-01 00:00:00\n",
      "\n",
      "1996\n",
      "\n",
      "11\n",
      "\n",
      "1\n",
      "\n"
     ]
    }
   ],
   "source": [
    "print(students.loc['JW-2', 'DOB'],       end='\\n\\n')\n",
    "print(students.loc['JW-2', 'DOB'].year,  end='\\n\\n')\n",
    "print(students.loc['JW-2', 'DOB'].month, end='\\n\\n')\n",
    "print(students.loc['JW-2', 'DOB'].day,   end='\\n\\n')"
   ]
  },
  {
   "cell_type": "markdown",
   "metadata": {
    "slideshow": {
     "slide_type": "subslide"
    }
   },
   "source": [
    "Time data may be accessed using:\n",
    "- `.hour`\n",
    "- `.minute`\n",
    "- `.time()`"
   ]
  },
  {
   "cell_type": "markdown",
   "metadata": {
    "slideshow": {
     "slide_type": "subslide"
    }
   },
   "source": [
    "### Resampling\n",
    "Downsampling refers to going from high frequency to low frequency e.g. daily data to monthly data. \n",
    "\n",
    "Upsampling refers to going from low frequency to high frequency e.g. monthly data to daily data. \n",
    "\n",
    "In this example, monthly totals are computed from daily values (downsampling):"
   ]
  },
  {
   "cell_type": "markdown",
   "metadata": {
    "collapsed": true,
    "slideshow": {
     "slide_type": "subslide"
    }
   },
   "source": [
    "The file `rotterdam_rainfall_2012.txt` contains the default ranifall data for Rotterdam for 2012.\n",
    "\n",
    "Import the data, using the dates as the index (the column labeled `YYYYMMDD`). \n",
    "\n"
   ]
  },
  {
   "cell_type": "code",
   "execution_count": 78,
   "metadata": {
    "collapsed": true,
    "slideshow": {
     "slide_type": "subslide"
    }
   },
   "outputs": [],
   "source": [
    "rain = read_csv('sample_data/rotterdam_rainfall_2012.txt', \n",
    "                skiprows=9,                         # skip 9 rows of header data\n",
    "                parse_dates=['YYYYMMDD'],           # create datetime object\n",
    "                index_col='YYYYMMDD',               # choose the index\n",
    "                skipinitialspace=True)              # skips spaces after the delimiter\n",
    "\n",
    "rain.RH[rain.RH < 0] = 0  # remove negative values\n",
    "rain.RH = rain.RH * 0.1   # convert 0.1mm/day to mm/day"
   ]
  },
  {
   "cell_type": "markdown",
   "metadata": {
    "slideshow": {
     "slide_type": "subslide"
    }
   },
   "source": [
    "`resample` is a method. We apply it to column rain.RH\n",
    "\n",
    "__Function arguments:__\n",
    " - desired sampling frequency <br> `'A'` (annually or yearly), `'M'` (monthly), `'W'` (weekly), `'D'` (daily), `'H'` (hourly). <br>There are many other options: see http://pandas.pydata.org/pandas-docs/version/0.12.0/timeseries.html.\n",
    " \n",
    " <br>\n",
    " - `kind`<br>Tell `pandas` which point in the original scale to assign the computed value to. <br>e.g. last day of the period, first day, entire period ...\n",
    " \n",
    " <br>\n",
    " - Specify how to resample by adding a numpy function e.g. `np.mean` (the default), `np.sum`, `np.min`, `np.max`, etc."
   ]
  },
  {
   "cell_type": "code",
   "execution_count": 79,
   "metadata": {
    "slideshow": {
     "slide_type": "subslide"
    }
   },
   "outputs": [
    {
     "name": "stdout",
     "output_type": "stream",
     "text": [
      "YYYYMMDD\n",
      "2012-01     83.0\n",
      "2012-02     24.3\n",
      "2012-03     21.9\n",
      "2012-04     57.6\n",
      "2012-05     76.5\n",
      "2012-06    119.0\n",
      "2012-07    121.6\n",
      "2012-08     93.4\n",
      "2012-09     52.0\n",
      "2012-10    132.6\n",
      "2012-11     63.3\n",
      "2012-12    149.5\n",
      "Freq: M, Name: RH, dtype: float64\n"
     ]
    }
   ],
   "source": [
    "monthlyrain = rain.RH.resample('M',             # Monthly sampling     \n",
    "                               kind='period'    # Assign downsampled value to whole period\n",
    "                              ).sum()           # Sum all values to obtain new value\n",
    "\n",
    "print(monthlyrain)"
   ]
  },
  {
   "cell_type": "markdown",
   "metadata": {
    "slideshow": {
     "slide_type": "subslide"
    }
   },
   "source": [
    "Lastly make a bar graph using `pandas`:"
   ]
  },
  {
   "cell_type": "code",
   "execution_count": 80,
   "metadata": {
    "slideshow": {
     "slide_type": "subslide"
    }
   },
   "outputs": [
    {
     "data": {
      "image/png": "[encoded data removed]",
      "text/plain": [
       "<matplotlib.figure.Figure at 0x112b10b00>"
      ]
     },
     "metadata": {},
     "output_type": "display_data"
    }
   ],
   "source": [
    "monthlyrain.plot(kind='bar')\n",
    "plt.ylabel('mm/month')\n",
    "plt.xlabel('month');"
   ]
  },
  {
   "cell_type": "markdown",
   "metadata": {
    "slideshow": {
     "slide_type": "subslide"
    }
   },
   "source": [
    "### Saving `Pandas DataFrame`s \n",
    "The `to_csv` method can be used to save a `DataFrame`.\n",
    "\n",
    "In theory, this command can be sued to save the data as *any* filetype. \n",
    "\n",
    "Only files that can be opened as unformatted text seperated by a text delimiter (default = , comma) will be able to be read.\n",
    "\n",
    "Function arguments may be used to format the output file.\n",
    "\n",
    "As an example, let's store the new, resampled data set, `monthlyrain` to a txt file:"
   ]
  },
  {
   "cell_type": "code",
   "execution_count": 81,
   "metadata": {
    "collapsed": true,
    "slideshow": {
     "slide_type": "subslide"
    }
   },
   "outputs": [],
   "source": [
    "monthlyrain.to_csv('sample_data/rotterdam_monthly_rainfall_2012.txt')"
   ]
  },
  {
   "cell_type": "markdown",
   "metadata": {
    "slideshow": {
     "slide_type": "subslide"
    }
   },
   "source": [
    "The full list of optional function arguments can be found here: https://pandas.pydata.org/pandas-docs/stable/generated/pandas.DataFrame.to_csv.html\n",
    "\n",
    "Five useful optional function arguments as examples:\n",
    "- `header` : new headers can be assigend as a list of strings OR the header can be omitted using\n",
    "- `float_format` : the number of decimal places\n",
    "- `sep`: delimter (default = \",\")\n",
    "- `mode` : the Python mode specifier (default = `w`)\n",
    " `header=False`.\n",
    "- `index` : write row names (default = True)"
   ]
  },
  {
   "cell_type": "code",
   "execution_count": 82,
   "metadata": {
    "collapsed": true,
    "slideshow": {
     "slide_type": "subslide"
    }
   },
   "outputs": [],
   "source": [
    "monthlyrain.to_csv('sample_data/rotterdam_monthly_rain_formatted.csv',\n",
    "                     header=False,\n",
    "                     float_format=\"%.3f\",\n",
    "                     sep=\"\\t\",\n",
    "                     mode=\"a\",  \n",
    "                     index=False)"
   ]
  },
  {
   "cell_type": "markdown",
   "metadata": {
    "slideshow": {
     "slide_type": "slide"
    }
   },
   "source": [
    "## Text Files\n",
    "It can also be useful to write your data to output files to store it and use it outside of your Python program.\n",
    "\n",
    "We covered a brief introduction to writing data to files when we learnt to save plots produced using `matplotlib`."
   ]
  },
  {
   "cell_type": "markdown",
   "metadata": {
    "slideshow": {
     "slide_type": "subslide"
    }
   },
   "source": [
    "Today we will learn several methods for working with  files incluing; `open()`, `read()`, `write()` and `close()`. \n",
    "\n"
   ]
  },
  {
   "cell_type": "markdown",
   "metadata": {
    "slideshow": {
     "slide_type": "subslide"
    }
   },
   "source": [
    "Before a file can be read or written to, it must be opened using the `open()` function. \n",
    "\n",
    "__Function arguments:__\n",
    "<br>Path to the file (filename and location)\n",
    "<br>The *mode specifier* with which to open the file:\n",
    "\n",
    "- `r`: open an exiting file to read\n",
    "    \n",
    "\n",
    "- `w`: open an existing file to write. <br>If no file exists: creates a new file.<br>If file exists : over-writes previous contents.\n",
    "    \n",
    "   \n",
    "- `a`: open an existing file to write. <br>If no file exists: creates a new file.<br>If file exists : appends text to end of file.\n",
    "    \n",
    " \n",
    "\n"
   ]
  },
  {
   "cell_type": "markdown",
   "metadata": {
    "slideshow": {
     "slide_type": "subslide"
    }
   },
   "source": [
    "- `r+`: open a text file to read from or write to. <br>If file exists : over-writes previous contents.\n",
    "    \n",
    "  \n",
    "- `w+`: open a text file to read from or write to.<br>If no file exists: creates a new file.<br>If file exists : over-writes previous contents.\n",
    "    \n",
    "  \n",
    "- `a+` : open a text file to read from or write to.<br>If no file exists: creates a new file.<br>If file exists : appends text to end of file.\n"
   ]
  },
  {
   "cell_type": "markdown",
   "metadata": {
    "slideshow": {
     "slide_type": "subslide"
    }
   },
   "source": [
    "Once the file is open, it creates a *file object*.  \n",
    "\n",
    "We can interrogate the file for various details including whether it is open or closed:\n",
    "\n",
    " - `name`: Name of the opened file\n",
    " - `mode`: Mode specifier with which the file was opened  \n",
    " - `closed`: Boolean True or False\n",
    " - `readable( )`: Read permission, Boolean True or False\n",
    " - `writable( )`: Write permission, Boolean True or False"
   ]
  },
  {
   "cell_type": "markdown",
   "metadata": {
    "slideshow": {
     "slide_type": "subslide"
    }
   },
   "source": [
    "__Example__\n",
    "Create a file object (called `file`) for a new text file called “my_file.txt”, stored in the sample_data folder within your ILAS_python repository.\n",
    "\n",
    "Once a file has been opened it's contents can be read, overwritten, or added to, depnding on the mode specifier used to open it. \n",
    "\n",
    "We are going to *write* data to the file so the mode specifier is `w`."
   ]
  },
  {
   "cell_type": "code",
   "execution_count": null,
   "metadata": {
    "collapsed": true,
    "slideshow": {
     "slide_type": "subslide"
    }
   },
   "outputs": [],
   "source": [
    "file = open(\"sample_data\\my_file.txt\", \"w\" )"
   ]
  },
  {
   "cell_type": "code",
   "execution_count": null,
   "metadata": {
    "collapsed": true,
    "scrolled": true,
    "slideshow": {
     "slide_type": "subslide"
    }
   },
   "outputs": [],
   "source": [
    "# Interrrogate the file:\n",
    "print( \"File Name:\",  file.name )\n",
    "\n",
    "print( \"Open Mode:\",  file.mode )\n",
    "\n",
    "print( \"Readable:\",  file.readable())\n",
    "\n",
    "print( \"Writable:\",  file.writable())"
   ]
  },
  {
   "cell_type": "markdown",
   "metadata": {
    "slideshow": {
     "slide_type": "subslide"
    }
   },
   "source": [
    "An open file must then always be closed again by calling the close() method."
   ]
  },
  {
   "cell_type": "code",
   "execution_count": null,
   "metadata": {
    "collapsed": true
   },
   "outputs": [],
   "source": [
    "# Write a function to deterine the file's status:\n",
    "def get_status( f ):\n",
    "    if ( f.closed != False ) :\n",
    "        return \"Closed\"\n",
    "    else :\n",
    "        return \"Open\"\n",
    "    "
   ]
  },
  {
   "cell_type": "markdown",
   "metadata": {
    "slideshow": {
     "slide_type": "subslide"
    }
   },
   "source": [
    "##### Why do we need to close a file? \n",
    "1. Python does not automatically close the file. Leaving it open means that you risk overwriting information.\n",
    "1. Closing the file saves any changes to it.\n",
    "1. Depending on your computer's operating system, you may not be able to open a file simultaneously for reading and writing. <br>Example: If two file object refer to the same file (e.g. input and output), you may generate an error if you haven't closed the file (e.g. after reading) before opening it with a differetn modee specifier (e.g. writing). <br>Opening files as read or write only can be safer."
   ]
  },
  {
   "cell_type": "code",
   "execution_count": null,
   "metadata": {
    "collapsed": true,
    "slideshow": {
     "slide_type": "subslide"
    }
   },
   "outputs": [],
   "source": [
    "print( \"File Status:\" , get_status(file))  \n",
    "\n",
    "file.close()\n",
    "\n",
    "print( \"File Status:\" , get_status(file))"
   ]
  },
  {
   "cell_type": "markdown",
   "metadata": {
    "slideshow": {
     "slide_type": "subslide"
    }
   },
   "source": [
    "__Try it yourself__\n",
    "\n",
    "1. Save the previous 4 code cells contents to a file, `interrogate_file.py`, in the folder for your Python exercises that you created earlier today. \n",
    "\n",
    "1. Correct the following line to specify the path to `my_file.txt`, *relative* to the location of `interrogate.py`:\n",
    ">`file = open(\"sample_data\\my_file.txt’\", \"w\" )`\n",
    "1. Run the file from the terminal to see the file get created and display information about the file. "
   ]
  },
  {
   "cell_type": "markdown",
   "metadata": {
    "slideshow": {
     "slide_type": "subslide"
    }
   },
   "source": [
    "### Reading and Writing Text Files\n",
    "### Writing Files\n",
    "Data can be written to a files in a number of ways.\n",
    "\n",
    "Let's create a string to write to a text file:\n",
    "\n",
    "The inclusion of `\\n` anywhere in the string creates a line break."
   ]
  },
  {
   "cell_type": "code",
   "execution_count": null,
   "metadata": {
    "collapsed": true,
    "slideshow": {
     "slide_type": "-"
    }
   },
   "outputs": [],
   "source": [
    "poem = 'I never saw a man who looked\\nWith such a wistful eye\\n'\n",
    "print(poem)"
   ]
  },
  {
   "cell_type": "markdown",
   "metadata": {
    "slideshow": {
     "slide_type": "subslide"
    }
   },
   "source": [
    "A string my be *concatenated* (stuck together end to end) using the `+=` arithmetic operator.\n",
    "\n",
    "This allows us to build the string over the course of the program."
   ]
  },
  {
   "cell_type": "code",
   "execution_count": null,
   "metadata": {
    "collapsed": true,
    "slideshow": {
     "slide_type": "-"
    }
   },
   "outputs": [],
   "source": [
    "poem += \"Upon that little tent of blue\\n\" \n",
    "\n",
    "poem += \"Which prisoners call the sky\\n\""
   ]
  },
  {
   "cell_type": "markdown",
   "metadata": {
    "slideshow": {
     "slide_type": "subslide"
    }
   },
   "source": [
    "Create an object to __write__ the string to a file:  "
   ]
  },
  {
   "cell_type": "code",
   "execution_count": null,
   "metadata": {
    "collapsed": true
   },
   "outputs": [],
   "source": [
    "file = open(\"sample_data\\poem.txt\", \"w\" )"
   ]
  },
  {
   "cell_type": "markdown",
   "metadata": {
    "slideshow": {
     "slide_type": "subslide"
    }
   },
   "source": [
    "Write the string to the file, then close it."
   ]
  },
  {
   "cell_type": "code",
   "execution_count": null,
   "metadata": {
    "collapsed": true
   },
   "outputs": [],
   "source": [
    "file.write(poem)\n",
    "\n",
    "file.close()"
   ]
  },
  {
   "cell_type": "markdown",
   "metadata": {
    "slideshow": {
     "slide_type": "subslide"
    }
   },
   "source": [
    "You can open the file using a text editor to confirm it's contents."
   ]
  },
  {
   "cell_type": "markdown",
   "metadata": {
    "slideshow": {
     "slide_type": "subslide"
    }
   },
   "source": [
    "### Reading and Editing Files\n",
    "Create an object to __read__ the string from the containing file.\n",
    "<br>(Note: As we have finished using the object name `file` to open `poem.txt` for writing we can recycle it to open the file for reading)."
   ]
  },
  {
   "cell_type": "code",
   "execution_count": null,
   "metadata": {
    "collapsed": true
   },
   "outputs": [],
   "source": [
    "file = open(\"sample_data\\poem.txt\", \"r\" )"
   ]
  },
  {
   "cell_type": "markdown",
   "metadata": {
    "slideshow": {
     "slide_type": "subslide"
    }
   },
   "source": [
    "Read everything in the file:"
   ]
  },
  {
   "cell_type": "code",
   "execution_count": null,
   "metadata": {
    "collapsed": true
   },
   "outputs": [],
   "source": [
    "contents = file.read()\n",
    "\n",
    "print(contents)\n",
    "\n",
    "file.close()"
   ]
  },
  {
   "cell_type": "markdown",
   "metadata": {
    "slideshow": {
     "slide_type": "subslide"
    }
   },
   "source": [
    "Iteration can be used to quickly and efficiently read file contents line by line."
   ]
  },
  {
   "cell_type": "code",
   "execution_count": null,
   "metadata": {
    "collapsed": true
   },
   "outputs": [],
   "source": [
    "file = open(\"sample_data\\poem.txt\", \"r\" )\n",
    "\n",
    "for line in file :\n",
    "    print(line, end=\"\")\n",
    "    \n",
    "file.close()"
   ]
  },
  {
   "cell_type": "code",
   "execution_count": null,
   "metadata": {
    "collapsed": true,
    "slideshow": {
     "slide_type": "subslide"
    }
   },
   "outputs": [],
   "source": [
    "file = open(\"sample_data\\poem.txt\", \"r\" )\n",
    "\n",
    "for word in file.read().split() :\n",
    "    print(word, end=\"\")\n",
    "    \n",
    "file.close()\n",
    "\n"
   ]
  },
  {
   "cell_type": "markdown",
   "metadata": {
    "slideshow": {
     "slide_type": "subslide"
    }
   },
   "source": [
    "`end=\"\"` *prevents* a line break from being printed at the end of the print statement\".\n",
    "<br>(We have already included line breaks in our string)."
   ]
  },
  {
   "cell_type": "markdown",
   "metadata": {
    "slideshow": {
     "slide_type": "subslide"
    }
   },
   "source": [
    "Create an object to __append__ the string from the containing file."
   ]
  },
  {
   "cell_type": "code",
   "execution_count": null,
   "metadata": {
    "collapsed": true
   },
   "outputs": [],
   "source": [
    "file = open( \"sample_data/poem.txt\" , \"a\" )  "
   ]
  },
  {
   "cell_type": "markdown",
   "metadata": {
    "slideshow": {
     "slide_type": "subslide"
    }
   },
   "source": [
    "By *appending* we add data to a file (rather than overwriting)."
   ]
  },
  {
   "cell_type": "code",
   "execution_count": null,
   "metadata": {
    "collapsed": true
   },
   "outputs": [],
   "source": [
    "file.write( \"(by Oscar Wilde)\" )  "
   ]
  },
  {
   "cell_type": "markdown",
   "metadata": {
    "slideshow": {
     "slide_type": "subslide"
    }
   },
   "source": [
    "Notice that if you open `poem.txt` in a text editor at this stage, your changes have not appeared yet.\n",
    "\n",
    "Run:"
   ]
  },
  {
   "cell_type": "code",
   "execution_count": null,
   "metadata": {
    "collapsed": true
   },
   "outputs": [],
   "source": [
    "file.close()"
   ]
  },
  {
   "cell_type": "markdown",
   "metadata": {
    "slideshow": {
     "slide_type": "-"
    }
   },
   "source": [
    "The changes should have now been saved an will appear if you re-open the file in a text editor. "
   ]
  },
  {
   "cell_type": "markdown",
   "metadata": {
    "slideshow": {
     "slide_type": "subslide"
    }
   },
   "source": [
    "__Try it yourself__\n",
    "Practise writing and reading data by:\n",
    "- Creating a Python file, `write_and_read.py` in the folder you created earlier to contain your Python exercises.\n",
    "\n",
    "- Use `write_and_read.py` to produce a .txt file, `write_and_read.txt` in the sample_data directory.\n",
    "\n",
    "- Add code to `write_and_read.py` to write a string to `write_and_read.txt`.\n",
    "\n",
    "- Add code to `write_and_read.py` to read and print the string created in `write_and_read.txt`.\n",
    "\n",
    "- Run `write_and_read.py` from the command line to print the contents in the terminal."
   ]
  },
  {
   "cell_type": "markdown",
   "metadata": {
    "slideshow": {
     "slide_type": "subslide"
    }
   },
   "source": [
    "#####  `read()`\n",
    "By default `read()` will read the entire contents of the file from the beginning (index 0) to the end (index -1).  \n",
    "\n",
    "An optional integer argument can be used to specify *how many characters to read*. \n",
    "\n"
   ]
  },
  {
   "cell_type": "markdown",
   "metadata": {
    "slideshow": {
     "slide_type": "subslide"
    }
   },
   "source": [
    "##### `seek()`\n",
    "The position within a file:\n",
    " - from which to read or...\n",
    " - at which to write\n",
    "\n",
    "can be selected using `seek()`.\n",
    "\n",
    "An optional integer argument can be used to specify *how many characters to offset* the start position from the start of the file.\n",
    "\n",
    "\n"
   ]
  },
  {
   "cell_type": "markdown",
   "metadata": {
    "slideshow": {
     "slide_type": "subslide"
    }
   },
   "source": [
    "##### `tell()`\n",
    "The current position within a file can be returned an integer location index at any time using `tell()`.\n"
   ]
  },
  {
   "cell_type": "markdown",
   "metadata": {
    "slideshow": {
     "slide_type": "subslide"
    }
   },
   "source": [
    "##### `truncate()`\n",
    "Deletes all characters after the current position."
   ]
  },
  {
   "cell_type": "markdown",
   "metadata": {
    "slideshow": {
     "slide_type": "subslide"
    }
   },
   "source": [
    "##### `with`\n",
    "\n",
    "It is good practice to use the Python with keyword to group file operations within a block.  \n",
    "\n",
    "This automatically closes the file is properly closed after operations in the block have been completed, even if an exception or error occurs within the block."
   ]
  },
  {
   "cell_type": "markdown",
   "metadata": {
    "slideshow": {
     "slide_type": "subslide"
    }
   },
   "source": [
    "The following example demonstrates how `read()`, `seek()`, `tell()`, `truncate`, and `with` are used.\n",
    "\n",
    "Take an example string..."
   ]
  },
  {
   "cell_type": "code",
   "execution_count": null,
   "metadata": {
    "collapsed": true
   },
   "outputs": [],
   "source": [
    "twister = \"How can a clam cram in a clean cream can?\""
   ]
  },
  {
   "cell_type": "markdown",
   "metadata": {
    "slideshow": {
     "slide_type": "subslide"
    }
   },
   "source": [
    "##### Example : `with` "
   ]
  },
  {
   "cell_type": "markdown",
   "metadata": {},
   "source": [
    "In the `with` block:\n",
    " - Write `twister` into a file.\n",
    " - Display the file’s current status. "
   ]
  },
  {
   "cell_type": "code",
   "execution_count": null,
   "metadata": {
    "collapsed": true
   },
   "outputs": [],
   "source": [
    "with open(\"sample_data/twister.txt\" , \"w\" ) as file :  \n",
    "    file.write(twister)\n",
    "    print(f\"File Now Closed?: {file.closed}\")\n",
    "    \n",
    "print(f\"File Now Closed?: {file.closed}\")\n"
   ]
  },
  {
   "cell_type": "markdown",
   "metadata": {
    "slideshow": {
     "slide_type": "subslide"
    }
   },
   "source": [
    "##### Example : `tell()` and `seek()` "
   ]
  },
  {
   "cell_type": "code",
   "execution_count": null,
   "metadata": {
    "collapsed": true
   },
   "outputs": [],
   "source": [
    "with open(\"sample_data/twister.txt\" , \"w\" ) as file :  \n",
    "    file.write(\"How can a clam cram in a clean cream can?\")\n",
    "\n",
    "    \n",
    "with open(\"sample_data/twister.txt\" , \"r+\" ) as file : \n",
    "    \n",
    "    # tell \n",
    "    print(f\"Position In File Now:{file.tell()}\") \n",
    "    \n",
    "\n",
    "    # reading the file moves the position\n",
    "    twister =  file.read()\n",
    "    print(twister)\n",
    "    print(f\"Position In File Now:{file.tell()}\") \n",
    "    \n",
    "    \n",
    "    # seek\n",
    "    position =  file.seek( 31 )\n",
    "    print(f\"Position In File Now:{file.tell()}\") \n",
    "    \n",
    "    \n",
    "    # write starting at new position\n",
    "    file.write(\"caravan?\")\n",
    "    \n",
    "    # deletes all characters from current position onwards\n",
    "    file.truncate()    \n",
    "    \n",
    "    # move back to start poistion\n",
    "    position =  file.seek( 0 )\n",
    "    print(f\"Position In File Now:{file.tell()}\") \n",
    "    \n",
    "    # print updated string\n",
    "    twister =  file.read()\n",
    "    print(twister)\n"
   ]
  },
  {
   "cell_type": "markdown",
   "metadata": {
    "slideshow": {
     "slide_type": "slide"
    }
   },
   "source": [
    "## Binary Files (\"Pickling\" Data)\n",
    "String data can easily be stored in text files, as shown. \n",
    "\n",
    "Other data types (e.g. numbers, lists, dictionaries) can also be stored in text files but require conversion to strings first. \n",
    "\n",
    "Restoring that stored data to their original data type, if read into a Python file, requires the opposite conversion. "
   ]
  },
  {
   "cell_type": "markdown",
   "metadata": {
    "slideshow": {
     "slide_type": "subslide"
    }
   },
   "source": [
    "Unless the storage  file needs to be human-readable for some reason, it is more efficient to use `pickle` to store data as a machine-readable binary file.\n",
    "\n"
   ]
  },
  {
   "cell_type": "markdown",
   "metadata": {
    "slideshow": {
     "slide_type": "subslide"
    }
   },
   "source": [
    "#### Advantages of pickling data.\n",
    "\n",
    "A binary file is essentially a computer file that __stored__ in a non-plain text file format(e.g. .py, .csv, .txt.....etc).\n",
    "\n",
    "A character stream is used to represent (typically non-text) information. \n",
    "\n",
    "<img src=\"img/binary-file-in-text-editor.png\" alt=\"Drawing\" style=\"width: 300px;\"/>"
   ]
  },
  {
   "cell_type": "markdown",
   "metadata": {
    "slideshow": {
     "slide_type": "subslide"
    }
   },
   "source": [
    "This character stream contains all the information necessary to reconstruct the object in another (python) script.\n",
    "\n",
    "Many binary file formats contain parts that can be interpreted as text:\n",
    "\n",
    "Example: some computer document files containing formatted text, contain the text of the document and the formatting information in binary form.\n",
    "\n",
    "\n",
    "\n",
    "\n"
   ]
  },
  {
   "cell_type": "markdown",
   "metadata": {
    "slideshow": {
     "slide_type": "subslide"
    }
   },
   "source": [
    "Translating data structures or object state into a format that can be stored  or transmitted and reconstructed later is known as *serialising*.\n",
    "\n",
    "The serialised character stream contains all the information necessary to reconstruct the object in another (python) script / computer environment."
   ]
  },
  {
   "cell_type": "markdown",
   "metadata": {
    "slideshow": {
     "slide_type": "subslide"
    }
   },
   "source": [
    "Pickling a python object serialises the object:\n",
    "- converting it to a character stream\n",
    "- allowing it to be stored at a smaller size"
   ]
  },
  {
   "cell_type": "markdown",
   "metadata": {
    "slideshow": {
     "slide_type": "subslide"
    }
   },
   "source": [
    "\n",
    "\n",
    "Read (`r`), write (`w`) and append (`a`) can be used to produce binary files simply by using the mode specifiers:\n",
    "- `rb` : read\n",
    "- `wb` : write\n",
    "- `ab` : append"
   ]
  },
  {
   "cell_type": "markdown",
   "metadata": {
    "slideshow": {
     "slide_type": "subslide"
    }
   },
   "source": [
    "“Pickling” a data object stores a string representation of the object.\n",
    "\n",
    "The string representation can later be “unpickled” to its former state. "
   ]
  },
  {
   "cell_type": "markdown",
   "metadata": {
    "slideshow": {
     "slide_type": "subslide"
    }
   },
   "source": [
    "The following example shows how to pickle data."
   ]
  },
  {
   "cell_type": "markdown",
   "metadata": {
    "slideshow": {
     "slide_type": "subslide"
    }
   },
   "source": [
    "Import the `pickle` package:"
   ]
  },
  {
   "cell_type": "code",
   "execution_count": null,
   "metadata": {
    "collapsed": true
   },
   "outputs": [],
   "source": [
    "import pickle "
   ]
  },
  {
   "cell_type": "markdown",
   "metadata": {
    "slideshow": {
     "slide_type": "subslide"
    }
   },
   "source": [
    "Create sample data:"
   ]
  },
  {
   "cell_type": "code",
   "execution_count": null,
   "metadata": {
    "collapsed": true
   },
   "outputs": [],
   "source": [
    "data = [ \"Numbers\" , \n",
    "         [1, 2, 3, 4, 5] ]\n",
    "\n",
    "print(data)"
   ]
  },
  {
   "cell_type": "markdown",
   "metadata": {
    "slideshow": {
     "slide_type": "subslide"
    }
   },
   "source": [
    "In the `with` block:\n",
    " - Use the function `pickled.dump()` "
   ]
  },
  {
   "cell_type": "code",
   "execution_count": null,
   "metadata": {
    "collapsed": true,
    "slideshow": {
     "slide_type": "-"
    }
   },
   "outputs": [],
   "source": [
    "with open( \"sample_data/pickled.dat\" , \"wb\" ) as file:\n",
    "    \n",
    "    pickle.dump( data, file )\n"
   ]
  },
  {
   "cell_type": "markdown",
   "metadata": {
    "slideshow": {
     "slide_type": "subslide"
    }
   },
   "source": [
    "In the `with` block:\n",
    " - Use the function `pickled.load()` "
   ]
  },
  {
   "cell_type": "code",
   "execution_count": null,
   "metadata": {
    "collapsed": true
   },
   "outputs": [],
   "source": [
    "with open( \"sample_data/pickled.dat\" , \"rb\" ) as file:\n",
    "    \n",
    "    data = pickle.load(file)\n",
    "    \n",
    "print(f\"recovered data: \\n{data[0]}, type = {type(data[0])} \\n{data[1]}, type = {type(data[1])} \")"
   ]
  },
  {
   "cell_type": "markdown",
   "metadata": {
    "slideshow": {
     "slide_type": "subslide"
    }
   },
   "source": [
    "### Pickling a `pandas DataFrame`\n",
    "\n",
    "`pandas DataFrame`s have a built-in method, `to_pickle`, that can be used to pickle the data that they contain. \n",
    "\n",
    "To demonstrate, let's use the `pandas`, `read_csv` function to read in the sample student data again:"
   ]
  },
  {
   "cell_type": "code",
   "execution_count": null,
   "metadata": {
    "collapsed": true
   },
   "outputs": [],
   "source": [
    "students = read_csv('sample_data/sample_student_data.csv', \n",
    "                    skiprows=[1],   \n",
    "                    index_col=0)\n",
    "\n",
    "print(students.keys())"
   ]
  },
  {
   "cell_type": "markdown",
   "metadata": {
    "slideshow": {
     "slide_type": "subslide"
    }
   },
   "source": [
    "The cell below shows how to pickle (save) and read back the `students DataFrame`."
   ]
  },
  {
   "cell_type": "code",
   "execution_count": null,
   "metadata": {
    "collapsed": true
   },
   "outputs": [],
   "source": [
    "students.to_pickle(\"sample_data/pickled_student_data.dat\")"
   ]
  },
  {
   "cell_type": "code",
   "execution_count": null,
   "metadata": {
    "collapsed": true
   },
   "outputs": [],
   "source": [
    "from pandas import read_pickle\n",
    "read_back = read_pickle(\"sample_data/pickled_student_data.csv\")\n",
    "print(read_back)"
   ]
  },
  {
   "cell_type": "markdown",
   "metadata": {
    "slideshow": {
     "slide_type": "slide"
    }
   },
   "source": [
    "## Saving Data with Numpy\n",
    "\n",
    "`numpy` provides a few options for saving data that has the form of a Numpy array only.\n",
    "\n",
    "Example array:"
   ]
  },
  {
   "cell_type": "code",
   "execution_count": null,
   "metadata": {
    "collapsed": true
   },
   "outputs": [],
   "source": [
    "A = np.zeros(4)\n",
    "#A = [\"kit\", \"kat\"]"
   ]
  },
  {
   "cell_type": "markdown",
   "metadata": {
    "slideshow": {
     "slide_type": "subslide"
    }
   },
   "source": [
    "##### `numpy.save()`\n",
    "\n",
    "You can use the argument `fix_imports` (default = `False`).\n",
    "<br>If `True` this will make sure your data is pickled in a way that is readable in Python 2.\n",
    "\n",
    "The file is stored as a binary file with extension `.npy`:\n",
    " - you do not need to specify a filetype.\n",
    " - this can only be opened using Python (numpy).\n",
    " \n",
    "The file is generally smaller than standard pickling (112 bytes vs 187 bytes) for this example. "
   ]
  },
  {
   "cell_type": "code",
   "execution_count": null,
   "metadata": {
    "collapsed": true,
    "slideshow": {
     "slide_type": "-"
    }
   },
   "outputs": [],
   "source": [
    "np.save(\"sample_data/np_save\", A)\n",
    "\n",
    "B = np.load(\"sample_data/np_save.npy\")\n",
    "\n",
    "print(B)"
   ]
  },
  {
   "cell_type": "markdown",
   "metadata": {
    "slideshow": {
     "slide_type": "subslide"
    }
   },
   "source": [
    "##### `numpy.dump()`\n",
    "Numpy arrays also have a method:\n",
    "- concise \n",
    "- file type that is accessible outside of numpy\n",
    "- larger (this example 240 bytes)"
   ]
  },
  {
   "cell_type": "code",
   "execution_count": null,
   "metadata": {
    "collapsed": true
   },
   "outputs": [],
   "source": [
    "A.dump(\"sample_data/np_dump.dat\")\n",
    "\n",
    "B = np.load(\"sample_data/np_dump.dat\")\n",
    "\n",
    "print(B)"
   ]
  },
  {
   "cell_type": "markdown",
   "metadata": {
    "slideshow": {
     "slide_type": "subslide"
    }
   },
   "source": [
    "##### `numpy.savetxt`\n",
    "Lastly, to save a numpy array containing *only numerical values*:\n",
    "- in human readable form.\n",
    "- at small size (this examples 100 bytes)\n"
   ]
  },
  {
   "cell_type": "code",
   "execution_count": null,
   "metadata": {
    "collapsed": true
   },
   "outputs": [],
   "source": [
    "# np.savetxt(\"sample_data/np_savetxt.txt\", A)\n",
    "\n",
    "np.savetxt(\"sample_data/np_savetxt.txt\", A)\n",
    "\n",
    "B = np.loadtxt(\"sample_data/np_savetxt.txt\")\n",
    "\n",
    "print(B)"
   ]
  },
  {
   "cell_type": "markdown",
   "metadata": {
    "collapsed": true,
    "slideshow": {
     "slide_type": "slide"
    }
   },
   "source": [
    "## Review Excercises\n",
    "Complete the folowing review exercises by writing standalone Python files (.py file extension) in the Spyder IDE (or your preferred IDE or text editor). \n",
    "<br>Save the files in the folder __Input_and_Output_Exercises__ that you created earlier to store your Python exercises\n",
    "<br>Run the files in the IDE or from the command line.\n"
   ]
  },
  {
   "cell_type": "markdown",
   "metadata": {
    "collapsed": true,
    "slideshow": {
     "slide_type": "subslide"
    }
   },
   "source": [
    "### Review Excercise: Writing Python files.\n",
    "Create a Python file called `first20.py`, that prints the first 20 positive integers. \n",
    "\n",
    "Call the file from the command line.\n"
   ]
  },
  {
   "cell_type": "markdown",
   "metadata": {
    "collapsed": true
   },
   "source": [
    "__Example Solution__: \n",
    "\n",
    "`reading_functions.py` can be found in the `example_sols` folder in the `ILAS_python` repository.\n",
    "\n",
    "Run `reading_functions.py` by:\n",
    "- Opening a terminal \n",
    "- Navigating to *within* the `example_sols` folder\n",
    "- Typing: \n",
    ">`reading_functions.py`"
   ]
  },
  {
   "cell_type": "markdown",
   "metadata": {
    "collapsed": true,
    "slideshow": {
     "slide_type": "subslide"
    }
   },
   "source": [
    "### Review Excercise: Python files - Storing Functions.\n",
    "Create a seperate file called `reading_functions.py`.\n",
    "\n",
    "Write a function called `read_whole()` in `reading_functions.py` that reads the whole of a .txt file that is entered as a function argument.\n",
    "\n",
    "Test the function by using it to print the contents of the .txt file `poem.txt` from the `sample_data` directory in the the ILAS_python repository.\n"
   ]
  },
  {
   "cell_type": "markdown",
   "metadata": {
    "collapsed": true,
    "slideshow": {
     "slide_type": "subslide"
    }
   },
   "source": [
    "### Review Excercise: Python files - Importing user-defined functions.\n",
    "Create a Python file called `reader.py`.  \n",
    "\n",
    "Within `reader.py`, call the function `read_whole()` by importing it from the file `reading_functions.py`.\n",
    "\n",
    "Use it to print the whole contents of the .txt file `dot.txt` from the `sample_data` directory.\n"
   ]
  },
  {
   "cell_type": "markdown",
   "metadata": {
    "collapsed": true,
    "slideshow": {
     "slide_type": "subslide"
    }
   },
   "source": [
    "### Review Excercise: Appending text files.\n",
    "\n",
    "Find out the origin of the quote in `dot.txt`.\n",
    "\n",
    "Write Python code directly into the terminal to append the file `dot.txt` with a citation. "
   ]
  },
  {
   "cell_type": "markdown",
   "metadata": {},
   "source": []
  },
  {
   "cell_type": "markdown",
   "metadata": {
    "collapsed": true,
    "slideshow": {
     "slide_type": "subslide"
    }
   },
   "source": [
    "### Review Exercise: User Input - Adventure Game.\n",
    "\n",
    "User input is a fundamental part of computer games. \n",
    "\n",
    "A simple text-based adventure game can be generated using a combination of user input and random number generation.\n",
    "\n",
    "<img src=\"img/kings_quest_1.jpg\" alt=\"Drawing\" style=\"width: 300px;\"/>\n",
    "\n",
    "A useful random number generator is the `random` package:\n",
    ">`import random`\n",
    "\n",
    "For example a random integer in the range 1 to 8 can be assigned to varibable `A`  by:\n",
    ">`A = (random.randint(1, 8))`\n",
    "\n",
    "Copy and paste the code from the cell below to python file, `adventure_game.py`.\n",
    "\n",
    "Finish writing the game:\n",
    "- decide how to win the game \n",
    "- write different ways that the game can end \n",
    "\n",
    "__When you have finished the game, send it to someone else in the class (or me!) to play it.__"
   ]
  },
  {
   "cell_type": "code",
   "execution_count": null,
   "metadata": {
    "collapsed": true,
    "slideshow": {
     "slide_type": "subslide"
    }
   },
   "outputs": [],
   "source": [
    "import random\n",
    "\n",
    "print (\"~~~~~~~~~~~~~~~~~~~~~~~~~~~~~~~~~\")\n",
    "print (\"Welcome to the cavern of secrets!\")\n",
    "print (\"~~~~~~~~~~~~~~~~~~~~~~~~~~~~~~~~~\")\n",
    "\n",
    "print (\"You enter a dark cavern out of curiosity.\",  \n",
    "       \"It is dark and you can only make out a small glowing object.\",\n",
    "       \"Do you pick up the object?\")       \n",
    "\n",
    "ch1 = str(input(\"Do you pick up the object? [Y/N]: \"))\n",
    "\n",
    "if ch1 in ['y', 'Y', 'Yes', 'YES', 'yes']:\n",
    "    print(\"You picked up a key\")\n",
    "    \n",
    "else:\n",
    "    print(\"The small glowing object grows into a huge glowing giraffe and eats you. You die!\")\n",
    "    \n",
    "\n",
    "print (\"As you proceed further into the cave,\",\n",
    "       \"you notice something moving up ahead\") \n",
    "print (\"You draw closer.... and suddenly the thing turns to face you!\")\n",
    "print (\"It is a giant spider!\")\n",
    "\n",
    "ch1 = str(input(\"Do you try to fight it or run? [Fight/Run]\"))\n",
    "\n",
    "if ch1 in ['f', 'F', 'Fight', 'FIGHT', 'fight']:\n",
    "    print (\"~~~~~~~~~~~~~~~~~~~~~~~~~~~~~~~~~~~~~~~~~~~~~~~~~~~~~~~~~~~~~~~~~~~~\")\n",
    "    print (\"                                     Fighting...                    \")\n",
    "    print (\"   YOU HAVE THREE SHOTS AT BEATING THE SPIDER AT ROCK PAPER SCISSORS\")\n",
    "    print (\"                       IF THE SPIDER DEFEATS YOU, YOU DIE           \")\n",
    "    print (\"~~~~~~~~~~~~~~~~~~~~~~~~~~~~~~~~~~~~~~~~~~~~~~~~~~~~~~~~~~~~~~~~~~~~\")\n",
    "    \n",
    "    count = 1\n",
    "    player_score = 0\n",
    "    while (count < 4):        \n",
    "        \n",
    "        spider = int(random.randint(0, 2))\n",
    "        if spider == 0:\n",
    "            s_choice = \"rock\"\n",
    "        elif spider == 1:\n",
    "            s_choice = \"paper\"\n",
    "        else:\n",
    "            s_choice = \"scissors\"\n",
    "\n",
    "        p_choice = str(input(\"Round 1: Enter rock, paper, or scissors [R/ P/ S]\"))\n",
    "        \n",
    "        print(f\"spider: {s_choice}\")\n",
    "        if p_choice == \"R\":\n",
    "            if s_choice == \"rock\":\n",
    "                print(\"draw! - play again\")\n",
    "            elif s_choice == \"paper\":\n",
    "                print(f\"spider wins round {count}!\")\n",
    "                count += 1\n",
    "            else:\n",
    "                print(f\"you win round {count}!\")\n",
    "                count += 1\n",
    "                player_score += 1\n",
    "                \n",
    "        elif p_choice == \"P\":\n",
    "            if s_choice == \"rock\":\n",
    "                print(f\"you win round {count}!\")\n",
    "                count += 1\n",
    "                player_score += 1\n",
    "            elif s_choice == \"paper\":\n",
    "                print(\"draw! - play again\")\n",
    "            else:\n",
    "                print(f\"spider wins round {count}!\")\n",
    "                count += 1\n",
    "                \n",
    "        else:\n",
    "            if s_choice == \"rock\":\n",
    "                print(f\"spider wins round {count}!\")\n",
    "                count += 1\n",
    "            elif s_choice == \"paper\":\n",
    "                print(f\"you win round {count}!\")\n",
    "                count += 1\n",
    "                player_score += 1\n",
    "            else:\n",
    "                print(\"draw! - play again\")\n",
    "\n",
    "    if player_score >= 2:\n",
    "        print(\"you win!\")\n",
    "        print(\"you step over the cowering spider and proceed down the tunnel!\")\n",
    "    else: \n",
    "        print(\"you lose! \\n The spider eats you\")\n",
    "    \n",
    "else:\n",
    "    print(\"You run! That was foolish! \\n The spider is much faster. \\n It chases and eats you. \\n You are now dead.\")\n",
    "\n"
   ]
  },
  {
   "cell_type": "markdown",
   "metadata": {
    "collapsed": true,
    "slideshow": {
     "slide_type": "subslide"
    }
   },
   "source": [
    "### Review Exercise: Creating Pandas DataFrames\n",
    "In a new Python (.py) file. \n",
    "Create and display a 2D-dimensional array-like object containing an array of data using Pandas module."
   ]
  },
  {
   "cell_type": "markdown",
   "metadata": {
    "slideshow": {
     "slide_type": "subslide"
    }
   },
   "source": [
    "### Review Exercise: Manipulating Pandas DataFrames\n",
    "1. In a new Python (.py) file create a `pandas DataFrame` of the data in `noHeader_noIndex_vert.csv` from the `sample_data` folder in the ILAS_python repository. \n",
    "\n",
    "1. Add a third column with the name `Z` which is equal to column `X` multiplied by column `Y` plus 50.\n",
    "\n",
    "1. Plot `X` against `Z` using `pandas`."
   ]
  },
  {
   "cell_type": "markdown",
   "metadata": {
    "slideshow": {
     "slide_type": "slide"
    }
   },
   "source": [
    "# Summary\n",
    " - Python (.py) files can be written, saved (and run) in a text editor or IDE (Integrated Development Environment).\n",
    " - Python files can can run from the command line.\n",
    " - Storing functions and variables in seperate files and importing them for use can keep your program organised and tidy.\n",
    " - The python built-in `input` keyword can be used to generate user-input to the program while it is running.\n",
    " - Data from external files (e.g. .csv files) can be imported using the standard Pyhton library. \n",
    "     - A  file object has open(), read(), write(), and close() methods for working with  files, and features that describe the  file properties\n",
    "     - The open() method must specify a  file name string argument and a  file mode string argument, such as ’r’ to read the  file.\n",
    "     - Position in a  file, at which to read or write, can be specified with the seek() method and reported by the tell() method the Python with keyword groups  file operational statements within a block and automatically closes an open  file.\n",
    " - Pandas DataFrames can be used to store and manipulate data for anaysis.\n",
    " - The process of “pickling” objects stores a string representation of an object that can later be “unpickled” to its former state. \n",
    " - A pickle object’s dump() method requires arguments to specify an object for conversion and a  le name in which to store data. \n",
    " - Stored object data can be retrieved by specifying the  le name in which it is stored to the pickle object’s load() method. \n",
    " \n",
    "*(Adapted from) McGrath 2016*"
   ]
  },
  {
   "cell_type": "markdown",
   "metadata": {
    "collapsed": true,
    "slideshow": {
     "slide_type": "slide"
    }
   },
   "source": [
    "# Homework\n",
    "\n",
    "1. __COMPLETE__ any unfinished Review Exercises.\n",
    "1. __PUSH__ the changes you make at home to your online repository. \n",
    "1. __CREATE__ a __new__ remote (online), git repository on GitHub to store the contents of the folder in which you have saved you Python files. <br>Note: The folder __Input_and_Output_Exercises__ should be within your folder.<br>For a reminder of the instructions to do this refer to: __1_Introduction_to_Version_Control.ipynb__ \n",
    "1. __EMAIL__ me a link to your new repository (philamore.hemma.5s@kyoto-u.ac.jp)\n",
    "\n"
   ]
  },
  {
   "cell_type": "code",
   "execution_count": null,
   "metadata": {
    "collapsed": true
   },
   "outputs": [],
   "source": []
  }
 ],
 "metadata": {
  "kernelspec": {
   "display_name": "Python 3",
   "language": "python",
   "name": "python3"
  },
  "language_info": {
   "codemirror_mode": {
    "name": "ipython",
    "version": 3
   },
   "file_extension": ".py",
   "mimetype": "text/x-python",
   "name": "python",
   "nbconvert_exporter": "python",
   "pygments_lexer": "ipython3",
   "version": "3.6.3"
  }
 },
 "nbformat": 4,
 "nbformat_minor": 2
}
