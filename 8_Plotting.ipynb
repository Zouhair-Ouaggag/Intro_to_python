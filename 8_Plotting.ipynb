{
 "cells": [
  {
   "cell_type": "raw",
   "metadata": {},
   "source": [
    "from IPython.core.display import HTML\n",
    "def css_styling():\n",
    "    styles = open(\"./styles/custom.css\", \"r\").read()\n",
    "    return HTML(styles)\n",
    "css_styling()"
   ]
  },
  {
   "cell_type": "markdown",
   "metadata": {
    "slideshow": {
     "slide_type": "slide"
    }
   },
   "source": [
    "### BEFORE YOU DO ANYTHING...\n",
    "In the terminal:\n",
    "1. Navigate to __inside__ your ILAS_Python repository.\n",
    "2. __COMMIT__ any un-commited work on your personal computer.\n",
    "3. __PULL__ any changes *you* have made using another computer.\n",
    "4. __PULL__ textbook updates (including homework answers)."
   ]
  },
  {
   "cell_type": "markdown",
   "metadata": {
    "slideshow": {
     "slide_type": "slide"
    }
   },
   "source": [
    "1. __Open Jupyter notebook:__   Start >> Programs (すべてのプログラム) >> Programming >> Anaconda3 >> JupyterNotebook\n",
    "1. __Navigate to the ILAS_Python folder__. \n",
    "1. __Open today's seminar__  by clicking on 8_Plotting."
   ]
  },
  {
   "cell_type": "markdown",
   "metadata": {
    "slideshow": {
     "slide_type": "slide"
    }
   },
   "source": [
    "# Plotting\n",
    "\n",
    "# Lesson Goal\n",
    "\n",
    "To use the Matplotlib Python package to visualise results. "
   ]
  },
  {
   "cell_type": "markdown",
   "metadata": {
    "slideshow": {
     "slide_type": "slide"
    }
   },
   "source": [
    "# Objectives\n",
    "\n",
    "Matplotlib is the most widel used Python module for plotting.\n",
    "\n",
    "It's functionality is huge.\n",
    "\n",
    "Today's objective is to:\n",
    "- introduce the core functionality of Matplotlib as a basis that you can build on. \n",
    "- focus on tasks where plotting *programmatically* can be advantageous over other *computational* plotting methods. \n",
    "\n",
    "Use online resources including the Matplotlib Gallery (http://matplotlib.org/gallery.html), or Github (http://gree2.github.io/python/2015/04/10/python-matplotlib-plotting-examples-and-exercises), as a source of tutorials and sample code for plotting. \n",
    "\n",
    " "
   ]
  },
  {
   "cell_type": "markdown",
   "metadata": {
    "slideshow": {
     "slide_type": "slide"
    }
   },
   "source": [
    "## Why we are studying this\n",
    "\n",
    "Plotting is one of the most important computational tasks used by  engineers and scientists.  \n",
    "\n",
    "Plots are used for:\n",
    "\n",
    "- checking computed results visually\n",
    "- understanding data\n",
    "- presenting data\n",
    "\n",
    "\n",
    "\n",
    "\n"
   ]
  },
  {
   "cell_type": "markdown",
   "metadata": {
    "slideshow": {
     "slide_type": "slide"
    }
   },
   "source": [
    "## Packages\n",
    "We will be using:\n",
    "- Numpy for numerical computation.\n",
    "- Matplotlib to produce figures and animations. \n",
    "- Ipywidgets to make our plots interactive"
   ]
  },
  {
   "cell_type": "code",
   "execution_count": 2,
   "metadata": {
    "collapsed": true,
    "slideshow": {
     "slide_type": "slide"
    }
   },
   "outputs": [],
   "source": [
    "import numpy as np\n",
    "\n",
    "# Plotting and animation\n",
    "import matplotlib\n",
    "from matplotlib import animation, rc\n",
    "import matplotlib.pyplot as plt\n",
    "import matplotlib.cm as cm\n",
    "%matplotlib inline\n",
    "\n",
    "# Interactive plotting\n",
    "try:\n",
    "    import ipywidgets\n",
    "except ImportError:\n",
    "    try:\n",
    "        !{sys.executable} -m pip -q install ipywidgets\n",
    "        import ipywidgets\n",
    "    except ImportError:\n",
    "        !{sys.executable} -m pip -q --user install ipywidgets\n",
    "    finally:\n",
    "        !jupyter nbextension enable --py widgetsnbextension\n",
    "        print(\"You will need to refresh your browser page\")\n",
    "from ipywidgets import interact\n",
    "\n",
    "# Viewing animations in the notebook\n",
    "from IPython.display import HTML\n",
    "\n",
    "# Plotting in 3D\n",
    "from mpl_toolkits.mplot3d import axes3d\n",
    "\n",
    "# Viewing .gif animations in the notebook\n",
    "from IPython.display import Image\n",
    "from IPython.display import display"
   ]
  },
  {
   "cell_type": "markdown",
   "metadata": {
    "slideshow": {
     "slide_type": "slide"
    }
   },
   "source": [
    "## Line and Scatter Plots\n",
    "In the last seminar you learnt to use basic line and scatter plots.\n",
    "\n",
    "This section will discusss different ways that you can manipulate the appearance of these plots.\n",
    "\n"
   ]
  },
  {
   "cell_type": "markdown",
   "metadata": {
    "slideshow": {
     "slide_type": "subslide"
    }
   },
   "source": [
    "For a sample data set of values of $x$ and corresponding values of $f$:"
   ]
  },
  {
   "cell_type": "code",
   "execution_count": 3,
   "metadata": {
    "collapsed": true
   },
   "outputs": [],
   "source": [
    "x = [-1, 3, 4, 8 , 10]\n",
    "f = [-1, -2, 7, 13 , 1]"
   ]
  },
  {
   "cell_type": "markdown",
   "metadata": {},
   "source": [
    "We can produce a line plot.."
   ]
  },
  {
   "cell_type": "code",
   "execution_count": 3,
   "metadata": {
    "slideshow": {
     "slide_type": "subslide"
    }
   },
   "outputs": [
    {
     "data": {
      "text/plain": [
       "[<matplotlib.lines.Line2D at 0x10cc47240>]"
      ]
     },
     "execution_count": 3,
     "metadata": {},
     "output_type": "execute_result"
    },
    {
     "data": {
      "image/png": "[encoded data removed]",
      "text/plain": [
       "<matplotlib.figure.Figure at 0x105e13908>"
      ]
     },
     "metadata": {},
     "output_type": "display_data"
    }
   ],
   "source": [
    "plt.plot(x, f)"
   ]
  },
  {
   "cell_type": "markdown",
   "metadata": {
    "slideshow": {
     "slide_type": "subslide"
    }
   },
   "source": [
    "...or a scatter plot by adding the `formatstring 'o'`..."
   ]
  },
  {
   "cell_type": "code",
   "execution_count": 4,
   "metadata": {},
   "outputs": [
    {
     "data": {
      "text/plain": [
       "[<matplotlib.lines.Line2D at 0x10cd84780>]"
      ]
     },
     "execution_count": 4,
     "metadata": {},
     "output_type": "execute_result"
    },
    {
     "data": {
      "image/png": "[encoded data removed]",
      "text/plain": [
       "<matplotlib.figure.Figure at 0x10cc75f28>"
      ]
     },
     "metadata": {},
     "output_type": "display_data"
    }
   ],
   "source": [
    "plt.plot(x, f, 'o')  "
   ]
  },
  {
   "cell_type": "markdown",
   "metadata": {
    "slideshow": {
     "slide_type": "subslide"
    }
   },
   "source": [
    "...or a line plot with data points by adding the `formatstring '-o'`."
   ]
  },
  {
   "cell_type": "code",
   "execution_count": 7,
   "metadata": {},
   "outputs": [
    {
     "data": {
      "text/plain": [
       "[<matplotlib.lines.Line2D at 0x10cc86550>]"
      ]
     },
     "execution_count": 7,
     "metadata": {},
     "output_type": "execute_result"
    },
    {
     "data": {
      "image/png": "[encoded data removed]",
      "text/plain": [
       "<matplotlib.figure.Figure at 0x10cfb1780>"
      ]
     },
     "metadata": {},
     "output_type": "display_data"
    }
   ],
   "source": [
    "plt.plot(x, f, '-o') "
   ]
  },
  {
   "cell_type": "markdown",
   "metadata": {
    "slideshow": {
     "slide_type": "subslide"
    }
   },
   "source": [
    "Notice the statement `[<matplotlib.lines.Line2D at 0x30990b0>]` appears each time (the numbers on your computer may look different). \n",
    "\n",
    "This is a handle to the line that is created with the last command in the code block (in this case `plt.plot(x, y)`). \n",
    "\n",
    "You can avoid printing this by putting a semicolon after the last command in the code block (so type `plot(x, y);`). \n",
    "\n",
    "(It can be useful to store this handle in a variable - we will discuss this later)."
   ]
  },
  {
   "cell_type": "markdown",
   "metadata": {
    "slideshow": {
     "slide_type": "subslide"
    }
   },
   "source": [
    "The `plot` function can take many arguments.\n",
    "\n",
    "Summary so far, `plot` can take:\n",
    " - One argument `plot(y)`, which plots `y` values along the vertical axis and enumerates the horizontal axis starting at 0.\n",
    " - Two arguments, `plot(x, y)`, which plots `y` vs `x`.\n",
    " - Three arguments `plot(x, y, formatstring)`, which plots `y` vs `x` using colors and markers defined in `formatstring`.\n",
    " \n",
    " "
   ]
  },
  {
   "cell_type": "markdown",
   "metadata": {
    "slideshow": {
     "slide_type": "subslide"
    }
   },
   "source": [
    "Using the `formatstring` argument we can chnage:\n",
    " - the colour of the plot\n",
    " - the style of the markers\n",
    " - the style of the line"
   ]
  },
  {
   "cell_type": "markdown",
   "metadata": {
    "slideshow": {
     "slide_type": "subslide"
    }
   },
   "source": [
    "In the example below:\n",
    " - `r` makes the plot red\n",
    " - `x` makes the markers crosses\n",
    " - `-` makes the line solid"
   ]
  },
  {
   "cell_type": "code",
   "execution_count": 18,
   "metadata": {},
   "outputs": [
    {
     "data": {
      "image/png": "[encoded data removed]",
      "text/plain": [
       "<matplotlib.figure.Figure at 0x10d95feb8>"
      ]
     },
     "metadata": {},
     "output_type": "display_data"
    }
   ],
   "source": [
    "plt.plot(x, f, '-xr');"
   ]
  },
  {
   "cell_type": "markdown",
   "metadata": {},
   "source": [
    "Note the semi-colon when calling the `plot` function."
   ]
  },
  {
   "cell_type": "markdown",
   "metadata": {
    "slideshow": {
     "slide_type": "subslide"
    }
   },
   "source": [
    "Available colours, maker styles and line styles can be found in the matplotlib documentation. \n",
    " - Colour: https://matplotlib.org/2.0.2/api/colors_api.html\n",
    " - Marker style: https://matplotlib.org/api/markers_api.html\n",
    " - Line style: https://matplotlib.org/devdocs/gallery/lines_bars_and_markers/line_styles_reference.html"
   ]
  },
  {
   "cell_type": "markdown",
   "metadata": {
    "slideshow": {
     "slide_type": "subslide"
    }
   },
   "source": [
    "The `plot` function also takes a large number of keyword arguments. \n",
    "\n",
    "For example, to plot a line with width 6 (the default is 1): "
   ]
  },
  {
   "cell_type": "code",
   "execution_count": 13,
   "metadata": {},
   "outputs": [
    {
     "data": {
      "image/png": "[encoded data removed]",
      "text/plain": [
       "<matplotlib.figure.Figure at 0x10d490550>"
      ]
     },
     "metadata": {},
     "output_type": "display_data"
    }
   ],
   "source": [
    "plt.plot(x, f, '-xr', linewidth=6);"
   ]
  },
  {
   "cell_type": "markdown",
   "metadata": {
    "slideshow": {
     "slide_type": "subslide"
    }
   },
   "source": [
    "Remeber keyword arguments must always appear after regular arguments when calling the function.\n",
    "\n",
    "Documentation of all available keyword arguments can be found here: https://matplotlib.org/api/_as_gen/matplotlib.pyplot.plot.html#matplotlib.pyplot.plot"
   ]
  },
  {
   "cell_type": "markdown",
   "metadata": {
    "slideshow": {
     "slide_type": "subslide"
    }
   },
   "source": [
    "Other methods such as `legend`, `xlabel`, `ylabel` and `title` can be used to add useful information to a plot."
   ]
  },
  {
   "cell_type": "markdown",
   "metadata": {
    "slideshow": {
     "slide_type": "slide"
    }
   },
   "source": [
    "### Adding labels, legend and title. \n",
    "The location of the legend can be set the the 'best' in terms of not obscuring data. \n",
    "\n",
    "The position of the legend can also be set expllicitly instead. The location codes acan be found here: https://matplotlib.org/api/legend_api.html\n",
    "\n",
    "Using the $ sign can be used to italicise a string.\n",
    "\n",
    "The font size of all strings in the figure can be selected."
   ]
  },
  {
   "cell_type": "code",
   "execution_count": 4,
   "metadata": {
    "slideshow": {
     "slide_type": "subslide"
    }
   },
   "outputs": [
    {
     "data": {
      "image/png": "[encoded data removed]",
      "text/plain": [
       "<matplotlib.figure.Figure at 0x102de1f28>"
      ]
     },
     "metadata": {},
     "output_type": "display_data"
    }
   ],
   "source": [
    "# Use the label kwarg to create a name to use in the figure legend. \n",
    "plt.plot(x, f, '-xr', label=\"data 1\")\n",
    "\n",
    "# Legend\n",
    "plt.legend(loc='best', fontsize=12)\n",
    "\n",
    "# Axes labels\n",
    "plt.xlabel('$x$', fontsize=20)\n",
    "plt.ylabel('$f$', fontsize=20)\n",
    "\n",
    "# Title\n",
    "plt.title(\"Simple plot of $f$ against $x$\", fontsize=18);"
   ]
  },
  {
   "cell_type": "markdown",
   "metadata": {},
   "source": [
    "Note the semi-colon when calling the `title` function."
   ]
  },
  {
   "cell_type": "markdown",
   "metadata": {
    "slideshow": {
     "slide_type": "subslide"
    }
   },
   "source": [
    "### Setting the axis limits\n",
    "Example: plot the funstion $sin(x)$ for 100 equally spaced values of x between $0$ and $4 \\pi$ (inclusive). "
   ]
  },
  {
   "cell_type": "code",
   "execution_count": 9,
   "metadata": {
    "slideshow": {
     "slide_type": "subslide"
    }
   },
   "outputs": [
    {
     "data": {
      "text/plain": [
       "Text(0,0.5,'$\\\\sin(x)$')"
      ]
     },
     "execution_count": 9,
     "metadata": {},
     "output_type": "execute_result"
    },
    {
     "data": {
      "image/png": "[encoded data removed]",
      "text/plain": [
       "<matplotlib.figure.Figure at 0x10a026630>"
      ]
     },
     "metadata": {},
     "output_type": "display_data"
    }
   ],
   "source": [
    "num_points = 100\n",
    "x = np.linspace(0, 4*np.pi, num_points)\n",
    "f = np.sin(x)\n",
    "\n",
    "# Plot graph\n",
    "plt.plot(x, f);\n",
    "\n",
    "# Label axis\n",
    "plt.xlabel('$x$')\n",
    "plt.ylabel('$\\sin(x)$')\n",
    "\n",
    "\n",
    "\n",
    "\n"
   ]
  },
  {
   "cell_type": "markdown",
   "metadata": {
    "slideshow": {
     "slide_type": "subslide"
    }
   },
   "source": [
    "The zero on the x axis is offset by an unknown amount. \n",
    "\n",
    "We can improve the appearance of the plot by specifying the $x$ limits:"
   ]
  },
  {
   "cell_type": "code",
   "execution_count": 6,
   "metadata": {
    "slideshow": {
     "slide_type": "subslide"
    }
   },
   "outputs": [
    {
     "data": {
      "text/plain": [
       "(0.0, 12.566370614359172)"
      ]
     },
     "execution_count": 6,
     "metadata": {},
     "output_type": "execute_result"
    },
    {
     "data": {
      "image/png": "[encoded data removed]",
      "text/plain": [
       "<matplotlib.figure.Figure at 0x10a1a5be0>"
      ]
     },
     "metadata": {},
     "output_type": "display_data"
    }
   ],
   "source": [
    "# Plot graph\n",
    "plt.plot(x, f);\n",
    "\n",
    "# Label axis\n",
    "plt.xlabel('$x$')\n",
    "plt.ylabel('$\\sin(x)$')\n",
    "\n",
    "# Use the start and end values in x as x limits \n",
    "plt.xlim(x[0], x[-1])"
   ]
  },
  {
   "cell_type": "markdown",
   "metadata": {
    "slideshow": {
     "slide_type": "subslide"
    }
   },
   "source": [
    "### Multiple Plots\n",
    "Plots can be overlaid by called `plt.plot(...` multiple times."
   ]
  },
  {
   "cell_type": "code",
   "execution_count": 7,
   "metadata": {},
   "outputs": [
    {
     "data": {
      "image/png": "[encoded data removed]",
      "text/plain": [
       "<matplotlib.figure.Figure at 0x10a0e7e10>"
      ]
     },
     "metadata": {},
     "output_type": "display_data"
    }
   ],
   "source": [
    "# Plot sin(x) and cos(x), and add label for each\n",
    "plt.plot(x, np.sin(x), label=\"$\\sin(x)$\");\n",
    "plt.plot(x, np.cos(x), label=\"$\\cos(x)$\");\n",
    "\n",
    "# Label the x-axis\n",
    "plt.xlabel('$x$');\n",
    "\n",
    "# Add legend\n",
    "plt.legend();\n",
    "\n",
    "# Use the start and end values in x as x limits\n",
    "plt.xlim(x[0], x[-1]);"
   ]
  },
  {
   "cell_type": "markdown",
   "metadata": {
    "slideshow": {
     "slide_type": "subslide"
    }
   },
   "source": [
    "### Saving a Plot\n",
    "A plot can be saved as a file for your to use e.g. in a report.\n",
    "\n",
    "A file name should be given.\n",
    "\n",
    "The file type is specified using the file extension.\n",
    "\n",
    "`/` can be used to seperate the names of nested folders.\n",
    "\n"
   ]
  },
  {
   "cell_type": "markdown",
   "metadata": {
    "slideshow": {
     "slide_type": "subslide"
    }
   },
   "source": [
    "In the example below, the graph is saved as a pdf and a png file in the `img` folder in your directory. \n",
    "\n",
    "Run the code in the cell below then open the folder `img` using the file browser on your computer to verify that the files were generated by noting the time stamp shown for each file. "
   ]
  },
  {
   "cell_type": "code",
   "execution_count": 8,
   "metadata": {
    "slideshow": {
     "slide_type": "-"
    }
   },
   "outputs": [
    {
     "data": {
      "text/plain": [
       "<matplotlib.figure.Figure at 0x10a04f470>"
      ]
     },
     "metadata": {},
     "output_type": "display_data"
    }
   ],
   "source": [
    "# Save plot to file\n",
    "plt.savefig(\"img/my-plot.pdf\")\n",
    "plt.savefig(\"img/my-plot.png\")"
   ]
  },
  {
   "cell_type": "markdown",
   "metadata": {
    "slideshow": {
     "slide_type": "subslide"
    }
   },
   "source": [
    "__Try it yourself__\n",
    "<br>In the cell below:\n",
    "- create a green line plot of the function $sin^2(x)$ (or $(sin(x))^2$) using the range of $x$ from the last example. \n",
    "- add a blue triangular marker at $x=\\frac{\\pi}{2}, \\pi, \\frac{3\\pi}{2}, 2\\pi, \\frac{5\\pi}{2}, 3\\pi, \\frac{7\\pi}{2}$ and $4\\pi$.\n",
    "- label the axes\n",
    "- save the figure as a .jpg file in the `img` folder in your repository.\n"
   ]
  },
  {
   "cell_type": "code",
   "execution_count": 19,
   "metadata": {},
   "outputs": [
    {
     "data": {
      "image/png": "[encoded data removed]",
      "text/plain": [
       "<matplotlib.figure.Figure at 0x10a15f160>"
      ]
     },
     "metadata": {},
     "output_type": "display_data"
    }
   ],
   "source": [
    "# line and scatter graphs\n",
    "\n",
    "plt.plot(x, np.sin(x)**2,'g', label = \"$sin^2(x)$\")\n",
    "x_m = np.linspace(np.pi/2,4*np.pi,8)\n",
    "plt.plot(x_m, np.sin(x_m)**2,'vb')\n",
    "plt.xlabel('$x$')\n",
    "plt.ylabel('$sin^2(x)$')\n",
    "plt.legend(loc='best')\n",
    "plt.xlim(x[0],x[-1])\n",
    "plt.savefig(\"img/sinus_figure.jpg\")"
   ]
  },
  {
   "cell_type": "markdown",
   "metadata": {
    "slideshow": {
     "slide_type": "subslide"
    }
   },
   "source": [
    "## Bar charts and Histograms\n",
    "### Bar charts\n",
    "To represent data as a bar chart, for example, the number of students in each year of a degree program:"
   ]
  },
  {
   "cell_type": "code",
   "execution_count": 20,
   "metadata": {
    "collapsed": true
   },
   "outputs": [],
   "source": [
    "year_groups = ('B1', 'B2', 'B3', 'M1', 'M2')\n",
    "num_students = (500, 332, 425, 300, 200)"
   ]
  },
  {
   "cell_type": "code",
   "execution_count": 21,
   "metadata": {
    "slideshow": {
     "slide_type": "subslide"
    }
   },
   "outputs": [
    {
     "data": {
      "image/png": "[encoded data removed]",
      "text/plain": [
       "<matplotlib.figure.Figure at 0x10a5a6908>"
      ]
     },
     "metadata": {},
     "output_type": "display_data"
    }
   ],
   "source": [
    "# Create an array with the position of each bar along the x-axis\n",
    "x_pos = np.arange(len(year_groups))\n",
    "\n",
    "# Produce bar plot\n",
    "plt.bar(x_pos, num_students);\n",
    "\n",
    "# Replace the x ticks with the year group name\n",
    "# Rotate labels 30 degrees\n",
    "plt.xticks(x_pos, year_groups, rotation=30);\n",
    "\n",
    "# Add axis labels \n",
    "plt.xlabel('year group');\n",
    "plt.ylabel('number of students');"
   ]
  },
  {
   "cell_type": "markdown",
   "metadata": {
    "slideshow": {
     "slide_type": "subslide"
    }
   },
   "source": [
    "## Histograms\n",
    "\n",
    "We can visualise the distribution of the values using a histogram.\n",
    "\n",
    "In a histogram, data is sorted into intervals (bins) along the horizontal axis. \n",
    "\n",
    "The number of values that fall within a 'bin' is then displayed on the vertical axis."
   ]
  },
  {
   "cell_type": "markdown",
   "metadata": {
    "slideshow": {
     "slide_type": "subslide"
    }
   },
   "source": [
    "To create a histogram we first need a data set. \n",
    "\n",
    "For example we can use Numpy to generate a data set with:\n",
    "- 4000 random values\n",
    "- a mean value of zero \n",
    "- a standard deviation of 1\n",
    "- a __normal__ (Gaussian) distribution (bell curve with 68% percent of values within one standard deviation of the mean)\n",
    "\n"
   ]
  },
  {
   "cell_type": "code",
   "execution_count": 22,
   "metadata": {
    "collapsed": true,
    "slideshow": {
     "slide_type": "-"
    }
   },
   "outputs": [],
   "source": [
    "# loc=mean, scale=stddev, size=num samples\n",
    "x = np.random.normal(loc=0.0, scale=1.0, size=4000)  "
   ]
  },
  {
   "cell_type": "markdown",
   "metadata": {
    "slideshow": {
     "slide_type": "subslide"
    }
   },
   "source": [
    "We can visualise how `x` is distributed, using 20 bins. \n",
    "\n",
    "Matplotlib creates 20 bins of equal width, and computes the number of entries in each bin. "
   ]
  },
  {
   "cell_type": "code",
   "execution_count": 25,
   "metadata": {},
   "outputs": [
    {
     "data": {
      "text/plain": [
       "Text(0,0.5,'frequency')"
      ]
     },
     "execution_count": 25,
     "metadata": {},
     "output_type": "execute_result"
    },
    {
     "data": {
      "image/png": "[encoded data removed]",
      "text/plain": [
       "<matplotlib.figure.Figure at 0x10b06fc88>"
      ]
     },
     "metadata": {},
     "output_type": "display_data"
    }
   ],
   "source": [
    "# Produce histogram with 20 bins\n",
    "n, bins, patches = plt.hist(x, 20, facecolor='green');\n",
    "\n",
    "# Add label\n",
    "plt.xlabel('value')\n",
    "plt.ylabel('frequency')\n",
    "\n"
   ]
  },
  {
   "cell_type": "markdown",
   "metadata": {
    "slideshow": {
     "slide_type": "subslide"
    }
   },
   "source": [
    "To view a list of:\n",
    "- the bin intervals\n",
    "- the number of values in each bin. "
   ]
  },
  {
   "cell_type": "code",
   "execution_count": 26,
   "metadata": {
    "slideshow": {
     "slide_type": "subslide"
    }
   },
   "outputs": [
    {
     "name": "stdout",
     "output_type": "stream",
     "text": [
      "[-4.02819073 -3.6501702  -3.27214968 -2.89412915 -2.51610863 -2.13808811\n",
      " -1.76006758 -1.38204706 -1.00402653 -0.62600601 -0.24798549  0.13003504\n",
      "  0.50805556  0.88607609  1.26409661  1.64211713  2.02013766  2.39815818\n",
      "  2.77617871  3.15419923  3.53221975]\n"
     ]
    }
   ],
   "source": [
    "print(bins)\n"
   ]
  },
  {
   "cell_type": "code",
   "execution_count": 27,
   "metadata": {
    "slideshow": {
     "slide_type": "subslide"
    }
   },
   "outputs": [
    {
     "name": "stdout",
     "output_type": "stream",
     "text": [
      "[   1.    1.    3.   13.   54.   94.  174.  284.  410.  563.  608.  560.\n",
      "  497.  354.  195.  108.   51.   18.    9.    3.]\n"
     ]
    }
   ],
   "source": [
    "print(n)"
   ]
  },
  {
   "cell_type": "markdown",
   "metadata": {
    "slideshow": {
     "slide_type": "subslide"
    }
   },
   "source": [
    "__Try it yourself__\n",
    "<br>In the example above try changing the number of bins and run the cells again to see the change in the bin intervals and number of values in ech bin. "
   ]
  },
  {
   "cell_type": "markdown",
   "metadata": {
    "slideshow": {
     "slide_type": "subslide"
    }
   },
   "source": [
    "## Interactive plots\n",
    "By using interactive plots we can explore the influence that changing different parameters has on an output.\n",
    "\n"
   ]
  },
  {
   "cell_type": "markdown",
   "metadata": {
    "slideshow": {
     "slide_type": "subslide"
    }
   },
   "source": [
    "As a simple example, we will plot\n",
    "\n",
    "$$\n",
    "f(t) = t^{\\alpha} \\sin(\\omega t)\n",
    "$$\n",
    "\n",
    "where $\\alpha$ and $\\omega$ are parameters. \n",
    "\n",
    "We will create two sliders allowing us to change the value of $\\alpha$ and $\\omega$ and observe the change in $f(t)$"
   ]
  },
  {
   "cell_type": "markdown",
   "metadata": {
    "slideshow": {
     "slide_type": "subslide"
    }
   },
   "source": [
    "Interactive plots be can created using module `ipywidgets` module which we imported at the start of the notebook. \n",
    ">```Python\n",
    "try:\n",
    "    import ipywidgets\n",
    "except ImportError:\n",
    "    try:\n",
    "        !{sys.executable} -m pip -q install ipywidgets\n",
    "        import ipywidgets\n",
    "    except ImportError:\n",
    "        !{sys.executable} -m pip -q --user install ipywidgets\n",
    "    finally:\n",
    "        !jupyter nbextension enable --py widgetsnbextension\n",
    "        print(\"You will need to refresh your browser page\")        \n",
    "from ipywidgets import interact\n",
    "```\n",
    "\n"
   ]
  },
  {
   "cell_type": "markdown",
   "metadata": {
    "slideshow": {
     "slide_type": "subslide"
    }
   },
   "source": [
    "We write the code to generate the plot as usual.\n",
    "\n",
    "(To generate symbols α or ω type `\\omega` or `\\alpha`, pressing  `Tab` key at the end.)"
   ]
  },
  {
   "cell_type": "code",
   "execution_count": 28,
   "metadata": {},
   "outputs": [
    {
     "data": {
      "text/plain": [
       "Text(0.5,1,'$\\\\alpha$ = 0, $\\\\omega$ = 1')"
      ]
     },
     "execution_count": 28,
     "metadata": {},
     "output_type": "execute_result"
    },
    {
     "data": {
      "image/png": "[encoded data removed]",
      "text/plain": [
       "<matplotlib.figure.Figure at 0x10a5f84a8>"
      ]
     },
     "metadata": {},
     "output_type": "display_data"
    }
   ],
   "source": [
    "ω=1 \n",
    "α=0\n",
    "t = np.linspace(0, 2*np.pi, 200)  \n",
    "\n",
    "plt.plot(t, (t**α)*np.sin(ω*t))\n",
    "\n",
    "plt.xlabel('$t$')\n",
    "plt.ylabel('$f$')\n",
    "plt.title(r\"$\\alpha$ = {}, $\\omega$ = {}\".format(α, ω))\n",
    "\n"
   ]
  },
  {
   "cell_type": "markdown",
   "metadata": {
    "slideshow": {
     "slide_type": "subslide"
    }
   },
   "source": [
    "We encasulate the code to generate the plot within a function.\n",
    "\n",
    "The parameters we want to vary are given as function arguments."
   ]
  },
  {
   "cell_type": "code",
   "execution_count": 29,
   "metadata": {
    "collapsed": true
   },
   "outputs": [],
   "source": [
    "def plot(ω=1, α=0):\n",
    "    \"A plot of the function f(t)= (t**α)*np.sin(ω*t)\"\n",
    "    t = np.linspace(0, 2*np.pi, 200)  \n",
    "    \n",
    "    plt.plot(t, (t**α)*np.sin(ω*t))\n",
    "    \n",
    "    plt.xlabel('$t$')\n",
    "    plt.ylabel('$f$')\n",
    "    plt.title(r\"$\\alpha$ = {}, $\\omega$ = {}\".format(α, ω))\n",
    "    \n"
   ]
  },
  {
   "cell_type": "markdown",
   "metadata": {
    "slideshow": {
     "slide_type": "subslide"
    }
   },
   "source": [
    "The `interact` function, takes the following arguments:\n",
    "- the plotting function \n",
    "- a tuple for each variable parameter:\n",
    " - maximum value (inclusive) \n",
    " - minimum value (inclusive) \n",
    " - step size between each possible value"
   ]
  },
  {
   "cell_type": "code",
   "execution_count": 30,
   "metadata": {},
   "outputs": [
    {
     "data": {
      "application/vnd.jupyter.widget-view+json": {
       "model_id": "05e3808e0fe845f391d3343a0c785b55",
       "version_major": 2,
       "version_minor": 0
      },
      "text/plain": [
       "A Jupyter Widget"
      ]
     },
     "metadata": {},
     "output_type": "display_data"
    }
   ],
   "source": [
    "interact(plot, ω = (-10, 10, 0.25), α = (0, 2, 0.25));"
   ]
  },
  {
   "cell_type": "markdown",
   "metadata": {},
   "source": [
    "You can now adjust the values by moving the sliders.\n",
    "\n",
    "The new values appear as the title to the plot."
   ]
  },
  {
   "cell_type": "markdown",
   "metadata": {
    "slideshow": {
     "slide_type": "slide"
    }
   },
   "source": [
    "## Animated Plots\n",
    "\n",
    "Plotting can be a very useful way to visualise what is happening in a dynamic physical system. \n",
    "\n",
    "Matplotlib can be used to create animated plots showing the change in a system over time."
   ]
  },
  {
   "cell_type": "markdown",
   "metadata": {
    "slideshow": {
     "slide_type": "subslide"
    }
   },
   "source": [
    "We will use the `animation` and `rc` subpackages.  \n",
    "\n",
    ">from matplotlib import animation, rc\n",
    "\n",
    "We will also use a package to allow us to view the animated output within jupyter notebook.\n",
    "\n",
    ">from IPython.display import HTML\n",
    "\n",
    "These packages were imported at the start of this notebook."
   ]
  },
  {
   "cell_type": "markdown",
   "metadata": {
    "slideshow": {
     "slide_type": "subslide"
    }
   },
   "source": [
    "Let's start with a simple example to learn how to build an animation.\n",
    "\n",
    "We will then move onto an example of a physical model that you may study in one of your other subjects. \n",
    "\n"
   ]
  },
  {
   "cell_type": "markdown",
   "metadata": {},
   "source": [
    "The set of steps to build an animated plot is:\n",
    "1. Create a figure window\n",
    "1. Create axes within the window\n",
    "1. Create object(s) to animate e.g. a line or point\n",
    "1. Define an animation function for the change you want to see at each timestep\n",
    "1. Use the function `animation.FuncAnimation` to create your animation and give it a name.\n",
    "1. Call the animation name to play it.\n",
    "1. (Save the animation)"
   ]
  },
  {
   "cell_type": "markdown",
   "metadata": {},
   "source": [
    "Example: An animated sine wave. "
   ]
  },
  {
   "cell_type": "code",
   "execution_count": 31,
   "metadata": {
    "scrolled": true
   },
   "outputs": [
    {
     "data": {
      "image/png": "[encoded data removed]",
      "text/plain": [
       "<matplotlib.figure.Figure at 0x10a29d278>"
      ]
     },
     "metadata": {},
     "output_type": "display_data"
    }
   ],
   "source": [
    "# 1. Create a figure window. \n",
    "fig = plt.figure()\n",
    "\n",
    "# 2. Creates axes within the window\n",
    "ax = plt.axes(xlim=(0, 2), ylim=(-2, 2))\n",
    "\n",
    "# 3. Empty object (no data opints) to animate e.g. a line \n",
    "# Name must end with a `,` comma.  \n",
    "line, = ax.plot([], [], lw=2)\n",
    "\n"
   ]
  },
  {
   "cell_type": "code",
   "execution_count": 32,
   "metadata": {
    "collapsed": true,
    "slideshow": {
     "slide_type": "subslide"
    }
   },
   "outputs": [],
   "source": [
    "# 4. Animation function: called sequentially\n",
    "# i = frame number.\n",
    "# Sine wave generated, phase shift proportional to i\n",
    "def animate(i):\n",
    "    x = np.linspace(0, 2, 1000)\n",
    "    y = np.sin(2 * np.pi * (x - 0.01 * i))\n",
    "    line.set_data(x, y)\n",
    "    # single return arguments should be given as a tuple with one value\n",
    "    return (line,)\n",
    "    \n"
   ]
  },
  {
   "cell_type": "markdown",
   "metadata": {},
   "source": [
    "When returning a single argument (e.g. `line`) it is returned as a tuple with one value i.e. `(line, )`."
   ]
  },
  {
   "cell_type": "code",
   "execution_count": 33,
   "metadata": {
    "collapsed": true,
    "slideshow": {
     "slide_type": "subslide"
    }
   },
   "outputs": [],
   "source": [
    "# 5. Animates the data; 100 frames, 20ms delay between frames, blit=True : only re-draw the parts that have changed.\n",
    "anim = animation.FuncAnimation(fig, animate, frames=100, interval=20, blit=True)\n",
    "\n",
    "# Set the animation display format to html which the non-Python parts of this notebook are written in.\n",
    "rc('animation', html='html5')\n",
    "\n",
    "# 6. Play the animation \n",
    "anim\n",
    "\n",
    "# 7. Save the animation as a .mp4 file\n",
    "# 15 frames per second\n",
    "# 1800 bits of data processed/stored per second\n",
    "writer = animation.writers['ffmpeg'](fps=15, bitrate=1800)\n",
    "anim.save('img/sin_movie.mp4', writer=writer)"
   ]
  },
  {
   "cell_type": "markdown",
   "metadata": {
    "slideshow": {
     "slide_type": "subslide"
    }
   },
   "source": [
    "### Simulating Physical Systems: Spring-Mass System\n",
    "If you are studying an engineering-related subject, you will most likely study simple harmonic motion; a type of periodic motion or oscillation motion.\n",
    "\n",
    "For this oscillation to happen, the restoring force is:\n",
    "- directly proportional to the displacement\n",
    "- in the direction opposite to the displacement.\n",
    "\n",
    "\n",
    "\n"
   ]
  },
  {
   "cell_type": "markdown",
   "metadata": {
    "slideshow": {
     "slide_type": "subslide"
    }
   },
   "source": [
    "A typical example of this is a mass attached to a spring.\n",
    "\n",
    "<img src=\"img/spring_mass_system.gif\" alt=\"Drawing\" style=\"width: 500px;\"/>\n",
    "\n"
   ]
  },
  {
   "cell_type": "markdown",
   "metadata": {
    "slideshow": {
     "slide_type": "subslide"
    }
   },
   "source": [
    "If we assume that:\n",
    " - the spring is ideal (it has no weight, mass, or damping losses)\n",
    " - there is no friction \n",
    " \n",
    "we can use a simple equation to give the position of the mass, $x$, as a function of time, $t$:\n",
    "\n",
    "$x(t) = A cos(\\omega t - \\phi)$ \n",
    "\n",
    "where:\n",
    "<br>$A$: Maximum amplitude (displacment from initial position), defined by the initial conditions of the system.\n",
    "<br>$\\phi$ : Phase (the initial angle of a sinusoidal function at its origin)\n",
    "<br>$\\omega$ : Angular frequency (frequency of oscillation expressed in radians)\n",
    "\n"
   ]
  },
  {
   "cell_type": "markdown",
   "metadata": {
    "slideshow": {
     "slide_type": "subslide"
    }
   },
   "source": [
    "Angular frequency\n",
    "\n",
    "$\\omega=2\\pi f = \\sqrt{\\frac{k}{m}}$\n",
    "\n",
    "where\n",
    "<br>$k$ : spring constant\n",
    "<br>$m$ : mass (kg)\n",
    "<br>$f$ : frequency (Hz)"
   ]
  },
  {
   "cell_type": "code",
   "execution_count": 36,
   "metadata": {
    "slideshow": {
     "slide_type": "subslide"
    }
   },
   "outputs": [
    {
     "data": {
      "text/html": [
       "<video width=\"432\" height=\"288\" controls autoplay loop>\n",
       "  <source type=\"video/mp4\" src=\"data:video/mp4;base64,AAAAHGZ0eXBNNFYgAAACAGlzb21pc28yYXZjMQAAAAhmcmVlAADPWG1kYXQAAAKuBgX//6rcRem9\n",
       "5tlIt5Ys2CDZI+7veDI2NCAtIGNvcmUgMTQ4IHIyNzk1IGFhYTlhYTggLSBILjI2NC9NUEVHLTQg\n",
       "QVZDIGNvZGVjIC0gQ29weWxlZnQgMjAwMy0yMDE3IC0gaHR0cDovL3d3dy52aWRlb2xhbi5vcmcv\n",
       "eDI2NC5odG1sIC0gb3B0aW9uczogY2FiYWM9MSByZWY9MyBkZWJsb2NrPTE6MDowIGFuYWx5c2U9\n",
       "MHgzOjB4MTEzIG1lPWhleCBzdWJtZT03IHBzeT0xIHBzeV9yZD0xLjAwOjAuMDAgbWl4ZWRfcmVm\n",
       "PTEgbWVfcmFuZ2U9MTYgY2hyb21hX21lPTEgdHJlbGxpcz0xIDh4OGRjdD0xIGNxbT0wIGRlYWR6\n",
       "b25lPTIxLDExIGZhc3RfcHNraXA9MSBjaHJvbWFfcXBfb2Zmc2V0PS0yIHRocmVhZHM9NiBsb29r\n",
       "YWhlYWRfdGhyZWFkcz0xIHNsaWNlZF90aHJlYWRzPTAgbnI9MCBkZWNpbWF0ZT0xIGludGVybGFj\n",
       "ZWQ9MCBibHVyYXlfY29tcGF0PTAgY29uc3RyYWluZWRfaW50cmE9MCBiZnJhbWVzPTMgYl9weXJh\n",
       "bWlkPTIgYl9hZGFwdD0xIGJfYmlhcz0wIGRpcmVjdD0xIHdlaWdodGI9MSBvcGVuX2dvcD0wIHdl\n",
       "aWdodHA9MiBrZXlpbnQ9MjUwIGtleWludF9taW49MjAgc2NlbmVjdXQ9NDAgaW50cmFfcmVmcmVz\n",
       "aD0wIHJjX2xvb2thaGVhZD00MCByYz1jcmYgbWJ0cmVlPTEgY3JmPTIzLjAgcWNvbXA9MC42MCBx\n",
       "cG1pbj0wIHFwbWF4PTY5IHFwc3RlcD00IGlwX3JhdGlvPTEuNDAgYXE9MToxLjAwAIAAAAqbZYiE\n",
       "ADf//vbw/gU2O5jQlxHN6J0zH78VuLo0N73OAAADAAA33OZE/sqTBubAAALzSvgvF/zAwXm1m8Pp\n",
       "iuCxrBPnBTHA525LplJt3A/jGdv8TpZgMnYTKHiP6i1vmjHzvzNNbs2/gkl3D8Pc7LCLCfpG5bzR\n",
       "affWcgs0zOhIuGSq7YrRUruOXBNFhA6cR4CrUUFF942UYRZPZAdX6HBSd5mourHrLw9HDSxTSP12\n",
       "HLoQ71oDCtsnTKZ7oBMnXYEgRqxXPsZPlli2/KaZ1ltyHwC/xpfbMpR9Sg+vwMgo0ir6zDf+ooM4\n",
       "geJKq4Ek373+zZbTREcbzu9oqrgADQ/XLN/Wu5VS/oME3++UTjHProSZ5/3DCFue5sIqgAANmNhq\n",
       "hmNcre/kuOwyAbswZt+SnQ7sJ4xyBv1nUZxngmQRaFUw0eYpaurBLhtR1c35ZQWYtnM08yuHEnko\n",
       "hryWm0QQmzG2dBHv3Zp60jacqMUEiqK1jqlN3e2g1+YkRC2bAd2cwm7tg+lD+z9WyDO50W7OI1gQ\n",
       "t75icZ4DosXZ6rweukSzCINqwvecq3c0iXUfQDHh8uMcNFDOVL6DZE9Sqt0BVVdo/n7vwqLYstoS\n",
       "kdhBM3uyjOm4XJ88YyoPMBKWGeW0GQT4FRhnfeRCU0UTFD3722r81GNUpuLEJYUE8bJsKmeAn4Tw\n",
       "K7PMLrU7hiuKtlN4ft4qpWPjRzE9Lj5dbytBI0xiNomXdJ7vO3JfClJNyPBsGpuoLnQeS4svN+MD\n",
       "fE2gspUDwBhDL0mOHXRHqH/1YVzgutyeDSHsoe56r3Gesd3LAXhISL4ExXuTSi6A9gf0zp9umhtj\n",
       "53AG14MYfr32uQGLwcuQ03duses1la8jK6dgzhqjb8YqW6VfQYryzZhBU/KuFsMdUS5h4MGu8YQi\n",
       "NADLsfSpCNLOdrgn9gw09JUrhbZgcUwCOfsSm0yNqy2fwZkbusVU1/O0fxf6jFZDH3aJ/6o0DJEG\n",
       "4Xt8aTiPjSgx3TjCFp/+IYurOsEivB0jd0tW+pJnJ9couStH/uYbzJiT7Eu17Q97e9BbyUjk75Fi\n",
       "0Vx0+pQIVTcxyH0UKs2t5zDHvCHOqNASm6P+JHLhZUHsx0m1/x3KkoJtZDC1QixTY8LAfNBhqbLg\n",
       "/SMkZi4O5aePiuLBEXgRmNDYX5n6U6nr0D7ZwyK/z4MQhWQ7fg4wi22roOR9Ak7QAAzd4va0aQDY\n",
       "GVB930W/HfUg9rPvo++WZhpes8vI0Pmvi2Q3hzRd2D9b+dwvs+Q5cl0DGQ+zH4HaZax5kYNWdh7P\n",
       "+WRte4/p6yLCsl8DifIlC1rZqhpCw+9sJN/BUmmGJa8BzaRE0a0JpVMVi7oycvdVM4JpLcqYAEcP\n",
       "yBj6+VJwLEI+NerJOeKeE/7bMUVi/FH7/FZJSRDd3Sqv0KDM20940gjYuMz+IviJozJyrZtzfooM\n",
       "MeZOfjObN9meXxQPn/hMW5nuLsqxwKxF1NRKlhPVNYBICxYe2t5FqK4wc2pyAj89ayagqr6/YBVg\n",
       "TSLxoGXxB5b+7velJupLOLosCvTD7sLPpj41Hj5zMNAOolgUbYA7fHQdLWLweYOl3iQbwCOAX3oN\n",
       "PZQdWh0NKaboxRvOQvWWdPdSRtxxCBIOJAarrY1oCm7k/ZSXXw6+gD7YmswyJ4IQ4rooSZ423OO/\n",
       "QiBDwrg+iF+AjP6ljdI6NQBKGXdUr1SXgp7wgKzD4z3JqIy0/zEL2OizZJ0bfsPuCMoTxumjKfQp\n",
       "X3qj8qRzqVCOadx+HbGMDTe0IWROChq4GNbLnu8t3mSP9eeFZo1QgFMJxqK2Gmm36sD2/3aqkC2j\n",
       "m+FHNLd6qtfZuyCom805JFQ6BD0AmhqSbsk/mP+Rcqo9A3FkQF+K7N5DPwa9ATi/1L0DX/P7zRqZ\n",
       "XXf/VJFzhLpXnfKCZqVsdP7QRdZNHoMRgyPFLfK40F3SP8UQG6nJaHPfV/Q+EXddBCk8EbNs9Sw6\n",
       "DUcU+W7Xg8GNdHp/EFF6Wg9IGhrDsoCShd0oCqAhMi5xxritHYIffmav1J9AhtCP60C0cjIHekyW\n",
       "wXX4IQgF1cihz06qDGqFhk09WgIapRzf3BlQV1CpxnXDTsWZi0NrzCK9oOjSPQ6nDH8iIXFNamkF\n",
       "ylcVyAZGRNHz4SQr67TyNg3ElqafNt8HkW/wr9JaG0ZOvUj0joMVQ5BsCsgeCc7ZsFQdMVZmTC6h\n",
       "eOCRaujOCjlcxBBp6fFHqRyg8jtoH5f6P8LyzlK+25ZLwtPxefyDywt1JjEa41Al82mCBT2jkEJO\n",
       "cchj1W+c08ETydfqY+9DvkCkvPknr75Qwr2CK8Tnfe9ycc+5IezSmZo5oNX6A0XZkT/OBkvt9TNd\n",
       "fJSW/ZP44mSgN0XeorGC+lQX7C+v/SERbOMf7cEn6lu+wRNzMW3+p6hu3ze206D9P25wZZEbQkyn\n",
       "s22kItuG3OTjpbEaod4BIhghA2iRZAHF83vfXUX5ysGA3AWsrvjU2OucU7BTvu8YjKM6qCPMlq6/\n",
       "XxZcdJWw1oxyqQanGyeARFzcXyHHnO3I6Gc+ksGncv0TFg+xyl7T3Zyz1hlzo2OaWIbEI/6BBJus\n",
       "PlVbh3CqPaqPM5z6FVE9TvQi1jeMW5c+5cuChSAJTxszQROOqkEE38TFLz4rXxYunvMm6ms4Y8Ek\n",
       "axEePRiyNTsVhw08a1f7xacQb3GoD7tIOZu3iKMc0UC43qok9nR9/BTCe0oP5DO/O+ivkDJvcBQp\n",
       "PQ3o7ufXNzjouUsgOzb96WPM1Q1tGkbFpq6dckytUfuvar4eDcGc8JoXKNIFWob72iRk2++9ssNZ\n",
       "o9yoZy0wGMK5FtwppkmqorvcyoTHmvuElJqLoTPzAlrwvo5YsailuQ/IZKCeEdRWRQfG0P6A6sCN\n",
       "K5a5l/liI7eTz7XC0hGivJxoEreDF4KtG3tbK/LgXhX1wBxpAytbCFnDfRh8g1O+j+H/6/HgqJ/I\n",
       "DjZllmfB8Jso7ipiFARgLrydehzN2gO0LN55RvK3niy4HiTFT4yMhc0vjacIlk0GcZKqtTElW9YZ\n",
       "YTZUfdy/if7SJislGqEAP+5KB+Dc6tpDjNH74sawX9CxP5GZoZ7Xdg93OGX0iGRCgCrF6MPtqp1Y\n",
       "WTIK7JM5DLkJnPT4BdjYrAmrzRe1MMDyHY4TR09/SEN/zGCoXkuf09leBJhG2ku6usuZ5IWcirKG\n",
       "R25MjJ3rxZd98CPFjKKNp5sEwH8sLYVnStXHFXXBBy4BXw5775uIIAeDHRsriS8E4K/QyekRw9DN\n",
       "eViGp7kwFM2EFjNByz1+wT443YG4BxhHkqCHfLl/52GfLbuIXb3VE8HOSYn/8qQDDoLA9RsJP7Xi\n",
       "THV83TjtxixX68Nvi/xXlWZqStKZVfhXxhF46JobGFzP49SHSNX5IipE6iBkyrTX0AsLCAdbhpxO\n",
       "hcyVPpV0xGisP5/3bzyD7cqf3KRP0+zRNfoCJphBMh3/1LK9ft2d8zYOoboEZxJ/5uR8mGzIh6W0\n",
       "2QHD683lH1eRe87YggYM6o8sk49ndZt8sy/Bonp21MDNs8CIt3GIAznnqveJVnA9wxUcHwJRhrCX\n",
       "YlkM9FN0y6o40/VUPxEJjgpzrLzVVC8Gs4DZgIreycLBAAABkkGaIWxDv/6plgCANYFQBWD4fFoe\n",
       "HE/hH0HWVxCy9mUsdWzx4Ztf/ytQiFKh/WOq6PWeOPJKf0ANzGP8p1rZ+AChshlViRXwhjVc2PlI\n",
       "h79TSxrQVkfcFxE5GpIc2dVHbrb/xyMC5e1hz2xtv6A65INvu3l6c7UsPJ8YIAIMiHz820mvatzf\n",
       "6flk915hqeqm9gN1m02e4L8+vtykWOAha8bB1FyGOhb//8sItw84sOYYnjyAb7UOXqOYdI231BEK\n",
       "0N2JyFESIIfKgs2NyaWMJzsL3cqJoNqWvsSrwvFemHzRQecVVaDM7rlB3Ft5ZNZuzqYYmhTk58Xe\n",
       "pCTKS9blC386eNtCjDdOmE9zmmoVW+cKpDVMup9+D2JZIFhlg0He6ibykX1d3PETw2HyWIUgI2hk\n",
       "w+N+0/2Y8ZjdwtxxUxJ6Pv31A2IapDCbCHam49V/Y8Zyaepo46KlfYEAypvx54sqd3Vjp1c3IcbB\n",
       "M2chp7+SvLUtMo9BuaZE2Xub2IJIT/DPVtYy6vF/aOxrLeeDa6px3AAAAh1BmkQ8IZMphDv//qmW\n",
       "AALNwt8DOfCZ+GlcgOA20+Vvy9E+/BIB7FQ3IN2pnnuhbZl4q8qhTvJPCoHOOsda0GySyuushra1\n",
       "FKDh45TPsramzjIZXu6R2BLgiweUM8hUHy9dCHV/F8088oCrh3UcGSlyacE5+8Da0u94OteL+MUF\n",
       "0hR4SA1cSUc32mvyCFyBMSG32/2s8O9dB3NyP98m6IiXZ9PrppOPi8uj/tM15ga9gPOAylM3rh/m\n",
       "VvMwDnbcIH5wwUTcChpuaVYqbvNVD85ML3uOtSw2eLOZi855vvZ7RjuBgwMEoqRjuxZYT+xObUuc\n",
       "3wVpwN/ABGaiVXZDuNFgqy9Su+EdrFL4hf/i+Xircdru0Bx3GThfOAfw3w3WJuw0FEgU3sRCzWXE\n",
       "t14NfbLdkfoN7ZCf4yRXTS5W40ddUDrR1z0n8pdUopjU9NN06+PjVW8Yom71xnbPECt12cDG0hz0\n",
       "rMkgVz1FZfcdrvSeocsbCuabHySlhJnwEObD5mpAbB6LQFBHiOsztEHG7XUBq/ylXrCa0eyealz7\n",
       "R+aidffk5BvpzB42DMowzb3OMJq9bHqaCdIdBZEh6YzKgG5SfLUXDNrnOPEnSH8LKVZ9v310nIHL\n",
       "CW3K1QmX0rGNQQyypLE44s7D866OjZ7aJSFAawO1fj5cAbjGI64j+YgXMatQ8/J74tW4n7VH5Pql\n",
       "JC0RR8wqHHJpZbeDsts3AAAAMkGeYmpTwv8BNvOYTHlNHI9O3c+728hdQ6Rp2XKGwi4PvQGvYTjp\n",
       "bOq7U6ytkT6rd1b0AAAAJgGeg2pCvwAEd13KjlheY2YBJTw+BxTvl+rsNxoetyvS5QBX6y6BAAAA\n",
       "cUGahUmoQWiZTAh3//6plgAFdQAbQXgBT8jyS1tfYe30CnuIJmsZhwxwXfef+pKAx+myk0UN1lMt\n",
       "md0wuxaNCrGsrkkCfNzT7rYGoN2uLvyNkzrc+8+wOvDqsHKqaply9aFOmoWGi40YGK1BiQxne1Mh\n",
       "AAACF0GaqEnhClJlMCHf/qmWABZuFvgk19wE+C9UnMyB6lU3aFacHI5Vc7AM83c0nxrUM9/80Ece\n",
       "w6JWjdFj8Y3UW6mo7EnYNK9rv10W3th80CTwTjAkLj7w0HVCiy3xydtUmzH3vlsEP+BD/zvVnJBF\n",
       "+Uj7SbAoqAdyYkLy7Wm40fsKLdFm3LPtNVZmlTGF7EfFQoH0zImRpX9BCtwVzycmvPUnuxg19Sjb\n",
       "w+olhb21QaA+K5V/8pAnxyOr+guh4sdOxUL5g4rVvUqRJyMfxgAJ4Bvw/Mzk9GcYFMFS0w0mJr2f\n",
       "hIGnxYSUp75AY+SGSPT0FW+IFzvqLljUIlhKceoa2ED/OAYGCpoNqEq58rfWMTaiepfgDTdvAqPk\n",
       "+CYTZcQA4Al1YLBC4I/PGBSxAvP9S7blsgw46/c2bjGcaquWYzM4/fnMAYLx5Kl2EXNjGX6gEE6P\n",
       "FQKucST9K5yOQmTrNpjKAjMca/0EUmtywHY3ymdPJ0siwaO/I77u/etp0ofMoAO4KKi6N/qFUGwz\n",
       "++cqySj2UsjGL4U6BI5Z+EdMTGVTat5O+QrkrVVw2FX4LrPYsm7HZixgLmp31zhflNVHCzgzPDsi\n",
       "6r3g8ZDPO/Fxz+DdbNXfxa6gEsXeIAp8MlcAaA1RvRngA6AVJMuTUJX5V4UB6uzSv0Sk+340iVs5\n",
       "EqGhOpeQI4hiUmh7DUZNyDPkcoMj4wZxO+EAAAAkQZ7GRTRML/8BNuLn5pKx8j0s+OktSeXWwLyS\n",
       "oKn6D/2qevuLAAAAIwGe52pCvwAjuu5UY00409XRsLmWVVmkyB2R/liiZ3Jl78fAAAAAP0Ga6kmo\n",
       "QWiZTBTw7/6plgBW9/wgXny60aRy+TJx3sGJdnWgX3NGpDcS2QSZ4tDnVa3dahWji+t21aDPGuPw\n",
       "gAAAACABnwlqQr8AR3XX8q8rwquC2+gXI9uB9vl1T1c5cLmakQAAADJBmw5J4QpSZTAhv/6nhACs\n",
       "AoX1Xzk5YjBDMMQzGLsY2GIHiBvOpZpzBU2Z9nw2XpW1swAAACFBnyxFNEwz/wDio01aXOyeJiPC\n",
       "hOl+fzqjHNjHDSxIMfMAAAAbAZ9LdEK/AIrEkEejbvJExhW7S+Fe80Sryx1RAAAAGAGfTWpCvwCK\n",
       "9WMfUV7USb0YWcNHOtIRSQAAAD1Bm09JqEFomUwIb//+p4QAWIPVfarFQAGvZx9cZx1ey1NDJPbf\n",
       "bWaXRycnZyicmxC4De1g9FAEB8hsEUqBAAAASEGbcEnhClJlMCG//qeEAFj94SlHCMn4qDpSHD+4\n",
       "+i1dOOA2AyMpFK3LHj8pnKLV+uC32mZBtdNtemWrxQm74LluOsJfrwoMWAAAAFJBm5FJ4Q6JlMCG\n",
       "//6nhAAsfvAXAOb0AKZn8urMGNVFh11TZn2iXDNlEG6NoKIWf5KIbIf/8WvWPVic+NPMhuVSpZ3h\n",
       "7/2l8+WsBIUcXdnToY0fAAAAOUGbsknhDyZTAhv//qeEACte0V8J57HAgxMMtyVFZB+zABV7cJLQ\n",
       "FvrvxePTr1T20BYhKnrezXamgQAAADhBm9NJ4Q8mUwIb//6nhAAVr2ivhPPYYxtJGbuWcHLrjadL\n",
       "FPtTyej4IAyg4iePUkQi14GgF38kgAAAAEpBm/RJ4Q8mUwIb//6nhAALH7inUBjsHQDzMzVAAQx1\n",
       "OsHoLxy2eORw8tiacH4mGoY+HpSrR+S2mUkvzFwck8svC30GYZCkmI8bAwAAAHFBmhVJ4Q8mUwId\n",
       "//6plgACzc88iiEUev8DHcd0AvDtbJhHfXpbHw8ml3fym9hO3ANVMCM3samsilolD0wb42JQdYEv\n",
       "/cwgi785yebtW4QqS/hjLQNRk3nnNv5SEAoix0T1zhZexSfKkCo9ztZQvyN9gQAAADpBmjdJ4Q8m\n",
       "UwURPDv//qmWAAFm+AbI45t3BIyGcY9qDaVWUKMG6dTmSJh4sBAmLJk+++ZprUsHsuouAAAAGwGe\n",
       "VmpCvwACOyE5LVEnmNV7JcTy297Ir6OQMQAAAEpBmllJ4Q8mUwU8O//+qZYAALN8Cj++SSaRwR3J\n",
       "7zj1IJeYmoyeCPcPoVBQEco1VzOhzMIYD5NYKNXLchFuO6K0Hk6fUU2ZgK/1aQAAABsBnnhqQr8A\n",
       "AR2QnJbRIsdYgftha6qp3RNBlpMAAABCQZp7SeEPJlMFPDv//qmWAABZRn68gRItnKkAM9zAwehR\n",
       "c7+NgTJGIXOT2XoetiKfrcHbl+6HUZpytntihAdq9Dp9AAAAGwGemmpCvwAAjtvF+DvVA7aJpWTt\n",
       "NtYGDaSTgAAAAERBmp5J4Q8mUwId//6plgAAsrWRTGnHJMJZDgTt+mUyrJMNVGKWEJJ9BWV9Hlrl\n",
       "wMa5ybstEFNqZ56sAMn/NqBtZJypYQAAAB5BnrxFETwv/wAA0ymQ0d3PQxJL3h2IknEW1K0+jMEA\n",
       "AAAbAZ7dakK/AAEd1318KkiLhy2mTI2BC/Fx7QeAAAABakGawEmoQWiZTBTw7/6plgACzf3SIbGw\n",
       "7BkTGdW3wOUDGJa5GmoZAwQHVInd2kou06bZTHfZZtW5x6YJh4z7X2AU33dJcBHEVAABf6RyK2/j\n",
       "pc+VU1Jv9XiunNFYBCK9qNcOt4Eu05uiw+yTAoV/DUrVfWVZ/zGHBg7bZoNzO+mobHOLSdf5X8TZ\n",
       "PEbBMn0dGNRKtQDRf03ErlwI6bCcLUSvBGpDrGk/Pw7AhliG8WYTSxn9j5cV36Tl8gOmreGVCwk4\n",
       "VnFqZHavuXFUkn1+8NRe4MfHaBbFyQ+b+u7ouf1iPMp/BjIZFPIdc9584eq1V/1RihGllftZTsRy\n",
       "MbO3nMm2rr2u8SJ/XSr/vtq+Q3hupBZgzQd32iEgZBf2rggrzpFbAiVQCQj5J/V1096y+ZZF9//z\n",
       "NqNSRk2l20oA/7viLQ9qlq5Y6EWYVodbfHiYQ0vYi+/MSIlWUjBfsnWq4NVYw0jYIYtfZX5KAAAA\n",
       "HwGe/2pCvwAEV13MLVfE2XJDs9u7VkCsdEDhGnnuOKkAAAHWQZrjSeEKUmUwId/+qZYACzcLfB77\n",
       "Y0AghUmXw4I7SUSEQu7W/6C/xwQ/wq75lv3ciHP8Ft7bc/47bSiCkMYJJGXdDOpcFWs6bfQuTGM+\n",
       "99q/w55Z3bqZEpwy+c/uaqEDbxKth+07etGnlFN1dyzhtzUJRoQo4ckVNN//Or10afvkKtITO7yO\n",
       "qFlzI0XLVrRCePdhvVu20jwdaI3H4W1OBHzSFTSbXAZiHpwe5h5ch1x+L1T8zDk2JCPCdgRudyHn\n",
       "qDJvTEYRD7cH1GGmeb9lGwcsyxzdy95arK6HJm6Haoli8MYpwuERad21YQUGmbHrir2Vz3YVoEFW\n",
       "w9z9yKtyxdwk7ovCTIv4Ng4UD5o47YLiAR8bnhsOFeD0i5PB8ONyjdg+17xSKocUg1M04Pu+sqXS\n",
       "mp5hy38Qp37Jk+ScKet5A7y2PMDnXt4jHt8t90BwGxfbXolQw53si71+ImAyXgal6BK2ohaJ0Z8x\n",
       "kkiNku08iSmwdMq5FntNb0kklsuqlfL9BfVu3YBSVlrYAnZzNZATnsmnuM9a1IfdDmP/htMzsDqR\n",
       "vKn7AqfuXbluPx6ZAJQzA7m5kLqky9vwXwHZskjjJ1brjZ8cTWHmGxq+rUhR215x6rAAAAAgQZ8B\n",
       "RTRML/8ADTKZDRvgTsXMoNSmfeu2MQ2s8UQLOLEAAAAhAZ8iakK/ABHddyoxppxzaqxH2LXvIrtx\n",
       "OoIWw/D2B+llAAAB6EGbJkmoQWiZTAhv//6nhACr+ikhv68g+D346gBZgWgw/VChxtvLiKKov5ZB\n",
       "VM37ZYnBXGgf/3zyRJH3tjt9iJqjz26x/UP8WjKl9G198YUgLgf+V0rehYRKMKGzY+a4S3DEV6TP\n",
       "gywWwm5Kek6wexlJCNnGPkLzjewlFQPYtPW0vh69pYnimB4Cv9QSwK+6honpvVrdOAegsHOggG7N\n",
       "ghobbn/ypXdqbgT9gdhBcEAeL4LYEPrsvig/TqJzfWMgr/1ZhMd+ou+OCuxrApr8aRfo8M3ogQv6\n",
       "SMVl9AnsvqBmSlmWtFqOCBRlr4vJc3SUEHJOJjy18CACH5ROZDyzRzZmk2mUPvxQNMEiicDfX7e5\n",
       "YGHcPq8isTvqc6NjpB0t5xA4lkiAtS7KQXGhAuxvemBBN/RMtuccGhOaD0KR50ll+cM/E/P4ry0s\n",
       "VIJS3k1h7Y18Zv74tQY/dKaHksfHjxQBG1hfoECqPXbixI6zNbt2EOar9eoFs4sZq2RMAoofy1OK\n",
       "tDaUD5LmssZE9UwG/UNHjejZ8cNnXeM7cU/Y+/wkh/PUYoMce93OpmxCmw4KOSXtxL0lidZiwoMR\n",
       "Ifc51vGEn63YgPhLtbA2UMmQjaTEUhqLZ9RZc6wae1cYvHxHhIRZ/bNrdU6ZAAAANEGfREURLC//\n",
       "ADTKZDRvgWYIr9dIDb5slHJ0hnL70EqwQXZDUafWKFdPFJ3buuRaRCo46oEAAAAeAZ9lakK/AEd1\n",
       "32J3pMVMUK7s1SMb5n9T5HxFnb5hAAAAPkGbaEmoQWyZTBRMN//+p4QAq/oS4bWv20NsDC6AU6xW\n",
       "SkR76Qq5Akv5+Q2rEk3aASkn43o94C5hfnfT7Y6bAAAAHgGfh2pCvwCKaX5Ga9V55x8c2pVmOQXT\n",
       "X7WelrixYAAAAERBm4lJ4QpSZTAhv/6nhACsohA+gBAdw4TqFoWCT3Ou3dXn+cGPaVyIJ5pRF9o7\n",
       "M/2CVAuClQ98yHon/qUScNGbU1gUwAAAAD1Bm6tJ4Q6JlMFNEw3//qeEAKwIZjKNJBMabW3Rd2Y3\n",
       "A3KZcf07FANpXbznlGqQQsFqKE1fy3cXhLRD8tExAAAAIgGfympCvwCPBkyqtivlVZly7OXT67Hb\n",
       "nBMRsQd4vq878jAAAABGQZvMSeEPJlMCG//+p4QAWP3hLHtf8R0MLlSJhusgb0WAE/cTZgUKheiP\n",
       "vgSYSjDFZkNF8GtN2pfG3YQjJYIYVRXqdqwOOAAAADhBm+1J4Q8mUwIb//6nhAAsfMuxjibFj06s\n",
       "AYcXGJa+ykU4vjrB0y9haWqs2YPQWbvkiwYJhl+HBQAAADtBmg5J4Q8mUwIb//6nhAArXtFfmJUp\n",
       "4Fslxhn3uwjvKXSm1q4DURm+SqcJjManf/oFRmw/4GBPqWVRIQAAADxBmi9J4Q8mUwId//6plgAL\n",
       "N8A2Rx52AewKaC3gRtKrKxcABzDDhAY3g5uHVci1nx6Vkbzj1f/W9IAxZmEAAAA8QZpQSeEPJlMC\n",
       "Hf/+qZYABZueeM3NtMUTbs16dWRc34BSUMpX3agZAPCAoTA8KVlwPZ3klcu4lI2sPfWRAAAAfkGa\n",
       "c0nhDyZTAh3//qmWAALN8A2Rx52GDeIXApDVEXUrmUmQBBovzacy2p2YyKp5BedO2lEoUi5Swmbd\n",
       "RR55+k1yymv5Im3p+v/ervJsrlFYAm4M0UjJFjW1klQeVJbsZX+0OaP2Fe4Ind/vPbqBC+D14CVx\n",
       "UE62Ya0p4pf1gAAAACRBnpFFETwv/wADTBf69MVFAI7zG+O33dyBbFuzcVRD3VpFOoEAAAAeAZ6y\n",
       "akK/AAI7IArtWyGYSkZrBWXnkQYi1+wQMG2AAAAAW0GatUmoQWiZTBTw7/6plgAAs3wDZHHoQDcj\n",
       "oP8tc+nb0sW8fkJhMFpws3T6lA8uyvueAuhDGVGppg+RuyEHas0ziRsEQdu9d3J+PuvYg8yoRCQB\n",
       "Xz0ZV4NqJPAAAAAZAZ7UakK/AAEdkJyWqFfQGARYPUj0Miy83QAAAFBBmtlJ4QpSZTAh3/6plgAA\n",
       "rfx1t2AA2UnIMWfimbcQxm2WFmxKoPhCUl19bB8hyQK52j5QIHUCYIZP6DnFCTMlU5VXQ5Y7flWw\n",
       "aP5z44XjnAAAACFBnvdFNEwz/wAAmtxANToxhjBhcgs1YSzEfL1MQHDX5LEAAAAVAZ8WdEK/AACO\n",
       "ubFCMkpyaqR7V6BPAAAAHQGfGGpCvwABHddyo5o7LTpjwYuiS6ylPN40GJWMAAAAaEGbG0moQWiZ\n",
       "TBTw3/6nhAACx7++BoXxS3Jd1ecT2x2ems9E6aiXMKf+6SDs1rGM2JmMc+NNKNA8OWQIkxvOSjSI\n",
       "f5JHkFlJWG5QKWAcOgv2wwO1JuIqYZ9QZ8+Y33VP9RFJo0j8gUcxAAAAHAGfOmpCvwACO67lRywt\n",
       "rYioqtZRpJJsD7jKpMAAAABiQZs8SeEKUmUwId/+qZYAArfx9bsAVQA0mwNbG0hCGaIPzwSckXG/\n",
       "WStPJKq1Yu6aX7z1/7CwEoFckvoX1lymJWplpOh4R1HrPErBjMvGfGxrxpo+qMVsukbzRP8F+pw9\n",
       "nDEAAAHMQZtfSeEOiZTAhv/+p4QAFj398HvuTwBsY/uJTfL2EnttSyIU+ZotcAku7AR3LlOMZRiJ\n",
       "BlsNLnm+PW79jaBD0hUUE6RpBqAqeFpFVILjQNxrbdfC/dlWLqPQuYvj45AQnFN1l8HPOhTM5Zdb\n",
       "Anqe+w+VnrFW9XOsjNAbq19GINTDsqc+yYAA5LDh9lUiYjc7EzzquMqjQ33oy0Fu72PwAX3uihDj\n",
       "q053n0fOMvUBC3jMp2gHMK0JBu5Ee0/DYaB/OytDxIs0nQL4Y8O3ByfDqVMlFoQwys64QHkfU0jk\n",
       "d4bYy/60N6x46F9fah2ple/uJOKSSr1KNzBfuvESFQHVK8mKJzPAZk6R621NCFEfJIjyM4e2m3g/\n",
       "iEdZp+AisvZ8Crg8iyOTVtQYEo7Ai6fIiIpuHvm6BO0Zf4Rtqswz5Qyt0TSKqNnCXP2w2rKWnuJH\n",
       "zI728Ehjaa6XO9YgDxgucglOUl23yXkPP3Uhia8O3qtcCu7GLuuXhddntpdhNjOzuXauyAUayUBT\n",
       "9LYiLHND51DKcGS8zNkW1jUbTgvdLMjsK16RyvcA0ZPF0PCXFkYD0fw5Ya+RzP/5/cnyGPYYtRsp\n",
       "5/vMzsu869hO2QAAACRBn31FETwv/wANMpkNG+BOgJ+3C5mL3SY6etR5mP3svk/UoEkAAAAkAZ+e\n",
       "akK/ABHddyoxppx82qr+kACwLtAhUoQsNDNNwngaieRJAAAASkGbgEmoQWiZTAh3//6plgAWT49w\n",
       "cvp2sASP/dUVgLqpj4NMnhIdXr3kZzrFCtvC6fZWZ7gsmGAboy/s+3K+A+JrFvHzIgAulm+RAAAA\n",
       "PUGboUnhClJlMCHf/qmWACt/HeqwF67IIzSGnQBeMwB7vYHXXuCt3w02DpC6LeCRR0JP0kzSVFOB\n",
       "F/3OBnMAAABRQZvDSeEOiZTBTRMO//6plgBW99HsxaRgD18cQ5qIFVuMmp6q/sZd/SBwpbJkT8QH\n",
       "2Rz78YDmnITESWAJQrujKO2bD3bfSaF63rzwXXPhH4CBAAAAIQGf4mpCvwBHbUYkhoBsezHnFnTo\n",
       "wyii7xWJ+23zz/hbQAAAAC5Bm+dJ4Q8mUwId//6plgAsnxzfqIWuWFcvpOARE3OPnGusrivpSfsT\n",
       "Br/gOoVhAAAAIUGeBUURPDP/AEtwiQ3W/7mPJv6KLuxjaRP6G+s0AXZHpQAAABoBniR0Qr8AisTm\n",
       "hK2KoxXuaRzLMA05/+x1QQAAABoBniZqQr8AishPVr6pU3T5y0tsCV7EWmOCkwAAADxBmipJqEFo\n",
       "mUwIb//+p4QAWP3gLg45nvBWGZYH7QDLSkyprerA0jNBnqnhU5+dsIeaAA2e+ah6eKmll2sAAAAo\n",
       "QZ5IRREsL/8ANMGBC0PyuZtxHqnry0WvR7hmzRiJtQShiBe0vBwXdwAAACYBnmlqQr8AI7IfOKwU\n",
       "ACva/sM6SkXjiry6iK6qgqLMG9rnb9uPQQAAAD9BmmtJqEFsmUwIb//+p4QAFj94Sx8DZR2t0/Bm\n",
       "AHzWwz5QMKaPGiXkji9+o/aZwDf4ePiQNnVRczY0a5ZbTaAAAAA9QZqMSeEKUmUwIb/+p4QACx+8\n",
       "JY+Bso2GNpIHdx6rv5LMd4pzUU8Gd615CQqA6pNg1riEQt0hRVzHP7IO3AAAADxBmq1J4Q6JlMCG\n",
       "//6nhAAFj94Sx7X/EdDEbC2/7w/e+UMjwmYADK8TQQAqu4HrRgmtXoI+u7bHI3NIlnUAAAA4QZrO\n",
       "SeEPJlMCHf/+qZYAAWbnnjBHvEbnf93AfxnCmuhb7jh7ki7fPssj+VTowlQuOnNOqCqsN4MAAABS\n",
       "QZrvSeEPJlMCHf/+qZYAAV33EmhPUQsbdXJ+qjaAIbjipyE6qc6va5mjZ0VVUVTWG+D70ycTkQ5A\n",
       "TC6deqTKTsiK+KnzWiisgc9LOxNoqobLPwAAAERBmxFJ4Q8mUwURPDv//qmWAACzfANkcedgLQl4\n",
       "/gT/tsn5FVHsmywveSmH/p5NH5Xca3jWNZ0JX6S1+ALpe9BUYG3izwAAABwBnzBqQr8AAR2QnJao\n",
       "V/VMECG3xZAOC84pJvyYAAAAPkGbNEnhDyZTAh3//qmWAABZkAo2MSsyKEAQ8Q/auBY+4UpNGNz4\n",
       "r2tEHoj7OPclWftsUQM8TMMyZSMcwqLxAAAAIUGfUkURPC//AABpjE5aN+KeJTL//0kaFH8huIzf\n",
       "MJclgAAAABYBn3NqQr8AAI7ruVHMuVg/baz9dWHgAAACEkGbeEmoQWiZTAhv//6nhAAFa382G9zf\n",
       "gAP6QKgt9i9jpzprmvg3SDN/D5ntRfkiXzVzhxH+3UosS/90sJQSBilZI/BtPIT1xEDPmvzznILd\n",
       "vAgiu22RhR3m+pyitHT+C+p6xRN+gT6X304txV9ky6Qoa67VpLGP1+EcKayGafEM+gVIAsO15AMS\n",
       "xKDGgqGPakeeqS86Yli3XbJS8G8w+TXA9RMlHLtUFNovx8j+a+zDkWyvY2K9OAVLQwtrktpyEOQL\n",
       "TWKCkff6SqW8ay6YI4RPQTWP7bkb4ZqAixUNscx+7wTH+5NE2tV3JAIlOTwy3iAIJoiBwV/X+QNE\n",
       "9Xi4WjTXGswoRIoj4bim8UOTQMEuRfyqeL7CwZp8ieKonhCW5lQbJzpC/ZWmOVtFeeQETApyFpIz\n",
       "JJZa14uIjZeJMobo5PoR4UyOR9CCF5bgr5K36p936sUI/XfkyQ8Tn2wV17ZBIZq2VUxCZtnMmIrt\n",
       "ahCnchYKnxiU3KwufEwj7eQPjm+6l+QpAEaP06nINGSjM3cP8xqrRwmFo228YPoqkAuqSo88hD6O\n",
       "CvVYoi4hVErEkWtmB4jBIx7oWDZVVHYYnfdRbGCassEDDZ0PuIhQP97bJ3Xh96l+gYw9E9+ewGJf\n",
       "xgkWgKVqaVvmcW+3F4y8WWoPiink55rCvaso1fZMZ475NyIwZrVvvmw1OsJD5R85aOTRAAAAQkGf\n",
       "lkURLDP/AAJbcQD+OqGwNMs6Spa1woAPw6K1jZY5GIVgsdZ2pc+TBphiizhi2KiVwXqHOb1g5xNH\n",
       "aep19hgtoAAAABwBn7V0Qr8AAR3vmMZ/jsq655BVmnoZxQfcphdXAAAAQAGft2pCvwAEV13MLUUf\n",
       "CfTgBGp8Gzml3mupidkL9p8DE7j53V7GoQY614RTB2SSH3hlnlL5XKPZPcG08xLdMzEAAABdQZu5\n",
       "SahBbJlMCHf//qmWAAVLfQxX57IStdaD4mjUkl8fXLK6T3AznKT0YKUK3m2RiMSRbEUVXSSIUcMq\n",
       "s9YoCET0y5LyuZCOQWSLj5wTnVpANsaSZ0F86c2LyvZgAAAB5kGb20nhClJlMFFSw7/+qZYACzcL\n",
       "fBJr7gExS0rbj9yQsBQc5lKvCJRaDaiWdMc3bf4G5x3mcERld+vY+3a4nTGSle1366Lb4W9Cwr6j\n",
       "H35C5EAj4EF0cZFovsq7Zip8VFX8fmRihOc75UiCphMnXmQ5gMa9KoN38GptpKMznv+6h32iNVgZ\n",
       "9KA+mZC0T4Da15AtXffKWZQhD9iKMND9HmICt0/D1Pc1gigyUOdO6FeBuIH1KVgs1SfY/qKu8hae\n",
       "naV/6V9PwM4+nucbwq+vREXgZVnpu0/fqM3RANGGjF844BPBA8nQ/QeGkaIoBOA/NLr1WSvylucJ\n",
       "wFycRqYCYrHsOpjRYRGDznVZNP7cVjB3KUoFhw0TxtPdBLlWN/fXb4nXH+WmQZLgxPcabTdiqWAr\n",
       "7HwL9WTm4XpnoFKrWAUO/jr18pBLEixE/RIfkwsqvdDeqlCGYNcIq74llimye6DNCOlXp9fs/WEz\n",
       "GKjIoDSyPs7pHm5n6TJ7guxM5L9UhfYl3KdehHJ8JYeBHlAJWcjuaJKMlZ8CLOiWCLoyUTFm6sRi\n",
       "DO6/Db7Rfsgbo4l6mqaXAPuV726O1n3ZZNr5mN/POMps0Rp5NCq/5GzS+rxWgE15D24kqipHTWec\n",
       "Ypc+uNs01N7yHwAAACgBn/pqQr8AEd13KjGlJR0hinMy67RuEZFlmDBPbWP33KvqbOESDmk3AAAA\n",
       "Y0Gb/EnhDomUwId//qmWABZPj63y+nbXcQAiPUiMhwkqy8Bwc0kq1dufLJGtE9r20D+wFr6Ep8pW\n",
       "XWYn/p8vi+qXAvFD/rq6kh1KtzR1D0M8x3sZOMj8AYj4nGMQ1OWeVvvo8wAAAgBBmgBJ4Q8mUwId\n",
       "//6plgBXeFje+yGDWAE1e8ieahtZcgpEVZR9VMCr/dJg2h2XMDC/ZEJWYWlXTnlxHIleIkiZwvqZ\n",
       "udbFlM4QfAFDVTWxs/Ii7JKywfLwq0oGQXY4KOgIUfZWretJWH7VUgF2s/uOGQyLTGaPjEH1Su/A\n",
       "H2MLw8yVoemIB2+BLydXAY3tCHYeOjMdj0XhlJtZFAjdQ4CYw6sIEPlXNVjMAsB4+klJC9IfnsYk\n",
       "QClI1QimBGV2pc1rboFAqhYWMZz8nHRCM4QUcL1DDT6x33xdT/cCA8bBticcXSSvSoE7t/3NyFs0\n",
       "A04+yaqFGMnDgicR8uHIWj2UDZ3GSyki+7mO15ubMDNgkUqf5OgzWjR4jnerOM2S6NOnv/RvQJKF\n",
       "XKUnDJVTCBZF1iP+DfHiQ5HlDrcYho3fG3ddKPA+pCA0+GePZmVKJ/vewPHPFF33duTRa2qUZPw8\n",
       "Z6sWrfI4c8mVWU0l4TcIwnnHzDK3F2gBWqgIvEbXPkULE38yxFQnO3/t/nZL8g8zGIgVIe43yf6E\n",
       "+AJBQ54dzhYKJ3mSXeeDPlIHObIv5+12iEor5479nhetCV2V/LPUFXDTilKESqx7/24hsV1EFEOw\n",
       "kfd/N2kiOJQGqAkJU1foQI5yUMsFr98s014jQCGMdIrB7DYYPOXIycC2/o72VQAAAEVBnj5FETwz\n",
       "/wBMoOHD4bI1lw8AxI3r9IjJjmhYRIg0WMOgMUs1UfQFDzGcZnjF/U04u3xksYte0RXrjCaWcQDi\n",
       "LmjweqAAAAAmAZ5ddEK/AI66FycfVvCLduSJS1R2dOIncLpQBiUteuNiAketh6oAAAAnAZ5fakK/\n",
       "AI7ruVHNHpcmDbiAGzATKTp9/FqIHDC3w/wsYgO3iOeLAAAAS0GaQ0moQWiZTAhv//6nhACsAoRY\n",
       "JCYEDPYwxhwBTdCh5znWHfYDA//i/fHinHfUYpgGlsN/v+yovXN23MucO810y1czqEddfsjfgAAA\n",
       "AChBnmFFESwv/wBpoil2ZzC08LO4z2RVOaSyoRDjCd9wUuA26aeOeMnBAAAAHAGegmpCvwCO66Th\n",
       "6WZhZGFrUHY3jHkAP+ognrAAAABfQZqESahBbJlMCG///qeEAFj+PoIPBF1IlfJG4lNOrILd9VgJ\n",
       "z7++WydsJde7FCVSqaUCIUUknl0ODA+x91b0W/x3Bxz+VR6peP9cFV+/ggeYOVTq2xVojqcRqa38\n",
       "F48AAAA8QZqlSeEKUmUwIb/+p4QALHzLscf614GKSwnUG8HkMgJnL5RDt2Ei7WwSCdGEfcOqYUvG\n",
       "QOOeY/5NoT1FAAAAKkGaxknhDomUwIb//qeEACsehhtvLZzgkK5v893ggU8QGnf7RGjeLoP6DQAA\n",
       "ADVBmudJ4Q8mUwIb//6nhAAWP3hLHv/GOgHnL7/vN8oYKn7v7sGPq/JOeloCWViLslpizwqV5QAA\n",
       "ADtBmwhJ4Q8mUwId//6plgAFm+AbpLgo4eN8ScfC1wR74ot4EtFCv3IePYKIqnfOQ+kmwpSlbm4/\n",
       "5YnegAAAAD1BmypJ4Q8mUwURPDv//qmWAALN8A2Rx51ODd1SBtLY75RQu5BYcd9APMsujeM19BUr\n",
       "LPT2pmUlZgpI5SmAAAAAJAGfSWpCvwAEdkJyPxbvkVzG5AAN5szsnlLi8KGwIh6ky8pMHQAAAE5B\n",
       "m0tJ4Q8mUwId//6plgABXfcSaE9RCxtwHAVqthYMSWpDJ6MocbgFw36sldF4goqyKJ9R+/guX5HU\n",
       "uPYzSEPDUTO96/E5+44B0MZVB6kAAABGQZttSeEPJlMFETw7//6plgAAs3wDZHHnYB7ApoLeBG00\n",
       "w5O53YaApOZJGcrISjjUEmqyL2bhaSlDzSsvlanD1mAdwQRvgAAAABsBn4xqQr8AAR2QnJaoaDAx\n",
       "hKs9SPQyLOxD8WEAAABLQZuRSeEPJlMCHf/+qZYAAK3vo6gDh+GXdUBzx/bZVw9OnB4vjlbGQ/os\n",
       "Lcmq0JJaPxADSy+tRG8Doo2lN5ynDX3lowSG6NQMfcUzAAAAJUGfr0URPDP/AABNcHS+rs7j0v/L\n",
       "y6jDvYcsDEeiQ/JmDhjF3nEAAAAVAZ/OdEK/AACOubFCMirSsVDjpU8JAAAAGAGf0GpCvwAAjwZT\n",
       "5YqMrBEQoCsET3cvgAAAAE5Bm9NJqEFomUwU8O/+qZYAAWb+6RBznZJ36o9imPoe6/eXEiQG8t/y\n",
       "xA5IaNiPWUSJsUel9r2804Dw6xVmLItGs/d1scnDtsYUjTn5RzEAAAA1AZ/yakK/AAIrruYWkzgb\n",
       "LcfIoPL90UeaO9ImxI4wLCy7BERTNHpfTFHkKQFEZtqr40+7PEgAAAHnQZv2SeEKUmUwId/+qZYA\n",
       "BZuFvg99saAWYKY5rjgXxrZnST2uA0mfVqnkyul4GHpb0OemhqsM0F81BhvlsZPsaQuPqGCQUnMj\n",
       "RHDGBrfVF07QSm443bEbfQ2o4ycJhE5LhTT0K8n9vcUObj2uVHqeBIQmRDfUmEghz0Y+nr5TfTEW\n",
       "90NWG83gOHMpNI2ltwNKlLa5/6pwXSCIH5PI9LR5GsGBCI/Bi+MkcdT83KNyqAMzl24KUmcZ1Ndg\n",
       "4NMvOrBHXgWiSrpe1wP2+cHeKdCojzGyF94NnidsF60jfk/0IkayKxbrn97qpLk89dV2GZ874WLy\n",
       "H4vONv4IhDMNrOd7lBNobihLERXUe6hu/97XcDzlLgz/pCp7dGd7+DFCWCLPkpSDUa2Ov4+rtEGw\n",
       "HO+g7tC2mByIa69bYuvAE0G4PSRmfT5EQApwjTYL4m2/EAi+jqafYT6X81Tsgn+2n23F/Gl4Ts5s\n",
       "vE+6FXSmRUgk9pdOratJNALVcCgcXmnjtZcW+6AxJTouS9imLHmmx4T+EKlLyxOgLXHh1DF3ZJX5\n",
       "hBW7X+SvRmLTgjDz5kmEtPCR54szMTIzaNKB+tjv7gkQQI2xL0710CNddxNvnl7i2Qc3F53JEOEx\n",
       "iZlPbc/kHMDmpTSBUEGUwAAAACJBnhRFNEwv/wAGmUyGjfAoDfSjeIwXTtupIzBe9kDXy1UtAAAA\n",
       "HwGeNWpCvwAI7ruVGNNOPm1WI+xa95GslN01BgCJ70AAAAIZQZo6SahBaJlMCHf//qmWAFb+2oya\n",
       "nlQ9813lf4Gomh/DSoVp5sbYNcAmyGa9v9yYNon4ox09xkyEWUL1psxNWB4EAn9DV41c0ocnmxho\n",
       "VDUvsDz7p67jUC/czzP3GbPDv6XVVO6L5SLqVilnPx9JOYFq6l3WYKGKnmkH7yKylQMgkc9UlrNB\n",
       "d9L58Nd0eNjdbq4Gnc2yvPZ87QByLz/qv5YaROkLHYrF+X7KQcarwO4+GyhPOuknP5RDZuVrAKtP\n",
       "TmkEwQOVlCaC/XbURqwklm+l7hFAYTKz5W+XMWUof4OvbBe/rdKD6b3RELNftJ/lyKayUdccBRLX\n",
       "EGdPqNIolcD1hsY02bdrzaicYxbpl3DRRg6yDH62ufLQZRORXta6U64JkLSJ1Ir1KamJZopop2OU\n",
       "lZtnNc3atG8IymfrtvomxsEMwAV3bv6UrNib588JLeDDXoOTR+x+Z3HtbFeyJmtHR150Iq57IgHZ\n",
       "N/mYXuet2eXPSNrT2jpIgLWnbaitl5uT8wdTl1lZ0j7tIwPF1cZ/BRXlK0m6r8VRMMzpNm5wQq/2\n",
       "0+hh/GOV/jVA87ej5oRaT0y3ppwAdcsB+0snlhxt0jV2sIB05iOet+3tfL40+/4YvgaL/xDQjg08\n",
       "Z5txR1mlPCWl4SCJ4MawSk27FtzJgL4U/thbFnD0J3TOOegb5xVdBzGxmeSAAaxhgA/vu01Vy9HH\n",
       "iBpXAAAAK0GeWEURLDP/ACa3EA1MhoILl1orIWqTwOwXMbyI1PQht/jD2BKACRWILHcAAAA2AZ53\n",
       "dEK/ACO+DGgARQSe9EWGaAD8OFWQ39pTEAdWHfjcd7Sj2si1IszRWUQyT6N6cWveXfqgAAAAIQGe\n",
       "eWpCvwBHddfyoTc/d50Gc6RWstlpQWEvT2r5qLxkOQAAAFtBmn1JqEFsmUwId//+qZYAWbnnjw64\n",
       "9MwAqWXlglTHH9acC5L6B803J6z6vUhzrRHRX3QJBwOMr0g+BFuiFAY5q9N7uZ2Mn2qB4dVMc9gk\n",
       "VGPjDtPBL4dpMluAAAAAI0Gem0UVLC//AGmDEmOuzSC8iLww/Y8axq/h5R7Umy7727rvAAAAGgGe\n",
       "vGpCvwCKyE9Wi/a7ttuty+iDWrFMarFxAAAAOEGav0moQWyZTBRMN//+p4QArAKDk+KCYEOYB7G9\n",
       "AtjoAedbgVfkED5eV5FTj411ybY7ZAydMRWCAAAAHgGe3mpCvwCKyE9WvqP9HbKHrpISW/KsbjZX\n",
       "3rQySAAAAEVBmsFJ4QpSZTBSw3/+p4QAWP3hLHv/GPbF/K+evVDTCJk4bT6S2HveMRJJilllTXR8\n",
       "vh0R3xqgkIGxQ9Us1eGHxCtYsCUAAAAcAZ7gakK/AEdkMivqdJvv97TTIfTVbnwFcYVtlAAAADZB\n",
       "muJJ4Q6JlMCG//6nhAAsfvCWPf+MdAHiX3+Fb5QwVd/KCd8REX0YnXSUsvNE95hdvP8JtsEAAABB\n",
       "QZsDSeEPJlMCG//+p4QAFj94OCjqSJaeZSRLI80DZJGsCqPsCJcneqE3DprGXEnx9WLTQ2N27K2l\n",
       "ahCSMHbLiMAAAAB1QZslSeEPJlMFETw3//6nhAALH7wlj3/jRJTs+YQ6xa8R8UsAEhsk5zgTgKnL\n",
       "oibCKG4KSByWC/OSDbbuVFOKC3lYU6MQT6Na3QGjVQpBbWOUe3IBLreE/c44jgGodaKjLJ7c2XOI\n",
       "pDB3HK6YVO+rU6beWR7BAAAAHwGfRGpCvwAI7ITktUUhY5+s3RPLb3t+tvKVhEY6eJEAAABMQZtG\n",
       "SeEPJlMCHf/+qZYAArvuJMqHUfwAgvpfgVohhSxDCvcVpxyMl/2iVoyrzLP6V4qk+ZeiAq5InWdV\n",
       "csn0bnOuRrFH1cX16GTQbQAAAFlBm2dJ4Q8mUwId//6plgABXBDkAYY5H39oKYBw6Vrh3d3DLUDo\n",
       "bdXL3n24Faoxl8wQsIxnMW4i39PaHs+Nud/2Xe0lKJfcm27up9iKmThSICflBdwIaIxK8QAAAC1B\n",
       "m4tJ4Q8mUwId//6plgAAs3vLfQHOw4JD7TjHpnbRPRWKlrux9TmSRoNsakAAAAAdQZ+pRRE8M/8A\n",
       "AJrFT6QT0wWN4r5u3e6wJnkZNtgAAAAiAZ/IdEK/AAEdc8qK2jwINBcOr7t8qXn+mAJ1iIC7pj5h\n",
       "YQAAABYBn8pqQr8AAI7ITktJzRKTtmL+KcFAAAAAU0GbzUmoQWiZTBTw7/6plgAArv9bCT3hU+uy\n",
       "w5QxZKE+3jrjs7x9w6Vtv1RJC4YsaNqLniZtKB2DesJJC3BeYoz4RWHxlnn49j6K2s0XfrtItY08\n",
       "AAAAGAGf7GpCvwAAjwZT5YqMrBEQoCsET2WuCwAAADxBm+9J4QpSZTBSw3/+p4QAAsfMuwGDW9kl\n",
       "o6qASGEGY7T+mKUhQJPO9EnbOGhXTkhfyOgeU8KliyXd280AAAAdAZ4OakK/AAIrruYWkzgbKeyq\n",
       "hwU9/XgqkkUEDcMAAAA/QZoQSeEOiZTAh3/+qZYAAre+hJT9O2FIftBtX/nEylXO0TZQc7AXTGUf\n",
       "iA3Fb3SAu0CIO/xu6IFgCME2DZZAAAAB3UGaMknhDyZTBRU8O//+qZYABZuFvgk19wDSzErbmZA9\n",
       "SqbtCtOdI0+xfzVyzmk+NKSA5PYEceBooibWCZEbm8pF5C/6Nk70d+hZPuhY6KUXYcb26Tl+Uf9u\n",
       "jaqdOmF+nmPnvkQn0KqN2JyMYJ20L4DGNyAg+nnPlqd2f4NX69zn57C657l+w6r3xv5pbVR1onse\n",
       "wfyBRm++SEe3CH7BVlduE2WoJlxCGyAUjyF7va2sUSbXILeFailYLNUX31vZqGiMAeYv+9buDR/I\n",
       "LMOn5X2SW7GZUXbrMSa1Eej7kSG4Yw/kEc/+zYEv/PudJqjvo6J09niOpbG+sBc2SPOFSvtp96Tw\n",
       "O8sfy3hWN60G0+iFU7EWK/NXFOyYv9yJTjcm1j+6dTVz5fXWJ2EMalScT+wFNoN3l04heI/ovFGS\n",
       "Zw7wkbGUwpPBZr2tqAeQIZT+F2U9ATxTAk/rF6TpdUaP2ZrS4s5mf0zIvwTT0oZhcOqtuzu+P575\n",
       "cPoR2UMRlrUJcqGS5b0Pa05YmoPEcP8m7RW7fS9PAlvGzlk943zhaFGiAOcJaxj3ceiFbzWJtz2F\n",
       "IBGrMNFSRwzV//OSw1ltWIDtu/FdIn0VqvKsRW3ruKgmKgzKuEX2tdiys2K/3AAAACABnlFqQr8A\n",
       "CO67lRjS5OxJ7tQJBCOzOE//NgE1bA+EkQAAAFlBmlNJ4Q8mUwId//6plgAVvf8ICiU3c5kYHnPS\n",
       "uNxQBoHDzPhmtnhBHzJw0NsYU/Tqt96lzq+4KlBUSI58MBX0Qrh8b+fB+v8YXq9gPt1plN6JuITM\n",
       "neFJgAAAAfhBmndJ4Q8mUwId//6plgBXf62EEm8ONJ1BSXbE/GHl9ZOwQtct6xfR5Q/4H0jnVhSQ\n",
       "1LTs7VftF/4VX26OV98CJSwhYAK9rGc5BCLdM066A7ueDttnNqHVB4BGFnClPDOF8VwmPC2oYxKH\n",
       "Fk+XqJVR/VQjnC1sAzZoOjIOrft4lIwJ60zvgmtwy3OuHACg4RAUfR53u07MBZ34R6HRlXxf5V8Y\n",
       "8OTCF53NO1LU0rn1njxjVoZs3D7aV7jZqfSeorwzWIO8CbdImu9aVDuDH+8jEppobuvb6cWUGwkX\n",
       "c6TPYQmp2TLs8Ukh+O/Er2UjLkQIyJzEJT67NxPiS7lGjfpTJVVuqIOPmGp9YxEqE4THDNkXmK8m\n",
       "l07x1fcr0kVic3IHp+OGqifXmAN0QpL3bvuk0DpP9XNOWooroLNCMCBOyIz8r4KLeHQrC0IXwuY8\n",
       "8RbaxrU4R/CL7wV55PkbCntjL0wFe362hGO4vVbQNVoCOd4yiRHPjC7WO6in3q99T3FPmBMEDVdQ\n",
       "B1R1OEvUuaCT8UI3YS4C7oCx5/KuyK80x5QS8R1gm5FZ/7Sf6ZXNy+jmNLzZKuqR1ePPH3Wlp0+Q\n",
       "bnXG/rNcj5zLhdE5A1GSTNGeiuOaIOElK5PFkyc718P6Egitag6WnFk7+QuohM9toVa34Lsz/HwA\n",
       "AAAwQZ6VRRE8M/8AJrcQG9CaoL+rPkZ77+H0bp9+ZMnXIrse8pB08V8iMy062XuAvq3TAAAAJQGe\n",
       "tHRCvwAjvf4Om93iepHhbCgKq25cAETnvbD352zhV9C/YmAAAAAfAZ62akK/AEdtVP7mwLMoKOKb\n",
       "9WcFk35DthrAAZsZUQAAAFNBmrpJqEFomUwIb//+p4QArAgwBBkbZrtQGbgeqz0+F1bH3ELOyagH\n",
       "lD+xzDf0YNG5j6+84THtQv/srGXFlNk+a8zK6gpKBSy1yvVeaMYr9uP6mwAAABxBnthFESwv/wBn\n",
       "DIdOqemx62z+H0+Pu8ElFsdUAAAAIQGe+WpCvwCK9VHfJTABA3UjV7TpmkP9Cxf2EpSGFTWGLQAA\n",
       "AFxBmvtJqEFsmUwIb//+p4QArP8jC3e+H65t7yV7DEBvKECEvwsB/yaeKBLHYxCjusm1oqbj8Mu5\n",
       "eSAym6s663ClGryp/5IFkiEBmTk2o4FdSiNb2DDvaIHZFhYTOAAAADJBmxxJ4QpSZTAhv/6nhABY\n",
       "+ZdgiA8iXqEX/WNzlg9fwiacHxcvMk8BVjAIXD+F8SJAMQAAADdBmz1J4Q6JlMCG//6nhABWvaK9\n",
       "QNSngHYv16xKE+25lbJ3/kPhCm5wBvyk6NsVAyD8HYiqhSlZAAAAPkGbXknhDyZTAh3//qmWABZv\n",
       "gDNCW5w190ka9jtgAoBg0PhuKroEpmH+C98EzeTELEozHQgTaDhZI6Wz0mvDAAAAUEGbYUnhDyZT\n",
       "Ahv//qeEABY/eEse/8aJLXukrS+dgBKRHOacbS4m9Jjj4S5Vrk9j+tZ6sFyJPWACPXBiT/ccvzHH\n",
       "Iv623o5d+9oVaH570KnwAAAAKEGfn0URPC//AA0wX+vVD6U6hhABY3XBZMTd6CijsCgSDVqShT/M\n",
       "jaEAAAAbAZ+gakK/AAjshOR+Ld+5ue6u5YbIhODSo8CAAAAAVUGbokmoQWiZTAhv//6nhAAFa9or\n",
       "1A1KeA8ZcX22vw2pedrCL+TeznHXwvaAi8ZhMb2Xq5xCv/b9LXCsEAyPXetA9b+rMGedqt0VDbxc\n",
       "eUzPeNXDyokAAAA+QZvDSeEKUmUwIb/+p4QAAsfvAXAeJGKRDZ9cCvBiD6Ur4WLJmZE96n/OHTB6\n",
       "YmRVGV2sY3ssWQZHb6M+qYAAAABrQZvkSeEOiZTAh3/+qZYAALNzzxptr1DDXoAhzvtYStEuiLBk\n",
       "ACJrm/6NWHXYya30UaEBZA+FH1egBw3+tOd1mDa0s34mkldIDjL06XhQa3yBUbAeUExTnNJ3YVD1\n",
       "zhpp5YS9bAHXtNVUTCEAAABxQZoFSeEPJlMCH//+qZYAAK7+P6APitf/sbUqSrM32b30QNaUCXj5\n",
       "oScOnJhKYfqrXNsR+3wyAgMFHYbK9lI5Z+LW/QdaFVAE/1HdvrSqIwXw5WILn6snlQTTQKcAMnZs\n",
       "2PdSy/5Jzp7tSlSF9BgZjgMAAAAvQZopSeEPJlMCHf/+qZYAAK39ZNK3oBTU3FVdmb5kHz1A+91n\n",
       "YhkQkx/Yt0Hk9xEAAAAdQZ5HRRE8M/8AAE1wezaulY+fXb3+FD54U1w1eHMAAAAVAZ5mdEK/AACO\n",
       "ubFBVSK5yI3qJ5HuAAAAGgGeaGpCvwAAjvT8Le0qzCj2WTgGKFvHMZIYAAAB9EGabUmoQWiZTAh3\n",
       "//6plgAFS30IrcFWWnLP60fTfwe/A2ClEtOKikVgRSOm9Esc7nraFM8wYPO3Io5hV8VUresr+iqF\n",
       "T/l/VsfvC04LGrPzVwaQOrlzAtgeuOLiA+nj3Zvii4ElmLfB17wVRFV7KJG6rbKmdoF9eGm8oIwI\n",
       "r7P2UxMool/4NZ7lcClZhd3VrX9gk1qF4rLBe3uakPdAoTGYyeStw/2iO4IfQEvXTtpT12NaN9tL\n",
       "g+QKik4S/zf9FQOxEX3hkpgIHKFQZ3FXFEg4fK4iSgi6mxvKz/Sc2yT62yXc+iF+WPiFdFMPU/F1\n",
       "9iZog1LPVJM0bNIMnaIsUoe6wPbzAJWarBmhJtNhfs49yV7/TkY3fAdQEnYiQEEBKEPo8YVRqRkg\n",
       "YNFZo2n+FJqAdRg/m9liRyPwU4SdPp3Divl/MrvVzdyhFnqW2uOakK8SbJEyaMW+GqaotW9fQJDR\n",
       "FjMpeSgBv1wVrDKxBpe3V+2842Vwf/SW2jxRpABo1kh9MVFBANBGjglS+CVZxvtus36MzKB8rt+O\n",
       "GNW0/Ig7jVBH42Ctz9NnsRO6+sKvSyMsFzBgm8lr3Obpl+n8w9hWbSwxS8XzX0zWM4zIz5i16O8U\n",
       "nvn39JvXNxQ7GtbCCYnaGQyfrfe19Fw8G/azfYEItd/xAAAAIkGei0URLDP/AAJrcQDUyGhmTukH\n",
       "WhBgJTEhAtbzxDEpo4AAAAAcAZ6qdEK/AAIr4MjvFqzw2q2RscIJ4ZtdyzMa4AAAACABnqxqQr8A\n",
       "BHddyoxppxzaqrv2AJvI7QVfigtIqHt4cwAAAh5Bmq9JqEFsmUwUTDv//qmWAAs3C3wM58Bk/DSV\n",
       "ff0ILRzqHp99oUejnmqHpkm+xguXfMI4IanI4x+f6gVUs++53Eb3vLe5LojWxZ3GJHMOCVT1/uDY\n",
       "uALA4WbPb+jPb6kjae9g7PbmcH2rFjq4YVOD8dL7Y+EamkAmHQ4S4otc/dVOhXoJBXiWNeNSsJ5c\n",
       "2siGZ0BWwzbEEpuT3AcwkBW/v1inwYXAQIqgRUmWgvmac6PqUt9uapa+rqVJQAuPhxjizgaVTzKk\n",
       "gw/P92sP2H53AabPq7gHhTDrCmBtwFiqdnqMxYh090NOZnz1+dPzpKeZIGRnt+1kWRWyHK+gjvpO\n",
       "Tz8C2X1Hiqlwl7GxY42Mybeimq5mW++RfIXhxcXav5naGcNFUsC9wHBALsahxu0u2+FkZW5gjZWS\n",
       "/UjCQSVZIc5UTMHYPki/QLcfNI9j81SWmotFtCEu9SYA0xqGi4Ka3J/skiH3G4ti+NzYJMDL0AHf\n",
       "Sc7rCQQXDhooJPAdC2LQAlQLJEGbt8+Ey5mw1A9IH46A1Rm2yfLcptVDqKprDhn79K2XUFHvv0Mm\n",
       "scoKp8jEwBvmHFThQumoLtKJjg3DTHtCjBWGBJlwOsaAB3OjOw2QUnHozZajlHqpRrvvE21cktLU\n",
       "gR5xSHr2B9u/QgRev8r3m9qecr+zq4x+38ZbQgt3wXg2oDB5O/9durMbtq2e6Mj1CH/nHy5cSXJO\n",
       "VwAAACIBns5qQr8AEd13Kjlhf6hFTECyjSSTYH3By23Q6TYp5DmZAAACBkGa0knhClJlMCHf/qmW\n",
       "ACycYJALXc7c9lvtJabM6XOlR6Oeaoec7wzGsHHMYOsFs/FvkbZt0pE9mRlgYiPVUV123h4QoBi4\n",
       "Roz0UX9NpcRPQG5jrmPi5UfDLp0zAIMcf+JhYQreMcp3EGV70MO+c2neU7Ml94GjY9EmJCV/Jxzv\n",
       "LWF4UwOHVzW0rdgbMvyqswDQIPgyjVu6vbnNPJOVHIJaGBHfeQoaKoPfxASRetRkKMtOcXVs8OZW\n",
       "RdIne6Lf/9Stz1RTF0x1I9deMOVLnmT2N/7UCPRsUDaRTlQ6MgeyNh1ym+PkTmN0ely9vBIBYdHW\n",
       "TxSbzBi0uvpI0O1hhpXBRC0n1CFqfNZDdYitl2mxIyM/BBeVuOpwVs4+pqp4WSsAP2mR13GKbWT3\n",
       "0YEMscr7Ncj4US7TAkf1CFhO2B0C6NEKg/skkSfa68ltP7xQELgdOl/ZH3bBMzQFFQBtTX6VsdK7\n",
       "BZ+iQbORbhliBXKDX+xXf5o6eOF8Ulf5PtdvmzvAyCWgX2wZgqIxd6QAOq3Yv6AKSRj2wUrplTPI\n",
       "E5KOrnTpDVR1d/YZ1WEwv/KZVOoMeAz2FgW4WQon2Q/oOw8lNMrAzpEqRCGzxvJlMXtKo9ISU9iT\n",
       "4Ig8DyCd/Xn+3z1OPMNf0gjwSXod+KKIZ8sVp30Lig2FbJBMgihSH4nNUZBKIJdMAAAAJUGe8EU0\n",
       "TC//ADTKZDR3ZYIIqKZe6GjpAFGiQDNvn/BeamSaA/wAAAAcAZ8RakK/AEd13Kjmj+V1qQ+Imoft\n",
       "hsQ2MqhFlQAAADpBmxZJqEFomUwIb//+p4QAp2qBjMxLcj1Kc9NM6niX1qyWeRgW7xgq8ivwvj66\n",
       "xSJr0CBDOHhkAt0kAAAAKUGfNEURLDP/AEtpS+mg64hXNU1VbsXwHdbpWowgNhazJFTs3FND0JUD\n",
       "AAAAIwGfU3RCvwCK+DI7jPwiT5ou0xPJ7xq16OnVrQPNuAzlhIlZAAAAGAGfVWpCvwCK9VHfHF7T\n",
       "qb0X6sNHOtIRSQAAAD9Bm1dJqEFsmUwIb//+p4QAqHMrqH4A/O0+eoAWn6nH63avdGmcxU7k/5Hu\n",
       "2gSaXVAUQOhgpUgViRlU7WtxjVkAAABSQZt4SeEKUmUwIb/+p4QAWPmXYC/bPDyjACgnP64UwLAw\n",
       "lOIHuHrI1aaTkvq8rLn7pVRB3dsfB5puElyanXnNwuFqPzn4UhFFatjEGuuPxfPxBwAAAEFBm5lJ\n",
       "4Q6JlMCG//6nhABWvaK9QNSnf/pPbXGdRgCLlXriC3R9E5psvfd4QEW6e8in9mu2S8427qJgJR1T\n",
       "F8C6IAAAAGVBm7pJ4Q8mUwId//6plgAWb5R/QRXIT8VB0pj6DLcngrwEGrgjuK0+0KPdvUnFEXn0\n",
       "0eFoysAt/wrKrp72NRuSTFa114qcyVyD6qnI3qIDF1ugYVEGAVQ6fNuAYwGjKiRST5XugQAAAENB\n",
       "m9xJ4Q8mUwURPDv//qmWAAs3wDZHHnYYPyCCOOanfYid5W6dg0YDQ1dJ0oLhN1GXTmQq46HffSYa\n",
       "+IsSuwVWkqxgAAAAHwGf+2pCvwAR2QnJaopCVTnc2bTapwjHWV2gHjCenqcAAABDQZv+SeEPJlMF\n",
       "PDv//qmWAAV33EmhPUfEAuORD+IJImT9WTiN8QxqCZzNv6e/WpuwXrNU6F6RWJCiQ14RvJ/lVflc\n",
       "IQAAACIBnh1qQr8ACKyE9WisgxKXaJqaVzABNUYXSFhoTxO0NgVwAAAAO0GaH0nhDyZTAh3//qmW\n",
       "AAFm5544ynEUia9PGFuywCgE8RFnPziUq/HF4g+naryuZs1pJBGEFyBJ7vqrAAAAK0GaI0nhDyZT\n",
       "Ah3//qmWAACzfAr4uRRgo7GJfW4B/j9TrnMFuQkIZAz6zxEAAAAcQZ5BRRE8M/8AAJrFT6QT1uWf\n",
       "o2Bu3e6wJnlBmAAAABsBnmB0Qr8AAR1zcmgtZML6LaaYqTgYDBQB06UAAAAgAZ5iakK/AACO26N3\n",
       "owABOCQHNI8nqGOOWi/cjE33XuwAAAB4QZpmSahBaJlMCHf//qmWAACyfIDPdLhCUZIQsXU2bu64\n",
       "pfOAzhwBTJ0WCxsEblD4GACv/9P3L5e9H16Yq0K/ca2TDzi8onb2s0YzHdgeBt7eyT0ObrO90W0C\n",
       "QNKyXhgPkGl6yxBxXped+5qQFaZEKzf0MePuHdHhAAAAHUGehEURLC//AADTKZDR3dDNYQHYSHZJ\n",
       "5Mgkt3+BAAAAIAGepWpCvwABHddyo5YVl+6c8sReA04aNTRAtu1yvluBAAACFUGaqUmoQWyZTAh3\n",
       "//6plgACzcLfBJr7gExS0rbj9yQsBQc5lKvCJRaDaiWdMc3bf4G5x3mcERld+vY+3a4nTGSle136\n",
       "4wdl16FhX1GMcSFyEoeqYxRZw03y6gz+eHrx5e4R6jH5iNctMHDV8HKgKTIcaQejiBwF/nR+f2E1\n",
       "sAemYQCbkGKar49m0jtFkfLEe4BIMvUNZig/y4B5F4Cx5RbzZInmCCjUzN/ZvsSO0FblaT83Qz7P\n",
       "AFoNIH5eKTz4oj2b6+wV+T9FuuxmN7DswmDW/9l3qm3fy5y+gsRTwirKcPppFN42wrVur436SvEb\n",
       "VcxtJon6tkZPbsCRJYrhMueNPVlNZwE3S3HuIylquW6XJqNj5gTaRn4HgtYWRrkRAkK5AeeaQYbJ\n",
       "NpvfCkpk8jfqLNblH6P1mJle2ogoCDy5eyKRTwznYyxXz5vllKb/R7G4+p3lanpU15aV4bMNlg+a\n",
       "K7/4A6/4Jlg39/0FRh6Zp0CqRbOAY0Z8dsMRiMDUFLuQYzpcIAA6bCLAXwL8fj6qbiSIlH8kbIHV\n",
       "omtbvhTig97+B5iBBOrufe+84yoMNEzponyF4zUAuEqedfEA1+yvUxEibM5zn/Hy3385RTpQnZY7\n",
       "FnJM4a1AcsDns/XsS1TZtSSm+2ZNIZ4rBpoQA7ARUqyLuFV9iwHDCb9kNYPVEycLVNjSbTuB35M3\n",
       "VVCf4WWavIJhAAAAJEGex0UVLC//AANMpkNHdm3yywIGeMYS6lGrQFE5bkkmu250gAAAAB8Bnuhq\n",
       "Qr8ABHddyoxppx86AJjwc0qyZoQHZyIA6xzQAAAAUUGa6kmoQWyZTAh3//6plgAFk+Prfb+Fs8QA\n",
       "QRfIg6fBIpJZk/hkVQrtmYxS4rYunKKPM3+amXkLIR/ynuNRj2PCXc1VlnB6sqEMtCRKuFVLWQAA\n",
       "AcRBmw1J4QpSZTAh3/6plgArfyEew8vhb4PfgqgC8++D+oZoI79M03sZCzrx5v6HPTQ1WGaC/4Lb\n",
       "2w1dwmCys3xgklSuzl8cm1llIWxgwQZXZ3c1bZbTruUC+sm1GZ5o2QzgNgg2H33b1b9kWUMaFh4b\n",
       "YzZErCIOHw8pbX/pH+Z0x3vk8fc8KdZGhZcy04pwoX2xknK4FXtiH8HJcA8N6l1BYRk42KQkfHjr\n",
       "5d+IC5euyjlaYpj9qu/AuO61aCG/a5qkPsS/JQ7+VFm5DBSBd0u35PPymPzMMkBV4VeGG+qkRwDU\n",
       "hCdq65H0a/OFqUVn4Unv4wK6A2nH5+QYn+pHlZ+gELYqK+iAGQl9fkmKbiz3GIbiWqsEvHMQY9Jm\n",
       "ReXnSChowE2C6Y9yoqYP+G8yBMjvLWyFOJJUloH7T7RcweEtFTOWEdsFSX6jc5MQLqEFQH/MjA11\n",
       "uWuIDlkSMYR//2U8WLoMfLGhIK55hBql+3xL++XMH433rF9zTtwr73vJ26Adb0/kdStVqYaAxPyn\n",
       "QblNHgoVAJakVpIMkidXZheoGIE1ISfyfcHxPGPYJMEwbHGgouY9pB2cwVpSqKJOiufwpMs8HwAA\n",
       "AClBnytFNEwv/wA0waMWUjV7M1QgLBuT0Dv57PtnE7EEsCaJBLn5+XcvEgAAAB4Bn0xqQr8AI7rv\n",
       "sgBSYqYy/5XXAOX+VPZzRHD6egkAAADmQZtRSahBaJlMCHf//qmWAFd4WN77IYNYATV7yJ5qG1ly\n",
       "CkRVlH1UwKv90mDaHYcXGF+yISswtKunPLiORK8RJEzhfUzc62LKZwg+AKGqmtjZ+RF2SVlg+XhV\n",
       "pQMguxwUdAQo+ytW9aSsPumRjA4AsnDH0rZg/+0mUxJNvHKs+zQGhGFcQLLkbj9Tw4O7ua2Ntwbk\n",
       "MJ2AsgbnAC9v5CByu8XpjGELtGJ0b5vNirO3/dGrUItTonaTh/p5UP4Q+mOpdAYTeeK9UXQ1sLXG\n",
       "PWnOK/f5kNp9ORJvsIWObnX34VzMfPgD0PUAAAAuQZ9vRREsM/8AS2570PibxI2fFiHUGYX1Gllj\n",
       "U6eYewZC3ikFqibHv6/x7Ol54QAAACMBn450Qr8AR4P6tV/bvRVhqQXfKJ1DVntmWn+bxdt8orHE\n",
       "fAAAAB0Bn5BqQr8AivS4nCOZ7zLcNls3s/hQULgHE2itSwAAAFBBm5NJqEFsmUwUTDf//qeEAKwI\n",
       "VzWEwwVCsAu63JKd208npj71LW+2WL5h61FvsfC7Zqj3h8fDUt1kukMNc6VXg0MtZsjFcIyaPnJA\n",
       "w0CmgQAAACABn7JqQr8AivUEbfbeAEmOds7o35u+moMUIDtGGvK2gAAAAExBm7VJ4QpSZTBSw3/+\n",
       "p4QAWP3hLHv/GOgMiHoBEfzVnyrsUm7+cqiScRl5y46aD8XKuJvA5mHkO191cJTgXJSTPIEIpTS7\n",
       "HywjjWzAAAAAHwGf1GpCvwBHZD5uOSEBGvISr4dMQTJxQHEZfmMMdUEAAABXQZvXSeEOiZTBRMN/\n",
       "/qeEACx+8JY9/40SS2HdVLXq247/bvIkTYmYrEvPMddYbAY1hcQVCrel3IkJ213GulX+W0IIASq5\n",
       "xTuPOGMVL202NpOEoDKtuLkmAAAAHQGf9mpCvwAjshOS1RSFjn6zdE8tveyK+jEJLIbxAAAAU0Gb\n",
       "+EnhDyZTAhv//qeEAAsfvAXAtdLlc1cAKDs+KXbnj57jt8JbfWmVYGM3/YaMoDplnvwJANj18y4s\n",
       "QI5xHN1fX5uT5EQWtMa9NgrI35gtAj+RAAAAMUGaGUnhDyZTAhv//qeEAArIVL8i+QD3POtwp0/9\n",
       "7vCNCGZyxcWQ67wIVVAhur6Q9YAAAABTQZo6SeEPJlMCG//+p4QABWvaK9QNSngWl6AReVr/zNwC\n",
       "Bf6RXxcLgHNq/yMIkWLiU4nbW+dDyj7s7CKbhEmFCbzaXIu1Ib/lzORXDLKKVgmrQMEAAABOQZpb\n",
       "SeEPJlMCHf/+qZYAAWb4AvryJE6uHLHIsmd39fDvrnn0mF6LeoP96xzQ4PE3cDzlKXhIRotVnbxX\n",
       "QxqyiWrAXUYg/v+pUq8KfuOQAAAARkGafEnhDyZTAh3//qmWAACzc88YI7AGArXNhDOlIM70G7QB\n",
       "FbW17VNxC1IYbpustxShSuUrA8rgOIGvbLk1la3H8MMK7QMAAABbQZqASeEPJlMCG//+p4QAAVr2\n",
       "ivhPPYYs0nypQA4MiNXeJf2IIic7pKL/j9U6Y5RMAqLlIXth8HyS2dpQcWXjc1CR8aSsR0E9TaR5\n",
       "HHbfy9tjqbYF/AOXXxBknwAAACVBnr5FETwz/wAAlsVPpCXv5gXngAkzKZHvWoO564T2GIpOfPNu\n",
       "AAAAHAGe3XRCvwABFXNihKJiIQxnFwNqTx08yQyrLcAAAAAZAZ7fakK/AACO2wi9GTkrEtuGwILM\n",
       "J/J5fQAAADlBmsFJqEFomUwId//+qZYAAFk+J1E7XKAGeSE7VswkuIL6Wc1Bj9uZRVEy3dYNZBpF\n",
       "Nk6Esjzox4AAAAHYQZrkSeEKUmUwId/+qZYAAWbhb4PfbGgEES04qKSmakfeXjVCFOrujD6SRDnb\n",
       "kUmdx4mZTOptEWdmJbnFW7WRm9QwNb81cHaD04Ypkkehh2Lpn04viiVY8RB6qCXkPEgrAy78nC7/\n",
       "E1Bj3LIziFgva9z2CkRrxNFgOfxvQXHmJWLUl7Ntj7+sZ3xvKVlgvbS14joS8O13f8dw3qEMTQl8\n",
       "5m45ASLYFPHbNxXBb7DQV6HQMa6nNEfgctY09SumUZeD4oVHe8xtQ03rhWrafN5K3geTfmuUMU0+\n",
       "H5i56bw6MPXY6fldR9CeQxUpM6kh/y1aZoIkLmdobeNCTaYHtdaGtaegrAkRCNujNzL8LGIcAfjv\n",
       "rb9i4s1EDsdhC/wY0RYS7v6IfT23VMNbW7KBHxn4AfWjEfMW0KMPNDC/I0KskwUILuX2J+q9Fjuz\n",
       "17+4M494RapdODYJYc69nydx25pEOoyftNoGeh2mKVT3XAq2PSkt1p4W7fTIClkVbJuyp+S5yp1R\n",
       "3NMfIb5twBjHx6s/msanSH6x4MMweRU/zhwYaOMuOnks1lZ8YJs8SB9mLCJBhJpHa8FHkN5cGXfT\n",
       "TJfdKfy8NS865tCmbMXJp2SmiMjOWSTWmfwDwQAAACNBnwJFNEwv/wABplMho7ssD036IwHhBNkm\n",
       "tOSZDPsM5hmpgAAAAB4BnyNqQr8AAjuu5UNDIAZOQQZODmM07VJLZ3VbmYEAAABVQZslSahBaJlM\n",
       "CHf//qmWAALK1j71Zj6pZS69jqYd+63t1jAOejjyiWw6r3/e6nUfYjZdIhcP6kzQz8FCAIP68uHr\n",
       "eVn9w30Chek5SlExUEZf1ukbQQAAAeBBm0hJ4QpSZTAh3/6plgAV3hY3WdlwArVYkteqyKEvakTG\n",
       "IQIKlbgZ7y6p6eTAQ9SYKIZUTF8hQNMca4CbsMxUb7s/tBKXVXKGOOday5LOMgx8JD9NU6n7Db8G\n",
       "12RLmwOOgwTjiSpmDEEwI135rfzjSE4YT53TyTus/cNzsOUZ3Gax/suCzDnf8b0wMyEAT95KM5Eo\n",
       "XQmgTmiURayjNJH5SwwVxjdwe0aPGsHjaQMUqCnxUUFk0rOBw4POA2RHSUG5ZwHa1xWhca/MrWo9\n",
       "XMAZRr60zKI/6s8jkpCjUZVXcRknTLppRwDEKPz4hg7Ri5rsMdk8SuN3hz5qbe7cj3yBEiLc4QmZ\n",
       "PdVmN+dnfLj2zp56aezMGTeZfbtuBggyOsPDmRmO3/H+9z38TeV1FItHzVR/GySFfHhAmcEj9loX\n",
       "H6lTzrRBex0qLUlzs2pYyH74sD2vnMU2sQ8EBeMKB+m188kNRA6uXxBrvhFOFcHpaxyYrkf7Rxvy\n",
       "H9VcSM0DFKBTiVJjWFgmO2ent3mep7U+ZRH9nnmlsNLVXJBfd1VKwHysFBKfK6F93Iaz2F0GRmQu\n",
       "uJeyJruXXmDDEO9dM+Vw/tSFkpiILg0AfE3RGLaBpRkx4gZHLs/yhG82rMPunp8AAAAnQZ9mRTRM\n",
       "L/8AGcUyGLip9JURXxEkciWT2rpEgyXElLcz/AftjY1ZAAAAKgGfh2pCvwAiuu5haiPJl2bvrm5j\n",
       "2JuoJFsP4OlXZUpW/dTl36fJiz8vWAAAAFpBm4lJqEFomUwId//+qZYAK3v+JN1udnub+0ITjoBV\n",
       "+o9oiun1jn4spMRhe2NCEdoqYztZV7sbVrXwDsbKo3X/sx8HfKa7gZnJDnchQpGIzx+O1U4exiOj\n",
       "Yf4AAAElQZutSeEKUmUwId/+qZYAV3hY3vshg1gBbeJzynSy8bN8+ByHYfALZ9xHpsNKwbQ7Di4w\n",
       "vhMCVpa/w3g02/5CNUoiTK3nR+ZuB3GkWCLeL8BVwJz+q83tE0MT++79uWxP/xvF+8/rb3c+tss6\n",
       "flszNgKJ4Yx6y8TLDWlIHh41EFxXQG6TgGIqd7StjMO5PjmHx033MyYd+693mIE2AzXOJxm/FLNC\n",
       "hl5ebK97zH86aFHjCH1huML6odFshj7rNZOPprBEbMnhjEE+LhPDGQHgMTJ661z+++VZwggKK1QO\n",
       "bNrfpAk6PmBIgkRxEpBbB5On+0J5/Qt1x+JpG2G+MJY23/rkzVFPxRuKyRG2u1fRb2Fm8cGQ/IJ+\n",
       "BHuzYwkzwAsQOk/zE2EAAAA6QZ/LRTRMM/8AS2570PibxIwQKzZ3BHJP6GVI1okkt3cImx8RGSEu\n",
       "6pEKODNdUSE/DpZ9SjR2IZeVgAAAACIBn+p0Qr8AR2Iuk9sL/qa+fwd7re2C6y2gMQX/Z5QkQLCw\n",
       "AAAAIQGf7GpCvwCK9MU3COZxeEhox+jBS5LkbMhrbk6e32IPyQAAADFBm+9JqEFomUwU8O/+qZYA\n",
       "VwW1hBQl1zPifepg3pMFGCyRwv48T2lAiUIWBfrK8EHBAAAAIAGeDmpCvwCI+ca2FTjQbRrU/GCW\n",
       "sjipY2chBOYLDM63AAAAQkGaEUnhClJlMFLDv/6plgAs3wBfYgK/felVPJUS+i2fNnCEdBIXoiue\n",
       "MFWbXXvQ72ZAeW1i3Mu/iYoLcHSTuU2iCwAAACYBnjBqQr8AR2Q+aoEhuYqF1PhJJlUgVDz88YMS\n",
       "tiOIGHwgcPjzgAAAAFpBmjRJ4Q6JlMCG//6nhAAsfvCWPgbKrNX564GKMkYK49R4UnsCPgRtvdua\n",
       "ezHGRZXbJPemwTP4i/qRXjGxEFu7lWqnQ3oPhnuFKRfecvJiwJxtCsdz5G5qEqEAAAAnQZ5SRRU8\n",
       "L/8AGmDAhaEItjQj5/VSo0nWsLxOzA3ah7PnLEdZwJNwAAAAIQGec2pCvwAR2Q+cyxlQUr4kGHmf\n",
       "DLWPuSzNZXADncLFugAAAEhBmnVJqEFomUwId//+qZYABXfcSaE9RCx9Cw0aslOuSEUbEzW7T4a7\n",
       "5lT89XaQ0ZMr0Sl/eiVr3/FcgUAvNOME+abM3hl5JDUAAABIQZqWSeEKUmUwId/+qZYAAs3vI0Pt\n",
       "a1/eWTLjlMAE/cOHJWBvRhP5VCbTvSsTk6GgHrcum3NLVxJMWHgrboGiBttlzUSrMbV8AAAAYkGa\n",
       "uEnhDomUwU0TDv/+qZYAAWb4BsjjzsM8sAaCvwK0QTYs4AGgrPI7LdM89XNxDXvJd/FFDWXYuJD8\n",
       "LbAs49D7KQt8/Zv4+cK8w3HSKbycKAn6ZX0RKZT0qzNE5DH5TxJ9AAAAHwGe12pCvwACOyE5LVEn\n",
       "mNV7JcTy2KjkTBlEpJm0a20AAAAoQZrZSeEPJlMCFf/+OEAAFI9YUt1SOPzc6UnATLHT33hjrx5Y\n",
       "aEIdzAAADD1liIIABH/+94gfMstp+TrXchHnrS6tH1DuRnFepL3+IAAAAwAWnJlD+2HHTlrDQABD\n",
       "6G/hKyD4APNf3mcOEPK+G9GGJDQjLYEnU15flEnWsLYDXKKN59kkE9jyvLvjy/0TSAKk1myiY/ik\n",
       "eEf0WdOb9VFTD6ESZzCAUi/V+uDO6pIrYb9KK3RHyPQvhAo28R2fe6aWpJQw1SviLhkntLEPqcjq\n",
       "0nV77/c+pUiSFXuppGJYlifoM/ZBv/ChDHrO7Xa1teyli2bpzTu+jGw2anzKInfcOnJgpUtIpBHF\n",
       "NsExyU7G4pj3p85/AH9SGNGFy7Ki9sMMlKSunF3w/JC6cAq6jvlVMxPGqfX4YpGq1C82zKUYAFmz\n",
       "HGd8L5x25JTt5DffWd+1ZOPctk+x40pLtMhusgGJGbPC2RNlQGCwT+MNmzvbu8YzqCp0DLoInbhD\n",
       "g3550DjHmTrUSrdAUkscKVrF9fZMXmPHVvWL5BBV0HeffVJz2a085YYjJR1p5BZeP3hrFCqRkEpV\n",
       "uB/3RSuOg0LU48AVd32pTYCTV4XmtHyzDJREl4uZM4KVTLtzdaAHanonIp+nT5WR4sp3Y7BSg3yt\n",
       "CLONffV/3Pz7bEYWo5RadY2bSDAM95YW/pbFPtpOdZt13yLoDCNF1THMEd5RjKpYUtggDcPBwjEC\n",
       "5kmb6X77nv1uu+Zkw8l60uG075p09cZ7p19FfJh8aqntQG0dKfnS4Dxx5KRj8Dd4N+d/EPOYa+hh\n",
       "UGNG9RV0m6Q0JMU0JTuU0ryD7YB0+A3pp//4xYBioSHo0p1XUymnKrWKa7Q9peJdA1F23fWoVZtf\n",
       "LyiQ97eIvciOpGbBiC+W/kGJO1WGTDHp3zGQPKE5S0EDt6eiDwqiOKTnY+1X9LF9ApxKxnQB5mmM\n",
       "XHOhHcj9mFnqywuPQi8dtLEX19BHHNpUWrUE0/iC4//fKEPnU4Q7ZCjSGD8swDRgy7uVkXPTQojh\n",
       "1kRu979vbzYrc/l/it7iMG2WFfmz4etEi19+1di0Amf3XdzhCZR5ffL5hxDw85RGAU2h3mv/p4nu\n",
       "+MMD3AfjAb0JZ0Ngw6WR3C+oOzeMC1y9+Du2/e7Trha96WMf3h45xThQVYs4pH+1DYzFE15hzgBR\n",
       "0ZKULTB4kUQz8vxM1f4lP8pqB0NuvDklxuKMigKJO623yxFU6LoFSWVTV9pSM/x3zjEYRKQSc1VU\n",
       "vCy9jZWqBQM5r+SvQ/Rwdt5P6sQWogHZ5idiE4bIgCc4YTpYJvlW/6/j40MszcXhyu/1FI5XoysJ\n",
       "ssXGiCZrhau1BiSYgF+u+i6iR++HHt2Jwwd5OhWbMXnOJkl8nOTm0Ab+qeQZeG+Rx+ZDTBzEuKgC\n",
       "A+oBausjT7FYflb8i3jU+F42fBsZChzcO79qHzt9NeylR0d8TovummHPCgK4NQbUyYtlc/eek5Mj\n",
       "A+OtOlMNehNoG8k/eShbjYdQJn92pBULvlOYsnzHOKHizIhT7x3Qwuvb+n9LNcqBSJnpSkd8E8Oh\n",
       "/zMsLaTAY2gf7rqEfvAlIJqz1JidnHr2eLWh6wl5JzNOpAn0B5wVy1E3efKGcn53C6rYI4NFg33p\n",
       "gHNJ98MmIE0xmjyZMhEY87DAx8C0zyvdUFyykEyNiYqZW3xqS36YxWgNcjYFgGYVGA93xih5M9YD\n",
       "jeGBHPuma1lmg0XCwOPrV89aUy2LM+z17QfxmgpZPYSmDU12XuU0X8C7AolKt61IcxJS2dNO0286\n",
       "KPf78n3R+bn9kVSI+1coLO50vVA80hAFIS7IMtNpIfDtMT9abfue1pE9qvPEu2WO0hnGzWoNG/wm\n",
       "2cvz0Lb+4yuVHEJ6BnVzcSOcHl6Od+x7Py8jDifKl+HY0c2eSY0MR6Y6vgE+IcZE642Qx32ydkS3\n",
       "/WYWe0boci97dwV+6cEtY1J7woS94ypU/tcpXi65cj6pz5QnFTl15//PcgB7SGm1fKwXln5JFYKC\n",
       "7NsfAqE6MMLAioKl5tnRLG/zgipcDQrm34fgpVW7OQ0p5w/VlppM+9P8A7X/khaO1I4lEVkiyABN\n",
       "7RSYvOual42BcO3nWaTxhXFfzuyUeDI9BYxDkaLesfaMDXH7dqxir1coMPSxjyED19Q4mc9KeagC\n",
       "0pwH/2QVlwOhNULFcFtZkkQ60c3T9drry981JWpXDbglBh4JMU6rg1kssn//+m7b7X9h8hIOemNs\n",
       "RL2p6ME9Yh9cqSZl3zXOOEiOFLPeFfnTbbYwLM5W2xDLcSweSkIUY8ew3CcITz7uP67jHyRv2mHH\n",
       "WwEDvaFui0HRsICglACY+vw6aF/u41OckzK376U7d2Ncj+S/hks0nmKmSt0IDai2KiRmP4K8Q9Ib\n",
       "s5ic3YkJ/OXalifCGURvwb2Cg+NisxtLIfOJeLOxn202gbSj0Ecoe++K3gmHvi3v9muWsS/fWal1\n",
       "AQWI5OnccD/fuDniu2AM51q0GlYaD4RAYHUuq4oFQAQw8t95civVTZpFUqPKTAHDlbaTb5Ri3hqD\n",
       "wKhPaz4cu8StjVgIcIP8drVVVBI/j8HLXp46IsHTzXhbf7qAbdkwSMt+f5m1GETtz/yGWJbiKVcR\n",
       "fJteKlX03cCagwEmY2pMtoCUsxm0BjxNkpLXxNd8jODRwyViBA7JrBlIJppAgfDyJdyNhhFf55c+\n",
       "4z/JMKq3Jo0LZ99U8ZpPtw8WXm/LHbaXEzNoo+zR3YgB8MSHTSRwkf9A3WTgjsP5uXLob0XOlaWn\n",
       "zCknzT2FTvLE2Wl+rHk8BlLBq2e+krhyZaEap3Nc5T3KlD4DzkmhmSpXbXXyZ9EzzWncFMjW11T9\n",
       "TEmqQz7rz1MdeDr4642v+qnHcXi6htUEWS7voD8RmZCZNrY7XZx+wKLQH4oyPeprYiV3hXsN0ih3\n",
       "g93dX6dQsm4lRZPFEwr4WcOdIAge9YPcpLF33vEj5ee+Ud9cqUyadb6jrQ4eZxy9e+4ZoY+t8GZ4\n",
       "jTSKueOgZ3PzaffawMLHaQjwF6uLw+90pIFBdyD3XyWuVXFhF8zFiwxK13+b7bLEnOmp8q3ydeTR\n",
       "P0Q09B45/imMon56/XWrcSyxkIlUAw4/sxaBNzxwYxv6Iykysdn4GbIgI4qA/69vIpVp5CTZfvIF\n",
       "BJ1WtRo1ZJ2QFUBHTqLVmVV6wY85HpNSpvt7JFtfTcM6Am2gpvaVEIHmjicJZ20+2HKejyAbW7OT\n",
       "iryAjR/eb6tpl/lps5Qej9aRX+C7BlWWyYpbQ6spdsOv29/rcEwCnpFA+1TzQ8elGSW6d+C6WD93\n",
       "lO0FSGEY0lpp7AnT6M7xR8MU2RPxU40cMurgEsgOMPseibLb3hQybrP2GkmsolIVnrrzLATi977a\n",
       "NcF3w/jNDZkLIixYaqQFPRLySVSBV2LB+/hsNcjmmX96XqWoK1taLnLhCoN3zUUgrK6gd+25skLb\n",
       "DBzmLUXH4DWTlFVsVZzXcNrhLL0SoJbkpZHgvxFM878M5X3nnMnbfGHkKVT1GlvVlChIY3lmEsES\n",
       "e9vWE+gMNPwUscnzDNKfaLBHIgSOcyXIxLsUoEWbmYakaRaKWNEqsPuaDp5yUzH3MKd/CdQZA3sY\n",
       "o2r/BGVtvPliOYCCypXO9piU13JeHy0Gg1O2ZuvpoZRivho6SmxSzwi02O5YhJrzZii5sGRZArhX\n",
       "XqgNKuimO6h1/+4R3C4lDSsWIdMP1haFJMgxF6YRaB8/ALUX9RzJ6bsFHT/4pg0T1SkOV3O1o8TE\n",
       "GpHEvtPdNJPnD2OLRR6cL0gXmoaFhGf72YqCC+1v4FQYU8S9ZNadAs3OQvzJY9UpWRpIC6yxiLb2\n",
       "pP1T29emIi2QiGtEMKUP54tkIvFSQ1+H/ec+i0XkS9LSmN8ckyfVcWtXoLoYehhbDB85hLcxiVW7\n",
       "Z+pI2jhTkE6HzuWnZ5XYlhZOqm//iFCrgiKNl3LUHKGqoLYYJeUka5Dku0i28779Vbujcib5v8C8\n",
       "w9FKupLEe3J8dD1pxmew+1ZYqQB/lLYCHdbgv/6JxZOO50FrgAinqpdmUaQ1xLC7Jj028ML3dRf9\n",
       "ewJTW8kFO3ig+ziPIBgp9qrdT+fRabIvz3wmgmHxQnhimtXKvqkpROOqCuUhqgPzl8MjldcL2s+0\n",
       "9YUgSH4mTlnjjUxi8RVi9zuHDntOQ98POeDl7/EKTZ6b9S4WH2DSzjZLT0QHYDH9MycyuAAA3osA\n",
       "KcA/AHvBAAABVkGaImxDv/6plgAOOwLQD5+Gi/3KEq3KbKVhZjCqN2yvyNMt4N1UzaKnTrnit+S+\n",
       "5PctPS33GmUpNSzdSHYiOQjiQ3E+eUjZGzUXCqfaWfBcSo/Lh2Z+/2ztPlJ9mjVFHKHV7EiLrWIG\n",
       "iaisA79Jnv7kXTi6W3cHb/XRzDI9sRjj+3m+3iEKCKtZ6EU3TNmHWvoeShgQH51uPnIdFjtykmGR\n",
       "q1WynA/khElmzWTnpS6yaHMSSyX7QZ8M4f7SfeJsNzFjkrGbtapy1g+CzHaxL3/K42Ns1v/5VpaH\n",
       "ecUWlqXr41YpvSV9CLJ78Tr1YlK+EEApsek9etup8sJJV+gXZKDttm6wVw1Srt+Q8Tk5rrieprO2\n",
       "bkAKGnZfNeMpDN1fg6N3LST0Fc7ZmUahjCx3qrTET5v+Qj3zjaSOEYmnRihJasx7hT0kx2w4Drpi\n",
       "u5uIPvFU/qNlRAAAADEBnkF5Cv8AF0ads2/W8sgbrt1nDGYhq3B4QpvCKEGwJWfwckmS/g24PEgf\n",
       "2C5JxCehAAAAT0GaRDwhkymEO//+qZYAALN/dIhsbDsGRI9rrvhXHgSUnns1QL6WJqglRJ5hGrdO\n",
       "x8aZRG6neQqseEgsVrlzWAgBdHSL4brkOUklBfrKq8MAAAAmAZ5jakK/AAEV13MLSZN1+hN6hjrb\n",
       "ycAsW4gpl7pokHFLoJCPNNwAAAIkQZpnSeEPJlMCHf/+qZYAAsnGCQGb8NIloncm1jQ5qNoUejnm\n",
       "qHpklxHoGkUjg7oY+zP/ufa+c6NnKCkvwzTaiccsBQIRx1jDxjsXr/x+Q0IjQocaKx9pLSH/384v\n",
       "4mOlIW1guULgn16JBsuoYrFGmfqkozxn2ALhV/NcUSolTb/3uV6SODKvMDtLFROzBtsxfmk4UhYn\n",
       "GdakszI8nMknWF6C9Pr0ozLjJJAXpzF9dWC1YhFc4/l6cq3S8Lf7w6uiAG/6LWrmKKvs9TWNYuUJ\n",
       "4dLFXMkKNY4mILW/vdAlu4K33mf3AIyaGmjEbcpKC9kSOTmZSTampfXXfpEE1ib2s/iJNOlefGkD\n",
       "7g/0CJH+8P7Bd+qFWecdsAlVsMRZ5XOMScX/cqhhMAl5j8egdx4tJFwBix5Lty7sisFpIyhnaRwq\n",
       "R0y42Yf4lLIsX4hw8YQ2syUhzuFpMQCYHqBMOi27Tp8ftaemimh1jo7vQw0NhC/EAnIjYweVgi2U\n",
       "NoyGzSat0tvO3gcOEMqpsPgbRDK5bwp62XRmgQ2I5o2qHqN3CnCLDiugj0epKVykRt/j3Z3UcAFZ\n",
       "Ztd4eT+bX3wuovQ4j+A4bV3JnaoeOFoPfXdiBoqejRFqNtkE3t5HDnNQ8ubLyrsBC7BSPffeKeI3\n",
       "re/M9Cuv8/nT3kILXaOqKzud1ZVkD9Sd2J/sdptrxZSSaVnWcXmndCGFoFDtww/PAjiKG9OuQTAA\n",
       "AAAqQZ6FRRE8L/8AA0ymQ0d2bfLKNi8jArNBHctMROktTMRizpX93tZA+Uj5AAAAIgGepmpCvwAE\n",
       "d13KjGlydEj21oQoUdmcJ/8+ZeewwKyRKdAAAAIGQZqqSahBaJlMCG///qeEACtefqC2Zhfikqfu\n",
       "kVR9AExfsAgr1IAANYK+oPympyDcP/XyV/jDxeZOFrkHsbXpf3d6wN8qS0tmjTNMELOMcrDu/wqv\n",
       "uHT3cSWJUFcDSLb6aFlcMNbALLjxTLZMj021BJfkcfhQPIyjfvTTkTU5lFfqSNtcp7rJTwEzDODy\n",
       "QWyOcKNPpR602BUoU7aUIFifRLEgJ9HfA+HJwqicGqeBfuZ9h/YYVabQtDrjOckW0YH+CB6dkL3K\n",
       "BSjfAqvJRsn4ytJZQH53QgI4y8Pt89xIPLe1EbYVmg8XZXG0caNp22jdcVGbXFoyl80YRjrxrowV\n",
       "nzhQVqLXvbpHyEyAYqwMi6rqGkhF1kLa95VVwBC1pqw1Jx+p1PPs1Ww9+TSZ4hPYjcycNfVUkbVu\n",
       "zo2K5fMuXFC+nvcjzxkQTv7GvtL6ebWlPNY71E2qVRjJVLO0Mh2DEmsJ8RkAm1aRCB05j6dY5fON\n",
       "IZdunSwKg2b/K88A7G4CtszMjWgjoPegI4kTG0GcY9UWQ0G+DQLzlptL1o0o3vFUyhtwa7hMrBUI\n",
       "eiq+PVTNF5PHYmn2ikCd2hyF8OvhLWiyr5Q3yYp2OhGDSsXCrzDsX/l9s7aKdKuP7n3jrtCCwSZZ\n",
       "o+RtrYRryOb5OVq17PaGkuJss+DBSZpPYLnPg0WLZv6uFacAAAAsQZ7IRREsL/8ADTKZDRvgTsXM\n",
       "qod1RUVthh+YjzkoikBNyjJixNWP45+xVeAAAAAhAZ7pakK/ACG7AeYuZgeXAnQhxPnQ8tGpcU9b\n",
       "auffiiehAAAAb0Ga60moQWyZTAhv//6nhABWQQwYmpeJFT3K4QeZBQkpDBNuo+Xwwa3q0703X2fb\n",
       "Wyovv0mbyrcIzmX8y70qRHSNsdD+Xwlvbg7cVLLrXeg1wpdkwlES6Fom+b/fowtkP2JjEFt5pVA5\n",
       "R8dBo8zxmQAAAE9BmwxJ4QpSZTAh3/6plgArfx3qiyDYPw+znrlinZADGBCu7pdfZ6dI/6i9Aw2v\n",
       "AnBDEtu6bphQkPKd3uPGEASjksywLfLlm9YTZ5errHJpAAAAU0GbL0nhDomUwId//qmWAFb+P63L\n",
       "4/wB1SDTkfx/EXihCxPWg5yx78hzx32T+62r+bxONz/nmTvYOyVD2kYIfbwxb+xA1/gcLizkRC7y\n",
       "9tYpwaKTAAAAJUGfTUURPC//AGcUyH4b4HRTsaMXREKjGdqWbQijNJfeWKl0fcAAAAAdAZ9uakK/\n",
       "AIrbCHQY2k//G3RrdZR8mUVadAy5YMgAAABJQZtySahBaJlMCG///qeEAKwCZn8J0ZuaFP/2tv2R\n",
       "U5lq0BZclsDEYR2BzT4sH25sFfa+c9jNRqC7MESdkXJxiG6atLiLXL3xowAAACVBn5BFESwv/wBn\n",
       "GYcgr0jx970Ia1y5gQJQbh2wfNjOfZTlnGIeAAAAIQGfsWpCvwCKyE9WreQN2iUF6o698oeDxhdR\n",
       "y7qmieMhbQAAAEBBm7NJqEFsmUwIb//+p4QAWP3hLHv/GOf/4egDB2JG4Gzfy1sNZd56x4+O73YP\n",
       "kczha5MDibbxbDTEAYamt9bJAAAAVUGb1EnhClJlMCG//qeEACx+8B5jREWts660kUNPAGatDlMg\n",
       "ET4V8+cY9sQWFakCOlWhjLjXrXGmCFS02DpwkiNrab8t8bVLhZAd1q5iAKn4xy3MisEAAABhQZv1\n",
       "SeEOiZTAhv/+p4QAFj94C4FpegBAl7RM7t4KvO8ciMiIIrzG+Eu0GvwzbIgmYO6trHPzHhbaE3za\n",
       "XsVqJiIOPFf+OdVbI/Oj/oshP6fStzDJoex08NLj9oDz1JvdYQAAAERBmhZJ4Q8mUwIb//6nhAAV\n",
       "j0OCtQgxwJe09K6HL3ApdEgv69zAHCM8cJm233vlE8+h+1288NtyDql2f+VyxOJ1URWzIgAAAFhB\n",
       "mjdJ4Q8mUwIb//6nhAAK17RXwnnsMYOrABulvtd5riiAveaP5a1I8ZadomMo4ZuTDVs3YN80TXC9\n",
       "Pk1f0xdzN8h+GqIb3tQ8LN9nv7V8+lenVvfGj1WAAAAAMkGaWEnhDyZTAh3//qmWAALN8A2Rw5fC\n",
       "rgj3xPnwKUOeUnmrV4irwTj+QTWw4rTc90qtAAAAaUGaeknhDyZTBRE8O//+qZYAAWb4BsjjzsKT\n",
       "9OmRascACv3eYYagUTP9Os1W4WpLIBnTj5zwm+zTn8v3SxNqDP01eq3TtHnhO+5zaxAzPIdV7++e\n",
       "/WZL/cmm6RsS+yStZiVoWvBvNrxz3AAAAB0BnplqQr8AAjshOS1RJ5jVeyXE8ttjbcuCRYLZjgAA\n",
       "AE1BmptJ4Q8mUwId//6plgAArvuJNDRDgn3TF4mhEhC/7S6fcogvEIoV3VVP/eLloNvh/Nsn78b8\n",
       "prrU3Khoj/B6EMTnht9D6gfzxswsWQAAAF9Bmr5J4Q8mUwId//6plgAAWT4uKcAF9flODb5UYcPR\n",
       "h6JhzogPgs93MsyFw/PcZR2J01YBB6FXpa9wO3YhoeD/t8G38JB3MIOsidN6vd1o7i8/1PLTZNLh\n",
       "cv6PIEBOkwAAABlBntxFETwv/wAAaYL/XY4xVpL/6g8HB2hJAAAAGwGe/WpCvwAAjtvF+D3oAmRN\n",
       "zD9+pZn4WrjCQQAAAFpBmuBJqEFomUwU8O/+qZYAAK38eY9gAQNxsT7PEU3vtl+9Aa29VZPR+QID\n",
       "QHQwG8pVVXuOeo3+2aEitMlx7rszRaEYR4Eipr5cWZDFGRcdVqnSrNZ8IbKuh1gAAAAaAZ8fakK/\n",
       "AAEV13MLVdyQunLOsBG/CII4EZMAAAIAQZsDSeEKUmUwId/+qZYAAs3C3wM58Jn4aVyA4DbT5W/L\n",
       "0T78EgHsVDcg3ameefntvVvUJiC+SeFQOcdY61oNkllddZDW1qKUHDxymfZW1NnGQyvd0jsCXBFg\n",
       "8oZ5CoPl66EOr+L5p55QFXDuo4MlyPeDV1n7wNrS73g614v4xQXPwvQkBq4ko5vtNfkELkCYkNvt\n",
       "/tZ4d66Dubkf75Ny9POz6fXTScfF5dH/aZrzA17AediLR/kPH+ZW8zAOdtwgfnDBRNwKGm5pVipu\n",
       "81UPzkwve461LDZ4s5mL5VZ7RjuBgwMEin8dYssJ/Yjipk/MDuvl3KaERYHJtHKNSRMFWXqV3wjt\n",
       "YpfEL/8X2BqyWlL/53m1pjqX6gvSi2fsqBkxFImjIyt2odkGhwt3LQb2yE/xkiunx44yI63wYTXJ\n",
       "bAWzM1PTTdQZ8RuglxXqQK9oiheERsbRcFxyz3VjhlBEl887AfiMHjprDeUnoqMyNZu7HsygRZQT\n",
       "gypPaLs+u5BcBhXowrglyq2YoyjNuWthczHHigiTt4hKe2gVy23J7KAOxGmgpVgVfdALXxYjNtAl\n",
       "mUUXPwuMoW2SPX/jBxC7v6dm69z2pQ3Di3jUSI0n/mCt3bNOSP/4jDqOZbs6W7/oTuqZSX9NpHZO\n",
       "g/1CfmxGHddlmgY9MC1rjk2Rt9eTW6gAAAAuQZ8hRTRML/8AA0ymQ0d2bfLJ5RLOTAatHQxstYBT\n",
       "0TA408uHNw4q9eCIV0mEXwAAAB8Bn0JqQr8ABHddyo5o/ldakPiJy5pO/0OZet9ifx/bAAAAaUGb\n",
       "REmoQWiZTAh3//6plgAFdQAbQXgBT8jyS1tfYe2ElPcOu1zqmWOC77z/1JQGP03pGidQh0kP53TC\n",
       "9Lj59gUVZHRsJCFgodys6rzPjOgDhIhnf0EabcC/S1J9mfxmbZ1z0VQMWN6RpgAAAhRBm2dJ4QpS\n",
       "ZTAh3/6plgAWbhb4JNfcBPgvVJzMgepVN2hWnByOVXOwDPN3NJ8a1DPf/NBHHsOiVo3RY/GN1Fup\n",
       "qOxJ2DSva79dFt7x+hYHLSDwXtPYCxRE7ostyMlTwioJjzffDoUPji9rc3Z/0ZdPlJVN37ZKKA1P\n",
       "lm74+IO3naR+wmlaMIc/BIamDy1YHg2Su7SYoH0zIjwdjStP468kM0VG7xYpyXpZoc/WN4Ia5/Zf\n",
       "GNXk0jiT8mmj+gadAIQkOxK8/E4QvmDijtEb5PolzxV7HpWxPlo28zx7V1oTMbi6jbIXtjMa7IHK\n",
       "50byPJ4dWMSkwaeRZyN13bdsMyr77N90EBUzgIBTaolxUlKqNO9qnS+IQYCMGXz9rws7nf6wn7d9\n",
       "p7AvbxtKQO+5tcTsAH06e9b6N13nvOJ7SjztVXLMZk35VMnTJa7UUihPG8uVnsv9HCodMSz/u6M2\n",
       "LeK15FXear84bJ0OonT6r05uHx9UEUmtPWGBGHqvnQFBqiZLGvtF6PJgBMYEG0EFcC/11/p4CG7V\n",
       "GlUqQrHpkvzWUwNt7dL7AtT7j/vNxy0OwlaNiDEc5a+/uiTOn7ukWDgYenL69h8MHUIGJ0fKPEMI\n",
       "W3O7X9EULnkNK5lTgGEOAAUyG8mQ/Ncy61Q65W7sAAJe1XjdL0MiQ5q32ZHfPyiuJFbB21UuGIaN\n",
       "SOQZRd7EktYZqEqAAAAAH0GfhUU0TC//ABplMho7ssEK/FMvaBYoh59GnUs4+kkAAAAfAZ+makK/\n",
       "ACO67lRjTTjT1eiCXsWSNq6ArXmuAdatgAAAADtBm6lJqEFomUwU8O/+qZYALJ8hHqLPuQzwU6GU\n",
       "NAFzBsr/ZzUhuJbIJNBthznJso/9xeS1ZcdpIzYv9QAAAB4Bn8hqQr8AR3XX8q8rwquC2+gXI9uB\n",
       "9vl1pPh6y7gAAABFQZvNSeEKUmUwIb/+p4QAq+qBCjEU6H9orWvjbLAO5EH57TC5ozBcbi92Y6HA\n",
       "/Aqt5prkE7J1BRe+wYsokW2MLKZOqUGBAAAAH0Gf60U0TDP/AEtpLhD+WUdMNnExvxlPdS3BsXNv\n",
       "CVkAAAAbAZ4KdEK/AIrEkCwGPe7WcFvHbshaFe03VY6pAAAAGAGeDGpCvwCK9WMfUV7USb0YWcNH\n",
       "OtIRSQAAAEdBmg5JqEFomUwIb//+p4QAWGF8zXf51FbaBANPINa8pB5rjT3cQeDzJfbvAsQnLxFe\n",
       "bc1kXE/VoxnkDiv20/0joVwT+o/qQAAAAENBmjBJ4QpSZTBREsN//qeEAFj94Sx16KuJANjBI5iz\n",
       "qCt3rlTjVyzhjLfHVKP3fZyOif4V2+e9DClpK5wvs9XhI6LaAAAAHAGeT2pCvwBHZCclqib/G9Zl\n",
       "0K5N3t/5YiJ5dUEAAABLQZpRSeEOiZTAhv/+p4QAK17RXqBqf7VYHrQqGlLaBQB85sADa2Yb/TZD\n",
       "t2gq8IPTUgcAulVjgdo8hrM09vND0PBpZ8+ECYcwPJdgAAAAMkGacknhDyZTAhv//qeEABWvaK9Q\n",
       "NSngWt7OMom5n5KqMAoMQySQe9e4RqFF2XONVgegAAAAP0Gak0nhDyZTAhv//qeEAAsfuKdQFYM6\n",
       "AeZmaoACKeQ+7ZP2IzXtaopkaRT/euw2F3YLFSEenGSLZtSEpOmCzQAAAEJBmrRJ4Q8mUwId//6p\n",
       "lgACzc88hWCAQmNIMhaZwC0JiHhKscF3fgjrBoPqN+Hxk3BMiyKK8Sb0SbplFQYCzH8q+DkAAAAx\n",
       "QZrWSeEPJlMFETw7//6plgABZvgGyOR+3yCSj2L+0Fvag6ZByiQJ+7dM5+v7IMdGhwAAABsBnvVq\n",
       "Qr8AAjshOS1RJ5jVeyXE8titSyaRR5QAAABPQZr4SeEPJlMFPDv//qmWAACzfAo/vkkmkcEdye84\n",
       "9SCXmJqMo3Ot2up8BqlG1G9lT2X3XG/pd4/0brSQHGk447nMcCxpYkSPFcfCI2pG+AAAABoBnxdq\n",
       "Qr8AAR2QnJbRIsdOSyxsYlYfM1ELpQAAAENBmxpJ4Q8mUwU8O//+qZYAAFlGfrx/loTTEVrnQwhv\n",
       "c0dKUdDIn9rFhvfrEmn526JdLvcvoVBrvc2f54avxPd2e0GAAAAAHAGfOWpCvwAAjtvGUeZlrDqh\n",
       "uS3GgVHE24Jz7EAAAAA2QZs9SeEPJlMCHf/+qZYAALK1kUxrf6L+eCbJA9dQiD4CyuTiOzfzhJT0\n",
       "Rqtq6AOyHm2tK13xAAAAI0GfW0URPC//AADTKZDR3c9DEk6kMUtLaI/RhHnY6E8XnfJgAAAAGQGf\n",
       "fGpCvwABHdd9fCpIi4ctpkyNgvBHVrcAAAF3QZt/SahBaJlMFPDv/qmWAAVv5CPYeX/dIhsbDsGR\n",
       "Ml1bfA5gYYlrkaahkDBAdUid3aSi7TptlMd4qqHtHsh+h9wPBL3tDfd0lwEcRT//tVy080twTSh5\n",
       "qmpN/pd3HWjHBdX69qMwQ4UeynvIgr3tCw/0y5/jctrPTW31q7ztupYw3UltLPGDXn5/6wUjzus4\n",
       "J5Bjfkg1xzo+S38EUGnVNtJC4Hb1CL09Coe+IG7Lac1Iju5TYqiVPmlWCjkXvUmR3/B64+nk1YNB\n",
       "cIoPHJ4YxGMs+c4POVIEMK85S1tWGoExqYRvD8s5kkDFn9+EQ1g2Ivft6LJxymexrKTYBFyvP4lq\n",
       "q4N3/S1/s9Jw8tugm+oM5Y8Opu6ZFEfhiUWd8Oq9so8uNIS6dQ5DiWK97JaMCnoLl4YNIIeATslf\n",
       "RzcUo5zw/wGPzzJtf/13JoGXKj5Q4l4ysDzY9sSbD4df0vTUfp7uvgr19jGZ0PvYw//r4eqYUeNt\n",
       "ayMxAAAAIQGfnmpCvwAEV13MLVfE0c/EsJSvZTlvJQVr3DSVtOPLFQAAAdlBm4JJ4QpSZTAh3/6p\n",
       "lgALNwt8HvtjQCCFSZfDgjtJRIRC7tb/oL/HBD/CrvmW/dyIc/wW3ttz/jttKIKQxgkkZd0M6lwV\n",
       "azpt9C5MYz732r/DnlndupkSnDL5z+5qoQNvEq2H7Tt60aeUU3V3LOG3NQlGhCjhyRU03/86vXRp\n",
       "++Qq0hM7vI6oWXMjRctWtEJ47Ff4V7dm8Ivj0zxAtpe0pqii6SoqPd4AkEblyIjfxeqfmYcmxIR4\n",
       "TsCNzuQ89QaGmWTaOS3IiXqJ138lhMGoH4JKKmQRUyphDk31mAM5F/C7ofJlxYu9gv57uEgrgn9p\n",
       "90JHOgS/r0+7u24OgDWmldggPcUTYOFA+aOO2C+D5LnB8VDjrCdc+kzH8Rv2A/t926y3A8xXT1WQ\n",
       "5PfJgyyZxsHLfxCg/smT5IEEZXQDZLY8v4Edrt5bbg9fOI0oTLWjp5Bo3idtL7wcUeBtrYuGUnW1\n",
       "DHNOjPmMkj7+FCueG3fSMOtywUoQRtmjwahBKcgo4et2679Rv5khJ2bOVgivDw2Wj95S/ztGrpGw\n",
       "++doKC1tsSGpAGsVZ1qFZ4mBmBeU3lGpX9xgwv0n6rBwjgqPO1irzNx+HcWa4tt2nMrSg0Oqoe0f\n",
       "854+2wAAACNBn6BFNEwv/wANMpkNG+BOxcyg1KZ967YxDa270uXZHxDCggAAACEBn8FqQr8AIbsB\n",
       "5i+YOYF1zOEv3PZRRBaHoPOrJtX9NQkAAAHpQZvFSahBaJlMCG///qeEAFj398HvuTwBsZGjcF9T\n",
       "NRtvLiKKov5ZBVM37ZYnBXGgf/3zyRJH3tjt9iJqjz26x/UJ4WjKl9GuMMX0gLgf+V0rehYRKMKG\n",
       "zY+a4S3DEV6TPgywWwm5Kek6wexlJCNnGPkLzjewlFQPYtPW0vh69pYnimB4Cv9TBwK+6holdNwo\n",
       "nz+83EyhFWZkIEsuajhDW5acomHD9gdhBcEAeL4LYEPrsvig/TqJ0tvGQV/6XT9mHf4OrFuVqV36\n",
       "/GjInQDB6IEL+kjFZfQJ7L6gZkpZlrRajggUZa+LyXN0lBBySiY8tfAgAh+UTmchMMfa2UQd2ffi\n",
       "gaYJFE4G+xe9ywMO4fYBPBOilF09jpBkFBxA4lM4zw9KmL7ik4exvemBBN/RMtuccGhh1CHrEo5x\n",
       "HzzI7XxogKk/IPWnymCVaneDqvLVk4k6LIRQ5xMyJEL3UfHczb2COkdLufB0e9cv9mH8iHcu7Xt4\n",
       "HkXgsNP2VHN4FTbCZmG6znsyxpz7QVBxVoexJD4s7kbFIpxr32eCagvA+CqOsPqEmLps6v/HIvMT\n",
       "VG0Fs3bo1mLHfTExeSUnoVRBsYDEMq+ebz3npiiSsmQDaTO1fGIH+pa0niDT2rjF44eXgCE8cYDz\n",
       "eEPBAAAAM0Gf40URLC//AGN2Uf1cQ/ygJuNjGOuBCenNaBRMqmnnt4BPtBskhg8Undu65FGklV6k\n",
       "gAAAACEBngRqQr8AhuwHmMEKeMaHWgJ1i41aG7EyTlj/nmEYLqgAAABJQZoHSahBbJlMFEw3//6n\n",
       "hACr+hLht7wBQLMlO5L3KjwAQvVKnIuNOCp7ORMgY6sMgk2PGaZuC96GuSobhfmrs/dFmrA9vR/a\n",
       "iQAAAB4BniZqQr8Ajutz/iWTxKqq/6hJ3p1yFblp5igufMAAAABDQZooSeEKUmUwIb/+p4QAq/rG\n",
       "sABoAdfgMpVgK9nefA8avJ0d+2pgno72DvXMwXxfakfDIakvTxhNrAEogHgL9qsNqQAAADtBmkpJ\n",
       "4Q6JlMFNEw3//qeEAKwIZiwSEwHSbW3Rdn4MMJHmgISrt+FWRaRCoAcOryKUaH6xXtSl0s8WiAAA\n",
       "ACABnmlqQr8AjSqNaGwEvGiSubPPllDQQyx8JVKjMPxZJwAAAE1BmmtJ4Q8mUwIb//6nhABY/j9c\n",
       "QvGLwW8VNIpd1UGwrnRDLAGc7DWzwOMerGfFzRNOJwILpvADMb5WnLaz1DnbFV6V347EPT1vUWbL\n",
       "0QAAADxBmoxJ4Q8mUwIb//6nhAAsfMuxjibFj06sAjXCclWPz2dFlIqInkHB5QhDm9oqPQ+IGYeG\n",
       "YFy1D0IkeicAAABOQZqtSeEPJlMCG//+p4QAK17RCgGwJVLfcAibnOAdhHeUulNrfVl6F8nYqg0m\n",
       "lvlrGBlwrJ2S2TxXQitwXz5RX2Z2A/4CMn5ZhL95LwpPAAAAREGazknhDyZTAhv//qeEABY/eEse\n",
       "/8Y6AeZNW/lwH/EVxkFGFKEJWKAQTvm8U3sw9TJSVLu0DNv9Pf8MkWGejbL75R5gAAAAOkGa70nh\n",
       "DyZTAh3//qmWAAWb4BmsN1mMCNALNdQewK+sy7i80q9x7Ov7mwo4jIWTwimovee8Wn114DAAAAB8\n",
       "QZsRSeEPJlMFETw7//6plgACzfANkcedhSfp/sRSLQCt2CQsJYzZ0JZ3ztbTHLrdUWLK1c6LX226\n",
       "4P92JJYexDsSY+LaRdC0iTjk79/facSFZYRVkmIMP4eIm8od1+wXVReJ1Z+QcOsnPiswSIEs0bgk\n",
       "iuYdAuDMryUwFQAAABsBnzBqQr8ABHZCclqib/G9Zl0K5N3t/45lDjAAAAA0QZsySeEPJlMCHf/+\n",
       "qZYAAV33EmhPURERlzuLQChlJtEuACkdAG5J4Kbc8Qzqha52KBFpgAAAAGtBm1RJ4Q8mUwURPDv/\n",
       "/qmWAACzfANkh6rqtQF+x0H2j5AILy2ZLAyPnPaSiCsUsBzam3jsI47WNAPmkBuLCq2x9FgDSrTQ\n",
       "Xfta5yFfBSNQ3hPKKQ2eOQMm/g4fM+20vpXrT8q3DgZogS9jwQAAABsBn3NqQr8AAR2QnJbRIsdO\n",
       "SyxsYlYfUT3iSUkAAABKQZt4SeEPJlMCHf/+qZYAAK38dbdgANnn4QYs/FMDO0/zUsr2hSI+Kg4u\n",
       "igEl4ZMPfdW1dfu61xf8RH9ANxCXYgk1b9ie4JvWpaEAAAAmQZ+WRRE8M/8AAJrcQDU6MYYwYXIL\n",
       "NW5D5q7MmD7JPrUflr2UaFgAAAAVAZ+1dEK/AACOubFCMkpyaqR7V6BOAAAAHQGft2pCvwABHddy\n",
       "o5o7LTpjwYuiM3nBtc6mn1jBAAAAUEGbukmoQWiZTBTw3/6nhAACx7++BoXxS3Jd1ecT2x2ems9E\n",
       "6aiXMKf+6SDs1rGPPliPQzXkCyjuwcZtrSzee3WUIJWcyuhzdwJhkW7OJz/hAAAAHgGf2WpCvwAC\n",
       "O67lRzR+CNGqposm2H0w16DYHt15QAAAAGpBm9tJ4QpSZTAh3/6plgACt/H1uwBVADSbA1suSgVV\n",
       "tUBlsdAPu9BkWmjjV+N93sH1RAb300nixSRgQlV5y8ghv6SbOrCSLfphYIGMaszRtyrrRQx4GQuJ\n",
       "3yVCPqJ0uNWl3yqf5hez0+5/AAABzEGb/knhDomUwIb//qeEABY9/fB77k8AbGP7iU3y9hJ7bUsi\n",
       "FPmaLXAJLuwEdy5TjGUYiQZbDS55vj1u/Y2gQ9IVFBOkaQagKnhaRVSC40Dca23Xwv3ZVi6j0LmL\n",
       "4+OQEJqoGszi548KfLLrYPfcq/vf+5moYQNoJemPmAU9hWtSHZU59kwAByWHD7L5PByOyVHVpgSD\n",
       "t+5aSFRB+u8hEcQjDvzWs8tbyOsGGa86wSQZ2uc4Lbo2qSJQLtPw2Gc/eLhwhbXIGOwhvHh20VVH\n",
       "UbsrubE6oeguHmBPIXLJUjncUbbn/Ikj7+fi+UHamV7+4ApgNppUwURXfumeQkKgOqV5MQ9mUgzX\n",
       "usFq3k9G4qyRMLEhLVp53yC12pXn4ffPWNrDjW+HlDuqA3vA1CLp8iHbhMnPHpAV3oh/g0kMBgF0\n",
       "6bAl1HqNSCxsTAWl0I8UeJJ84uhtSHLK6k8Q+weMFe/Upmzg2+S5h7hqXbWvhK5gzfh8XJNrqIM6\n",
       "LR2N2E2MxO5PNEf8+j/aBKRtxNY5ofOoXJ9v+cshPBUBN2CrNGR7hwnTHipDxaR+ls/B0JsuAYFS\n",
       "Ja9qTGd//n9yfIZFyi1Hgn1XcQnwxsBhO2AAAAAhQZ4cRRE8L/8ADTKZDRvgTsXMoNSmJg8eA/uf\n",
       "BU0MSXbRAAAAHwGePWpCvwAR3XcqMaacfLu2Iq94DaSkkKoTiwoCqRsAAABIQZo/SahBaJlMCHf/\n",
       "/qmWABZPj3By+oByNbx882t3aoG2WPxNLomMX0eROtdEM6Yw06Jj52NL7sYiC313uLIAERLLJt5f\n",
       "r69dAAAAQUGaQEnhClJlMCHf/qmWACuoAKI/ypMKPwesnRyyALxmAPfQg2pgEa0jt13R/kDvY+su\n",
       "9vPzNkLCio3p9w115LE5AAAAVkGaYknhDomUwU0TDv/+qZYAVyDNFpIdgmQLDwp+cRg1G7GjbnB4\n",
       "XQ/T9VP/TpcxtkIvyPwW9d6H3H4FDOn+lAGU9CY4K+8w0Gui3pI5PsbGnbK7jpLgAAAAIwGegWpC\n",
       "vwBHbUYkhoBsezHlXh7dgTFFbwP1Fq1nZoBMaJMxAAAAMUGahknhDyZTAh3//qmWAFU+AcaU63OV\n",
       "tDN5CLw3mcuq/86fm2CklBkc0laSJzNGhWEAAAAiQZ6kRRE8M/8ATLN+etHA1piWxKvwUgTzZAoV\n",
       "nojQ4SeDZgAAABkBnsN0Qr8Ajrm5sDens45n+VdKmu6d6NHzAAAAGwGexWpCvwCO66Th+aJlnJ9j\n",
       "PUqHWHT39/2VMQAAAD9BmslJqEFomUwIb//+p4QAWP4+ghulli/RPv8Vfdny0pMqa3XcFpzQZ6cu\n",
       "HIrL3f/BrmIEABsrKFhM522SUGAAAAAlQZ7nRREsL/8AaaIvJLuA2DJl3FGNCfYB9RX9brOEAsaW\n",
       "mIXnrQAAACgBnwhqQr8AjuwAwQsOK0mAEYHwnE+gTeCBNms+cFDJxbDbwqAPeQRMAAAAQUGbCkmo\n",
       "QWyZTAhv//6nhAAWP3hLHv/GPbGn3Lr99AosmS3vG8ECCr1tzqw7Z3b4OPl9JL5eHbeQ8hmliOyA\n",
       "EaxhAAAASEGbK0nhClJlMCG//qeEAAsfvCWPf+MdAPOXXlzgvPuEFFMt6BjngG5wcf6kIfWuiIsf\n",
       "vHxZtKF7QYExha6NiYUYIKKmg+r8kQAAAENBm0xJ4Q6JlMCG//6nhAAFj94C4HlO35IkngMjEJd1\n",
       "zpa29LyVw0FyuaH142LfXk5nSvHwpfNht59d/3HIQWSE9LzHAAAAP0GbbUnhDyZTAh3//qmWAAFm\n",
       "554wR7xMBX0fu4ChAr7X97ki7fPsj9eSAbcdFpH8qCAGFa/qkvu8OpFlg+YoiwAAAFpBm45J4Q8m\n",
       "UwId//6plgABXfcSZUOn0xt1cn6qNoAhuNfl1mRVFC/AD6HNvi7v6Rb0fRmkGIOvRQt+N1YmUHxI\n",
       "AEinP7CmohXkhuKC/a6PNCwALbJymkXtysAAAABhQZuwSeEPJlMFETw7//6plgAAs3wBkpW5s7BE\n",
       "j4EpoAuJQlxwzn0JDEWL0WiokaKQeEwwdsLk/aNPmXB91e1fR/UshhY7NfOSlnPEkPpvi0RZfGnk\n",
       "AEvkOJP1vJILwLEngAAAABoBn89qQr8AAR2QnJaoaDAxhKs9SPQyK+jomQAAADtBm9RJ4Q8mUwId\n",
       "//6plgAArfxyivj11sGwdmgAabyH3i1DIZZpPMic3JCuxadS0VJ2vn1XXsik3ExmmAAAACBBn/JF\n",
       "ETwz/wAAltxAP470X5NS64Xzzs5i3+wV5er2lAAAABUBnhF0Qr8AAI65sUIyKtKxUOOlTwkAAAAe\n",
       "AZ4TakK/AAEV13MLVdx2i1aKt+oRLHIdcyMnG2ThAAAAUkGaFkmoQWiZTBTw7/6plgABW/kK4RaC\n",
       "UB+H5v/Z45tMU03JgTW7uBvP4q0Sv+23O0G6bGTJYRyqLzQORQ7YGyOyqw2+yS5fGoqY0/68ACtB\n",
       "wA0AAAAcAZ41akK/AAIrruYWkzgbLcfIoPL90UeaO+ljwAAAAeBBmjhJ4QpSZTBSw7/+qZYABXf6\n",
       "2EReSGpkuYnc0oKqMW2bckyoMonpfDKtnlMhZqqpCHtD8/Su5R4MWwANFOlzF9VeVCMAjaguNNis\n",
       "d3P+bLyXT0cxVzC5hAZ1ellSZGFCWvEXu5aUYU9xCS1+h7lO4jhzpV9DZy+4W8j/S6+7dZJ8hrl5\n",
       "890pP312w1z3HftBoZwQEAoZJXHTCD2sEp08Qom2o2L1owFvLkEHFRiwfx2IbxHam5MTxG5m9Gp/\n",
       "SEnGU82mvQnMe0ZAk6+124M/CoYRpbWQsq6Iuhx1FzkeRqHf09duUT8RySKIl/D0kYR/TIhcnwgB\n",
       "LsZKiukO3HgQeg5go1K0Fe47BbeRkOeg9iFlMRHM7qJK+D/Nv7XQIuaMaGVmk2jHZazzq+urfUoI\n",
       "vnjzy+n7BKeKGQhbf0tNm8Df9xKXkgXGVNyJTN4U4UVGKTvBZ89uFKg+lf9INSpOOaRPoNXwl0k9\n",
       "jFUueU9oL8OK3akJfbOr0ZfBk7uLfFcEMaqMmZES4tezrajRYZqE2zMXil2CVJN7kB0/cOBD4/WN\n",
       "Bk3H84ws3Zs4S+EpGVv/OKJR+UN5x/+O1dz4Qq+X2F7qp1lQZ1fwULORJn93EePBuhnYMKZqe6I0\n",
       "D4x/VzAAAAAhAZ5XakK/AAhuwHmLmYHlwJ0Ia92u2OLHnU2RS+yE8d+BAAAB1kGaWknhDomUwUTD\n",
       "f/6nhAArGr0CcV5s2X8HvwaviRo3BfKwIZHTeJG2l85NcoVXbXxOCuKIVfFVvSFQ7XZ3f/8mNNb9\n",
       "4WnCf4tGVL6NsHgZUgW2AAuQGUcygH+DHh/X1I9lfBq9JvLZKPEWrL910mqTKymM22oShqN7CUVr\n",
       "9i09bZWQhaq5YeYHgMmy6HAp7qGibhNKJuvhNxzfhKse+/HcBJO6ayf47O8zBDe4ewgtRXDEj9Zr\n",
       "/oZvihAIqI9FTkGAYa2J7repLox5udQe6My/IiKRnzVm9/4HA8IbAst+cf/Y+rQLrWqnZ+L/1H5W\n",
       "MdEeynWBDvhUgnNANWCU82dROyGfSwJxAZu6fUEDvtlmdF8Wa6SshjzAOqYJpoovxrzKvbb4c2FD\n",
       "7FpUsR98OZlzgOhJxSKSmKd2bPsHRmT7irYpiKSftkDnusn3WjN0UxDl/PqXe4nuRiv+RPOpANc5\n",
       "ytx55Q4eK/f4fH1d9nC5PG+g4Srmbl5MhUmyPUIVmXu81ken+FZK65aw2D0dYUXhLZ9h/9Yo7e/f\n",
       "GswdNod+IYiCP75rpRn+r33zr+0NMzdL7ZaB3TU53idCky2JyE/dnYbIMXVfRFo6qszS8mp+0SJU\n",
       "rI9mAAAAJwGeeWpCvwAR3XcqMaacfLu2PDr9zzR0vVOUiTKsURjd8RSFajeqMAAAADxBmntJ4Q8m\n",
       "UwId//6plgAWT49wcvp2sATVyAKOUR1SE0QSYJfYZ4578uV70VRVd4iHlaQeHjtCe/+/QqEAAABa\n",
       "QZqdSeEPJlMFETw7//6plgAsnyE9YtABTPIroYN8kCOQZoccWi8QmLp1N4Z3vNIhtL1fQqil04vt\n",
       "9TUg6juEBwQ+YjC0NFTetWzu3laIqJ28USGx42/BpdzAAAAAHQGevGpCvwBHdd9i+qTGfKwXR5bJ\n",
       "B4pYbWJBvumBAAAAW0GaoUnhDyZTAhv//qeEAKz/IwiXz8jorymc6Ft6/vdBD8KWc62fQ9OAndct\n",
       "BHg/zlwgRzpza1dQICo2ptlmVRvsZJ/aA9kBR80Jmkm6OuBsYlQsCWqNbicvKKMAAAApQZ7fRRE8\n",
       "M/8ATLN+eb4qKzwna6nbmnzWHphOngPeXL7oQAMAQyxd26YAAAAkAZ7+dEK/AI652nKqRoTsJZp2\n",
       "KVeAHIv8Ln6AAJxcCbb0lYsLAAAAGQGe4GpCvwCO678OORQEFjuxvzUVlPNWQsoAAABIQZriSahB\n",
       "aJlMCG///qeEAFijfszWAD3XomRpnV/L/Wl837sOZCbkj1OYvnli76j+iUHFWRGXPty348B/lftD\n",
       "e5JIOAJBMCN/AAAAbUGbA0nhClJlMCG//qeEAFj+Po6K1OtbtarADvVmISuYCVSSETPj/DwiIBT7\n",
       "mN/Zu0KWzBQqAllWPwlO9KHYvhLhlurFoeRZtmU4t0ondOovSVKMsq7Qjk0tVufuwFRsiwoW0IZm\n",
       "J6GscDr6NYMAAABIQZskSeEOiZTAhv/+p4QAVATlDeKd+E8oGwlMACqJ8iNDqj/S8kCAmWF0v0aM\n",
       "aPOC/lBsLhpbSoyU+xZbGlxnylGwwk9c2HT/AAAAS0GbRUnhDyZTAhv//qeEACsegzTV1T17vvqq\n",
       "kfY38fEMSq/jEAIi0c6jfqjmg96C1g792fRv+bjdwuwXjof+cgK3jJRzG1yjk5O9qwAAADVBm2ZJ\n",
       "4Q8mUwIb//6nhAAWP3hM2NgA7Pd+K84UimDA1SAknXbgDTieincoZdjBlpeQID+QcQAAAExBm4dJ\n",
       "4Q8mUwId//6plgAFm+Aa8KPVeF+KUw2XEyf6AEj3kDIAD1rgj3psU/vMfuZmTtxwJljnhU0zmrfq\n",
       "bT85M8TRBhf4R5J1VRyGAAAAW0GbqUnhDyZTBRE8O//+qZYAAs3wDZHHnU4N3VIG1CliF1t5q9LH\n",
       "zongwcjJUQqbpxfQ/bSwOO6bbeOX522elrLJseIyPbyjlk4/fLIETXfL+MqdvK37geVrX5EAAAAd\n",
       "AZ/IakK/AAR2QnI/Fu+SDQlnrBRa+BnOPl3lYkAAAAB8QZvKSeEPJlMCHf/+qZYAAV33EmhPUQsb\n",
       "cBwFTose/xCqnWNa+acCnp6dDv4bqkXGv7/l47o1urJoSAxJdnEr650WqBr5RCqfVYrXC5gnmo6x\n",
       "F2XY2JBCJZoUzJ/6xKmOl8RzImU5p6uMB9WXP8HeQ8UZyNwSuzJBl5QxmQAAAE5Bm+xJ4Q8mUwUR\n",
       "PDv//qmWAACzfANkcedgHsCfGARfuf4IPPgRuJ+m6KobGgps0L+ipF7W7ijlwUFLRmXvIgvVb5W8\n",
       "O/KueICz9hMnnxUAAAAcAZ4LakK/AAEdkJyWqGgwMYSrPUja63LgkXbFIQAAAGJBmhBJ4Q8mUwId\n",
       "//6plgAArv9bD5jIkzQHxOgvCQq2V0bRwZfDNrgZkP+XC3RWtCn8j7/DbRWpbd2tojsCDwhfu/Gx\n",
       "BSTaJ2yerS33d4uwD7KShTHbKlf9NoQ8E3lzyhtD4wAAACVBni5FETwz/wAATXB0vq7O13r/oxbj\n",
       "J57Lnu6su460nEsbTBdsAAAAFQGeTXRCvwAAjrmxQjJKcmqke1egTgAAABkBnk9qQr8AAI8GT7db\n",
       "6je7sdhtTFz4EcThAAAASEGaUkmoQWiZTBTw7/6plgABZv7pEHOdknfqj2KY+h7r95b8QHKTjl78\n",
       "0ymWi257VJWuohAzKqzFkXOp3uNtosXjWaQ8JC7eYAAAADIBnnFqQr8AAiuu5haTOBstx8ig8v2g\n",
       "aAjE1LgjUxBU+HfFCdG9UrCC5o3A7Uic/ek2VgAAAexBmnVJ4QpSZTAh3/6plgAK76PBJvfr6VKb\n",
       "ZaFwZmVuLrf4Pfb4SEKY5rjgXxrZnST2uA0mfVqnkyul4GG8PbG8ANxghgnXMj2+Mqx9jSFzi3wS\n",
       "Cw5kaI4XDQpzIum0PzccbtiNvobUcZOH4ROS4U09CvJ92/la5vsRaY96BSQmTbnxbK3BmjVfi+8z\n",
       "vEnwYjWdCA05h7GMpv34dLYyvd4N63MElWmIjpJ58haPI0h0EIj8GLzwRx1Pz1mQICI2vhMGjR79\n",
       "k8HzgxKZenowEq8cp1HjMtoQbNITrKcqI5fZJ+8GzxOoC9aRvyf5cR3A1Yt1z++zYS2YZuU8gunj\n",
       "5DMp7BQj9M/vBwjD9HNWII8DWea4BPi3Fyf+9ruHU2mDvdlCNxM7oSavA60gq/1MZqqxLKlAGoCQ\n",
       "/Go2UjiLomFZ7JIyb2DX78rG3t+IhQGkVvBqKWr0AiVkUZJxhFxyG8rOyiww+yk5kpAA+0xez0vL\n",
       "mpjmIqmAdzLcszZOmPqpKHX50BKT6bjMpTTvznCppnDq+lfeiAB2fLNNbztSPOpIoA9kXowtaV9h\n",
       "qoF1bkWsRbGxyGlhq0iQsmgFW53O20ss5lIa3rrxE7kQQe5CZddQYSACTm5YcQl+ewALJciUTJ7l\n",
       "16orDqz9W9C4P8EAAAAiQZ6TRTRML/8ABplMho7s2+WWBBejFASxuZFQufbdKcmVSQAAAB0BnrRq\n",
       "Qr8ACO67lRjTTj5tViPsWwa/Ee6YgHPNNwAAAgBBmrlJqEFomUwId//+qZYAVT3EqS2J+BocAFJu\n",
       "gFqUTQ+BTWQ5IUgg2/3THN23+ajp7DJkIsoWtHABlDnYIPOUbhGrhdxsVgEr7BXTvQwcijbHO3UX\n",
       "xdZ+4zZ4d/S6q8kNkLHu1O5tc2MgOFX6icAQp/p3o3x7I9irturxSs8ujYX1mgu/KJfDXMTYcokn\n",
       "2RnmAhg7BhTOowBiF0k+DFUPR2H3E25JerqB7nrRmkX9XUCtx5WCAm7MtL/gVYoP0NWIg5R5p6D7\n",
       "iuKwGk2fxp5Ewll7FTWLc8TYq8H8h88iu49G9gwYifVBdrrKx4xNqsyIznjQmB9nEfjCZB39xMWE\n",
       "XhuJ3X5ssxOk0xUNkLL1y2zMsGabwYGATp7jHTVDj/oJ9Gr9b2HLY660pJcqZmCXj/8Az05dr90q\n",
       "T3QPCI9uOW+3njPIZ0bN0/XhBWZgwahDB4NHaD1uf5xX/sgAagdOUl6wEePpVzJrAP43phFYEYGs\n",
       "eLVUEvfFmjyM/+yd6YKWzbXpvgYhlq/r73+kiXpwQWE+nOj69BtAtceySzqijaGE2JaZdpX4jBOA\n",
       "MR9M6G/5qxuETQIDqDF5L6uo9FiSHQ9PO++z5YAOMSh5tz8xkbAA5YPCI+foVulje4XbCUGhKzCN\n",
       "6im231yf6hLVkt+9Z2A8x2aZYxD9jB0txUI3dAAAACZBntdFESwz/wAmtxANTIauZ7zBg0upDDIU\n",
       "CDisPOR3Dcw+AKgTQgAAAC8BnvZ0Qr8AI74MaABFBJ70RVUMCgxBTEJwTkP0e64g8YFzpIIdszXO\n",
       "t3lNO6CcpwAAACABnvhqQr8AR3XX8qE3P3edBnOkVrLZaUFgeGTZU0YIIAAAAEVBmv1JqEFsmUwI\n",
       "b//+p4QArAg8IcGXIoIAZKk/kj/C2Nawqd8wUQmjQQoQc9DwdCIW2yIgUdDXkdW4ZhxYkkOSqKhH\n",
       "JkAAAAAoQZ8bRRUsM/8ATLN+ebvOKzwnFKnbpFoAuTm98gUgXnZxomUsDKsggQAAABsBnzp0Qr8A\n",
       "jrnacqbv68vRmTbwBH3s6UFyseAAAAAYAZ88akK/AI7ruVHMuVg/ZITNwmBY49/zAAAAR0GbP0mo\n",
       "QWyZTBRMN//+p4QAWPmXYDA8j0+LlInHQKzmerHH5kVrK8bmBjkxttGnEbHTAp+OGB6Nt13dPlKR\n",
       "nosQ+ovEg/0nAAAAIAGfXmpCvwCPBmWdDFtIovOg9iMv4qbbZHBNDpWRqqfAAAAASUGbQEnhClJl\n",
       "MCG//qeEAFY8+2tMdxB+4mNi5U0OYuImThtIeACA/PVELwxylRG6cEsGw9CodhNcIzkCrhT20Wd6\n",
       "b0Hd42aMdzEAAAA9QZthSeEOiZTAhv/+p4QALH7wlj3/jHQB3PQDQBKN8gt/hiTAaaLxgruCnG4q\n",
       "Xvk+pZKreIiMgk9uXcnWOAAAAEFBm4JJ4Q8mUwIb//6nhAAWP3hLHv/GOgHmZlcgB/3/T9Q1bAGU\n",
       "ufR94Zt4OOJPj6sWqrqOJMRexSpHFTuE7YteOQAAAEdBm6NJ4Q8mUwIb//6nhAALH7wlKO1v19KR\n",
       "/HV0WApidAPOX3/eDkLG1fesI+A5q2SKfgcKgvoG1L43qqCszFZcmDNBypKpzwAAAGRBm8RJ4Q8m\n",
       "UwIb//6nhAAFj94GSWpxyQWjgd4Soaobv7pIG6N66Yabib+0TYwmvFclu5UwDn5Qz6vIfdxOp857\n",
       "wTO3zvV17B13dUUviUjYfl0RqT2BVuGVxf0siVx1tOnH/q+bAAAAU0Gb5UnhDyZTAh3//qmWAAK7\n",
       "7iTQnqP8YAG438CtEMKUMRXqDHu9ZnE/4xzH57JfqQnZO/tIc3ff0vHera16ipfHIv9PKvpxfLSh\n",
       "j/4QMyCWJvh4AAAAWUGaBknhDyZTAh3//qmWAAFd9xJoaN+0Qsbb2gTDR6HSoH6yUjRcNaW6eW78\n",
       "MvjWett9DT1VRfmpSt3skSu47/7cjM0H9WI4OBvh1kKfpNZisYVr0cyKa31hAAAAP0GaKknhDyZT\n",
       "Ah3//qmWAACze8t8/8vjPwSH3J8+mgocr1LrjPAxpZEuVwEHpKmIA41MSzoGwRKqMrG6IgqPwwAA\n",
       "ACFBnkhFETwz/wAAmsVPpBPTDUIOAT5IWt1R0CBo8TTtR3EAAAAaAZ5ndEK/AAEdc8qK2jwINBcO\n",
       "qKTevF94t5MAAAAVAZ5pakK/AACOyE5LSc0Sk7ZjA4nBAAAAm0GabkmoQWiZTAh3//6plgABZuee\n",
       "QrBECI8ywAIg95E81Day5BRay8eN2hFmpnNlABpJUvSoBKzC0q6c8uI6JXiJHlhOpTfuKEYk/D9W\n",
       "4KItM5nQNQesgd7VSW32Gl2TjpysXT7gVhfWCXmjjomIo0WN/SwiGN5JkuCAjU5sE+HKU8G8fPVe\n",
       "cPyPa+dMpI9aBYau1znUryuoILWBAAAAJkGejEURLDP/AAEtuIB/HVDZbtPOwdgZ3rhXaTXOvAMn\n",
       "WtqqonpPAAAAIAGeq3RCvwABBXRNr/02YF5vbFPebdX4MENCA7Eqs+W5AAAAHwGerWpCvwACK67m\n",
       "FqvboqiQGZoSMYJ7l/uPGVu4gYIAAAA2QZqvSahBbJlMCHf//qmWAAKlvoobx2Qj09zmKuSijHHt\n",
       "c1pW7AVKnyzhn+ZIIVd2FW6vh/YwAAACAUGa0UnhClJlMFFSw7/+qZYABZuFvgk19wDSzErbmZA9\n",
       "SqbtCtOdI0+xfzVyzmk+NKSA5PYEceBooibWCZEbm8pF5C/6Nk70d+PmfBehYHafWPiFyBUwbFbo\n",
       "2qnTphfp5j575EJ9CqjdicjdykfZN3FFPgIjtPLvLU7s/wcDWLnKAOULyE9o2aNfHJbmH0q38Spm\n",
       "YSVkCeIvA8774IBqia59xD6IRlX90App/EeQzUWgIWGja8DbwjasL1g0j/3W3gIdwf3CDQbCa43G\n",
       "a134S0ZF9gX5WWf9L2Y+K0zgQkOrf8sZFaxgRecQXahhbdovWPLevcfQgTgVQ6DnAzX2/AtGm2/4\n",
       "V1SHhm6+7q7MAF+/Cbfl5xc7vCF9lHvaTkw7hN0wwucEtB/jkL0GrGm7e7PhqNr92VQ3L62/3h7x\n",
       "Q36KOHkFRA/VZxNMnYoBL++aReh3mdQdWXXJTlr4c2quqhocAn5i/apw1aCCsniKFCqAcNW2pJIs\n",
       "PQ2+ejN+V45RTpHRO3qQY38Znqbda0CTnCaqWtTnRWHwshcRqdm11C0ejeI1Bwz4NlpD3Ix+SsrG\n",
       "zcSUeRIkoDXtLMJOsEOGEjn4l49Ij+kSjxMB8lj8ia0PwEqeNPLSWGIrjCRXFM5tn+xjTtAG7OJw\n",
       "iNL+3DqF6GnbzayrPlrIWtKVDXGA7RVfgQAAACQBnvBqQr8ACO67lQ0MgJv40+YgYFlhhK9J5G/y\n",
       "VHPB5N3X95QAAAIHQZr0SeEOiZTAh3/+qZYAK3voeS9XIlbmOBWzl1YF71g8KXpOE6LX6CvvRvxh\n",
       "4wW5L6511uLHVk+9i+o+lPetCTsvpy5bzYcsf4VX29OZmlw03qcKxG22xMW0OIOiu7sU350Y4vEl\n",
       "0rw2kvwoHkSyN8nrBM8B7Yr9VCt7lQJOrGB2UnjuLnv1PzMO2mBK26YrxkSuvtZQfBR4Bfz3KCAF\n",
       "prBmE/KPfWVl/pwwq02hGSgcbl+Cn+qOThLNC6oalPE7zrW6Op/vEEzv/riYXSYRUScaUwH2dXYv\n",
       "TYfjpU4eEvGDh82nbaB7fuezKUWDpgUG5uw3DIGVnqAoi3gcq2JsNBneP8lywHXZJt33THbYsWas\n",
       "3By7WRalXzjQblbL2D/6AP8eQ2HIXcc5sVuwjaBoOuKTNxroiwtiJMXxP2RZX83TmI1kKttFdOfv\n",
       "FI6sQPMx33G18bpslA2uoTv7yv3IXxvURJ5lHmAyqqDatZMuwbzpKPHAhpdeZm8ejC+ktJoVIjYX\n",
       "ScVrMni2bzUe80Fj9S4NraMKLR2igQu7pBX22kLbxtx8G0y6lV5Ch7+bU7r7w4pk5NLNer2Trcag\n",
       "XwHlUTeG5Tf1I7ElJIl6yluOs6x4Q0hN++awwHivKaZ0nKPRlDgnfZyoe/us6Sf8T3shfaxpZoIh\n",
       "Ac3hbvzH6dInV2Hk+fAIHVxYAAAALEGfEkUVPC//ABplMho3wLMLCQFoLOgN42kT2JA93zU1VqpJ\n",
       "c3fPojxMHlwJAAAAJAGfM2pCvwBDdgPMXMsL0B1Z00iVQwj5YV9pAHLialLS0nOWUQAAAE9BmzhJ\n",
       "qEFomUwIb//+p4QAq/oqMhwNfvNC+SRWvE18T/daR5TFpha1rGdwur9S6ed+4aMh9j7qee2i79/T\n",
       "HepJ56PrOifG3eVbwcuJAlTBAAAAJkGfVkURLDP/AEyzfnpq7+05+xUquppkqMAuUfuGZ43Kw1aA\n",
       "jHdAAAAAHwGfdXRCvwCOuhfURlnaiNjxtWW9fB/DcNotNzjOUoIAAAAbAZ93akK/AI7rvp6qMnoO\n",
       "T5OAt5b+WPwOsnVBAAAAYUGbekmoQWyZTBRMN//+p4QAq/oWnKn5FBL87BmADkKJfrYCxDvlG1jl\n",
       "xsob1TEG1fi64gUFbDiRs5MWxIDD1elxG7lM60oY161kPAGOdNQ6oANdx7vFefw1FdQSc6Jjo1YA\n",
       "AAAfAZ+ZakK/AI8GTKqyWZhZGFrsf1IyQS/sjoqA3jZqwAAAADtBm5tJ4QpSZTAhv/6nhABY+Zdg\n",
       "L9z8ACoAXTtuSYCGxsLVYJZe5j5aZ8nGRjMXsmhfZEskl70hg1PTQQAAAEVBm7xJ4Q6JlMCG//6n\n",
       "hABWvaK+E89kLcVc1glToraOM6/y1mqs0fseLFLWC7abzw1mcUovjnE2eFZlxdsVqnCUWP+IJIAA\n",
       "AABFQZvdSeEPJlMCHf/+qZYAFm95bSxWr8caVKSE7EtjoPdvvN9xQ+g3PY/kOQ7umedNRQ/kRZee\n",
       "72QmNZUsP0mtBehAVO9BAAAAU0Gb4EnhDyZTAhv//qeEABY/eEsfA2VWavz1wMgBAIMSmgAgO4cJ\n",
       "8ykUZsUNhZWvY9PuWHjPPtZTxFInQCtrnqZYWzzVWBAeQdgwUjYpdRa4b1IrAAAAIkGeHkURPC//\n",
       "AA0wX+vVD6U6b889O+Hlp96OJBLIGtYbcLAAAAAeAZ4/akK/AAjshOR+Ld+5ue6u5YbIhNolI0BT\n",
       "vnFhAAAAQkGaIUmoQWiZTAhv//6nhAAFa9or4Tz2P/PoEPYVPnGdEpz7VHXLcBGZi/0FtjkKeoDa\n",
       "35omrAcPaWOB9g/BX/5QJgAAAEpBmkJJ4QpSZTAhv/6nhAACte0VgfWKlsLg5EBF751DdCb/z34E\n",
       "rlcIkP4DLaJIpjuSPZv21+RmGspC0As97dUyLaPVjr2SwyIU/QAAAEpBmmNJ4Q6JlMCHf/6plgAA\n",
       "s3PPGm2vUMNegCG4zjSQqCSgypoqEbGQqIWSdXKKUDc8Qk6udRYsdvfdI/G2XM6Top5IP4wLwhcY\n",
       "YQAAAEFBmoRJ4Q8mUwId//6plgAArvuJNCeoiatDDzQABFK2708QCWok3R61Q2nZ6ELvv7bO/dyG\n",
       "mbCDhX9ZYEwg5Ed57AAAAFJBmqhJ4Q8mUwId//6plgAArv9bCk0mtjR2DKnSrQVNF091947davti\n",
       "Pv8BUU57M3Fk0Hbsn6hb5S4aGdqazvkrEbwCcm37PVMWw+OWyuAyP3HWAAAAHUGexkURPDP/AABN\n",
       "cHs2rpVZA84xe5cJrjyK8ao5AAAAFQGe5XRCvwAAjrmxQjJKcmqke1egTgAAABoBnudqQr8AAI70\n",
       "/C3tKswo9lkVrIxhS0weSQAAAFtBmupJqEFomUwU8O/+qZYAAVv5CetgCqAGkRaydgxOg/gzIB7S\n",
       "9BN6SWkPX4bc5u1e17DmpgNJVVe+2hRhdWSZpsNStOfs2njEjmctezOXAk08sFvuFY1l5BaAAAAA\n",
       "HQGfCWpCvwACK67mFqvboqiQGZoSOFymkcDeVVh1AAAARkGbC0nhClJlMCHf/qmWAAFk+PcEWU4O\n",
       "ABpJcYTL8rJ26WwlUi5XYW4It/A6F7pWtxjQxpHsyTgP7RKEgBtHkxQ+wN9rsckAAAIZQZsuSeEO\n",
       "iZTAh3/+qZYACycYJAZvw0iWidybWNDmo2hR6OeaoemSXEegaRSODuhj7M/+59r5e084n3O/8Jfi\n",
       "L8YfjClJrZolvVqNUvSkIKbLnOieP9nX75ae9g7PkMED7Vr4zJTrlx6f+vIL6Kt0M3Gv5nqS6Vzp\n",
       "l12oMo7DhIvxi+Q1ZKsa2KZ8IWYpGyveYekWWzybDFCE8TYV6GeCmoS645MQnC2Lb14oJxYwNXBE\n",
       "vIp4HQ5R7p735XbHmla1csUGLG2wCLLZTwCfqtcQNAqXgdUSC5WNrWd8k4riarYlYu1GJR8QhJft\n",
       "lpGLUVTTf3t2x4Fd5Ug96c0KsyDyaGhk0miWfGAVZDJOD0024aU+l3Jr7e7T4bY6U3Xd3M5RqMGM\n",
       "xNgPflo6Jsz1AQ3q359BU9wk/LW15odcvWmovpGgB9zBjiEbvceoh/L/tvcGugBJehG3yshir9US\n",
       "r1jSs9cKTkQgtDDRKlYG8aGKBkrl6TnbwoBT6+EWWNxVL5rYlmMFvrjVEL33DPbPm3tkCDG8egOI\n",
       "l70YbedIih55vWOGjTNJcWjW4TJLAxKZP8Xj3HdYS+D9nAND1TUKyXdQaqN6eauEPgiSSBph2E2H\n",
       "+hFQtCUaS+yTo/4TEjUCwmWhWtSOpL+UHmGKyd6p8qeIiPN+oaATuoJ81Fe3SBHprNiYqNTu1W41\n",
       "FYNYTEL7AnnzeIgWD8PROhU/AAAANEGfTEURPC//AA0ymQ0d2bfLLAgvV/r0csDg5ase2SNg13C4\n",
       "i0Kg+uelvpHL72kbFJJglSEAAAAgAZ9takK/ABHddyo5YX+x3v5P9Jnm4V6wb29Q98sAIdsAAAHw\n",
       "QZtxSahBaJlMCHf//qmWACzcLfAznwBrELZvZlIL41szpc6VHo55qh53qMPCDDxKcYO6ITFgRsJV\n",
       "Sw5DPvBlgYhDVUV123h4QoBi4Roz0UX9NpcRPQG6TrmPdZHEuaZ4A5P8Z2OPGJdBz7ns6J9fVQAD\n",
       "A39HC5SdJmCFrB7IdmgTO1MQGVVbzk2e27hfswBzXliHtmsVInW0+IkW6o+Uw/PqJ00cgB6hwFXf\n",
       "Zv4kMtKtEy2T//6Xd0TtEF76H+FQAzzqcCh0v7+SimBV0p0tcIBZkuXt9Bfu/CVRODvxkSlcXfXc\n",
       "MmlRUQkHqnjB2K/+3UQxtjo/XR9uVvuJ6DYB4gn2uXyD2sjQg3qwnoHgxRXXc/O1PNjqs4OZpmSY\n",
       "FtppPyNoCpCdv0GSIwQ2Jg/33N1OCvCAl7qWyXf/BoD0XdC9EVWbIK1RgIflo5+eEvTGmNIMCPlZ\n",
       "vdJDnfclnehOujX2/8Me0ZicKsTUvpu9yhuGqmIG7gq8dz/AbsBdVrs4WNAcI0Q5+sJujeJcXUZ1\n",
       "iNpO316zCYD4TsPtwoXZHy1yyvTAe5S8cyB39RsVGBvWpjvkX6GA9KJmiz5+dd3KUnu0Kj284LxH\n",
       "ePzwy6CpMIKfU9aSIrYlJT8jO2YPBKCsrePbokQ8QnGj+3H0vxLpgAAAAClBn49FESwv/wBodzr1\n",
       "EtnL94IIqO0etpdsuWS1/KdH4P9+/SYbgxyFNwAAACMBn7BqQr8Ajuv4h/AD0E2Ltgk1MKF4sD8K\n",
       "Lx4VScuSKXKZGwAAAE5Bm7VJqEFsmUwIb//+p4QAq+qAJMrrhrZE2o0DNgwFITum1O/cWVH4eTBt\n",
       "u/WZWDDpb+rWCp4R/W8tGPUblYZxuRax53UB9Zqnh9ctCsAAAAAqQZ/TRRUsM/8ATXXZFkUEBhxC\n",
       "EBb8Z67VJuMKAYJixr4nkHFpCUlM+VAxAAAAIwGf8nRCvwCOudpyoy+R0duSIuNQdvcoRY8yW1YA\n",
       "p3p0cAFBAAAAHQGf9GpCvwCO678DafBK2O6ZUrbZljlpeav7tYu5AAAAQEGb9kmoQWyZTAhv//6n\n",
       "hACsCGWn5FBQJyiLvQJSr94srwMZ/Au/x9mZ/ke7aBbuD8mao7L5wvjuAd7XXnNmYkYAAABAQZoX\n",
       "SeEKUmUwIb/+p4QAWPmXYC/bPDyjABWAKtv33YI79fZVEG2x9pcP39ckHyVi34ux/hn7jBv9U41J\n",
       "EX4YMAAAADNBmjhJ4Q6JlMCG//6nhABWvaK+E89kLb2xnj5rpn2bdKEeUQDkY/iSVT9qx2gKBYrf\n",
       "hC0AAAA8QZpZSeEPJlMCHf/+qZYAFm+AatRmN4X4pTJQZgTWOg94OYLpzcQO4A2raBQwT/ZpVZVM\n",
       "BPfq4exeF/fIAAAAZ0GafEnhDyZTAhv//qeEABY/eEsfA2VWavz1wMgMgCUiOc042VpbRMulzmU8\n",
       "5eavMgyhUa+0Ytkr96nfqTeLDElDFVDlYNMTzd9WjbkTfoQunLY3ejVFqVyjaVd1AP43aoDRJNN6\n",
       "viAAAAAgQZ6aRRE8L/8ADTBf69UPpTpxwVbBoRfNSQ3qPSLtuNsAAAAdAZ67akK/AAjsgCu+3IZh\n",
       "KRp4FZeen1Uj3WDCFcUAAABLQZq9SahBaJlMCHf//qmWAAK77iTQnqIWOUDk/Y+ejJwYLs+YFCxG\n",
       "Qdg4WNcTW6jFvEQFzEQCBRibvP+kJ6fjDymwFHbPuJYduBBvAAAAN0Ga3knhClJlMCH//qmWAAFm\n",
       "555Yd2NPGATXtXoHGAHDRg1na87sXkhwJn+qXYjDGJr3Qekun0EAAAAzQZriSeEOiZTAh3/+qZYA\n",
       "ALN8Cv7JJM37gkUYOMetvuKgqTL8S8KjIkQ1HHbuuJQVgRwjAAAAHUGfAEURPDP/AACaxU+jzYiC\n",
       "GqHVf/jRcKftA4kxAAAAGgGfP3RCvwABHXNyaC1kwvotpntJKZdUIdm4AAAAHQGfIWpCvwAAjtuj\n",
       "d6MAATIK0Jw/7o68cNNvsVDxAAAAdkGbJUmoQWiZTAh3//6plgAAsnyAz3S3/hsr2CwE6M2KRxS9\n",
       "cqzMjOFjcOpm25DGP7GvRmvEFKeflNr2gs3UuJrfikll26wn9cW5sjhdo9AuGHdXnZtfYFUYgNJn\n",
       "hQV9qx38w21gUJLj4op2r//nHE63ccUvjPEAAAAgQZ9DRREsL/8AANMpkNHKY0XhcAsaKtAxitog\n",
       "LPPs92AAAAAgAZ9kakK/AAEd13KjlhWX7pzyxF4FEXwuK8so6BMnup0AAAIZQZtoSahBbJlMCHf/\n",
       "/qmWAALNwt8EmvuAaWYlbczIHqVTdoVpzpGn2L+auWc0nxpSQHJ7AjjwNFETawTIjc3lIvIX/Rsn\n",
       "ejv10W3wX5oEouwny7T1/z0lR3Rs9FN6kCnmPuAD0YN9NrfEblaYQblI+x1V7Q40bFwEzwQAHZLv\n",
       "ye0ukDML0ur3zujUs8753687A+mZEtDK5RQVBubB/hQgTAiScwW+GmV2H2fTBfPRBpbma7IKzRZc\n",
       "hP0v58UK8oYN28Cmhc02XYFfkLtJN2ZlR5dQEKJ/8gHSRXuq50uhRDABrdbO+1yv3cR84XXdCKj3\n",
       "prbzF3rdtohtYuZEp1E6sufpAjwwLi1ua6qLb/2dK0oBeODl2axUvSnr23g7+yYFFoS76SUeiP/9\n",
       "e8PLUoT3wOXO+dQAslytDAn+uCKPOleTFMN2cx++yRsqjV7pP2uDi1WPr7zF03JZFN4cdzVyW4dR\n",
       "f+Xr2RDjJLwRgpw+fWUR1Yig2vQNA3hmi+PlXvuSj2edchSrCuP8ek8VHnX87iKdwI2rv7S0CHaU\n",
       "vYHFFDfgbZzrYPKr7noHeW/P+lO/sUa0hWAAed997Q8+yX4CsqVO1I2ozl3SmQEdkqdCAypfFLAY\n",
       "KDwVQo2TDX/gWiOcpSS//+WE8UtuFwxVQ7gsFQkLKL1ZuqyPubokPWmzRpn6nIz71YqTl77wFNPE\n",
       "PasTBU1iRYEDiwk5AAAAIkGfhkUVLC//AANMpkNHdm3yyjYvOZqV3IAmWbzQ4rirhXMAAAAdAZ+n\n",
       "akK/AAR3XcqMaXJ0SPbWhChR2Zwn/z3ZtiUAAAIbQZurSahBbJlMCHf//qmWABXeFjdnRNqAHHuO\n",
       "YtoWR+H8fjfD1rtjRvEFILJaotI4jXGbTUA9ReqXD7LhfrH1pj0qTsfPA9B3u8onkyoSSlMFuwh6\n",
       "Gvu+1cKxSntNezd+RbP87kqwwjs9uVj3VBP7jkIqyDJUPZC1MN/l3mThJltIQo4kjkexw55j47V4\n",
       "N72VC5gk92LOTN3amIklLrHmkaUjtBDG2Tq4/ucO33BaKICyNi4XgMcnJjkgLPilmhCKDROiGdGT\n",
       "bUsWMVNwzc+aiWQ9/v1f2MZg8D8/YSqlS0J/dTxKqGhDR4TYh1cgGoqlQcReGpAHkZzLafG8qVrg\n",
       "wGL7C3z3LiLbT4XVtTRpwY6Wz9YX6hIKHYeqQMUnUafOpu3RDAMfpBbx9r1bGxZeugG6aKhEHlge\n",
       "Z2SLXMULxdvX6Yb/4NQw0iQe0Tx8AMuaOJHbgX5dydf9L5W9gZUYNiPTh4jsts2jMi8IQSAHVplK\n",
       "SUtxdxr8SZxzdYautvbnzdzrjescn7AgNYt2sqEcKLMGLdVYBFRoKhTz8xfc7TGGG6K/cRMk3F0h\n",
       "0AVbO+ZQXApD+QqtUslBDR3tHTJ2L9Rm1+BRktTrzO1UVutGNluoM/hA1i0Y2ghLVI874TX2IDud\n",
       "/CG8DtAhHN+XqxV/cNM/WjfGTr/I08CmIMak46IR+c2hQV5moj7PbLHvim7QLoysjsun+h4KHp8A\n",
       "AAAjQZ/JRRUsL/8AGcUyH4dfhEDO5GSoyHM6P/bMBY/7IX2fmqEAAAAhAZ/qakK/ACK67mFqI8mX\n",
       "Zu+vps2FtDwzibutFdG3z2A5AAAB80Gb70moQWyZTAh3//6plgBXeFjdnRNqAEtXHMW0LVqf8fj5\n",
       "J49XJt5PZZV5Q91PqVdAbQgyBpGvRwJM+3XhQeCE5uDHW1gp+BHra5oMGFfsOhpiPfUBSrg5S3nO\n",
       "8ghotyWtvWb4P06bHWQcWLMXf+JxsNKhzYted9+7GJmDhZS2FtXCbXw08v9esjTN50HWjNQTuGgZ\n",
       "cX7SxSA+K27XvnsHJc1/Pvfs/cJiX29Lte2XWqHg9xPjeBomUOr5oEMz5/uktNbkftY0r6OdQZ5d\n",
       "cbku7qxvQ2X1j/M1pX8SS1gHh5VxxiccC9y3T5eSCrScxhxnNFs8SxumRC7xrCVwi25IWYCELoHg\n",
       "alK1Klfw+FffRHZku+aYxx2MG5XbyjEPtbza0XJkGDEn5DmuF5k16r+wxK6eimsATdabVlXcsuRF\n",
       "IXjwmqCYH5ETEvKESQZ5UI/EDZq+gklEBVSk3JAJE4mHxM4hj/0DM+UNYj7B4rydN3cIQLZwYaVo\n",
       "2kawqHlf/g81Xrs+m0IzmXF32+POQW4DBtco94WqLz/88LrX6mi3T+cycRVJzyVcmfsn+tuQEP//\n",
       "dxNk7siZhos/F1QzgecHqexnbArVfZH6KYOrvs7vrjMGKJJDV0jmP1FzqT9sCcaYm2QH3wU2fKnv\n",
       "6Z2SL/6eyoEAAAApQZ4NRRUsM/8ATWKvqgX8xT1ngkHAcsiFTdlN21ScMLxN/DoCkbVf0ccAAAAk\n",
       "AZ4sdEK/AI66FyZhKq1El7BVpNVo7BY2VGrGIvhEuKyoORd0AAAAIQGeLmpCvwCK67mFpMH78/zU\n",
       "Mda+2aiyhcfeiPCtrnuTMAAAADpBmjJJqEFsmUwIb//+p4QArAKEZcb+U6BIA4AbB8WLLfYwKJzN\n",
       "Kgyi0DwzCd/IyUESXjdNKOG2sjfhAAAAIUGeUEUVLC//AGcZqwFX6d//yBnqOHWFFwlWmjU/so8G\n",
       "rAAAAB0BnnFqQr8AitqKcaGgKt8l/rMbzBZ0hKNfcFyBdwAAADdBmnRJqEFsmUwUTDf//qeEAFj9\n",
       "4Sx8DZRsNNUkDxSGbMQs18eQr32ubS+unEfbJ4oAR5XpBIyHAAAAIAGek2pCvwBHZD5uOSHEw29a\n",
       "H3FpFFm9HAp1CK6mr7MzAAAASEGalknhClJlMFLDP/6eEACte79U/z6p+rRYdhagRmEZlJJjkDL7\n",
       "6PxNa/Rd5cqkUCOUWfpaZQafZeFjeewMn9WRUNMmpDvmQQAAAB4BnrVqQr8AI7ITktUUhY5+s3RP\n",
       "Lb24DvPNUsTTJ8QAAAArQZq3SeEOiZTAhn/+nhAAK17vVA5kU96XTfVjr3DBGQHjoRbHGEmYcIHn\n",
       "2AAAADFBmthJ4Q8mUwIZ//6eEAAqAAIV+vHh+CDiwjwnb3C4V6mzmnSEIRqrLKAhBkEM02RBAAAA\n",
       "MEGa+UnhDyZTAhX//jhAAFI9YUt1SOuO654sd0ZcjQ3cVwmLbiZ905ZSXDy4QZLHdAAAFuJtb292\n",
       "AAAAbG12aGQAAAAAAAAAAAAAAAAAAAPoAABhqAABAAABAAAAAAAAAAAAAAAAAQAAAAAAAAAAAAAA\n",
       "AAAAAAEAAAAAAAAAAAAAAAAAAEAAAAAAAAAAAAAAAAAAAAAAAAAAAAAAAAAAAAAAAAACAAAWDHRy\n",
       "YWsAAABcdGtoZAAAAAMAAAAAAAAAAAAAAAEAAAAAAABhqAAAAAAAAAAAAAAAAAAAAAAAAQAAAAAA\n",
       "AAAAAAAAAAAAAAEAAAAAAAAAAAAAAAAAAEAAAAABsAAAASAAAAAAACRlZHRzAAAAHGVsc3QAAAAA\n",
       "AAAAAQAAYagAAAQAAAEAAAAAFYRtZGlhAAAAIG1kaGQAAAAAAAAAAAAAAAAAACgAAAPoAFXEAAAA\n",
       "AAAtaGRscgAAAAAAAAAAdmlkZQAAAAAAAAAAAAAAAFZpZGVvSGFuZGxlcgAAABUvbWluZgAAABR2\n",
       "bWhkAAAAAQAAAAAAAAAAAAAAJGRpbmYAAAAcZHJlZgAAAAAAAAABAAAADHVybCAAAAABAAAU73N0\n",
       "YmwAAACzc3RzZAAAAAAAAAABAAAAo2F2YzEAAAAAAAAAAQAAAAAAAAAAAAAAAAAAAAABsAEgAEgA\n",
       "AABIAAAAAAAAAAEAAAAAAAAAAAAAAAAAAAAAAAAAAAAAAAAAAAAAAAAAAAAY//8AAAAxYXZjQwFk\n",
       "ABX/4QAYZ2QAFazZQbCWhAAAAwAEAAADAKA8WLZYAQAGaOvjyyLAAAAAHHV1aWRraEDyXyRPxbo5\n",
       "pRvPAyPzAAAAAAAAABhzdHRzAAAAAAAAAAEAAAH0AAACAAAAABhzdHNzAAAAAAAAAAIAAAABAAAA\n",
       "+wAAC/BjdHRzAAAAAAAAAXwAAAACAAAEAAAAAAEAAAgAAAAAAgAAAgAAAAABAAAEAAAAAAEAAAgA\n",
       "AAAAAgAAAgAAAAABAAAGAAAAAAEAAAIAAAAAAQAACgAAAAABAAAEAAAAAAEAAAAAAAAAAQAAAgAA\n",
       "AAAHAAAEAAAAAAEAAAYAAAAAAQAAAgAAAAABAAAGAAAAAAEAAAIAAAAAAQAABgAAAAABAAACAAAA\n",
       "AAEAAAgAAAAAAgAAAgAAAAABAAAGAAAAAAEAAAIAAAAAAQAACAAAAAACAAACAAAAAAEAAAgAAAAA\n",
       "AgAAAgAAAAABAAAGAAAAAAEAAAIAAAAAAQAABAAAAAABAAAGAAAAAAEAAAIAAAAABQAABAAAAAAB\n",
       "AAAIAAAAAAIAAAIAAAAAAQAABgAAAAABAAACAAAAAAEAAAoAAAAAAQAABAAAAAABAAAAAAAAAAEA\n",
       "AAIAAAAAAQAABgAAAAABAAACAAAAAAEAAAQAAAAAAQAACAAAAAACAAACAAAAAAIAAAQAAAAAAQAA\n",
       "BgAAAAABAAACAAAAAAEAAAoAAAAAAQAABAAAAAABAAAAAAAAAAEAAAIAAAAAAQAACAAAAAACAAAC\n",
       "AAAAAAUAAAQAAAAAAQAABgAAAAABAAACAAAAAAEAAAgAAAAAAgAAAgAAAAABAAAKAAAAAAEAAAQA\n",
       "AAAAAQAAAAAAAAABAAACAAAAAAEAAAQAAAAAAQAABgAAAAABAAACAAAAAAEAAAQAAAAAAQAACgAA\n",
       "AAABAAAEAAAAAAEAAAAAAAAAAQAAAgAAAAABAAAIAAAAAAIAAAIAAAAABQAABAAAAAABAAAGAAAA\n",
       "AAEAAAIAAAAAAQAABAAAAAABAAAGAAAAAAEAAAIAAAAAAQAACgAAAAABAAAEAAAAAAEAAAAAAAAA\n",
       "AQAAAgAAAAABAAAGAAAAAAEAAAIAAAAAAQAACAAAAAACAAACAAAAAAEAAAoAAAAAAQAABAAAAAAB\n",
       "AAAAAAAAAAEAAAIAAAAAAQAACAAAAAACAAACAAAAAAEAAAYAAAAAAQAAAgAAAAABAAAGAAAAAAEA\n",
       "AAIAAAAAAgAABAAAAAABAAAGAAAAAAEAAAIAAAAAAgAABAAAAAABAAAKAAAAAAEAAAQAAAAAAQAA\n",
       "AAAAAAABAAACAAAAAAEAAAYAAAAAAQAAAgAAAAABAAAGAAAAAAEAAAIAAAAAAQAABAAAAAABAAAG\n",
       "AAAAAAEAAAIAAAAAAQAABAAAAAABAAAKAAAAAAEAAAQAAAAAAQAAAAAAAAABAAACAAAAAAEAAAgA\n",
       "AAAAAgAAAgAAAAAEAAAEAAAAAAEAAAgAAAAAAgAAAgAAAAAEAAAEAAAAAAEAAAoAAAAAAQAABAAA\n",
       "AAABAAAAAAAAAAEAAAIAAAAAAQAACgAAAAABAAAEAAAAAAEAAAAAAAAAAQAAAgAAAAABAAAGAAAA\n",
       "AAEAAAIAAAAAAQAACAAAAAACAAACAAAAAAEAAAoAAAAAAQAABAAAAAABAAAAAAAAAAEAAAIAAAAA\n",
       "BAAABAAAAAABAAAGAAAAAAEAAAIAAAAAAQAABgAAAAABAAACAAAAAAEAAAQAAAAAAQAACgAAAAAB\n",
       "AAAEAAAAAAEAAAAAAAAAAQAAAgAAAAABAAAIAAAAAAIAAAIAAAAAAQAACAAAAAACAAACAAAAAAEA\n",
       "AAQAAAAAAQAACAAAAAACAAACAAAAAAEAAAoAAAAAAQAABAAAAAABAAAAAAAAAAEAAAIAAAAAAQAA\n",
       "BgAAAAABAAACAAAAAAEAAAYAAAAAAQAAAgAAAAABAAAGAAAAAAEAAAIAAAAABQAABAAAAAABAAAK\n",
       "AAAAAAEAAAQAAAAAAQAAAAAAAAABAAACAAAAAAEAAAQAAAAAAQAACAAAAAACAAACAAAAAAEAAAQA\n",
       "AAAAAQAACAAAAAACAAACAAAAAAEAAAQAAAAAAQAACgAAAAABAAAEAAAAAAEAAAAAAAAAAQAAAgAA\n",
       "AAABAAAGAAAAAAEAAAIAAAAAAQAABgAAAAABAAACAAAAAAEAAAgAAAAAAgAAAgAAAAACAAAEAAAA\n",
       "AAEAAAYAAAAAAQAAAgAAAAACAAAEAAAAAAEAAAYAAAAAAQAAAgAAAAABAAAGAAAAAAEAAAIAAAAA\n",
       "AQAACAAAAAACAAACAAAAAAEAAAgAAAAAAgAAAgAAAAACAAAEAAAAAAEAAAgAAAAAAgAAAgAAAAAB\n",
       "AAAIAAAAAAIAAAIAAAAABgAABAAAAAABAAAGAAAAAAEAAAIAAAAAAQAABAAAAAABAAAIAAAAAAIA\n",
       "AAIAAAAAAQAABgAAAAABAAACAAAAAAEAAAgAAAAAAgAAAgAAAAABAAAEAAAAAAEAAAgAAAAAAgAA\n",
       "AgAAAAABAAAGAAAAAAEAAAIAAAAAAQAACgAAAAABAAAEAAAAAAEAAAAAAAAAAQAAAgAAAAABAAAE\n",
       "AAAAAAEAAAYAAAAAAQAAAgAAAAAEAAAEAAAAAAEAAAYAAAAAAQAAAgAAAAABAAAGAAAAAAEAAAIA\n",
       "AAAAAQAABgAAAAABAAACAAAAAAEAAAgAAAAAAgAAAgAAAAABAAAGAAAAAAEAAAIAAAAAAQAACAAA\n",
       "AAACAAACAAAAAAEAAAgAAAAAAgAAAgAAAAABAAAGAAAAAAEAAAIAAAAAAQAABAAAAAABAAAGAAAA\n",
       "AAEAAAIAAAAABQAABAAAAAABAAAGAAAAAAEAAAIAAAAAAQAABAAAAAABAAAGAAAAAAEAAAIAAAAA\n",
       "AQAACgAAAAABAAAEAAAAAAEAAAAAAAAAAQAAAgAAAAABAAAGAAAAAAEAAAIAAAAAAQAABAAAAAAB\n",
       "AAAIAAAAAAIAAAIAAAAAAgAABAAAAAABAAAGAAAAAAEAAAIAAAAAAQAACgAAAAABAAAEAAAAAAEA\n",
       "AAAAAAAAAQAAAgAAAAABAAAIAAAAAAIAAAIAAAAABQAABAAAAAABAAAGAAAAAAEAAAIAAAAAAQAA\n",
       "CgAAAAABAAAEAAAAAAEAAAAAAAAAAQAAAgAAAAABAAAGAAAAAAEAAAIAAAAAAQAABgAAAAABAAAC\n",
       "AAAAAAEAAAYAAAAAAQAAAgAAAAABAAAEAAAAAAEAAAYAAAAAAQAAAgAAAAABAAAKAAAAAAEAAAQA\n",
       "AAAAAQAAAAAAAAABAAACAAAAAAYAAAQAAAAAAQAABgAAAAABAAACAAAAAAEAAAQAAAAAAQAABgAA\n",
       "AAABAAACAAAAAAEAAAoAAAAAAQAABAAAAAABAAAAAAAAAAEAAAIAAAAAAQAABgAAAAABAAACAAAA\n",
       "AAEAAAgAAAAAAgAAAgAAAAABAAAKAAAAAAEAAAQAAAAAAQAAAAAAAAABAAACAAAAAAEAAAoAAAAA\n",
       "AQAABAAAAAABAAAAAAAAAAEAAAIAAAAAAQAABgAAAAABAAACAAAAAAcAAAQAAAAAAQAACgAAAAAB\n",
       "AAAEAAAAAAEAAAAAAAAAAQAAAgAAAAABAAAKAAAAAAEAAAQAAAAAAQAAAAAAAAABAAACAAAAAAEA\n",
       "AAQAAAAAAQAABgAAAAABAAACAAAAAAEAAAgAAAAAAgAAAgAAAAABAAAKAAAAAAEAAAQAAAAAAQAA\n",
       "AAAAAAABAAACAAAAAAEAAAYAAAAAAQAAAgAAAAADAAAEAAAAAAEAAAgAAAAAAgAAAgAAAAAEAAAE\n",
       "AAAAAAEAAAoAAAAAAQAABAAAAAABAAAAAAAAAAEAAAIAAAAAAQAABgAAAAABAAACAAAAAAEAAAQA\n",
       "AAAAAQAACAAAAAACAAACAAAAAAEAAAgAAAAAAgAAAgAAAAABAAAKAAAAAAEAAAQAAAAAAQAAAAAA\n",
       "AAABAAACAAAAAAQAAAQAAAAAAQAACAAAAAACAAACAAAAAAIAAAQAAAAAAQAACgAAAAABAAAEAAAA\n",
       "AAEAAAAAAAAAAQAAAgAAAAABAAAIAAAAAAIAAAIAAAAAAQAACAAAAAACAAACAAAAAAEAAAgAAAAA\n",
       "AgAAAgAAAAABAAAKAAAAAAEAAAQAAAAAAQAAAAAAAAABAAACAAAAAAEAAAgAAAAAAgAAAgAAAAAB\n",
       "AAAGAAAAAAEAAAIAAAAAAQAABgAAAAABAAACAAAAAAMAAAQAAAAAHHN0c2MAAAAAAAAAAQAAAAEA\n",
       "AAH0AAAAAQAAB+RzdHN6AAAAAAAAAAAAAAH0AAANUQAAAZYAAAIhAAAANgAAACoAAAB1AAACGwAA\n",
       "ACgAAAAnAAAAQwAAACQAAAA2AAAAJQAAAB8AAAAcAAAAQQAAAEwAAABWAAAAPQAAADwAAABOAAAA\n",
       "dQAAAD4AAAAfAAAATgAAAB8AAABGAAAAHwAAAEgAAAAiAAAAHwAAAW4AAAAjAAAB2gAAACQAAAAl\n",
       "AAAB7AAAADgAAAAiAAAAQgAAACIAAABIAAAAQQAAACYAAABKAAAAPAAAAD8AAABAAAAAQAAAAIIA\n",
       "AAAoAAAAIgAAAF8AAAAdAAAAVAAAACUAAAAZAAAAIQAAAGwAAAAgAAAAZgAAAdAAAAAoAAAAKAAA\n",
       "AE4AAABBAAAAVQAAACUAAAAyAAAAJQAAAB4AAAAeAAAAQAAAACwAAAAqAAAAQwAAAEEAAABAAAAA\n",
       "PAAAAFYAAABIAAAAIAAAAEIAAAAlAAAAGgAAAhYAAABGAAAAIAAAAEQAAABhAAAB6gAAACwAAABn\n",
       "AAACBAAAAEkAAAAqAAAAKwAAAE8AAAAsAAAAIAAAAGMAAABAAAAALgAAADkAAAA/AAAAQQAAACgA\n",
       "AABSAAAASgAAAB8AAABPAAAAKQAAABkAAAAcAAAAUgAAADkAAAHrAAAAJgAAACMAAAIdAAAALwAA\n",
       "ADoAAAAlAAAAXwAAACcAAAAeAAAAPAAAACIAAABJAAAAIAAAADoAAABFAAAAeQAAACMAAABQAAAA\n",
       "XQAAADEAAAAhAAAAJgAAABoAAABXAAAAHAAAAEAAAAAhAAAAQwAAAeEAAAAkAAAAXQAAAfwAAAA0\n",
       "AAAAKQAAACMAAABXAAAAIAAAACUAAABgAAAANgAAADsAAABCAAAAVAAAACwAAAAfAAAAWQAAAEIA\n",
       "AABvAAAAdQAAADMAAAAhAAAAGQAAAB4AAAH4AAAAJgAAACAAAAAkAAACIgAAACYAAAIKAAAAKQAA\n",
       "ACAAAAA+AAAALQAAACcAAAAcAAAAQwAAAFYAAABFAAAAaQAAAEcAAAAjAAAARwAAACYAAAA/AAAA\n",
       "LwAAACAAAAAfAAAAJAAAAHwAAAAhAAAAJAAAAhkAAAAoAAAAIwAAAFUAAAHIAAAALQAAACIAAADq\n",
       "AAAAMgAAACcAAAAhAAAAVAAAACQAAABQAAAAIwAAAFsAAAAhAAAAVwAAADUAAABXAAAAUgAAAEoA\n",
       "AABfAAAAKQAAACAAAAAdAAAAPQAAAdwAAAAnAAAAIgAAAFkAAAHkAAAAKwAAAC4AAABeAAABKQAA\n",
       "AD4AAAAmAAAAJQAAADUAAAAkAAAARgAAACoAAABeAAAAKwAAACUAAABMAAAATAAAAGYAAAAjAAAA\n",
       "LAAADEEAAAFaAAAANQAAAFMAAAAqAAACKAAAAC4AAAAmAAACCgAAADAAAAAlAAAAcwAAAFMAAABX\n",
       "AAAAKQAAACEAAABNAAAAKQAAACUAAABEAAAAWQAAAGUAAABIAAAAXAAAADYAAABtAAAAIQAAAFEA\n",
       "AABjAAAAHQAAAB8AAABeAAAAHgAAAgQAAAAyAAAAIwAAAG0AAAIYAAAAIwAAACMAAAA/AAAAIgAA\n",
       "AEkAAAAjAAAAHwAAABwAAABLAAAARwAAACAAAABPAAAANgAAAEMAAABGAAAANQAAAB8AAABTAAAA\n",
       "HgAAAEcAAAAgAAAAOgAAACcAAAAdAAABewAAACUAAAHdAAAAJwAAACUAAAHtAAAANwAAACUAAABN\n",
       "AAAAIgAAAEcAAAA/AAAAJAAAAFEAAABAAAAAUgAAAEgAAAA+AAAAgAAAAB8AAAA4AAAAbwAAAB8A\n",
       "AABOAAAAKgAAABkAAAAhAAAAVAAAACIAAABuAAAB0AAAACUAAAAjAAAATAAAAEUAAABaAAAAJwAA\n",
       "ADUAAAAmAAAAHQAAAB8AAABDAAAAKQAAACwAAABFAAAATAAAAEcAAABDAAAAXgAAAGUAAAAeAAAA\n",
       "PwAAACQAAAAZAAAAIgAAAFYAAAAgAAAB5AAAACUAAAHaAAAAKwAAAEAAAABeAAAAIQAAAF8AAAAt\n",
       "AAAAKAAAAB0AAABMAAAAcQAAAEwAAABPAAAAOQAAAFAAAABfAAAAIQAAAIAAAABSAAAAIAAAAGYA\n",
       "AAApAAAAGQAAAB0AAABMAAAANgAAAfAAAAAmAAAAIQAAAgQAAAAqAAAAMwAAACQAAABJAAAALAAA\n",
       "AB8AAAAcAAAASwAAACQAAABNAAAAQQAAAEUAAABLAAAAaAAAAFcAAABdAAAAQwAAACUAAAAeAAAA\n",
       "GQAAAJ8AAAAqAAAAJAAAACMAAAA6AAACBQAAACgAAAILAAAAMAAAACgAAABTAAAAKgAAACMAAAAf\n",
       "AAAAZQAAACMAAAA/AAAASQAAAEkAAABXAAAAJgAAACIAAABGAAAATgAAAE4AAABFAAAAVgAAACEA\n",
       "AAAZAAAAHgAAAF8AAAAhAAAASgAAAh0AAAA4AAAAJAAAAfQAAAAtAAAAJwAAAFIAAAAuAAAAJwAA\n",
       "ACEAAABEAAAARAAAADcAAABAAAAAawAAACQAAAAhAAAATwAAADsAAAA3AAAAIQAAAB4AAAAhAAAA\n",
       "egAAACQAAAAkAAACHQAAACYAAAAhAAACHwAAACcAAAAlAAAB9wAAAC0AAAAoAAAAJQAAAD4AAAAl\n",
       "AAAAIQAAADsAAAAkAAAATAAAACIAAAAvAAAANQAAADQAAAAUc3RjbwAAAAAAAAABAAAALAAAAGJ1\n",
       "ZHRhAAAAWm1ldGEAAAAAAAAAIWhkbHIAAAAAAAAAAG1kaXJhcHBsAAAAAAAAAAAAAAAALWlsc3QA\n",
       "AAAlqXRvbwAAAB1kYXRhAAAAAQAAAABMYXZmNTcuODMuMTAw\n",
       "\">\n",
       "  Your browser does not support the video tag.\n",
       "</video>"
      ],
      "text/plain": [
       "<matplotlib.animation.FuncAnimation at 0x10a50c080>"
      ]
     },
     "execution_count": 36,
     "metadata": {},
     "output_type": "execute_result"
    },
    {
     "data": {
      "image/png": "[encoded data removed]",
      "text/plain": [
       "<matplotlib.figure.Figure at 0x10b2397b8>"
      ]
     },
     "metadata": {},
     "output_type": "display_data"
    }
   ],
   "source": [
    "# 1. Create a figure window.\n",
    "fig = plt.figure()\n",
    "\n",
    "# 2. Create axes within the window\n",
    "ax = plt.axes(xlim=(-2, 2), ylim=(-3.5,3.5))\n",
    "\n",
    "# 3. Two objects to animate\n",
    "line,   = ax.plot([2,1], [4,3], marker=\"\" , ls=\"-\")  # a line\n",
    "point, = ax.plot([1], [1], marker='o', ms=40)        # a point\n",
    "\n",
    "# Spring data\n",
    "k = 100\n",
    "m = 20\n",
    "w = np.sqrt(k/m)\n",
    "phi = 2\n",
    "A = 2\n",
    "\n",
    "# Position of mass as function of time\n",
    "def fun(t):\n",
    "    return A*np.sin(w * t + phi)\n",
    "\n",
    "# 4. Animation function\n",
    "def animate(i):    \n",
    "    x = fun(i/10)     \n",
    "    line.set_data([0,0], [4, -x])    \n",
    "    point.set_data(0, -x)    \n",
    "    return line, point\n",
    "  \n",
    "# 5. Create animation; 500 frames, 50ms delay between frames, blit=True : only re-draw the parts that have changed.\n",
    "anim = animation.FuncAnimation(fig, animate, frames=500, interval=50, blit=True)\n",
    "\n",
    "# 6. Play animation\n",
    "anim\n",
    "\n",
    "# 7. Save animation\n",
    "# writer = animation.writers['ffmpeg'](fps=15, bitrate=1800)\n",
    "# anim.save('img/spring_movie.mp4', writer=writer)\n"
   ]
  },
  {
   "cell_type": "markdown",
   "metadata": {
    "collapsed": true,
    "slideshow": {
     "slide_type": "slide"
    }
   },
   "source": [
    "## Visualising 2D Arrays\n",
    "\n",
    "Two-dimensonal arrays can be visualized with the `plt.matshow` function.\n",
    "\n",
    "Each square cell represents one element of the array.\n",
    "\n",
    "A colour scale (`plot.colorbar`) is used to indicate the value of each cell.\n",
    "\n"
   ]
  },
  {
   "cell_type": "markdown",
   "metadata": {
    "slideshow": {
     "slide_type": "subslide"
    }
   },
   "source": [
    "Note that the first row of the matrix (with index 0), is plotted at the top, which corresponds to the location of the first row in the matrix."
   ]
  },
  {
   "cell_type": "code",
   "execution_count": 37,
   "metadata": {},
   "outputs": [
    {
     "data": {
      "text/plain": [
       "<matplotlib.colorbar.Colorbar at 0x10a670940>"
      ]
     },
     "execution_count": 37,
     "metadata": {},
     "output_type": "execute_result"
    },
    {
     "data": {
      "image/png": "[encoded data removed]",
      "text/plain": [
       "<matplotlib.figure.Figure at 0x10a670358>"
      ]
     },
     "metadata": {},
     "output_type": "display_data"
    }
   ],
   "source": [
    "x = np.array([[8, 7, 6, 8],\n",
    "              [8, 7, 6, 3],\n",
    "              [6, 6, 5, 2],\n",
    "              [4, 3, 2, 1]])\n",
    "plt.matshow(x)\n",
    "\n",
    "plt.colorbar()"
   ]
  },
  {
   "cell_type": "markdown",
   "metadata": {
    "slideshow": {
     "slide_type": "subslide"
    }
   },
   "source": [
    "The default colour map is used (it is called `viridis`).\n",
    "\n",
    "The highest value in the array is mapped to yellow.\n",
    "<br>The lowest value is mapped to purple. \n",
    "<br>The number is between vary between blue and green. \n",
    "\n"
   ]
  },
  {
   "cell_type": "markdown",
   "metadata": {
    "slideshow": {
     "slide_type": "subslide"
    }
   },
   "source": [
    "There are many other colour maps available.\n",
    "\n",
    "Doumentation of availble colour maps can be found here: http://matplotlib.org/users/colormaps.html. \n",
    "\n"
   ]
  },
  {
   "cell_type": "markdown",
   "metadata": {
    "slideshow": {
     "slide_type": "subslide"
    }
   },
   "source": [
    "To change the color map, the `matplotlib.cm` package is used, which we imported and renamed at the strt of the notebook. \n",
    ">`import matplotlib.cm as cm`\n",
    "\n",
    "Specify the name of any of the available color maps with the `cmap` keyword. "
   ]
  },
  {
   "cell_type": "code",
   "execution_count": 95,
   "metadata": {
    "slideshow": {
     "slide_type": "subslide"
    }
   },
   "outputs": [
    {
     "data": {
      "image/png": "[encoded data removed]",
      "text/plain": [
       "<matplotlib.figure.Figure at 0x112d204e0>"
      ]
     },
     "metadata": {},
     "output_type": "display_data"
    }
   ],
   "source": [
    "plt.matshow(x, cmap=cm.Wistia)\n",
    "plt.colorbar();"
   ]
  },
  {
   "cell_type": "markdown",
   "metadata": {
    "slideshow": {
     "slide_type": "subslide"
    }
   },
   "source": [
    "The keywords `vmin` and `vmax` can be used to explicitly set the maximum and minimum value for the colour scale. "
   ]
  },
  {
   "cell_type": "code",
   "execution_count": 96,
   "metadata": {},
   "outputs": [
    {
     "data": {
      "image/png": "[encoded data removed]",
      "text/plain": [
       "<matplotlib.figure.Figure at 0x1130212e8>"
      ]
     },
     "metadata": {},
     "output_type": "display_data"
    }
   ],
   "source": [
    "plt.matshow(x, cmap=cm.bone, vmin=0, vmax=20)\n",
    "plt.colorbar();"
   ]
  },
  {
   "cell_type": "markdown",
   "metadata": {
    "slideshow": {
     "slide_type": "subslide"
    }
   },
   "source": [
    "The standard colormaps also all have reversed versions. They have the same names with `_r` tacked on to the end."
   ]
  },
  {
   "cell_type": "code",
   "execution_count": 101,
   "metadata": {},
   "outputs": [
    {
     "data": {
      "image/png": "[encoded data removed]",
      "text/plain": [
       "<matplotlib.figure.Figure at 0x113322080>"
      ]
     },
     "metadata": {},
     "output_type": "display_data"
    }
   ],
   "source": [
    "plt.matshow(x, cmap=cm.Wistia_r, vmin=0, vmax=20)\n",
    "plt.colorbar();"
   ]
  },
  {
   "cell_type": "markdown",
   "metadata": {
    "slideshow": {
     "slide_type": "subslide"
    }
   },
   "source": [
    "__Try it yourself__\n",
    "<br>Find a colour map you like using the link provided. Change the colours of the examples above to colours that you prefer."
   ]
  },
  {
   "cell_type": "markdown",
   "metadata": {},
   "source": [
    "If you have a specific range for the x and y axis of the plot, it can be more convenient to use plot types `pcolor` and `fcontour`.\n"
   ]
  },
  {
   "cell_type": "code",
   "execution_count": 41,
   "metadata": {
    "collapsed": true
   },
   "outputs": [],
   "source": [
    "import numpy as np\n",
    "\n",
    "x = np.array([[8, 7, 6, 8],\n",
    "              [8, 7, 6, 3],\n",
    "              [6, 6, 5, 2],\n",
    "              [4, 3, 2, 1]])\n",
    "\n",
    "y = range(25, 29)\n",
    "z = range(31, 35)\n"
   ]
  },
  {
   "cell_type": "markdown",
   "metadata": {},
   "source": [
    "For example if you want to overlay the data wiht another type of plot."
   ]
  },
  {
   "cell_type": "code",
   "execution_count": 42,
   "metadata": {},
   "outputs": [
    {
     "data": {
      "image/png": "[encoded data removed]",
      "text/plain": [
       "<matplotlib.figure.Figure at 0x10a6f16a0>"
      ]
     },
     "metadata": {},
     "output_type": "display_data"
    }
   ],
   "source": [
    "plt.pcolor(y, z, x, cmap=cm.Reds, vmin=3, vmax=7)\n",
    "plt.colorbar();"
   ]
  },
  {
   "cell_type": "code",
   "execution_count": 43,
   "metadata": {},
   "outputs": [
    {
     "data": {
      "image/png": "[encoded data removed]",
      "text/plain": [
       "<matplotlib.figure.Figure at 0x10a935c50>"
      ]
     },
     "metadata": {},
     "output_type": "display_data"
    }
   ],
   "source": [
    "plt.contourf(y, z, x, cmap=cm.Reds)\n",
    "plt.plot(25.5, 32, 'bo')\n",
    "plt.plot(27, 33, 'yo')\n",
    "plt.colorbar();"
   ]
  },
  {
   "cell_type": "markdown",
   "metadata": {
    "slideshow": {
     "slide_type": "slide"
    }
   },
   "source": [
    "## 3D Plotting\n",
    "An advantage of plotting compuationally is that we can easily produce more complex figures such as 3D plots.  \n",
    "\n",
    "This can be useful, for example, when visualiing the form of a function with two independent variables.\n",
    "\n"
   ]
  },
  {
   "cell_type": "markdown",
   "metadata": {
    "collapsed": true,
    "slideshow": {
     "slide_type": "subslide"
    }
   },
   "source": [
    "Many different styles of 3D plot are available.\n",
    "\n",
    "A number of examples can be found here: https://matplotlib.org/examples/mplot3d/index.html "
   ]
  },
  {
   "cell_type": "markdown",
   "metadata": {
    "slideshow": {
     "slide_type": "subslide"
    }
   },
   "source": [
    "Today, we will go through just one example. \n",
    "\n",
    "You can then explore further, using today's seminar as a basis."
   ]
  },
  {
   "cell_type": "markdown",
   "metadata": {
    "slideshow": {
     "slide_type": "subslide"
    }
   },
   "source": [
    "We will plot the function: \n",
    "$$\n",
    "f(x, y) = \\sin(x) \\cos\\left(\\frac{xy^2}{10}\\right)\n",
    "$$\n",
    "as a 3D surface."
   ]
  },
  {
   "cell_type": "markdown",
   "metadata": {
    "slideshow": {
     "slide_type": "subslide"
    }
   },
   "source": [
    "Plotting in 3D requires another package which was imported at the start of this notebook. \n",
    ">`from mpl_toolkits.mplot3d import axes3d`"
   ]
  },
  {
   "cell_type": "markdown",
   "metadata": {
    "slideshow": {
     "slide_type": "subslide"
    }
   },
   "source": [
    "First we create points in the $x$ and $y$ directions at which we want to evaluate the function: "
   ]
  },
  {
   "cell_type": "code",
   "execution_count": 44,
   "metadata": {
    "collapsed": true
   },
   "outputs": [],
   "source": [
    "N = 50  # 50 points in each direction\n",
    "x = np.linspace(-np.pi, np.pi, N)\n",
    "y = np.linspace(-np.pi, np.pi, N)"
   ]
  },
  {
   "cell_type": "markdown",
   "metadata": {
    "slideshow": {
     "slide_type": "subslide"
    }
   },
   "source": [
    "Next, we use NumPy to create a 'grid' of $(x, y$) points: "
   ]
  },
  {
   "cell_type": "code",
   "execution_count": 45,
   "metadata": {
    "collapsed": true
   },
   "outputs": [],
   "source": [
    "X, Y = np.meshgrid(x, y)"
   ]
  },
  {
   "cell_type": "markdown",
   "metadata": {
    "slideshow": {
     "slide_type": "subslide"
    }
   },
   "source": [
    "When printing you may want to round the value of each element.\n",
    "\n",
    "You can do this using the `np.around` function. \n",
    "\n",
    "Example:\n",
    "<br>`print(np.around(X,2), np.around(Y,2))`\n",
    "<br>rounds each value to 2 decimal places."
   ]
  },
  {
   "cell_type": "markdown",
   "metadata": {
    "slideshow": {
     "slide_type": "subslide"
    }
   },
   "source": [
    "__Try it yourself__\n",
    "<br>The easiest way to visualise how `meshgrid` work is to:\n",
    "- try making `N` smaller (fewer points along each axis) in the cell above.\n",
    "\n",
    "<br>\n",
    "In the cell below:\n",
    "- print `X` and `Y` using <br>`print(np.around(X,2))`<br>`print(np.around(Y,2))`<br><br>\n",
    "- print the shape of `X` and `Y` using<br>`print(X.shape)`<br>`print(Y.shape)`<br><br>\n",
    "- What happens if N is different for `X` than for `Y`?"
   ]
  },
  {
   "cell_type": "code",
   "execution_count": 46,
   "metadata": {},
   "outputs": [
    {
     "name": "stdout",
     "output_type": "stream",
     "text": [
      "[[-3.14 -3.01 -2.89 ...,  2.89  3.01  3.14]\n",
      " [-3.14 -3.01 -2.89 ...,  2.89  3.01  3.14]\n",
      " [-3.14 -3.01 -2.89 ...,  2.89  3.01  3.14]\n",
      " ..., \n",
      " [-3.14 -3.01 -2.89 ...,  2.89  3.01  3.14]\n",
      " [-3.14 -3.01 -2.89 ...,  2.89  3.01  3.14]\n",
      " [-3.14 -3.01 -2.89 ...,  2.89  3.01  3.14]]\n",
      "[[-3.14 -3.14 -3.14 ..., -3.14 -3.14 -3.14]\n",
      " [-3.01 -3.01 -3.01 ..., -3.01 -3.01 -3.01]\n",
      " [-2.89 -2.89 -2.89 ..., -2.89 -2.89 -2.89]\n",
      " ..., \n",
      " [ 2.89  2.89  2.89 ...,  2.89  2.89  2.89]\n",
      " [ 3.01  3.01  3.01 ...,  3.01  3.01  3.01]\n",
      " [ 3.14  3.14  3.14 ...,  3.14  3.14  3.14]]\n",
      "(50, 50)\n",
      "(50, 50)\n"
     ]
    }
   ],
   "source": [
    "# How does meshgrid work?\n",
    "print(np.around(X,2))\n",
    "print(np.around(Y,2))\n",
    "print(X.shape)\n",
    "print(Y.shape)"
   ]
  },
  {
   "cell_type": "markdown",
   "metadata": {
    "slideshow": {
     "slide_type": "subslide"
    }
   },
   "source": [
    "Hopefully, you can see that by overlaying `X` and `Y` we can dscribe the x,y coordinates of every point on the 3D surface."
   ]
  },
  {
   "cell_type": "markdown",
   "metadata": {
    "slideshow": {
     "slide_type": "subslide"
    }
   },
   "source": [
    "Change the value of `N` to it's original value `N = 50`."
   ]
  },
  {
   "cell_type": "markdown",
   "metadata": {
    "slideshow": {
     "slide_type": "subslide"
    }
   },
   "source": [
    "We now evaluate the function $f$ at each point:"
   ]
  },
  {
   "cell_type": "code",
   "execution_count": 47,
   "metadata": {
    "collapsed": true
   },
   "outputs": [],
   "source": [
    "f = np.sin(X)*np.cos((X*Y**2)/10)"
   ]
  },
  {
   "cell_type": "markdown",
   "metadata": {
    "slideshow": {
     "slide_type": "subslide"
    }
   },
   "source": [
    "The 3D figure is plotted using:"
   ]
  },
  {
   "cell_type": "code",
   "execution_count": 48,
   "metadata": {},
   "outputs": [
    {
     "data": {
      "text/plain": [
       "Text(0.5,0,'Z')"
      ]
     },
     "execution_count": 48,
     "metadata": {},
     "output_type": "execute_result"
    },
    {
     "data": {
      "image/png": "[encoded data removed]",
      "text/plain": [
       "<matplotlib.figure.Figure at 0x10b273390>"
      ]
     },
     "metadata": {},
     "output_type": "display_data"
    }
   ],
   "source": [
    "# Create a figure\n",
    "fig = plt.figure()\n",
    "\n",
    "# Specify 3D axes\n",
    "ax = plt.axes(projection='3d')\n",
    "\n",
    "# Plot the function as a surface\n",
    "surf = ax.plot_surface(X, Y, f ,cmap=cm.Reds)\n",
    "\n",
    "# Label the axes\n",
    "ax.set_xlabel('X', fontsize=20)\n",
    "ax.set_ylabel('Y', fontsize=20)\n",
    "ax.set_zlabel('Z', fontsize=20)"
   ]
  },
  {
   "cell_type": "markdown",
   "metadata": {
    "collapsed": true,
    "slideshow": {
     "slide_type": "slide"
    }
   },
   "source": [
    "## Review Exercises\n",
    "Below are some exercises for you to practise producing plots and figures.\n",
    "<br>Some of the examples require you to generate data using methods we have studied in previous seminars.\n",
    "\n"
   ]
  },
  {
   "cell_type": "markdown",
   "metadata": {
    "collapsed": true
   },
   "source": [
    "### Review Exercise: Simple Plot\n",
    "In the cell below, write a program to:\n",
    "- Plot $y=x^{3}-x^{2}-4x+4$ for $x = -3$ to $x= 3$.\n",
    "- Use a red, dashed line.\n",
    "- On the same figure, plot a black square at every point where $y$ equals zero. \n",
    "- Set the size of the markers to 10.\n",
    "- Label the axes as 'x-axis' and 'y-axis'. \n",
    "- Add a title of your choice.  \n",
    "\n",
    "*Hint: You may have to search online for the function argunents needed for some of these manipulations.* "
   ]
  },
  {
   "cell_type": "code",
   "execution_count": 55,
   "metadata": {},
   "outputs": [
    {
     "data": {
      "text/plain": [
       "Text(0.5,1,'roots')"
      ]
     },
     "execution_count": 55,
     "metadata": {},
     "output_type": "execute_result"
    },
    {
     "data": {
      "image/png": "[encoded data removed]",
      "text/plain": [
       "<matplotlib.figure.Figure at 0x10b559128>"
      ]
     },
     "metadata": {},
     "output_type": "display_data"
    }
   ],
   "source": [
    "# Simple Plot\n",
    "x = np.linspace(-3,3,100)\n",
    "y = x**3-x**2-4*x+4\n",
    "plt.xlim(x[0],x[-1])\n",
    "plt.plot(x,y,'r--')\n",
    "x_r=np.roots([1,-1,-4,4])\n",
    "z_r=np.zeros(len(x_r))\n",
    "plt.plot(x_r,z_r,'ks',ms=10)\n",
    "plt.xlabel('$x-axis$')\n",
    "plt.ylabel('$y-axis$')\n",
    "plt.title('roots')\n"
   ]
  },
  {
   "cell_type": "code",
   "execution_count": 117,
   "metadata": {},
   "outputs": [
    {
     "data": {
      "image/png": "[encoded data removed]",
      "text/plain": [
       "<matplotlib.figure.Figure at 0x1133280b8>"
      ]
     },
     "metadata": {},
     "output_type": "display_data"
    }
   ],
   "source": [
    "# Example Solution\n",
    "x = np.linspace(-5, 5, 100)\n",
    "y = x**3 - x**2 - 4*x + 4\n",
    "\n",
    "plt.plot(x, y, 'r--')\n",
    "\n",
    "r = np.roots([1, -1, -4, 4])\n",
    "z = np.zeros(len(r))\n",
    "             \n",
    "plt.plot(r, z, 'ks', markersize=10)\n",
    "plt.xlim(x[0], x[-1]);\n",
    "\n",
    "plt.xlabel('x-axis')\n",
    "plt.ylabel('y-axis')\n",
    "\n",
    "plt.title('First Graph');"
   ]
  },
  {
   "cell_type": "markdown",
   "metadata": {
    "collapsed": true
   },
   "source": [
    "### Review Exercise: Plotting with Conditionals\n",
    "Create an array, `x` with 100 values from 0 to 20, inclusive. \n",
    "\n",
    "Compute $y=\\sin(x)$.\n",
    "\n",
    "Plot $y$ vs. $x$ with a blue line. \n",
    "\n",
    "Replace all values of $y$ that are larger than 0.5 with 0.5.\n",
    "\n",
    "Replace all values of $y$ that are smaller than $-$0.75 with $-0.75$.\n",
    "\n",
    "Plot $x$ vs. $y$ using a red line on the same graph. "
   ]
  },
  {
   "cell_type": "code",
   "execution_count": 59,
   "metadata": {},
   "outputs": [
    {
     "data": {
      "text/plain": [
       "(0.0, 20.0)"
      ]
     },
     "execution_count": 59,
     "metadata": {},
     "output_type": "execute_result"
    },
    {
     "data": {
      "image/png": "[encoded data removed]",
      "text/plain": [
       "<matplotlib.figure.Figure at 0x10bb52518>"
      ]
     },
     "metadata": {},
     "output_type": "display_data"
    }
   ],
   "source": [
    "# Plotting with conditionals\n",
    "x = np.linspace(0,20,100)\n",
    "y = np.sin(x)\n",
    "plt.plot(x,y,'b')\n",
    "y[y>.5]=.5\n",
    "y[y<-.75]=-.75\n",
    "plt.plot(x,y,'r')\n",
    "plt.xlim(x[0],x[-1])\n"
   ]
  },
  {
   "cell_type": "code",
   "execution_count": 127,
   "metadata": {},
   "outputs": [
    {
     "data": {
      "text/plain": [
       "(0.0, 20.0)"
      ]
     },
     "execution_count": 127,
     "metadata": {},
     "output_type": "execute_result"
    },
    {
     "data": {
      "image/png": "[encoded data removed]",
      "text/plain": [
       "<matplotlib.figure.Figure at 0x114389898>"
      ]
     },
     "metadata": {},
     "output_type": "display_data"
    }
   ],
   "source": [
    "# Example Solution\n",
    "x = np.linspace(0, 20, 100)\n",
    "y = np.sin(x)\n",
    "plt.plot(x, y, 'b')\n",
    "y[y > 0.5] = 0.5\n",
    "y[y < -0.75] = -0.75\n",
    "plt.plot(x, y, 'r');\n",
    "plt.xlim(x[0], x[-1])"
   ]
  },
  {
   "cell_type": "markdown",
   "metadata": {},
   "source": [
    "### Review Exercise: Bar Chart\n",
    "\n",
    "Write a Python programming to display a bar chart of the popularity of programming Languages.\n",
    "\n",
    "Set the bar colour green.\n",
    "\n",
    "Sample data: \n",
    "<br>Programming languages: Java, Python, PHP, JavaScript, C#, C++\n",
    "<br>Popularity: 22.2, 17.6, 8.8, 8, 7.7, 6.7\n",
    "\n",
    "Label the x and y axes and add a title."
   ]
  },
  {
   "cell_type": "code",
   "execution_count": 67,
   "metadata": {},
   "outputs": [
    {
     "data": {
      "text/plain": [
       "Text(0.5,1,'Popularity of programming languages')"
      ]
     },
     "execution_count": 67,
     "metadata": {},
     "output_type": "execute_result"
    },
    {
     "data": {
      "image/png": "[encoded data removed]",
      "text/plain": [
       "<matplotlib.figure.Figure at 0x10feeb4a8>"
      ]
     },
     "metadata": {},
     "output_type": "display_data"
    }
   ],
   "source": [
    "# Bar Chart\n",
    "Languages = ['Java','Python','PHP','JavaScript','C#','C++']\n",
    "Popularity = [22.2,17.6,8.8,8,7.7,6.7]\n",
    "\n",
    "# Create an array with the position of each bar along the x-axis\n",
    "x_pos = np.arange(len(Languages))\n",
    "\n",
    "# Produce bar plot\n",
    "plt.bar(x_pos, Popularity, color = 'g');\n",
    "\n",
    "# Replace the x ticks with the year group name\n",
    "# Rotate labels 30 degrees\n",
    "plt.xticks(x_pos, Languages);\n",
    "\n",
    "# Add axis labels \n",
    "plt.xlabel('Languages');\n",
    "plt.ylabel('Popularity');\n",
    "plt.title('Popularity of programming languages')\n"
   ]
  },
  {
   "cell_type": "code",
   "execution_count": 137,
   "metadata": {},
   "outputs": [
    {
     "data": {
      "image/png": "[encoded data removed]",
      "text/plain": [
       "<matplotlib.figure.Figure at 0x1147e65c0>"
      ]
     },
     "metadata": {},
     "output_type": "display_data"
    }
   ],
   "source": [
    "# Example Solution\n",
    "languages = ['Java', 'Python', 'PHP', 'JavaScript', 'C#', 'C++']\n",
    "popularity = [22.2, 17.6, 8.8, 8, 7.7, 6.7]\n",
    "\n",
    "# Create an array with the position of each bar along the x-axis\n",
    "x_pos = np.arange(len(languages))\n",
    "\n",
    "# Produce bar plot\n",
    "plt.bar(x_pos, popularity, color='green')\n",
    "\n",
    "# Replace the x ticks with the year language name\n",
    "plt.xticks(x_pos, languages)\n",
    "\n",
    "# Title and axes labels\n",
    "plt.xlabel(\"Languages\")\n",
    "plt.ylabel(\"Popularity\")\n",
    "plt.title(\"Popularity of\\n Programming Languages\" );"
   ]
  },
  {
   "cell_type": "markdown",
   "metadata": {},
   "source": [
    "### Review Exercise: Plotting Functions Interactively\n",
    "\n",
    "Consider the function we used earlier:\n",
    "\n",
    "$x(t) = A cos(\\omega t - \\phi)$\n",
    "\n",
    "The position of a mass $x$ (relative to it's start position), attached to a spring, as a function of time, depends on the angular frequency $\\omega$ and the phase $ \\phi$ of the system. \n",
    "\n",
    "1. Plot the function from from $t = 0$ to $t = 10$, when $A$ = 5 and $\\omega = \\phi = 2$. Label the axes.\n",
    "1. Create an interactive plot with sliders for $\\omega$ and $\\phi$, varying from 0 to 4.\n",
    "1. Label the axes\n",
    "1. Observe the change in the position of $x$ as a function of time $t$ as you change $\\omega$ and $\\phi$ \n",
    "\n"
   ]
  },
  {
   "cell_type": "code",
   "execution_count": 70,
   "metadata": {},
   "outputs": [
    {
     "data": {
      "application/vnd.jupyter.widget-view+json": {
       "model_id": "61cde8c0d9b343e589604337aa2bdcb7",
       "version_major": 2,
       "version_minor": 0
      },
      "text/plain": [
       "A Jupyter Widget"
      ]
     },
     "metadata": {},
     "output_type": "display_data"
    },
    {
     "data": {
      "text/plain": [
       "<function __main__.plot>"
      ]
     },
     "execution_count": 70,
     "metadata": {},
     "output_type": "execute_result"
    }
   ],
   "source": [
    "# Interactive Plot\n",
    "A=5\n",
    "\n",
    "def plot(ω=2,ϕ=2):\n",
    "    t = np.linspace(0,10,100)\n",
    "    x = A*np.cos(ω*t-ϕ)\n",
    "    plt.plot(t,x)\n",
    "    plt.xlabel('time $t$')\n",
    "    plt.ylabel('position $x(t)$')\n",
    "    plt.xlim(t[0],t[-1])\n",
    "\n",
    "interact(plot,ω=(0,4,.25), ϕ=(0,4,.25))"
   ]
  },
  {
   "cell_type": "code",
   "execution_count": 71,
   "metadata": {},
   "outputs": [
    {
     "data": {
      "application/vnd.jupyter.widget-view+json": {
       "model_id": "a88833e255034432926924f49a3fbd81",
       "version_major": 2,
       "version_minor": 0
      },
      "text/plain": [
       "A Jupyter Widget"
      ]
     },
     "metadata": {},
     "output_type": "display_data"
    }
   ],
   "source": [
    "# Example Solution\n",
    "A = 5\n",
    "\n",
    "def plot(ω=2, ϕ=2):\n",
    "\n",
    "    t = np.linspace(0, 10, 200)\n",
    "    plt.xlabel('$t$')\n",
    "    plt.ylabel('$x$')\n",
    "    \n",
    "\n",
    "    x = A * np.cos(ω * t - ϕ)\n",
    "    \n",
    "    plt.plot(t, x)\n",
    "    \n",
    "    plt.xlim(t[0], t[-1]);\n",
    "\n",
    "    \n",
    "interact(plot, a=(0, 4, 0.25), b=(0, 4, 0.25));"
   ]
  },
  {
   "cell_type": "markdown",
   "metadata": {},
   "source": [
    "### Review Exercise: Plotting Functions Interactively\n",
    "\n",
    "Consider the function \n",
    "$$\n",
    "f(x) = e^{x/10} \\sin(ax)\\cos(bx)\n",
    "$$\n",
    "from $x = -4\\pi$ to $x = 4\\pi$.  \n",
    "\n",
    "1. Plot the function when $a = b = 1$. Label the axes.\n",
    "1. Create an interactive plot with sliders for $a$ and $b$, varying from 0 to 2."
   ]
  },
  {
   "cell_type": "code",
   "execution_count": 73,
   "metadata": {},
   "outputs": [
    {
     "data": {
      "application/vnd.jupyter.widget-view+json": {
       "model_id": "6a6600dbb1d444088e64ae0497937983",
       "version_major": 2,
       "version_minor": 0
      },
      "text/plain": [
       "A Jupyter Widget"
      ]
     },
     "metadata": {},
     "output_type": "display_data"
    },
    {
     "data": {
      "text/plain": [
       "<function __main__.plot>"
      ]
     },
     "execution_count": 73,
     "metadata": {},
     "output_type": "execute_result"
    }
   ],
   "source": [
    "# Interactive plot\n",
    "def plot(a=1,b=1):\n",
    "    x = np.linspace(-4*np.pi,4*np.pi,100)\n",
    "    f = np.exp(x/10)*np.sin(a*x)*np.cos(b*x)\n",
    "    plt.plot(x,f, label='f(x)')\n",
    "    plt.xlabel('x')\n",
    "    plt.ylabel('y')\n",
    "    plt.xlim(x[0],x[-1])\n",
    "    plt.legend()\n",
    "    \n",
    "interact(plot,a=(0,2,.25),b=(0,2,.25))"
   ]
  },
  {
   "cell_type": "code",
   "execution_count": 74,
   "metadata": {},
   "outputs": [
    {
     "data": {
      "application/vnd.jupyter.widget-view+json": {
       "model_id": "2134f5828d4d4a10b57bf352fda5cde6",
       "version_major": 2,
       "version_minor": 0
      },
      "text/plain": [
       "A Jupyter Widget"
      ]
     },
     "metadata": {},
     "output_type": "display_data"
    }
   ],
   "source": [
    "# Example Solution\n",
    "\n",
    "def plot(a=1, b=1):\n",
    "\n",
    "    x = np.linspace(-4*np.pi, 4*np.pi, 200)\n",
    "    plt.xlabel('$x$')\n",
    "    plt.ylabel('$f$')\n",
    "    \n",
    "\n",
    "    f = np.exp(x/10) * np.sin(a * x) * np.cos(b * x)\n",
    "    \n",
    "    plt.plot(x, f)\n",
    "    \n",
    "    plt.xlim(x[0], x[-1]);\n",
    "\n",
    "    \n",
    "interact(plot, a=(0, 2, 0.25), b=(0, 2, 0.25));"
   ]
  },
  {
   "cell_type": "markdown",
   "metadata": {
    "collapsed": true
   },
   "source": [
    "### Review Exercise: Visualising 2D Arrays \n",
    "Create:\n",
    "- a Numpy 30 by 30 array\n",
    "- with randomly selected integer values for all elements\n",
    "- with an allowable range for each element of 1 to 50\n",
    "\n",
    "Represent the array using `matshow`:\n",
    "- Use a colour map of your choice\n",
    "- Set the colour scale minimum to 1\n",
    "- Set the colour scale maximum to 25\n",
    "- Display a colour scale on the plot"
   ]
  },
  {
   "cell_type": "code",
   "execution_count": 79,
   "metadata": {},
   "outputs": [
    {
     "data": {
      "text/plain": [
       "<matplotlib.colorbar.Colorbar at 0x10fa27b00>"
      ]
     },
     "execution_count": 79,
     "metadata": {},
     "output_type": "execute_result"
    },
    {
     "data": {
      "image/png": "[encoded data removed]",
      "text/plain": [
       "<matplotlib.figure.Figure at 0x10fa27a58>"
      ]
     },
     "metadata": {},
     "output_type": "display_data"
    }
   ],
   "source": [
    "# 2D Array plot\n",
    "A = np.random.randint(1,50,(30,30))\n",
    "plt.matshow(A, cmap=cm.Wistia,vmin=1,vmax=25)\n",
    "plt.colorbar()"
   ]
  },
  {
   "cell_type": "code",
   "execution_count": 150,
   "metadata": {},
   "outputs": [
    {
     "data": {
      "image/png": "[encoded data removed]",
      "text/plain": [
       "<matplotlib.figure.Figure at 0x114506e10>"
      ]
     },
     "metadata": {},
     "output_type": "display_data"
    }
   ],
   "source": [
    "# Example Solution\n",
    "a = np.random.randint(1, 50, size=(30,30))\n",
    "\n",
    "plt.matshow(a, cmap=cm.BuPu_r, vmin=0, vmax=25)\n",
    "\n",
    "plt.colorbar();"
   ]
  },
  {
   "cell_type": "markdown",
   "metadata": {},
   "source": [
    "### Review Exercise: Animated Plot - Projectile Trajectory\n",
    "\n",
    "A projectile is launched with initial velocity $v$, at an angle of $\\theta$.\n",
    "\n",
    "If we neglect the force of drag on the projectile, it will travel in an arc. \n",
    "\n",
    "It's position in the horizontal (x) and vertical (y) direction at time $t$ can be found by.\n",
    "\n",
    "$x= vt\\cos(\\theta)$\n",
    "<br>$y= vt\\sin(\\theta) - \\frac{1}{2}gt^2$\n",
    "\n",
    "where gravity, $g=9.81$ms$^{-2}$ \n",
    "\n",
    "<img src=\"img/projectile2.png\" alt=\"Drawing\" style=\"width: 300px;\"/>\n",
    "\n",
    "In the cell below write a program to create an animation of the particle animate the motion of an ideal projectile when launched:\n",
    " - from an angle of $\\theta = \\pi/2$\n",
    " - with an initial velocity of $v=10$ms$^{-1}$ \n",
    " \n",
    "*Hint*\n",
    "1. Create a figure window\n",
    "1. Create axes within the figure window.\n",
    "1. Create a point to animate\n",
    "1. Create variables for $g$, $v$, and $\\theta$\n",
    "1. Write a function, `fun` to find x and y position as a function of time, t (function argument = t)\n",
    "1. To animate the motion of the particle create a function, `animate`. Within animate call the function, `func`. Use a timestep of i/10.\n",
    "1. Use the function `animation.FuncAnimation` to create the animation. Use 50 frames and an interval of 50ms between each frame.\n",
    "\n"
   ]
  },
  {
   "cell_type": "code",
   "execution_count": 83,
   "metadata": {},
   "outputs": [
    {
     "data": {
      "text/html": [
       "<video width=\"432\" height=\"288\" controls autoplay loop>\n",
       "  <source type=\"video/mp4\" src=\"data:video/mp4;base64,AAAAHGZ0eXBNNFYgAAACAGlzb21pc28yYXZjMQAAAAhmcmVlAAATh21kYXQAAAKuBgX//6rcRem9\n",
       "5tlIt5Ys2CDZI+7veDI2NCAtIGNvcmUgMTQ4IHIyNzk1IGFhYTlhYTggLSBILjI2NC9NUEVHLTQg\n",
       "QVZDIGNvZGVjIC0gQ29weWxlZnQgMjAwMy0yMDE3IC0gaHR0cDovL3d3dy52aWRlb2xhbi5vcmcv\n",
       "eDI2NC5odG1sIC0gb3B0aW9uczogY2FiYWM9MSByZWY9MyBkZWJsb2NrPTE6MDowIGFuYWx5c2U9\n",
       "MHgzOjB4MTEzIG1lPWhleCBzdWJtZT03IHBzeT0xIHBzeV9yZD0xLjAwOjAuMDAgbWl4ZWRfcmVm\n",
       "PTEgbWVfcmFuZ2U9MTYgY2hyb21hX21lPTEgdHJlbGxpcz0xIDh4OGRjdD0xIGNxbT0wIGRlYWR6\n",
       "b25lPTIxLDExIGZhc3RfcHNraXA9MSBjaHJvbWFfcXBfb2Zmc2V0PS0yIHRocmVhZHM9NiBsb29r\n",
       "YWhlYWRfdGhyZWFkcz0xIHNsaWNlZF90aHJlYWRzPTAgbnI9MCBkZWNpbWF0ZT0xIGludGVybGFj\n",
       "ZWQ9MCBibHVyYXlfY29tcGF0PTAgY29uc3RyYWluZWRfaW50cmE9MCBiZnJhbWVzPTMgYl9weXJh\n",
       "bWlkPTIgYl9hZGFwdD0xIGJfYmlhcz0wIGRpcmVjdD0xIHdlaWdodGI9MSBvcGVuX2dvcD0wIHdl\n",
       "aWdodHA9MiBrZXlpbnQ9MjUwIGtleWludF9taW49MjAgc2NlbmVjdXQ9NDAgaW50cmFfcmVmcmVz\n",
       "aD0wIHJjX2xvb2thaGVhZD00MCByYz1jcmYgbWJ0cmVlPTEgY3JmPTIzLjAgcWNvbXA9MC42MCBx\n",
       "cG1pbj0wIHFwbWF4PTY5IHFwc3RlcD00IGlwX3JhdGlvPTEuNDAgYXE9MToxLjAwAIAAAAkFZYiE\n",
       "ADv//vdOvwKbRZdqA5JXCvbKpCZZuVJrAfKmAAADAAARsIY/wjr8jMB7gLK7d7luulo7OlgPbb9p\n",
       "Ca7siqB6WEqEaBxDOV4Dlz59pirCrxI3TYAABN3ef1PB/fvfko3OHKsMkVakfjXgp5jEmMw5XbxF\n",
       "J79u9De4O1RyGtwNkaqBn85xN9bhUpbbQn3NBqKcix7fF9QH4giztQdV39m/IHFum9w9vtr8jz4b\n",
       "b56hpVgUJwTV/hIQJv+8uZQ4gcK0moDcukiS7I7L6jrM21o7B8rPVSOQoce7S3HT3AJAz3PH/WAA\n",
       "AAo39VtMnHYtWKzSxzBJcZwtoRxWVj2VOHdCzeA3H+iVRXAJXVfcN/gE/MjAMxmZOE2J3k7DhZRK\n",
       "vehbO9aVuUvioRByGMmpaAAE3IyV9eDlgfsn6+j0GzCYdtsn7JxwWiDEOHATizRTAPzyZEIwHsWQ\n",
       "oaL4ZBh3TtkesG9+hbrQFrGqneEgxerT+hpIgSaYUy+v/DHB0qNW9APRtEdud/p43g4KkRy4QJs4\n",
       "BZ9m+HQxWajbjYENfJYLszX6bXsovLhP5niWEVs50Ht+/0AjGshtStFZksiZ5SKOa+3dAM9/tkNx\n",
       "vm00J0d85qU+2scFRdL6S8jqkOc6B+DAEpjcd4bNfMV6xX/30Qz8m/ULDuiYo/3gwdNVHgC7XTUC\n",
       "TDv7+jagQbeAhmXrjzU4o10B69gmKCHP8GlfeEFxaDUtxDQX5ggWbFfgyijSRL3JE9jewUHax3kT\n",
       "G8b4cuODn80pwZRLZbyKEeYUszbwJ3jPB/YQT7hFhfSuglgZPU/GI5qAFAA4cb30N3nQRqUCGWZs\n",
       "fEQGXBmDL+XiLikh8+LacQup7KDsNTE0WTH8ePIv/66oGsOE8BqHLXJXPCERHPpxYe/nqMaufebS\n",
       "J76UIEMKkZZvLyg0IV+RFEWnX2NugmB+vj9oas2nGi20e/vnsc9v741b26oOtHoK1NbjJDXbpXh/\n",
       "9RU38vosCo9rujSg0xUL9t3dISQic6L3qd5wGXXePT4WLdqX75dAzaU5Obt3AcHFee9KWRZTRKnH\n",
       "vJ3eqrX2bsgppN8m93KIQhFzMiGRRqSbrA8ETFBqBYnfaQofodlxX5yqTEIOtncP0WqGzwKuIls7\n",
       "q10m7+Uin06q0f4BC1d2PgVJxoIusmj0GHQBLmkNsK+m8sXphmV5kFDFx8LPXM/5817ljXHyxlHo\n",
       "0dkiDE7LN12F20rsP7x815DM+5Nkpw6OVAi31R4HTx6jpZYzVJitSA636w4MUNJC/OpfF5IhO5Jx\n",
       "F8SV+pDIi5C899B4VHAA2M0y+5pKHKdYu65qYXaBqz2T4bZDLAPj96we+pRYKkvi45H/VxdvoWKo\n",
       "D919mD2WTzSAuLLb4GuuyYG7gqYWYz+zXahGc0yNtSw0iVksHX3AnUSHCenXSBX6vhG3twuNUw7L\n",
       "XG2Cmn1SgR6GqedHu/BbYSbqYlRXCbT8boTkMSQ3fV2ZViTyWklwgHmD2IE3L7o2yue805sDqBfK\n",
       "+EH8VdC+6Vcl9TUOEOnxfB38Jw4RjGzsm09/XFGkqJYvjSfop0BZgnsv992jVk0itTRnCnKn75Xt\n",
       "+KE6Zq1wHBBUssSp0bOJK+rFizbwC5mEhs5R5nq/Oh/mePctzElYzxk62sQoNZlBspRKzHHkGZhU\n",
       "P7fmDlW7cVV1gI1f+o24Fpg6Qy4nKwfAHkq0Mptwq/sYudNJh9VdrDozlSi9EdNyWSLN0HmCYyZD\n",
       "U3rrKkhhAYpFQQCRZaU8TFk2sk7ChsJidp/FvkPL2XAwOQItJ+DnmN3qZIwTaj+1f+/NhTsKaUKJ\n",
       "cs8NOZpGkGq0llRWjNl36XOprkCWCWFIgHxfM8OTPQrTYNWhY4TM5ujkecvXVnzPjVx9ieysK9Sf\n",
       "X8LFELSQpMRnOUmEZHum0II0FoYqby+os4h6HDT/xzVpvTKVAb5hijqF72kCvPi9xZdwQv2uFF7r\n",
       "nIG+Sij5LZnq0EJAsqCQOhNJFnW5oWJwH7ponzbAAIZ1RJd1y+4sb40sJLeA8Xd1xTPmqIoiKX44\n",
       "T7bmOnm/XwAGdhjyfjSTC7rRQFHXCCCnKVXAU2rkGhbHWcGL7+XcyieyKuOEyZYDK+MleC/JT2Aa\n",
       "D1U1+crXLfbA/v2S+u4IngpkfJIaOdSfoYmnId//cfZcVRox7JicOt0qbJgKDhVGHSemdE8qL/go\n",
       "Uwnr/jt5Hc2yOtGmmBUgv8zkX+D7ATi4MYY/ajfrjc2j2r7yBc/eABPg74RsFSvmT8AXg7Q1KKaL\n",
       "yLcy/HiCsGVB5rk03RnGAW3h9eHCaR+t7yG6ORwg48Psp0pyalo6p2ZZSt527gvncKJ0Gn3euarP\n",
       "+0PGoA2/4DfQud9cZO0WQf08W/MAr0pzxzH4ccUzaj2l8uBx18CG8scVYuOkyIvv/62e5JHjSd2s\n",
       "AYgmNLYYnqgZyXXUdpWIlFDOqWSXnfke/NwQGXViEnucApPER4B70yHTgUOhYa/VEhWEfzhVWqmw\n",
       "ggKo5gS5s4M2QTWEvvtj9Yr2xiYDA6GsKWcB0vU7HH8LFdKUN9FGHsEH48n1CDM97/LqBIDed/AB\n",
       "HG5h26/d/JDU6a6HyCRZThBCvOpXybbChqnjzQgCyBTCDpQf3KBU0VSSpHzN/s4+TBVxgBWHFUE+\n",
       "1HBe56bT/u5bF3qsQlh9vXOPQGT3l8P0//tde3AzclecZQuL2p6TPAWbX/JnnkUUYPA8ZlUor8bN\n",
       "dH7ouCu0ftw7X1ZAmzfpTDmU8B6MC1L0drpSCcHgp0ZNrcG4oCji9Zz2vJ22BTJTW1DCs3kXDAPi\n",
       "Cc6zleiToMU4zFD8V7o/traOitvwd+1fw0JSvySQWYcGQ1AfYKhmLNPMuThgTMMOeBHEAJ6BsxXf\n",
       "9AvGvoudtDlbCwznrrDQIMofjbZBuzhUfFCbpJ4rO4jDF7TgeIs/NY4QdNzVrkmWp4bjfXKUhGW0\n",
       "7Xl43ZSuTySMKbi7CX9I72mHBLdd/PBc3sFtuy8nvenyMHLkdzfPBMh7HDoWr320hm7eal7Uhpjb\n",
       "Jz/1CkQuQ1B7OQ8vGAACw0sp8JCdDDgoIhMAAAIKQZojbEN//qeEAgWfdEBPgUb2Vn4RF3oZSIHc\n",
       "2d8wxqD8V2uRqY7R911zuvtb8XfmoM+Ek5MPsVpDSTUWjQKqmn/wLayys2MhRpvol4KTeoU4dcm9\n",
       "0l6nOotqWu+jj3TBDbEJXM/D0VBlqfU3+IVZMBXUD9PUvDmFkvQw8njZ57jNpgDUeoJK3i5BH4pF\n",
       "yGgrcef/MDsCa98i7zBpWlXZlG5Jkwczo+eikZQvsFk1hr73wwL3SExlTerNtZAFQvcMGY/9/6KW\n",
       "qq10FI/JD37P8MqyUokW5+foYmFNkpyX7EJL76KWqEbSVJ31EY0x/U7dgBHakbVLVbmF+xyrpa7/\n",
       "/s7GMEf1Th2V31bhX4CNqXbsu5Km3X7IZTzl59zRJSvJFxpget/Ycs/5Vo1E/TiNscY7O+f3LjG1\n",
       "sS097wlau4NvQCJIfssWk3n4EdV/r+dJsKdYulQ25ViXS2wloJYrOrrth+Fm1rO9oSG8OijETfOe\n",
       "6OJTrRah9tTBIc3aiXH0uKHn9wB/9ES4y0iSLUmqmbt/SiC0m3ORe7+LEhkFE80wjbhqFUFemC6z\n",
       "QXsY08w/mpS5PmLd4t6JlfKktRHdWRdezuFyu7RzL6ad8+8v9nQTsJRF8oG18VgTiIZC6bYv11x5\n",
       "SdFgJv8Sb5vxQQ007KOXaOKk2WQwfP4zNwA1SKnW6iwX2K0H9YjYAAAAp0GeQXiF/wEGnXvJrrzI\n",
       "iG4H5Tv/VGLvoAHZGh7Rqol/IfJWktre0f+lmSFoH/83KV5P0Zxzmhu/e24xkFy1D3h4qjphsTZ2\n",
       "iZ/XfxtWV/ctbFO9r7XnyBjVarIG6NMj+COSF+hjzQJj3saJTWgRzJabC4vLCxBUCAFSnKNMtEIn\n",
       "GtA/TOZZzfu4EpaHYBD5KBfcTODSRT9LuhZOefgQDbCHX2ayD09JAAAALAGeYmpCvwAAWKvcqOYQ\n",
       "51YYeYL/7APfUN8+be8+iCPztEIiXoK1fmLSIE3AAAAAUUGaZEmoQWiZTAhv//6nhAAAaV1FeEjo\n",
       "qkf4FpWvcEAatYXbv2p2dI0kfTRHu4A9PLucTGhpox6U5yWNwJ8zjooGwMD5KZ/o331i0lVKbhhX\n",
       "EQAAADhBmoVJ4QpSZTAhv/6nhAAAzcKACjEGf3vrg+WZ1AF7UdcNPdJGlW1YTqbF7yVHUk6qP7E8\n",
       "HZJ8EQAAACRBmqZJ4Q6JlMCG//6nhAAAyLqTnlhxXtP1bru9IRGZM5afNB0AAAAoQZrHSeEPJlMC\n",
       "G//+p4QAAMnwnkp476tdudPlANPAANgZ5dxp+GpwcwAAACBBmuhJ4Q8mUwIb//6nhAAAw7qS0P0E\n",
       "vS/Sj0nmrgy4MQAAACRBmwlJ4Q8mUwIb//6nhAAAxPsm/zadCdiJEgwX9TIziZihQYAAAAAlQZsq\n",
       "SeEPJlMCG//+p4QAAL/wnmSxDuTyX1Ee23mSLrpKlej0wQAAAC5Bm0tJ4Q8mUwId//6plgAALtpR\n",
       "8a85XohpA9QSp5nBjhSdBBgKbl01EHIdvWDpAAAAKkGbbEnhDyZTAh3//qmWAAAvHwDQfwhyI4Fj\n",
       "kWQyFO927YAOerFaqwFT3AAAACdBm41J4Q8mUwIf//6plgAAFv+FMj9uoV/i+0mcXnZpuZRVFvSl\n",
       "hOEAAAAfQZuxSeEPJlMCH//+qZYAABZvfwOdlsmIUWbvU2rdYQAAAClBn89FETwz/wAAE1ip/HH/\n",
       "ewro9bvvPWAA60Q8OEGuw764TX+x+24CaQAAAEwBn+50Qr8AACOubGsy8yYpKaENbX+61EAIFKw6\n",
       "3m4TN//DF99qAW5ra9IbaBwNydTJD+uk1KPXbxB9rBaexMtDwAHPEtfLoTayNG/AAAAADQGf8GpC\n",
       "vwAACGyP6EAAAAAVQZv1SahBaJlMCH///qmWAAADAPCBAAAADkGeE0URLDP/AAADANSAAAAACwGe\n",
       "MnRCvwAAAwGLAAAACwGeNGpCvwAAAwGLAAAAFUGaOUmoQWyZTAh///6plgAAAwDwgAAAAA5BnldF\n",
       "FSwz/wAAAwDUgQAAAAsBnnZ0Qr8AAAMBiwAAAAsBnnhqQr8AAAMBiwAAABVBmn1JqEFsmUwIf//+\n",
       "qZYAAAMA8IEAAAAOQZ6bRRUsM/8AAAMA1IAAAAALAZ66dEK/AAADAYsAAAALAZ68akK/AAADAYsA\n",
       "AAAVQZqhSahBbJlMCH///qmWAAADAPCAAAAADkGe30UVLDP/AAADANSAAAAACwGe/nRCvwAAAwGL\n",
       "AAAACwGe4GpCvwAAAwGLAAAAFUGa5UmoQWyZTAh3//6plgAAAwDwgQAAAA5BnwNFFSwz/wAAAwDU\n",
       "gAAAAAsBnyJ0Qr8AAAMBiwAAAAsBnyRqQr8AAAMBiwAAABVBmylJqEFsmUwId//+qZYAAAMA8IEA\n",
       "AAAOQZ9HRRUsM/8AAAMA1IEAAAALAZ9mdEK/AAADAYsAAAALAZ9oakK/AAADAYsAAAAUQZttSahB\n",
       "bJlMCG///qeEAAADAd0AAAAOQZ+LRRUsM/8AAAMA1IAAAAALAZ+qdEK/AAADAYsAAAALAZ+sakK/\n",
       "AAADAYsAAAATQZuxSahBbJlMCFf//jhAAAAccQAAAA5Bn89FFSwz/wAAAwDUgQAAAAsBn+50Qr8A\n",
       "AAMBiwAAAAsBn/BqQr8AAAMBiwAABTZtb292AAAAbG12aGQAAAAAAAAAAAAAAAAAAAPoAAAJxAAB\n",
       "AAABAAAAAAAAAAAAAAAAAQAAAAAAAAAAAAAAAAAAAAEAAAAAAAAAAAAAAAAAAEAAAAAAAAAAAAAA\n",
       "AAAAAAAAAAAAAAAAAAAAAAAAAAACAAAEYHRyYWsAAABcdGtoZAAAAAMAAAAAAAAAAAAAAAEAAAAA\n",
       "AAAJxAAAAAAAAAAAAAAAAAAAAAAAAQAAAAAAAAAAAAAAAAAAAAEAAAAAAAAAAAAAAAAAAEAAAAAB\n",
       "sAAAASAAAAAAACRlZHRzAAAAHGVsc3QAAAAAAAAAAQAACcQAAAQAAAEAAAAAA9htZGlhAAAAIG1k\n",
       "aGQAAAAAAAAAAAAAAAAAACgAAABkAFXEAAAAAAAtaGRscgAAAAAAAAAAdmlkZQAAAAAAAAAAAAAA\n",
       "AFZpZGVvSGFuZGxlcgAAAAODbWluZgAAABR2bWhkAAAAAQAAAAAAAAAAAAAAJGRpbmYAAAAcZHJl\n",
       "ZgAAAAAAAAABAAAADHVybCAAAAABAAADQ3N0YmwAAACzc3RzZAAAAAAAAAABAAAAo2F2YzEAAAAA\n",
       "AAAAAQAAAAAAAAAAAAAAAAAAAAABsAEgAEgAAABIAAAAAAAAAAEAAAAAAAAAAAAAAAAAAAAAAAAA\n",
       "AAAAAAAAAAAAAAAAAAAY//8AAAAxYXZjQwFkABX/4QAYZ2QAFazZQbCWhAAAAwAEAAADAKA8WLZY\n",
       "AQAGaOvjyyLAAAAAHHV1aWRraEDyXyRPxbo5pRvPAyPzAAAAAAAAABhzdHRzAAAAAAAAAAEAAAAy\n",
       "AAACAAAAABRzdHNzAAAAAAAAAAEAAAABAAABUGN0dHMAAAAAAAAAKAAAAAEAAAQAAAAAAQAACAAA\n",
       "AAACAAACAAAAAAoAAAQAAAAAAQAACgAAAAABAAAEAAAAAAEAAAAAAAAAAQAAAgAAAAABAAAKAAAA\n",
       "AAEAAAQAAAAAAQAAAAAAAAABAAACAAAAAAEAAAoAAAAAAQAABAAAAAABAAAAAAAAAAEAAAIAAAAA\n",
       "AQAACgAAAAABAAAEAAAAAAEAAAAAAAAAAQAAAgAAAAABAAAKAAAAAAEAAAQAAAAAAQAAAAAAAAAB\n",
       "AAACAAAAAAEAAAoAAAAAAQAABAAAAAABAAAAAAAAAAEAAAIAAAAAAQAACgAAAAABAAAEAAAAAAEA\n",
       "AAAAAAAAAQAAAgAAAAABAAAKAAAAAAEAAAQAAAAAAQAAAAAAAAABAAACAAAAAAEAAAoAAAAAAQAA\n",
       "BAAAAAABAAAAAAAAAAEAAAIAAAAAHHN0c2MAAAAAAAAAAQAAAAEAAAAyAAAAAQAAANxzdHN6AAAA\n",
       "AAAAAAAAAAAyAAALuwAAAg4AAACrAAAAMAAAAFUAAAA8AAAAKAAAACwAAAAkAAAAKAAAACkAAAAy\n",
       "AAAALgAAACsAAAAjAAAALQAAAFAAAAARAAAAGQAAABIAAAAPAAAADwAAABkAAAASAAAADwAAAA8A\n",
       "AAAZAAAAEgAAAA8AAAAPAAAAGQAAABIAAAAPAAAADwAAABkAAAASAAAADwAAAA8AAAAZAAAAEgAA\n",
       "AA8AAAAPAAAAGAAAABIAAAAPAAAADwAAABcAAAASAAAADwAAAA8AAAAUc3RjbwAAAAAAAAABAAAA\n",
       "LAAAAGJ1ZHRhAAAAWm1ldGEAAAAAAAAAIWhkbHIAAAAAAAAAAG1kaXJhcHBsAAAAAAAAAAAAAAAA\n",
       "LWlsc3QAAAAlqXRvbwAAAB1kYXRhAAAAAQAAAABMYXZmNTcuODMuMTAw\n",
       "\">\n",
       "  Your browser does not support the video tag.\n",
       "</video>"
      ],
      "text/plain": [
       "<matplotlib.animation.FuncAnimation at 0x10a9cb908>"
      ]
     },
     "execution_count": 83,
     "metadata": {},
     "output_type": "execute_result"
    },
    {
     "data": {
      "image/png": "[encoded data removed]",
      "text/plain": [
       "<matplotlib.figure.Figure at 0x10a37d3c8>"
      ]
     },
     "metadata": {},
     "output_type": "display_data"
    }
   ],
   "source": [
    "# Trajectory Plot\n",
    "# 1. Create a figure window.\n",
    "fig = plt.figure()\n",
    "\n",
    "# 2. Create axes within the window\n",
    "ax = plt.axes(xlim=(0, 20), ylim=(0,10))\n",
    "\n",
    "# 3. Two objects to animate\n",
    "point, = ax.plot([1], [1], marker='o', ms=20)        # a point\n",
    "\n",
    "# Spring data\n",
    "g = 9.81\n",
    "θ = np.pi/4\n",
    "v = 10\n",
    "\n",
    "# Position of mass as function of time\n",
    "def fun(t):\n",
    "    x = v*t*np.cos(θ)\n",
    "    y = v*t*np.sin(θ)-1/2*g*(t**2)\n",
    "    return x,y\n",
    "\n",
    "# 4. Animation function\n",
    "def animate(i):    \n",
    "    x,y = fun(i/10)     \n",
    "    point.set_data(x,y)    \n",
    "    return (point,)\n",
    "  \n",
    "# 5. Create animation; 500 frames, 50ms delay between frames, blit=True : only re-draw the parts that have changed.\n",
    "anim = animation.FuncAnimation(fig, animate, frames=50, interval=50, blit=True)\n",
    "\n",
    "# 6. Play animation\n",
    "anim\n",
    "\n",
    "# 7. Save animation\n",
    "# writer = animation.writers['ffmpeg'](fps=15, bitrate=1800)\n",
    "# anim.save('img/spring_movie.mp4', writer=writer)\n",
    "\n",
    "\n"
   ]
  },
  {
   "cell_type": "code",
   "execution_count": 84,
   "metadata": {},
   "outputs": [
    {
     "data": {
      "text/html": [
       "<video width=\"432\" height=\"288\" controls autoplay loop>\n",
       "  <source type=\"video/mp4\" src=\"data:video/mp4;base64,AAAAHGZ0eXBNNFYgAAACAGlzb21pc28yYXZjMQAAAAhmcmVlAAASA21kYXQAAAKuBgX//6rcRem9\n",
       "5tlIt5Ys2CDZI+7veDI2NCAtIGNvcmUgMTQ4IHIyNzk1IGFhYTlhYTggLSBILjI2NC9NUEVHLTQg\n",
       "QVZDIGNvZGVjIC0gQ29weWxlZnQgMjAwMy0yMDE3IC0gaHR0cDovL3d3dy52aWRlb2xhbi5vcmcv\n",
       "eDI2NC5odG1sIC0gb3B0aW9uczogY2FiYWM9MSByZWY9MyBkZWJsb2NrPTE6MDowIGFuYWx5c2U9\n",
       "MHgzOjB4MTEzIG1lPWhleCBzdWJtZT03IHBzeT0xIHBzeV9yZD0xLjAwOjAuMDAgbWl4ZWRfcmVm\n",
       "PTEgbWVfcmFuZ2U9MTYgY2hyb21hX21lPTEgdHJlbGxpcz0xIDh4OGRjdD0xIGNxbT0wIGRlYWR6\n",
       "b25lPTIxLDExIGZhc3RfcHNraXA9MSBjaHJvbWFfcXBfb2Zmc2V0PS0yIHRocmVhZHM9NiBsb29r\n",
       "YWhlYWRfdGhyZWFkcz0xIHNsaWNlZF90aHJlYWRzPTAgbnI9MCBkZWNpbWF0ZT0xIGludGVybGFj\n",
       "ZWQ9MCBibHVyYXlfY29tcGF0PTAgY29uc3RyYWluZWRfaW50cmE9MCBiZnJhbWVzPTMgYl9weXJh\n",
       "bWlkPTIgYl9hZGFwdD0xIGJfYmlhcz0wIGRpcmVjdD0xIHdlaWdodGI9MSBvcGVuX2dvcD0wIHdl\n",
       "aWdodHA9MiBrZXlpbnQ9MjUwIGtleWludF9taW49MjAgc2NlbmVjdXQ9NDAgaW50cmFfcmVmcmVz\n",
       "aD0wIHJjX2xvb2thaGVhZD00MCByYz1jcmYgbWJ0cmVlPTEgY3JmPTIzLjAgcWNvbXA9MC42MCBx\n",
       "cG1pbj0wIHFwbWF4PTY5IHFwc3RlcD00IGlwX3JhdGlvPTEuNDAgYXE9MToxLjAwAIAAAAUcZYiE\n",
       "ADf//vbw/gU2O5jQlxHN6J0zH78VuLo0N73OAAADAAA33SOPBdk/UClv7fSNiSJkaBNplzHlVlZU\n",
       "gTzRQOMnVCO7/UFnqhKNnJtwAAAN9Yv16fvJqVgzzLClWtk/Hdrkwl36bsHfoe8l8hCScnEMpWbg\n",
       "fyQBDzWwtG7LN8udsBygverctivRDSSITfRRcKYjG/q4sBDTo9Pog/DO+z8YQ/hGF8OE6M7ZkaHo\n",
       "XwPlMMUZplAJOvp6jPsL3zdWMnrgQwRPg+RPxCRdsBTGX4Vk35ypRAB1pSx8NKk6R3mQPJCwL8ce\n",
       "OaQH8qaOSlZNzlYBZ+gkGd7gY54ly83UxxtP8QuiqdwCwhKYq62snGqZl5rZIZUlLl1IreLrEAAr\n",
       "tIRU4TqmSatZNnKhQ3vf8zA83gjFdCEQPj+oaP5xevVQapO/i3vCnI3Dh1UHZGsbUVCX3Q81jgoz\n",
       "nOae1kJPKsIfd/+HMUoIIo1v8lG/18LSSZoUniossgRaIpJpuB8Lh7qS6f5d4TFvYn7NMjOZIbjG\n",
       "mqSQAhyzAFZ/CtCHU+kSFuHq5doNjXYgN+2hR4c+6I2Fvha+9+n/S2V1L2D9/87qM3GOOfQrheuP\n",
       "DsxY6tt4qukQWPph52vRE1wetqXnDERDHheR1DiTyUnU0noyIwWxFw1BxTBR1sA+2DR8w1jMunTk\n",
       "K9aXbUgcd1pnh9QkaY/nPujADe7I5cC+G8EsE/OgbgmL7b4VEe8W64dP8/6Wqc9G63zc/Ks8qnB5\n",
       "cjZkUSJMtKoT1f2QhuAJPy8GJDuf/BSP20slDfYf0GR7v/obmzxGIbLGHsTip7OgSblntwUL0zql\n",
       "B1Y9Do05XcwnSDGnnXpyp5Iadze8v6ANpHp8Ue5EHNUZ+i0XdH6AAR782jSyzKpTbmIgokDBkR7+\n",
       "p/ej8DZbRNJngACmZ9j+ldkSfEGDrGvMv14M9/TUp15DQ9XxXGHHAcUccWhCTuAou3/jKEf+ZvXs\n",
       "13WYxjrAlltaoLuCIR2uJ0k65Pbv7thKVfN83E0avauvkzcGEyOgCPMD41R6j82e/XOIDwXIgM36\n",
       "JYQA8dWDdfHP8BksNSz2/isxdp5lqapiJ9oQsicFDVwL29QU9Z58T+rzi8N3mvZwAYtTSYxut6/s\n",
       "XZOE1GhyuPM+dL7JJ2ok+DzwPNdHNgMvyhrS3YNgMVQLIct+O3ctI8daTcWWilM30NPxRLlHkxZN\n",
       "UuXjllmMHHkn9QSXDth2vf5mn0CGlCTsUz9AFEZxluClXYjqPGV3YP4U3YpZEeoE1aaH+8Wbjn7X\n",
       "IYuJaEkoxoNQpOefXQkzHgUBnMqdU9wpi+l+GUSHedKHe9+m1UyLPc9zbLaI7sO3auFKIfQbLux5\n",
       "pvvuifRF7jhhuuMuAdEdoXck/LZd5lDmp8P7kWdeuVuVRmd0mD5yjszKDzqbIxWFN+cAyvVFl4XX\n",
       "QP2tKCJgrYVdnLSTfok/7kIBTDvfKXIlLZj4+kbn8+CqcrZe4k3PUQx+qb69kEQ5SqRRkC+SHVb5\n",
       "KAtKk44/XGliyyAY952S7McS+Y5vSSlxX9eM/D7f+GDIiwc6BieMJ4zK/9JJGHvi6NqczyG/kYXV\n",
       "exwWJuKLF8+Cvt5fEPGF31hVjfuEnPzORcjLxlpPGkHmE+AmkxQPbm5Ow54o/xKB4/m8TTzyp8b3\n",
       "RlmGIXbVfPhU9XsI72y2RqCFGR81GBE19FeYmL19vAfFa3x9eqs+l0x7VDhQCktGGa1BAAACZ0Ga\n",
       "IWxDf/6nhCaZGuKzfLAUQEu995+Ei+Cy7f/xf8z37+/8gp0FinNMsR3kifjZSWcE9aCEW9nMdIo3\n",
       "7Q/HeZeAWdvju1oy8E+kHST1PqQ03kGvv51hRkXa1Tu3Gn5i6vLfshRrSCMP8aOxyUVInXEsqOce\n",
       "zyfeSaWYSYilJJn9OkuepuThMMz/yzoA7t5zhdTnvSOHfjc8Ek5X8k2dgkCOEYXBpG52OaOqZXyZ\n",
       "XxH7msVk4jJtUgeDXdLUpYrngyu0HbvqoyFw83Uc++5bdwuPuv4j4fYlSLoqRWRAOpVw/kuoHJzl\n",
       "hGqUjNvWQlXwDFvXxugZDhi1dtXVPUgTDESDvS+Qj/vpMnEW/k2dYgL30+EzdH8IOhY+QanqFcaX\n",
       "ImAZ2DRJVE11s7sIUx8djXj2qzbOrETgOuy5KI8jDX3DMIU2c5O00poosIPQhJ6G48K/vX7szxAw\n",
       "+X0sH7IrGU5grj0zuLeRcAmMWw2jFOsJbRGKsCqNmo8vFRTRfYHF+pHlTgKpHrEyr+vdp+KRspJU\n",
       "ySKvCuGgerxDVSY3E2eBs7/3PiwA8rX8nhQSP0kVSg0fhFjbN1BH2U0zHTRwMEBbGVJnF9mLOTXi\n",
       "PgapNG+s7TrXHselwyf9XpdxfXVwJ/3XzXRWcbLFL+fJKlvHJkeZmgW6ImBKPpk1AaUAnagpSO9T\n",
       "6cMtGygdUOQv0etE4N4gQMH/PERoax9G4cKL2sC7Wfq6/iiXgEVWVexvb5Zr5bJzMP2wEY0E7RnS\n",
       "YFt0vf1zBoKkkljP7JDi0pAejXkFXAEcqEtpnFNAcF6XV5XzkLCvzmoK+AAAAPxBmkI8IZMphDf/\n",
       "/qeEAgXfAvATx2+tx5MfNQyHEdeYJqsXS8v57NzDDwfgb2358+gILNHZHVpf2MW2FfSH/mTyAQGH\n",
       "QxB1IO608clOT7fwkknQ3PPy35HvuzpjPHtZJ8+LI9Kc5acC5ffG4fRUTsEkXNI4WBwiFgju3SSt\n",
       "G3IPjuX5F6FmZlANu8xzyrfy+vOlAEoHdUr9pn4RR0AwI2eP34i3wgo0hJYejamRkkLFMUs/DXVT\n",
       "E/52dgZFyIi56iZKDtjiWtq0KUXcHP78RNUj0IPVaJDxizdeA4j58yQV4hAInhqphOM6lMpkiS61\n",
       "Zu10zmrZ83APCYuDtUEAAACuQZpjSeEPJlMCG//+p4QAAyevfgs39wBEp6o6NfodW3kD/Zh881HH\n",
       "bw8EmZrxOZKb2QK59KNVoHxVe7GWPfWeQdvjwsajU8l9w72Py7AtE1EGRq77XuLSpO7d9+CeW6Oc\n",
       "dC7KS3Dm/xV7YQDe67ar/tbghGrTxqeRPLPQXqN7tG3s5mff++nR4HkmvyaOOPEuY2M8o4LFtKvd\n",
       "ei5QISdF6+W5EEoDHXtINfTW/8QsAAAATEGahEnhDyZTAhv//qeEAAYeLki7QjOT4xejTRm1xvl0\n",
       "/TekQn9wsYlh91S5zsDjV2bEbAuTwk7odZpN7Y6YSsXS1IGa9RJQNzHZS/0AAABdQZqlSeEPJlMC\n",
       "G//+p4QABifZRWFiPhmZvtgVc0WzK2Z/vmbNuoANrzuTkZl4H6WvuCJcVWg5akXFFzP5dEjVRt3N\n",
       "/+BSueFPY1dbcDoVXKi0r564xWt1KTBEqohDAAAASkGaxknhDyZTAhv//qeEAAtWLH2Et0dw0y2v\n",
       "ftA1/fU9/vx/2GR/M4+G75fuY5LkXy9ZiZbUDhmxtYyGjBbW0rtWA++jZWrKMxOBAAAAQEGa50nh\n",
       "DyZTAhv//qeEAAtnvAO1UQwQAs1t69/nxR9GgshMUwBFccFISSIurhB4YYX8qTCzn+h6yRqPMzu2\n",
       "nqsAAABRQZsISeEPJlMCG//+p4QACx+8Iv+YD1x5xdi7uE2kGA/3AwqhtyI3QUiUtRjFYhHmPawW\n",
       "EOThR1+nGVFzmOpphsDlVDWsW2FEKZHTjDh8wfqIAAAAXEGbKUnhDyZTAhv//qeEAAqPvCL/oDHT\n",
       "QXVT1w0kbAlfGZG9+5UTIVsHVM5qokRS2PuDB0A3SSZfsgr8Iw7uqFBAjxfeQHKHH7a/uRVvNt3G\n",
       "3pyFsmxIO1JSuEmAAAAAOUGbSknhDyZTAhv//qeEAAUj3hF/g2ezavBC4/KXGgPzi2FcDsytIvDl\n",
       "K81qnmkAnrFVhE/9ctNGlwAAADhBm2tJ4Q8mUwIb//6nhAAJ/7woZd6CV2ar0rrdeWLWRsat4p5J\n",
       "u9ArDepHjC5SICI7JZyLGullpgAAAERBm4xJ4Q8mUwId//6plgABMfkdaCx3l7Tuo1sgZISJnDXI\n",
       "gSMD9oGDsAJwLNmnCNbWdyWgBwBo57Y6E1U8LpNIzL/A/AAAADZBm61J4Q8mUwId//6plgAAkPyO\n",
       "tBY7zZ2ya8sY6M3tYtbqG8a5AStrEz5Fg39IJ9i0jXxsxzEAAAB3QZvOSeEPJlMCH//+qZYADjjK\n",
       "0qdz3SNmXC+2ddPP4nndPRhOBL3zo+9ABR4dL4Yp61tgNzG0MOBeaDVNTCjSA6vNyFGawkapILkQ\n",
       "/HvPH9/OXgL3DZNo6RGq2+8xB+vxNwv6advOaB0CdEglJREYdoWegewuerEAAAAkQZvySeEPJlMC\n",
       "H//+qZYAABCfmJcR7UbLAdfz5tiZDXzltkxvAAAAFkGeEEURPDP/AAAOfxrE6jhVrCHW00gAAAAU\n",
       "AZ4vdEK/AAAa/913uItasG7iulAAAAALAZ4xakK/AAADAYsAAAAVQZo2SahBaJlMCH///qmWAAAD\n",
       "APCAAAAADkGeVEURLDP/AAADANSAAAAACwGec3RCvwAAAwGLAAAACwGedWpCvwAAAwGLAAAAFUGa\n",
       "ekmoQWyZTAh///6plgAAAwDwgQAAAA5BnphFFSwz/wAAAwDUgQAAAAsBnrd0Qr8AAAMBiwAAAAsB\n",
       "nrlqQr8AAAMBiwAAABVBmr5JqEFsmUwIf//+qZYAAAMA8IAAAAAOQZ7cRRUsM/8AAAMA1IEAAAAL\n",
       "AZ77dEK/AAADAYsAAAALAZ79akK/AAADAYsAAAAVQZriSahBbJlMCH///qmWAAADAPCAAAAADkGf\n",
       "AEUVLDP/AAADANSBAAAACwGfP3RCvwAAAwGLAAAACwGfIWpCvwAAAwGLAAAAFUGbJkmoQWyZTAh3\n",
       "//6plgAAAwDwgAAAAA5Bn0RFFSwz/wAAAwDUgQAAAAsBn2N0Qr8AAAMBiwAAAAsBn2VqQr8AAAMB\n",
       "iwAAABVBm2pJqEFsmUwId//+qZYAAAMA8IEAAAAOQZ+IRRUsM/8AAAMA1IAAAAALAZ+ndEK/AAAD\n",
       "AYsAAAALAZ+pakK/AAADAYsAAAAUQZuuSahBbJlMCG///qeEAAADAd0AAAAOQZ/MRRUsM/8AAAMA\n",
       "1IAAAAALAZ/rdEK/AAADAYsAAAALAZ/takK/AAADAYsAAAATQZvxSahBbJlMCFf//jhAAAAccQAA\n",
       "AA1Bng9FFSwv/wAAAwEfAAAACwGeMGpCvwAAAwGLAAAFDm1vb3YAAABsbXZoZAAAAAAAAAAAAAAA\n",
       "AAAAA+gAAAnEAAEAAAEAAAAAAAAAAAAAAAABAAAAAAAAAAAAAAAAAAAAAQAAAAAAAAAAAAAAAAAA\n",
       "QAAAAAAAAAAAAAAAAAAAAAAAAAAAAAAAAAAAAAAAAAIAAAQ4dHJhawAAAFx0a2hkAAAAAwAAAAAA\n",
       "AAAAAAAAAQAAAAAAAAnEAAAAAAAAAAAAAAAAAAAAAAABAAAAAAAAAAAAAAAAAAAAAQAAAAAAAAAA\n",
       "AAAAAAAAQAAAAAGwAAABIAAAAAAAJGVkdHMAAAAcZWxzdAAAAAAAAAABAAAJxAAABAAAAQAAAAAD\n",
       "sG1kaWEAAAAgbWRoZAAAAAAAAAAAAAAAAAAAKAAAAGQAVcQAAAAAAC1oZGxyAAAAAAAAAAB2aWRl\n",
       "AAAAAAAAAAAAAAAAVmlkZW9IYW5kbGVyAAAAA1ttaW5mAAAAFHZtaGQAAAABAAAAAAAAAAAAAAAk\n",
       "ZGluZgAAABxkcmVmAAAAAAAAAAEAAAAMdXJsIAAAAAEAAAMbc3RibAAAALNzdHNkAAAAAAAAAAEA\n",
       "AACjYXZjMQAAAAAAAAABAAAAAAAAAAAAAAAAAAAAAAGwASAASAAAAEgAAAAAAAAAAQAAAAAAAAAA\n",
       "AAAAAAAAAAAAAAAAAAAAAAAAAAAAAAAAABj//wAAADFhdmNDAWQAFf/hABhnZAAVrNlBsJaEAAAD\n",
       "AAQAAAMAoDxYtlgBAAZo6+PLIsAAAAAcdXVpZGtoQPJfJE/FujmlG88DI/MAAAAAAAAAGHN0dHMA\n",
       "AAAAAAAAAQAAADIAAAIAAAAAFHN0c3MAAAAAAAAAAQAAAAEAAAEoY3R0cwAAAAAAAAAjAAAADwAA\n",
       "BAAAAAABAAAKAAAAAAEAAAQAAAAAAQAAAAAAAAABAAACAAAAAAEAAAoAAAAAAQAABAAAAAABAAAA\n",
       "AAAAAAEAAAIAAAAAAQAACgAAAAABAAAEAAAAAAEAAAAAAAAAAQAAAgAAAAABAAAKAAAAAAEAAAQA\n",
       "AAAAAQAAAAAAAAABAAACAAAAAAEAAAoAAAAAAQAABAAAAAABAAAAAAAAAAEAAAIAAAAAAQAACgAA\n",
       "AAABAAAEAAAAAAEAAAAAAAAAAQAAAgAAAAABAAAKAAAAAAEAAAQAAAAAAQAAAAAAAAABAAACAAAA\n",
       "AAEAAAoAAAAAAQAABAAAAAABAAAAAAAAAAEAAAIAAAAAAQAACAAAAAACAAACAAAAABxzdHNjAAAA\n",
       "AAAAAAEAAAABAAAAMgAAAAEAAADcc3RzegAAAAAAAAAAAAAAMgAAB9IAAAJrAAABAAAAALIAAABQ\n",
       "AAAAYQAAAE4AAABEAAAAVQAAAGAAAAA9AAAAPAAAAEgAAAA6AAAAewAAACgAAAAaAAAAGAAAAA8A\n",
       "AAAZAAAAEgAAAA8AAAAPAAAAGQAAABIAAAAPAAAADwAAABkAAAASAAAADwAAAA8AAAAZAAAAEgAA\n",
       "AA8AAAAPAAAAGQAAABIAAAAPAAAADwAAABkAAAASAAAADwAAAA8AAAAYAAAAEgAAAA8AAAAPAAAA\n",
       "FwAAABEAAAAPAAAAFHN0Y28AAAAAAAAAAQAAACwAAABidWR0YQAAAFptZXRhAAAAAAAAACFoZGxy\n",
       "AAAAAAAAAABtZGlyYXBwbAAAAAAAAAAAAAAAAC1pbHN0AAAAJal0b28AAAAdZGF0YQAAAAEAAAAA\n",
       "TGF2ZjU3LjgzLjEwMA==\n",
       "\">\n",
       "  Your browser does not support the video tag.\n",
       "</video>"
      ],
      "text/plain": [
       "<matplotlib.animation.FuncAnimation at 0x10ffa0390>"
      ]
     },
     "execution_count": 84,
     "metadata": {},
     "output_type": "execute_result"
    },
    {
     "data": {
      "image/png": "[encoded data removed]",
      "text/plain": [
       "<matplotlib.figure.Figure at 0x10a37dac8>"
      ]
     },
     "metadata": {},
     "output_type": "display_data"
    }
   ],
   "source": [
    "# Example Solution\n",
    "\n",
    "# Creates a figure window.\n",
    "fig = plt.figure()\n",
    "\n",
    "# Creates axes within the window\n",
    "ax = plt.axes(xlim=(0, 10), ylim=(0, 5))\n",
    "\n",
    "# Object to animate\n",
    "point, = ax.plot([1], [1], marker='o', ms=40)  # for points\n",
    "\n",
    "g = 9.81\n",
    "v = 10\n",
    "theta = np.pi/4\n",
    "\n",
    "# Position of mass as function of time\n",
    "def fun(t):\n",
    "    x = v * t * np.cos(theta)\n",
    "    y = v * t * np.sin(theta) - (0.5 * g * t**2)\n",
    "    return x, y\n",
    "\n",
    "def animate(i):   \n",
    "    x, y = fun(i/10)   \n",
    "    point.set_data(x, y)    \n",
    "    return  (point,)\n",
    "    \n",
    "# Animates the data; 50 frames, 50ms delay between frames, blit=True : only re-draw the parts that have changed.\n",
    "anim = animation.FuncAnimation(fig, animate, frames=50, interval=50, blit=True)\n",
    "\n",
    "anim"
   ]
  },
  {
   "cell_type": "markdown",
   "metadata": {
    "collapsed": true
   },
   "source": [
    "### Review Exercise: 3D plotting"
   ]
  },
  {
   "cell_type": "code",
   "execution_count": null,
   "metadata": {
    "collapsed": true
   },
   "outputs": [],
   "source": []
  },
  {
   "cell_type": "markdown",
   "metadata": {},
   "source": [
    "### Extension Exercise: Plotting System of Simultaneous Equations Interactively. \n",
    "\n"
   ]
  },
  {
   "cell_type": "code",
   "execution_count": null,
   "metadata": {
    "collapsed": true
   },
   "outputs": [],
   "source": []
  },
  {
   "cell_type": "markdown",
   "metadata": {
    "slideshow": {
     "slide_type": "slide"
    }
   },
   "source": [
    "# Summary\n",
    "\n",
    "- Matplotlib can be used to produce a wide range of styles of figures and plots of your data.\n",
    "- Simple line and scatter plots can be customised using a `formatstring`\n",
    "- Additional features such as a figure legend and axis labels can be set as arguments when creating plots.\n",
    "- We can \"vectorise\" other functions so that they accept data structure as arguments.\n",
    "- Broasdcasting is a useful tool for applying information in one numpy array to another without having to repeat or reshape the arrays to match one another.  \n",
    "- The matplotlib library can be used to quicky produce simple plots to visualise and check your solutions to mathematical problems.  \n",
    "- This includes fitting a curve or a relationship to a dataset."
   ]
  },
  {
   "cell_type": "markdown",
   "metadata": {
    "slideshow": {
     "slide_type": "slide"
    }
   },
   "source": [
    "# Homework \n",
    "\n",
    "1. __PULL__ the changes you made in-class today to your personal computer.\n",
    "1. __COMPLETE__ any unfinished Review Exercises.\n",
    "1. __PUSH__ the changes you make at home to your online repository. "
   ]
  }
 ],
 "metadata": {
  "kernelspec": {
   "display_name": "Python 3",
   "language": "python",
   "name": "python3"
  },
  "language_info": {
   "codemirror_mode": {
    "name": "ipython",
    "version": 3
   },
   "file_extension": ".py",
   "mimetype": "text/x-python",
   "name": "python",
   "nbconvert_exporter": "python",
   "pygments_lexer": "ipython3",
   "version": "3.6.3"
  }
 },
 "nbformat": 4,
 "nbformat_minor": 2
}
